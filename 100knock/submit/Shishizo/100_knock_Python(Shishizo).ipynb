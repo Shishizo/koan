{
 "cells": [
  {
   "cell_type": "markdown",
   "metadata": {
    "id": "2-YYpD4Nhhxd"
   },
   "source": [
    "# データサイエンス100本ノック（構造化データ加工編） - Python\n",
    "# for Google Colab"
   ]
  },
  {
   "cell_type": "markdown",
   "metadata": {
    "id": "wbvQn19ghhxe"
   },
   "source": [
    "## 【注意】オリジナル版との変更点\n",
    "1. Google Colab ではDockerを使えないので、2020.06.18時点の 100knocks-preprocess/docker/work/data にあるCSVファイルをPostgreSQLから入手する代わりに使います。\n",
    "2. オリジナルのCSVデータ, geocode.csvの'latitude'列名の初めにスペースが入っていたため、それを削除しました。\n",
    "\n",
    "   オリジナル(100knocks-preprocess ver.1.0): ' latitude' --> 'latitude'\n",
    "   \n",
    "\n",
    "4. オリジナルの解答を元に、必要のないlibraryはimportせず、そして必要なlibraryをAzureNotebookでインストールするように最初のセルを改変してあります。\n",
    "5. また、SQLではなく上記CSVからデータを読み込むように'はじめに'の最初のセルを改変してあります。"
   ]
  },
  {
   "cell_type": "markdown",
   "metadata": {
    "id": "qseL89kEhhxg"
   },
   "source": [
    "## はじめに\n",
    "- 初めに以下のセルを実行してください\n",
    "- 必要なライブラリのインポートと~~データベース（PostgreSQL）~~ 100knocks-preprocess/docker/work/data にあるCSVファイルからのデータ読み込みを行います。geocode.csvに変更を加えたため、またgit cloneをするとColabの簡便さを損なうため、noguhiro2002のgithubレポジトリから直接読み込みます。\n",
    "- pandas等、利用が想定されるライブラリは以下セルでインポートしています\n",
    "- その他利用したいライブラリがあれば適宜インストールしてください（\"!pip install ライブラリ名\"でインストールも可能)\n",
    "- オリジナルの解答例を元に、必要なライブラリーをpipでインストールします。\n",
    "- 処理は複数回に分けても構いません\n",
    "- 名前、住所等はダミーデータであり、実在するものではありません"
   ]
  },
  {
   "cell_type": "code",
   "execution_count": 3,
   "metadata": {
    "colab": {
     "base_uri": "https://localhost:8080/",
     "height": 246
    },
    "executionInfo": {
     "elapsed": 10164,
     "status": "ok",
     "timestamp": 1602996672896,
     "user": {
      "displayName": "ししぞう",
      "photoUrl": "https://lh3.googleusercontent.com/a-/AOh14GhjLtZCTS59IIEP1zssr09agt_qGp10CwS1J0Pq=s64",
      "userId": "07139038096484400229"
     },
     "user_tz": -540
    },
    "id": "k_rQuDF8hhxg",
    "outputId": "3179a304-67a6-4524-ce76-a094c1832592"
   },
   "outputs": [
    {
     "name": "stderr",
     "output_type": "stream",
     "text": [
      "C:\\Users\\Fueda\\miniconda3\\envs\\py36\\lib\\site-packages\\IPython\\core\\interactiveshell.py:2714: DtypeWarning: Columns (4) have mixed types.Specify dtype option on import or set low_memory=False.\n",
      "  interactivity=interactivity, compiler=compiler, result=result)\n"
     ]
    }
   ],
   "source": [
    "# pipでオリジナルの解答に必要なライブラリーをインストール\n",
    "# !pip install --upgrade pip\n",
    "# !pip install -U pandas numpy scikit-learn imbalanced-learn\n",
    "\n",
    "# pipでオリジナルの解答に必要なライブラリーをインポート\n",
    "import os\n",
    "import pandas as pd\n",
    "import numpy as np\n",
    "from datetime import datetime, date\n",
    "from dateutil.relativedelta import relativedelta\n",
    "import math\n",
    "from sklearn import preprocessing\n",
    "from sklearn.model_selection import train_test_split\n",
    "from imblearn.under_sampling import RandomUnderSampler\n",
    "\n",
    "\n",
    "# データを github/noguhiro2002/100knocks-preprocess/work/data フォルダよりDataframe形式でRead\n",
    "df_customer = pd.read_csv('customer.csv')\n",
    "df_category = pd.read_csv('category.csv')\n",
    "df_product = pd.read_csv('product.csv')\n",
    "df_receipt = pd.read_csv('receipt.csv')\n",
    "df_store = pd.read_csv('store.csv')\n",
    "df_geocode = pd.read_csv('geocode.csv')"
   ]
  },
  {
   "cell_type": "markdown",
   "metadata": {
    "id": "EMvNeX6Qhhxk"
   },
   "source": [
    "# 演習問題"
   ]
  },
  {
   "cell_type": "markdown",
   "metadata": {
    "id": "r244WHrjhhxk"
   },
   "source": [
    "---\n",
    "> P-001: レシート明細のデータフレーム（df_receipt）から全項目の先頭10件を表示し、どのようなデータを保有しているか目視で確認せよ。"
   ]
  },
  {
   "cell_type": "code",
   "execution_count": 4,
   "metadata": {
    "colab": {
     "base_uri": "https://localhost:8080/",
     "height": 358
    },
    "executionInfo": {
     "elapsed": 909,
     "status": "ok",
     "timestamp": 1601125796325,
     "user": {
      "displayName": "ししぞう",
      "photoUrl": "https://lh3.googleusercontent.com/a-/AOh14GhjLtZCTS59IIEP1zssr09agt_qGp10CwS1J0Pq=s64",
      "userId": "07139038096484400229"
     },
     "user_tz": -540
    },
    "id": "RrcFPQjUhhxk",
    "outputId": "02c50422-69db-439c-9024-a4e53a43f37f"
   },
   "outputs": [
    {
     "data": {
      "text/html": [
       "<div>\n",
       "<style scoped>\n",
       "    .dataframe tbody tr th:only-of-type {\n",
       "        vertical-align: middle;\n",
       "    }\n",
       "\n",
       "    .dataframe tbody tr th {\n",
       "        vertical-align: top;\n",
       "    }\n",
       "\n",
       "    .dataframe thead th {\n",
       "        text-align: right;\n",
       "    }\n",
       "</style>\n",
       "<table border=\"1\" class=\"dataframe\">\n",
       "  <thead>\n",
       "    <tr style=\"text-align: right;\">\n",
       "      <th></th>\n",
       "      <th>sales_ymd</th>\n",
       "      <th>sales_epoch</th>\n",
       "      <th>store_cd</th>\n",
       "      <th>receipt_no</th>\n",
       "      <th>receipt_sub_no</th>\n",
       "      <th>customer_id</th>\n",
       "      <th>product_cd</th>\n",
       "      <th>quantity</th>\n",
       "      <th>amount</th>\n",
       "    </tr>\n",
       "  </thead>\n",
       "  <tbody>\n",
       "    <tr>\n",
       "      <th>0</th>\n",
       "      <td>20181103</td>\n",
       "      <td>1541203200</td>\n",
       "      <td>S14006</td>\n",
       "      <td>112</td>\n",
       "      <td>1</td>\n",
       "      <td>CS006214000001</td>\n",
       "      <td>P070305012</td>\n",
       "      <td>1</td>\n",
       "      <td>158</td>\n",
       "    </tr>\n",
       "    <tr>\n",
       "      <th>1</th>\n",
       "      <td>20181118</td>\n",
       "      <td>1542499200</td>\n",
       "      <td>S13008</td>\n",
       "      <td>1132</td>\n",
       "      <td>2</td>\n",
       "      <td>CS008415000097</td>\n",
       "      <td>P070701017</td>\n",
       "      <td>1</td>\n",
       "      <td>81</td>\n",
       "    </tr>\n",
       "    <tr>\n",
       "      <th>2</th>\n",
       "      <td>20170712</td>\n",
       "      <td>1499817600</td>\n",
       "      <td>S14028</td>\n",
       "      <td>1102</td>\n",
       "      <td>1</td>\n",
       "      <td>CS028414000014</td>\n",
       "      <td>P060101005</td>\n",
       "      <td>1</td>\n",
       "      <td>170</td>\n",
       "    </tr>\n",
       "    <tr>\n",
       "      <th>3</th>\n",
       "      <td>20190205</td>\n",
       "      <td>1549324800</td>\n",
       "      <td>S14042</td>\n",
       "      <td>1132</td>\n",
       "      <td>1</td>\n",
       "      <td>ZZ000000000000</td>\n",
       "      <td>P050301001</td>\n",
       "      <td>1</td>\n",
       "      <td>25</td>\n",
       "    </tr>\n",
       "    <tr>\n",
       "      <th>4</th>\n",
       "      <td>20180821</td>\n",
       "      <td>1534809600</td>\n",
       "      <td>S14025</td>\n",
       "      <td>1102</td>\n",
       "      <td>2</td>\n",
       "      <td>CS025415000050</td>\n",
       "      <td>P060102007</td>\n",
       "      <td>1</td>\n",
       "      <td>90</td>\n",
       "    </tr>\n",
       "    <tr>\n",
       "      <th>5</th>\n",
       "      <td>20190605</td>\n",
       "      <td>1559692800</td>\n",
       "      <td>S13003</td>\n",
       "      <td>1112</td>\n",
       "      <td>1</td>\n",
       "      <td>CS003515000195</td>\n",
       "      <td>P050102002</td>\n",
       "      <td>1</td>\n",
       "      <td>138</td>\n",
       "    </tr>\n",
       "    <tr>\n",
       "      <th>6</th>\n",
       "      <td>20181205</td>\n",
       "      <td>1543968000</td>\n",
       "      <td>S14024</td>\n",
       "      <td>1102</td>\n",
       "      <td>2</td>\n",
       "      <td>CS024514000042</td>\n",
       "      <td>P080101005</td>\n",
       "      <td>1</td>\n",
       "      <td>30</td>\n",
       "    </tr>\n",
       "    <tr>\n",
       "      <th>7</th>\n",
       "      <td>20190922</td>\n",
       "      <td>1569110400</td>\n",
       "      <td>S14040</td>\n",
       "      <td>1102</td>\n",
       "      <td>1</td>\n",
       "      <td>CS040415000178</td>\n",
       "      <td>P070501004</td>\n",
       "      <td>1</td>\n",
       "      <td>128</td>\n",
       "    </tr>\n",
       "    <tr>\n",
       "      <th>8</th>\n",
       "      <td>20170504</td>\n",
       "      <td>1493856000</td>\n",
       "      <td>S13020</td>\n",
       "      <td>1112</td>\n",
       "      <td>2</td>\n",
       "      <td>ZZ000000000000</td>\n",
       "      <td>P071302010</td>\n",
       "      <td>1</td>\n",
       "      <td>770</td>\n",
       "    </tr>\n",
       "    <tr>\n",
       "      <th>9</th>\n",
       "      <td>20191010</td>\n",
       "      <td>1570665600</td>\n",
       "      <td>S14027</td>\n",
       "      <td>1102</td>\n",
       "      <td>1</td>\n",
       "      <td>CS027514000015</td>\n",
       "      <td>P071101003</td>\n",
       "      <td>1</td>\n",
       "      <td>680</td>\n",
       "    </tr>\n",
       "  </tbody>\n",
       "</table>\n",
       "</div>"
      ],
      "text/plain": [
       "   sales_ymd  sales_epoch store_cd  receipt_no  receipt_sub_no  \\\n",
       "0   20181103   1541203200   S14006         112               1   \n",
       "1   20181118   1542499200   S13008        1132               2   \n",
       "2   20170712   1499817600   S14028        1102               1   \n",
       "3   20190205   1549324800   S14042        1132               1   \n",
       "4   20180821   1534809600   S14025        1102               2   \n",
       "5   20190605   1559692800   S13003        1112               1   \n",
       "6   20181205   1543968000   S14024        1102               2   \n",
       "7   20190922   1569110400   S14040        1102               1   \n",
       "8   20170504   1493856000   S13020        1112               2   \n",
       "9   20191010   1570665600   S14027        1102               1   \n",
       "\n",
       "      customer_id  product_cd  quantity  amount  \n",
       "0  CS006214000001  P070305012         1     158  \n",
       "1  CS008415000097  P070701017         1      81  \n",
       "2  CS028414000014  P060101005         1     170  \n",
       "3  ZZ000000000000  P050301001         1      25  \n",
       "4  CS025415000050  P060102007         1      90  \n",
       "5  CS003515000195  P050102002         1     138  \n",
       "6  CS024514000042  P080101005         1      30  \n",
       "7  CS040415000178  P070501004         1     128  \n",
       "8  ZZ000000000000  P071302010         1     770  \n",
       "9  CS027514000015  P071101003         1     680  "
      ]
     },
     "execution_count": 4,
     "metadata": {},
     "output_type": "execute_result"
    }
   ],
   "source": [
    "df_receipt.head(10)"
   ]
  },
  {
   "cell_type": "markdown",
   "metadata": {
    "id": "us1AbdWfhhxm"
   },
   "source": [
    "> P-002: レシート明細のデータフレーム（df_receipt）から売上日（sales_ymd）、顧客ID（customer_id）、商品コード（product_cd）、売上金額（amount）の順に列を指定し、10件表示させよ。"
   ]
  },
  {
   "cell_type": "code",
   "execution_count": 5,
   "metadata": {
    "colab": {
     "base_uri": "https://localhost:8080/",
     "height": 358
    },
    "executionInfo": {
     "elapsed": 1194,
     "status": "ok",
     "timestamp": 1601112873348,
     "user": {
      "displayName": "ししぞう",
      "photoUrl": "https://lh3.googleusercontent.com/a-/AOh14GhjLtZCTS59IIEP1zssr09agt_qGp10CwS1J0Pq=s64",
      "userId": "07139038096484400229"
     },
     "user_tz": -540
    },
    "id": "AwaINHByhhxm",
    "outputId": "f3eb370c-1732-457d-9bba-4dcf1b6f3be0"
   },
   "outputs": [
    {
     "data": {
      "text/html": [
       "<div>\n",
       "<style scoped>\n",
       "    .dataframe tbody tr th:only-of-type {\n",
       "        vertical-align: middle;\n",
       "    }\n",
       "\n",
       "    .dataframe tbody tr th {\n",
       "        vertical-align: top;\n",
       "    }\n",
       "\n",
       "    .dataframe thead th {\n",
       "        text-align: right;\n",
       "    }\n",
       "</style>\n",
       "<table border=\"1\" class=\"dataframe\">\n",
       "  <thead>\n",
       "    <tr style=\"text-align: right;\">\n",
       "      <th></th>\n",
       "      <th>sales_ymd</th>\n",
       "      <th>customer_id</th>\n",
       "      <th>product_cd</th>\n",
       "      <th>amount</th>\n",
       "    </tr>\n",
       "  </thead>\n",
       "  <tbody>\n",
       "    <tr>\n",
       "      <th>0</th>\n",
       "      <td>20181103</td>\n",
       "      <td>CS006214000001</td>\n",
       "      <td>P070305012</td>\n",
       "      <td>158</td>\n",
       "    </tr>\n",
       "    <tr>\n",
       "      <th>1</th>\n",
       "      <td>20181118</td>\n",
       "      <td>CS008415000097</td>\n",
       "      <td>P070701017</td>\n",
       "      <td>81</td>\n",
       "    </tr>\n",
       "    <tr>\n",
       "      <th>2</th>\n",
       "      <td>20170712</td>\n",
       "      <td>CS028414000014</td>\n",
       "      <td>P060101005</td>\n",
       "      <td>170</td>\n",
       "    </tr>\n",
       "    <tr>\n",
       "      <th>3</th>\n",
       "      <td>20190205</td>\n",
       "      <td>ZZ000000000000</td>\n",
       "      <td>P050301001</td>\n",
       "      <td>25</td>\n",
       "    </tr>\n",
       "    <tr>\n",
       "      <th>4</th>\n",
       "      <td>20180821</td>\n",
       "      <td>CS025415000050</td>\n",
       "      <td>P060102007</td>\n",
       "      <td>90</td>\n",
       "    </tr>\n",
       "    <tr>\n",
       "      <th>5</th>\n",
       "      <td>20190605</td>\n",
       "      <td>CS003515000195</td>\n",
       "      <td>P050102002</td>\n",
       "      <td>138</td>\n",
       "    </tr>\n",
       "    <tr>\n",
       "      <th>6</th>\n",
       "      <td>20181205</td>\n",
       "      <td>CS024514000042</td>\n",
       "      <td>P080101005</td>\n",
       "      <td>30</td>\n",
       "    </tr>\n",
       "    <tr>\n",
       "      <th>7</th>\n",
       "      <td>20190922</td>\n",
       "      <td>CS040415000178</td>\n",
       "      <td>P070501004</td>\n",
       "      <td>128</td>\n",
       "    </tr>\n",
       "    <tr>\n",
       "      <th>8</th>\n",
       "      <td>20170504</td>\n",
       "      <td>ZZ000000000000</td>\n",
       "      <td>P071302010</td>\n",
       "      <td>770</td>\n",
       "    </tr>\n",
       "    <tr>\n",
       "      <th>9</th>\n",
       "      <td>20191010</td>\n",
       "      <td>CS027514000015</td>\n",
       "      <td>P071101003</td>\n",
       "      <td>680</td>\n",
       "    </tr>\n",
       "  </tbody>\n",
       "</table>\n",
       "</div>"
      ],
      "text/plain": [
       "   sales_ymd     customer_id  product_cd  amount\n",
       "0   20181103  CS006214000001  P070305012     158\n",
       "1   20181118  CS008415000097  P070701017      81\n",
       "2   20170712  CS028414000014  P060101005     170\n",
       "3   20190205  ZZ000000000000  P050301001      25\n",
       "4   20180821  CS025415000050  P060102007      90\n",
       "5   20190605  CS003515000195  P050102002     138\n",
       "6   20181205  CS024514000042  P080101005      30\n",
       "7   20190922  CS040415000178  P070501004     128\n",
       "8   20170504  ZZ000000000000  P071302010     770\n",
       "9   20191010  CS027514000015  P071101003     680"
      ]
     },
     "execution_count": 5,
     "metadata": {},
     "output_type": "execute_result"
    }
   ],
   "source": [
    "df_receipt[['sales_ymd','customer_id','product_cd','amount']].head(10)"
   ]
  },
  {
   "cell_type": "markdown",
   "metadata": {
    "id": "_yPcu6bkhhxo"
   },
   "source": [
    "---\n",
    "> P-003: レシート明細のデータフレーム（df_receipt）から売上日（sales_ymd）、顧客ID（customer_id）、商品コード（product_cd）、売上金額（amount）の順に列を指定し、10件表示させよ。ただし、sales_ymdはsales_dateに項目名を変更しながら抽出すること。"
   ]
  },
  {
   "cell_type": "code",
   "execution_count": 6,
   "metadata": {
    "colab": {
     "base_uri": "https://localhost:8080/",
     "height": 358
    },
    "executionInfo": {
     "elapsed": 885,
     "status": "ok",
     "timestamp": 1601112878296,
     "user": {
      "displayName": "ししぞう",
      "photoUrl": "https://lh3.googleusercontent.com/a-/AOh14GhjLtZCTS59IIEP1zssr09agt_qGp10CwS1J0Pq=s64",
      "userId": "07139038096484400229"
     },
     "user_tz": -540
    },
    "id": "ZKVA9bCRhhxp",
    "outputId": "65da0501-d825-4193-ac44-ddc0c28e609f"
   },
   "outputs": [
    {
     "data": {
      "text/html": [
       "<div>\n",
       "<style scoped>\n",
       "    .dataframe tbody tr th:only-of-type {\n",
       "        vertical-align: middle;\n",
       "    }\n",
       "\n",
       "    .dataframe tbody tr th {\n",
       "        vertical-align: top;\n",
       "    }\n",
       "\n",
       "    .dataframe thead th {\n",
       "        text-align: right;\n",
       "    }\n",
       "</style>\n",
       "<table border=\"1\" class=\"dataframe\">\n",
       "  <thead>\n",
       "    <tr style=\"text-align: right;\">\n",
       "      <th></th>\n",
       "      <th>sales_date</th>\n",
       "      <th>customer_id</th>\n",
       "      <th>product_cd</th>\n",
       "      <th>amount</th>\n",
       "    </tr>\n",
       "  </thead>\n",
       "  <tbody>\n",
       "    <tr>\n",
       "      <th>0</th>\n",
       "      <td>20181103</td>\n",
       "      <td>CS006214000001</td>\n",
       "      <td>P070305012</td>\n",
       "      <td>158</td>\n",
       "    </tr>\n",
       "    <tr>\n",
       "      <th>1</th>\n",
       "      <td>20181118</td>\n",
       "      <td>CS008415000097</td>\n",
       "      <td>P070701017</td>\n",
       "      <td>81</td>\n",
       "    </tr>\n",
       "    <tr>\n",
       "      <th>2</th>\n",
       "      <td>20170712</td>\n",
       "      <td>CS028414000014</td>\n",
       "      <td>P060101005</td>\n",
       "      <td>170</td>\n",
       "    </tr>\n",
       "    <tr>\n",
       "      <th>3</th>\n",
       "      <td>20190205</td>\n",
       "      <td>ZZ000000000000</td>\n",
       "      <td>P050301001</td>\n",
       "      <td>25</td>\n",
       "    </tr>\n",
       "    <tr>\n",
       "      <th>4</th>\n",
       "      <td>20180821</td>\n",
       "      <td>CS025415000050</td>\n",
       "      <td>P060102007</td>\n",
       "      <td>90</td>\n",
       "    </tr>\n",
       "    <tr>\n",
       "      <th>5</th>\n",
       "      <td>20190605</td>\n",
       "      <td>CS003515000195</td>\n",
       "      <td>P050102002</td>\n",
       "      <td>138</td>\n",
       "    </tr>\n",
       "    <tr>\n",
       "      <th>6</th>\n",
       "      <td>20181205</td>\n",
       "      <td>CS024514000042</td>\n",
       "      <td>P080101005</td>\n",
       "      <td>30</td>\n",
       "    </tr>\n",
       "    <tr>\n",
       "      <th>7</th>\n",
       "      <td>20190922</td>\n",
       "      <td>CS040415000178</td>\n",
       "      <td>P070501004</td>\n",
       "      <td>128</td>\n",
       "    </tr>\n",
       "    <tr>\n",
       "      <th>8</th>\n",
       "      <td>20170504</td>\n",
       "      <td>ZZ000000000000</td>\n",
       "      <td>P071302010</td>\n",
       "      <td>770</td>\n",
       "    </tr>\n",
       "    <tr>\n",
       "      <th>9</th>\n",
       "      <td>20191010</td>\n",
       "      <td>CS027514000015</td>\n",
       "      <td>P071101003</td>\n",
       "      <td>680</td>\n",
       "    </tr>\n",
       "  </tbody>\n",
       "</table>\n",
       "</div>"
      ],
      "text/plain": [
       "   sales_date     customer_id  product_cd  amount\n",
       "0    20181103  CS006214000001  P070305012     158\n",
       "1    20181118  CS008415000097  P070701017      81\n",
       "2    20170712  CS028414000014  P060101005     170\n",
       "3    20190205  ZZ000000000000  P050301001      25\n",
       "4    20180821  CS025415000050  P060102007      90\n",
       "5    20190605  CS003515000195  P050102002     138\n",
       "6    20181205  CS024514000042  P080101005      30\n",
       "7    20190922  CS040415000178  P070501004     128\n",
       "8    20170504  ZZ000000000000  P071302010     770\n",
       "9    20191010  CS027514000015  P071101003     680"
      ]
     },
     "execution_count": 6,
     "metadata": {},
     "output_type": "execute_result"
    }
   ],
   "source": [
    "df_receipt[['sales_ymd','customer_id','product_cd','amount']].rename(columns={'sales_ymd': 'sales_date'}).head(10)"
   ]
  },
  {
   "cell_type": "markdown",
   "metadata": {
    "id": "dHcdbLoehhxq"
   },
   "source": [
    "---\n",
    "> P-004: レシート明細のデータフレーム（df_receipt）から売上日（sales_ymd）、顧客ID（customer_id）、商品コード（product_cd）、売上金額（amount）の順に列を指定し、以下の条件を満たすデータを抽出せよ。\n",
    "> - 顧客ID（customer_id）が\"CS018205000001\""
   ]
  },
  {
   "cell_type": "code",
   "execution_count": null,
   "metadata": {
    "id": "9Z7_wOG46AFg"
   },
   "outputs": [],
   "source": [
    "# queryは、pandas では、つかわない。データの集まりを作って、操作する\n",
    "# バグをださないよう、オリジナルをディープコピーして、かたまりわけてやるとわかりやすい"
   ]
  },
  {
   "cell_type": "code",
   "execution_count": null,
   "metadata": {
    "colab": {
     "base_uri": "https://localhost:8080/",
     "height": 420
    },
    "executionInfo": {
     "elapsed": 1063,
     "status": "ok",
     "timestamp": 1601112885129,
     "user": {
      "displayName": "ししぞう",
      "photoUrl": "https://lh3.googleusercontent.com/a-/AOh14GhjLtZCTS59IIEP1zssr09agt_qGp10CwS1J0Pq=s64",
      "userId": "07139038096484400229"
     },
     "user_tz": -540
    },
    "id": "Fqp5Qdmkhhxr",
    "outputId": "c0225f54-12e8-4a1d-96f7-3fb9028a7a42"
   },
   "outputs": [
    {
     "data": {
      "text/html": [
       "<div>\n",
       "<style scoped>\n",
       "    .dataframe tbody tr th:only-of-type {\n",
       "        vertical-align: middle;\n",
       "    }\n",
       "\n",
       "    .dataframe tbody tr th {\n",
       "        vertical-align: top;\n",
       "    }\n",
       "\n",
       "    .dataframe thead th {\n",
       "        text-align: right;\n",
       "    }\n",
       "</style>\n",
       "<table border=\"1\" class=\"dataframe\">\n",
       "  <thead>\n",
       "    <tr style=\"text-align: right;\">\n",
       "      <th></th>\n",
       "      <th>sales_ymd</th>\n",
       "      <th>customer_id</th>\n",
       "      <th>product_cd</th>\n",
       "      <th>amount</th>\n",
       "    </tr>\n",
       "  </thead>\n",
       "  <tbody>\n",
       "    <tr>\n",
       "      <th>36</th>\n",
       "      <td>20180911</td>\n",
       "      <td>CS018205000001</td>\n",
       "      <td>P071401012</td>\n",
       "      <td>2200</td>\n",
       "    </tr>\n",
       "    <tr>\n",
       "      <th>9843</th>\n",
       "      <td>20180414</td>\n",
       "      <td>CS018205000001</td>\n",
       "      <td>P060104007</td>\n",
       "      <td>600</td>\n",
       "    </tr>\n",
       "    <tr>\n",
       "      <th>21110</th>\n",
       "      <td>20170614</td>\n",
       "      <td>CS018205000001</td>\n",
       "      <td>P050206001</td>\n",
       "      <td>990</td>\n",
       "    </tr>\n",
       "    <tr>\n",
       "      <th>27673</th>\n",
       "      <td>20170614</td>\n",
       "      <td>CS018205000001</td>\n",
       "      <td>P060702015</td>\n",
       "      <td>108</td>\n",
       "    </tr>\n",
       "    <tr>\n",
       "      <th>27840</th>\n",
       "      <td>20190216</td>\n",
       "      <td>CS018205000001</td>\n",
       "      <td>P071005024</td>\n",
       "      <td>102</td>\n",
       "    </tr>\n",
       "    <tr>\n",
       "      <th>28757</th>\n",
       "      <td>20180414</td>\n",
       "      <td>CS018205000001</td>\n",
       "      <td>P071101002</td>\n",
       "      <td>278</td>\n",
       "    </tr>\n",
       "    <tr>\n",
       "      <th>39256</th>\n",
       "      <td>20190226</td>\n",
       "      <td>CS018205000001</td>\n",
       "      <td>P070902035</td>\n",
       "      <td>168</td>\n",
       "    </tr>\n",
       "    <tr>\n",
       "      <th>58121</th>\n",
       "      <td>20190924</td>\n",
       "      <td>CS018205000001</td>\n",
       "      <td>P060805001</td>\n",
       "      <td>495</td>\n",
       "    </tr>\n",
       "    <tr>\n",
       "      <th>68117</th>\n",
       "      <td>20190226</td>\n",
       "      <td>CS018205000001</td>\n",
       "      <td>P071401020</td>\n",
       "      <td>2200</td>\n",
       "    </tr>\n",
       "    <tr>\n",
       "      <th>72254</th>\n",
       "      <td>20180911</td>\n",
       "      <td>CS018205000001</td>\n",
       "      <td>P071401005</td>\n",
       "      <td>1100</td>\n",
       "    </tr>\n",
       "    <tr>\n",
       "      <th>88508</th>\n",
       "      <td>20190216</td>\n",
       "      <td>CS018205000001</td>\n",
       "      <td>P040101002</td>\n",
       "      <td>218</td>\n",
       "    </tr>\n",
       "    <tr>\n",
       "      <th>91525</th>\n",
       "      <td>20190924</td>\n",
       "      <td>CS018205000001</td>\n",
       "      <td>P091503001</td>\n",
       "      <td>280</td>\n",
       "    </tr>\n",
       "  </tbody>\n",
       "</table>\n",
       "</div>"
      ],
      "text/plain": [
       "       sales_ymd     customer_id  product_cd  amount\n",
       "36      20180911  CS018205000001  P071401012    2200\n",
       "9843    20180414  CS018205000001  P060104007     600\n",
       "21110   20170614  CS018205000001  P050206001     990\n",
       "27673   20170614  CS018205000001  P060702015     108\n",
       "27840   20190216  CS018205000001  P071005024     102\n",
       "28757   20180414  CS018205000001  P071101002     278\n",
       "39256   20190226  CS018205000001  P070902035     168\n",
       "58121   20190924  CS018205000001  P060805001     495\n",
       "68117   20190226  CS018205000001  P071401020    2200\n",
       "72254   20180911  CS018205000001  P071401005    1100\n",
       "88508   20190216  CS018205000001  P040101002     218\n",
       "91525   20190924  CS018205000001  P091503001     280"
      ]
     },
     "execution_count": 5,
     "metadata": {
      "tags": []
     },
     "output_type": "execute_result"
    }
   ],
   "source": [
    "df_receipt[['sales_ymd','customer_id','product_cd','amount']].query('customer_id == \"CS018205000001\"')"
   ]
  },
  {
   "cell_type": "code",
   "execution_count": null,
   "metadata": {
    "colab": {
     "base_uri": "https://localhost:8080/",
     "height": 420
    },
    "executionInfo": {
     "elapsed": 1141,
     "status": "ok",
     "timestamp": 1601112889631,
     "user": {
      "displayName": "ししぞう",
      "photoUrl": "https://lh3.googleusercontent.com/a-/AOh14GhjLtZCTS59IIEP1zssr09agt_qGp10CwS1J0Pq=s64",
      "userId": "07139038096484400229"
     },
     "user_tz": -540
    },
    "id": "psvcctBcDPva",
    "outputId": "4dd20e82-d4c7-4d76-ca76-3d7cbbe9fe64"
   },
   "outputs": [
    {
     "data": {
      "text/html": [
       "<div>\n",
       "<style scoped>\n",
       "    .dataframe tbody tr th:only-of-type {\n",
       "        vertical-align: middle;\n",
       "    }\n",
       "\n",
       "    .dataframe tbody tr th {\n",
       "        vertical-align: top;\n",
       "    }\n",
       "\n",
       "    .dataframe thead th {\n",
       "        text-align: right;\n",
       "    }\n",
       "</style>\n",
       "<table border=\"1\" class=\"dataframe\">\n",
       "  <thead>\n",
       "    <tr style=\"text-align: right;\">\n",
       "      <th></th>\n",
       "      <th>sales_ymd</th>\n",
       "      <th>customer_id</th>\n",
       "      <th>product_cd</th>\n",
       "      <th>amount</th>\n",
       "    </tr>\n",
       "  </thead>\n",
       "  <tbody>\n",
       "    <tr>\n",
       "      <th>36</th>\n",
       "      <td>20180911</td>\n",
       "      <td>CS018205000001</td>\n",
       "      <td>P071401012</td>\n",
       "      <td>2200</td>\n",
       "    </tr>\n",
       "    <tr>\n",
       "      <th>9843</th>\n",
       "      <td>20180414</td>\n",
       "      <td>CS018205000001</td>\n",
       "      <td>P060104007</td>\n",
       "      <td>600</td>\n",
       "    </tr>\n",
       "    <tr>\n",
       "      <th>21110</th>\n",
       "      <td>20170614</td>\n",
       "      <td>CS018205000001</td>\n",
       "      <td>P050206001</td>\n",
       "      <td>990</td>\n",
       "    </tr>\n",
       "    <tr>\n",
       "      <th>27673</th>\n",
       "      <td>20170614</td>\n",
       "      <td>CS018205000001</td>\n",
       "      <td>P060702015</td>\n",
       "      <td>108</td>\n",
       "    </tr>\n",
       "    <tr>\n",
       "      <th>27840</th>\n",
       "      <td>20190216</td>\n",
       "      <td>CS018205000001</td>\n",
       "      <td>P071005024</td>\n",
       "      <td>102</td>\n",
       "    </tr>\n",
       "    <tr>\n",
       "      <th>28757</th>\n",
       "      <td>20180414</td>\n",
       "      <td>CS018205000001</td>\n",
       "      <td>P071101002</td>\n",
       "      <td>278</td>\n",
       "    </tr>\n",
       "    <tr>\n",
       "      <th>39256</th>\n",
       "      <td>20190226</td>\n",
       "      <td>CS018205000001</td>\n",
       "      <td>P070902035</td>\n",
       "      <td>168</td>\n",
       "    </tr>\n",
       "    <tr>\n",
       "      <th>58121</th>\n",
       "      <td>20190924</td>\n",
       "      <td>CS018205000001</td>\n",
       "      <td>P060805001</td>\n",
       "      <td>495</td>\n",
       "    </tr>\n",
       "    <tr>\n",
       "      <th>68117</th>\n",
       "      <td>20190226</td>\n",
       "      <td>CS018205000001</td>\n",
       "      <td>P071401020</td>\n",
       "      <td>2200</td>\n",
       "    </tr>\n",
       "    <tr>\n",
       "      <th>72254</th>\n",
       "      <td>20180911</td>\n",
       "      <td>CS018205000001</td>\n",
       "      <td>P071401005</td>\n",
       "      <td>1100</td>\n",
       "    </tr>\n",
       "    <tr>\n",
       "      <th>88508</th>\n",
       "      <td>20190216</td>\n",
       "      <td>CS018205000001</td>\n",
       "      <td>P040101002</td>\n",
       "      <td>218</td>\n",
       "    </tr>\n",
       "    <tr>\n",
       "      <th>91525</th>\n",
       "      <td>20190924</td>\n",
       "      <td>CS018205000001</td>\n",
       "      <td>P091503001</td>\n",
       "      <td>280</td>\n",
       "    </tr>\n",
       "  </tbody>\n",
       "</table>\n",
       "</div>"
      ],
      "text/plain": [
       "       sales_ymd     customer_id  product_cd  amount\n",
       "36      20180911  CS018205000001  P071401012    2200\n",
       "9843    20180414  CS018205000001  P060104007     600\n",
       "21110   20170614  CS018205000001  P050206001     990\n",
       "27673   20170614  CS018205000001  P060702015     108\n",
       "27840   20190216  CS018205000001  P071005024     102\n",
       "28757   20180414  CS018205000001  P071101002     278\n",
       "39256   20190226  CS018205000001  P070902035     168\n",
       "58121   20190924  CS018205000001  P060805001     495\n",
       "68117   20190226  CS018205000001  P071401020    2200\n",
       "72254   20180911  CS018205000001  P071401005    1100\n",
       "88508   20190216  CS018205000001  P040101002     218\n",
       "91525   20190924  CS018205000001  P091503001     280"
      ]
     },
     "execution_count": 6,
     "metadata": {
      "tags": []
     },
     "output_type": "execute_result"
    }
   ],
   "source": [
    "# df_receipt[df_receipt[\"customer_id\"] == \"CS018205000001\"][[\"sales_ymd\", \"customer_id\", \"product_cd\", \"amount\"]]\n",
    "df_receipt[[\"sales_ymd\", \"customer_id\", \"product_cd\", \"amount\"]][df_receipt[\"customer_id\"] == \"CS018205000001\"]"
   ]
  },
  {
   "cell_type": "markdown",
   "metadata": {
    "id": "nvI5Comzhhxt"
   },
   "source": [
    "---\n",
    "> P-005: レシート明細のデータフレーム（df_receipt）から売上日（sales_ymd）、顧客ID（customer_id）、商品コード（product_cd）、売上金額（amount）の順に列を指定し、以下の条件を満たすデータを抽出せよ。\n",
    "> - 顧客ID（customer_id）が\"CS018205000001\"\n",
    "> - 売上金額（amount）が1,000以上"
   ]
  },
  {
   "cell_type": "code",
   "execution_count": null,
   "metadata": {
    "colab": {
     "base_uri": "https://localhost:8080/",
     "height": 141
    },
    "executionInfo": {
     "elapsed": 1071,
     "status": "ok",
     "timestamp": 1601112893261,
     "user": {
      "displayName": "ししぞう",
      "photoUrl": "https://lh3.googleusercontent.com/a-/AOh14GhjLtZCTS59IIEP1zssr09agt_qGp10CwS1J0Pq=s64",
      "userId": "07139038096484400229"
     },
     "user_tz": -540
    },
    "id": "jZDWoB_Bhhxv",
    "outputId": "8663d5a9-bfcc-492b-d28d-e3480e7175ea"
   },
   "outputs": [
    {
     "data": {
      "text/html": [
       "<div>\n",
       "<style scoped>\n",
       "    .dataframe tbody tr th:only-of-type {\n",
       "        vertical-align: middle;\n",
       "    }\n",
       "\n",
       "    .dataframe tbody tr th {\n",
       "        vertical-align: top;\n",
       "    }\n",
       "\n",
       "    .dataframe thead th {\n",
       "        text-align: right;\n",
       "    }\n",
       "</style>\n",
       "<table border=\"1\" class=\"dataframe\">\n",
       "  <thead>\n",
       "    <tr style=\"text-align: right;\">\n",
       "      <th></th>\n",
       "      <th>sales_ymd</th>\n",
       "      <th>customer_id</th>\n",
       "      <th>product_cd</th>\n",
       "      <th>amount</th>\n",
       "    </tr>\n",
       "  </thead>\n",
       "  <tbody>\n",
       "    <tr>\n",
       "      <th>36</th>\n",
       "      <td>20180911</td>\n",
       "      <td>CS018205000001</td>\n",
       "      <td>P071401012</td>\n",
       "      <td>2200</td>\n",
       "    </tr>\n",
       "    <tr>\n",
       "      <th>68117</th>\n",
       "      <td>20190226</td>\n",
       "      <td>CS018205000001</td>\n",
       "      <td>P071401020</td>\n",
       "      <td>2200</td>\n",
       "    </tr>\n",
       "    <tr>\n",
       "      <th>72254</th>\n",
       "      <td>20180911</td>\n",
       "      <td>CS018205000001</td>\n",
       "      <td>P071401005</td>\n",
       "      <td>1100</td>\n",
       "    </tr>\n",
       "  </tbody>\n",
       "</table>\n",
       "</div>"
      ],
      "text/plain": [
       "       sales_ymd     customer_id  product_cd  amount\n",
       "36      20180911  CS018205000001  P071401012    2200\n",
       "68117   20190226  CS018205000001  P071401020    2200\n",
       "72254   20180911  CS018205000001  P071401005    1100"
      ]
     },
     "execution_count": 7,
     "metadata": {
      "tags": []
     },
     "output_type": "execute_result"
    }
   ],
   "source": [
    "df_receipt[['sales_ymd','customer_id','product_cd','amount']].query('customer_id == \"CS018205000001\" & amount >= 1000')"
   ]
  },
  {
   "cell_type": "code",
   "execution_count": null,
   "metadata": {
    "colab": {
     "base_uri": "https://localhost:8080/",
     "height": 141
    },
    "executionInfo": {
     "elapsed": 1337,
     "status": "ok",
     "timestamp": 1599990905587,
     "user": {
      "displayName": "ししぞう",
      "photoUrl": "https://lh3.googleusercontent.com/a-/AOh14GhjLtZCTS59IIEP1zssr09agt_qGp10CwS1J0Pq=s64",
      "userId": "07139038096484400229"
     },
     "user_tz": -540
    },
    "id": "wmVTPfG6D7mg",
    "outputId": "fbae75bc-35cd-41a5-afe2-07bf60748796"
   },
   "outputs": [
    {
     "data": {
      "text/html": [
       "<div>\n",
       "<style scoped>\n",
       "    .dataframe tbody tr th:only-of-type {\n",
       "        vertical-align: middle;\n",
       "    }\n",
       "\n",
       "    .dataframe tbody tr th {\n",
       "        vertical-align: top;\n",
       "    }\n",
       "\n",
       "    .dataframe thead th {\n",
       "        text-align: right;\n",
       "    }\n",
       "</style>\n",
       "<table border=\"1\" class=\"dataframe\">\n",
       "  <thead>\n",
       "    <tr style=\"text-align: right;\">\n",
       "      <th></th>\n",
       "      <th>sales_ymd</th>\n",
       "      <th>customer_id</th>\n",
       "      <th>product_cd</th>\n",
       "      <th>amount</th>\n",
       "    </tr>\n",
       "  </thead>\n",
       "  <tbody>\n",
       "    <tr>\n",
       "      <th>36</th>\n",
       "      <td>20180911</td>\n",
       "      <td>CS018205000001</td>\n",
       "      <td>P071401012</td>\n",
       "      <td>2200</td>\n",
       "    </tr>\n",
       "    <tr>\n",
       "      <th>68117</th>\n",
       "      <td>20190226</td>\n",
       "      <td>CS018205000001</td>\n",
       "      <td>P071401020</td>\n",
       "      <td>2200</td>\n",
       "    </tr>\n",
       "    <tr>\n",
       "      <th>72254</th>\n",
       "      <td>20180911</td>\n",
       "      <td>CS018205000001</td>\n",
       "      <td>P071401005</td>\n",
       "      <td>1100</td>\n",
       "    </tr>\n",
       "  </tbody>\n",
       "</table>\n",
       "</div>"
      ],
      "text/plain": [
       "       sales_ymd     customer_id  product_cd  amount\n",
       "36      20180911  CS018205000001  P071401012    2200\n",
       "68117   20190226  CS018205000001  P071401020    2200\n",
       "72254   20180911  CS018205000001  P071401005    1100"
      ]
     },
     "execution_count": 9,
     "metadata": {
      "tags": []
     },
     "output_type": "execute_result"
    }
   ],
   "source": [
    "# df_receipt[[\"sales_ymd\", \"customer_id\", \"product_cd\", \"amount\"]][\n",
    "#                                                                  (df_receipt[\"customer_id\"] == \"CS018205000001\") & \\\n",
    "#                                                                  (df_receipt[\"amount\"] >= 1000)]\n",
    "df_receipt[(df_receipt[\"customer_id\"] == \"CS018205000001\") &  (df_receipt[\"amount\"] >= 1000)][[\"sales_ymd\", \"customer_id\", \"product_cd\", \"amount\"]]"
   ]
  },
  {
   "cell_type": "code",
   "execution_count": null,
   "metadata": {
    "colab": {
     "base_uri": "https://localhost:8080/",
     "height": 141
    },
    "executionInfo": {
     "elapsed": 1295,
     "status": "ok",
     "timestamp": 1601112901589,
     "user": {
      "displayName": "ししぞう",
      "photoUrl": "https://lh3.googleusercontent.com/a-/AOh14GhjLtZCTS59IIEP1zssr09agt_qGp10CwS1J0Pq=s64",
      "userId": "07139038096484400229"
     },
     "user_tz": -540
    },
    "id": "GQE-oljJ5af4",
    "outputId": "d39b8b4d-7edb-4379-cf99-b8838cf86960"
   },
   "outputs": [
    {
     "data": {
      "text/html": [
       "<div>\n",
       "<style scoped>\n",
       "    .dataframe tbody tr th:only-of-type {\n",
       "        vertical-align: middle;\n",
       "    }\n",
       "\n",
       "    .dataframe tbody tr th {\n",
       "        vertical-align: top;\n",
       "    }\n",
       "\n",
       "    .dataframe thead th {\n",
       "        text-align: right;\n",
       "    }\n",
       "</style>\n",
       "<table border=\"1\" class=\"dataframe\">\n",
       "  <thead>\n",
       "    <tr style=\"text-align: right;\">\n",
       "      <th></th>\n",
       "      <th>sales_ymd</th>\n",
       "      <th>customer_id</th>\n",
       "      <th>product_cd</th>\n",
       "      <th>amount</th>\n",
       "    </tr>\n",
       "  </thead>\n",
       "  <tbody>\n",
       "    <tr>\n",
       "      <th>36</th>\n",
       "      <td>20180911</td>\n",
       "      <td>CS018205000001</td>\n",
       "      <td>P071401012</td>\n",
       "      <td>2200</td>\n",
       "    </tr>\n",
       "    <tr>\n",
       "      <th>68117</th>\n",
       "      <td>20190226</td>\n",
       "      <td>CS018205000001</td>\n",
       "      <td>P071401020</td>\n",
       "      <td>2200</td>\n",
       "    </tr>\n",
       "    <tr>\n",
       "      <th>72254</th>\n",
       "      <td>20180911</td>\n",
       "      <td>CS018205000001</td>\n",
       "      <td>P071401005</td>\n",
       "      <td>1100</td>\n",
       "    </tr>\n",
       "  </tbody>\n",
       "</table>\n",
       "</div>"
      ],
      "text/plain": [
       "       sales_ymd     customer_id  product_cd  amount\n",
       "36      20180911  CS018205000001  P071401012    2200\n",
       "68117   20190226  CS018205000001  P071401020    2200\n",
       "72254   20180911  CS018205000001  P071401005    1100"
      ]
     },
     "execution_count": 8,
     "metadata": {
      "tags": []
     },
     "output_type": "execute_result"
    }
   ],
   "source": [
    "# オリジナルをコピー\n",
    "df_05 =df_receipt.copy()\n",
    "# 表示したい項目を絞る\n",
    "df_05 = df_05[[\"sales_ymd\", \"customer_id\", \"product_cd\", \"amount\"]]\n",
    "# 条件で絞り込む () の中は条件式\n",
    "df_05[(df_05[\"customer_id\"]==\"CS018205000001\") & (df_05[\"amount\"]>=1000)]"
   ]
  },
  {
   "cell_type": "markdown",
   "metadata": {
    "id": "-Dz6spPThhxx"
   },
   "source": [
    "---\n",
    "> P-006: レシート明細データフレーム「df_receipt」から売上日（sales_ymd）、顧客ID（customer_id）、商品コード（product_cd）、売上数量（quantity）、売上金額（amount）の順に列を指定し、以下の条件を満たすデータを抽出せよ。\n",
    "> - 顧客ID（customer_id）が\"CS018205000001\"\n",
    "> - 売上金額（amount）が1,000以上または売上数量（quantity）が5以上"
   ]
  },
  {
   "cell_type": "code",
   "execution_count": null,
   "metadata": {
    "colab": {
     "base_uri": "https://localhost:8080/",
     "height": 203
    },
    "executionInfo": {
     "elapsed": 1115,
     "status": "ok",
     "timestamp": 1601112905670,
     "user": {
      "displayName": "ししぞう",
      "photoUrl": "https://lh3.googleusercontent.com/a-/AOh14GhjLtZCTS59IIEP1zssr09agt_qGp10CwS1J0Pq=s64",
      "userId": "07139038096484400229"
     },
     "user_tz": -540
    },
    "id": "8IH2MwDUhhxx",
    "outputId": "39fd7620-9a36-47d6-85bb-5fb16ad62bd7"
   },
   "outputs": [
    {
     "data": {
      "text/html": [
       "<div>\n",
       "<style scoped>\n",
       "    .dataframe tbody tr th:only-of-type {\n",
       "        vertical-align: middle;\n",
       "    }\n",
       "\n",
       "    .dataframe tbody tr th {\n",
       "        vertical-align: top;\n",
       "    }\n",
       "\n",
       "    .dataframe thead th {\n",
       "        text-align: right;\n",
       "    }\n",
       "</style>\n",
       "<table border=\"1\" class=\"dataframe\">\n",
       "  <thead>\n",
       "    <tr style=\"text-align: right;\">\n",
       "      <th></th>\n",
       "      <th>sales_ymd</th>\n",
       "      <th>customer_id</th>\n",
       "      <th>product_cd</th>\n",
       "      <th>quantity</th>\n",
       "      <th>amount</th>\n",
       "    </tr>\n",
       "  </thead>\n",
       "  <tbody>\n",
       "    <tr>\n",
       "      <th>36</th>\n",
       "      <td>20180911</td>\n",
       "      <td>CS018205000001</td>\n",
       "      <td>P071401012</td>\n",
       "      <td>1</td>\n",
       "      <td>2200</td>\n",
       "    </tr>\n",
       "    <tr>\n",
       "      <th>9843</th>\n",
       "      <td>20180414</td>\n",
       "      <td>CS018205000001</td>\n",
       "      <td>P060104007</td>\n",
       "      <td>6</td>\n",
       "      <td>600</td>\n",
       "    </tr>\n",
       "    <tr>\n",
       "      <th>21110</th>\n",
       "      <td>20170614</td>\n",
       "      <td>CS018205000001</td>\n",
       "      <td>P050206001</td>\n",
       "      <td>5</td>\n",
       "      <td>990</td>\n",
       "    </tr>\n",
       "    <tr>\n",
       "      <th>68117</th>\n",
       "      <td>20190226</td>\n",
       "      <td>CS018205000001</td>\n",
       "      <td>P071401020</td>\n",
       "      <td>1</td>\n",
       "      <td>2200</td>\n",
       "    </tr>\n",
       "    <tr>\n",
       "      <th>72254</th>\n",
       "      <td>20180911</td>\n",
       "      <td>CS018205000001</td>\n",
       "      <td>P071401005</td>\n",
       "      <td>1</td>\n",
       "      <td>1100</td>\n",
       "    </tr>\n",
       "  </tbody>\n",
       "</table>\n",
       "</div>"
      ],
      "text/plain": [
       "       sales_ymd     customer_id  product_cd  quantity  amount\n",
       "36      20180911  CS018205000001  P071401012         1    2200\n",
       "9843    20180414  CS018205000001  P060104007         6     600\n",
       "21110   20170614  CS018205000001  P050206001         5     990\n",
       "68117   20190226  CS018205000001  P071401020         1    2200\n",
       "72254   20180911  CS018205000001  P071401005         1    1100"
      ]
     },
     "execution_count": 9,
     "metadata": {
      "tags": []
     },
     "output_type": "execute_result"
    }
   ],
   "source": [
    "df_receipt[['sales_ymd','customer_id','product_cd','quantity','amount']].query('customer_id == \"CS018205000001\" & (amount >= 1000 | quantity >= 5)')"
   ]
  },
  {
   "cell_type": "code",
   "execution_count": null,
   "metadata": {
    "colab": {
     "base_uri": "https://localhost:8080/",
     "height": 203
    },
    "executionInfo": {
     "elapsed": 1290,
     "status": "ok",
     "timestamp": 1601112910846,
     "user": {
      "displayName": "ししぞう",
      "photoUrl": "https://lh3.googleusercontent.com/a-/AOh14GhjLtZCTS59IIEP1zssr09agt_qGp10CwS1J0Pq=s64",
      "userId": "07139038096484400229"
     },
     "user_tz": -540
    },
    "id": "q9tCRKJ5E1RC",
    "outputId": "7b0ad60b-aaf7-47a7-b715-3d7e001c05d0"
   },
   "outputs": [
    {
     "data": {
      "text/html": [
       "<div>\n",
       "<style scoped>\n",
       "    .dataframe tbody tr th:only-of-type {\n",
       "        vertical-align: middle;\n",
       "    }\n",
       "\n",
       "    .dataframe tbody tr th {\n",
       "        vertical-align: top;\n",
       "    }\n",
       "\n",
       "    .dataframe thead th {\n",
       "        text-align: right;\n",
       "    }\n",
       "</style>\n",
       "<table border=\"1\" class=\"dataframe\">\n",
       "  <thead>\n",
       "    <tr style=\"text-align: right;\">\n",
       "      <th></th>\n",
       "      <th>sales_ymd</th>\n",
       "      <th>customer_id</th>\n",
       "      <th>product_cd</th>\n",
       "      <th>quantity</th>\n",
       "      <th>amount</th>\n",
       "    </tr>\n",
       "  </thead>\n",
       "  <tbody>\n",
       "    <tr>\n",
       "      <th>36</th>\n",
       "      <td>20180911</td>\n",
       "      <td>CS018205000001</td>\n",
       "      <td>P071401012</td>\n",
       "      <td>1</td>\n",
       "      <td>2200</td>\n",
       "    </tr>\n",
       "    <tr>\n",
       "      <th>9843</th>\n",
       "      <td>20180414</td>\n",
       "      <td>CS018205000001</td>\n",
       "      <td>P060104007</td>\n",
       "      <td>6</td>\n",
       "      <td>600</td>\n",
       "    </tr>\n",
       "    <tr>\n",
       "      <th>21110</th>\n",
       "      <td>20170614</td>\n",
       "      <td>CS018205000001</td>\n",
       "      <td>P050206001</td>\n",
       "      <td>5</td>\n",
       "      <td>990</td>\n",
       "    </tr>\n",
       "    <tr>\n",
       "      <th>68117</th>\n",
       "      <td>20190226</td>\n",
       "      <td>CS018205000001</td>\n",
       "      <td>P071401020</td>\n",
       "      <td>1</td>\n",
       "      <td>2200</td>\n",
       "    </tr>\n",
       "    <tr>\n",
       "      <th>72254</th>\n",
       "      <td>20180911</td>\n",
       "      <td>CS018205000001</td>\n",
       "      <td>P071401005</td>\n",
       "      <td>1</td>\n",
       "      <td>1100</td>\n",
       "    </tr>\n",
       "  </tbody>\n",
       "</table>\n",
       "</div>"
      ],
      "text/plain": [
       "       sales_ymd     customer_id  product_cd  quantity  amount\n",
       "36      20180911  CS018205000001  P071401012         1    2200\n",
       "9843    20180414  CS018205000001  P060104007         6     600\n",
       "21110   20170614  CS018205000001  P050206001         5     990\n",
       "68117   20190226  CS018205000001  P071401020         1    2200\n",
       "72254   20180911  CS018205000001  P071401005         1    1100"
      ]
     },
     "execution_count": 10,
     "metadata": {
      "tags": []
     },
     "output_type": "execute_result"
    }
   ],
   "source": [
    "df_receipt[(df_receipt[\"customer_id\"] == \"CS018205000001\") & ((df_receipt[\"amount\"] >= 1000) | (df_receipt[\"quantity\"] >= 5))]\\\n",
    "[['sales_ymd','customer_id','product_cd','quantity','amount']]"
   ]
  },
  {
   "cell_type": "code",
   "execution_count": null,
   "metadata": {
    "id": "yuqUZ-r-7BVr"
   },
   "outputs": [],
   "source": []
  },
  {
   "cell_type": "code",
   "execution_count": null,
   "metadata": {
    "colab": {
     "base_uri": "https://localhost:8080/",
     "height": 203
    },
    "executionInfo": {
     "elapsed": 725,
     "status": "ok",
     "timestamp": 1601112913739,
     "user": {
      "displayName": "ししぞう",
      "photoUrl": "https://lh3.googleusercontent.com/a-/AOh14GhjLtZCTS59IIEP1zssr09agt_qGp10CwS1J0Pq=s64",
      "userId": "07139038096484400229"
     },
     "user_tz": -540
    },
    "id": "dj-TD9vE7B_z",
    "outputId": "752a1bdb-fc6e-4633-c5d4-cf6a299fb921"
   },
   "outputs": [
    {
     "data": {
      "text/html": [
       "<div>\n",
       "<style scoped>\n",
       "    .dataframe tbody tr th:only-of-type {\n",
       "        vertical-align: middle;\n",
       "    }\n",
       "\n",
       "    .dataframe tbody tr th {\n",
       "        vertical-align: top;\n",
       "    }\n",
       "\n",
       "    .dataframe thead th {\n",
       "        text-align: right;\n",
       "    }\n",
       "</style>\n",
       "<table border=\"1\" class=\"dataframe\">\n",
       "  <thead>\n",
       "    <tr style=\"text-align: right;\">\n",
       "      <th></th>\n",
       "      <th>sales_ymd</th>\n",
       "      <th>customer_id</th>\n",
       "      <th>product_cd</th>\n",
       "      <th>quantity</th>\n",
       "      <th>amount</th>\n",
       "    </tr>\n",
       "  </thead>\n",
       "  <tbody>\n",
       "    <tr>\n",
       "      <th>36</th>\n",
       "      <td>20180911</td>\n",
       "      <td>CS018205000001</td>\n",
       "      <td>P071401012</td>\n",
       "      <td>1</td>\n",
       "      <td>2200</td>\n",
       "    </tr>\n",
       "    <tr>\n",
       "      <th>9843</th>\n",
       "      <td>20180414</td>\n",
       "      <td>CS018205000001</td>\n",
       "      <td>P060104007</td>\n",
       "      <td>6</td>\n",
       "      <td>600</td>\n",
       "    </tr>\n",
       "    <tr>\n",
       "      <th>21110</th>\n",
       "      <td>20170614</td>\n",
       "      <td>CS018205000001</td>\n",
       "      <td>P050206001</td>\n",
       "      <td>5</td>\n",
       "      <td>990</td>\n",
       "    </tr>\n",
       "    <tr>\n",
       "      <th>68117</th>\n",
       "      <td>20190226</td>\n",
       "      <td>CS018205000001</td>\n",
       "      <td>P071401020</td>\n",
       "      <td>1</td>\n",
       "      <td>2200</td>\n",
       "    </tr>\n",
       "    <tr>\n",
       "      <th>72254</th>\n",
       "      <td>20180911</td>\n",
       "      <td>CS018205000001</td>\n",
       "      <td>P071401005</td>\n",
       "      <td>1</td>\n",
       "      <td>1100</td>\n",
       "    </tr>\n",
       "  </tbody>\n",
       "</table>\n",
       "</div>"
      ],
      "text/plain": [
       "       sales_ymd     customer_id  product_cd  quantity  amount\n",
       "36      20180911  CS018205000001  P071401012         1    2200\n",
       "9843    20180414  CS018205000001  P060104007         6     600\n",
       "21110   20170614  CS018205000001  P050206001         5     990\n",
       "68117   20190226  CS018205000001  P071401020         1    2200\n",
       "72254   20180911  CS018205000001  P071401005         1    1100"
      ]
     },
     "execution_count": 11,
     "metadata": {
      "tags": []
     },
     "output_type": "execute_result"
    }
   ],
   "source": [
    "# オリジナルをコピー\n",
    "df_06 =df_receipt.copy()\n",
    "# 表示したい項目を絞る\n",
    "df_06 = df_06[[\"sales_ymd\", \"customer_id\", \"product_cd\",\"quantity\", \"amount\"]]\n",
    "# 条件で絞り込む () の中は条件式\n",
    "df_06[(df_06[\"customer_id\"]==\"CS018205000001\") & ((df_06[\"amount\"]>=1000) | (df_06[\"quantity\"] >=5))]"
   ]
  },
  {
   "cell_type": "markdown",
   "metadata": {
    "id": "OjU7Uofzhhxz"
   },
   "source": [
    "---\n",
    "> P-007: レシート明細のデータフレーム（df_receipt）から売上日（sales_ymd）、顧客ID（customer_id）、商品コード（product_cd）、売上金額（amount）の順に列を指定し、以下の条件を満たすデータを抽出せよ。\n",
    "> - 顧客ID（customer_id）が\"CS018205000001\"\n",
    "> - 売上金額（amount）が1,000以上2,000以下"
   ]
  },
  {
   "cell_type": "code",
   "execution_count": null,
   "metadata": {
    "colab": {
     "base_uri": "https://localhost:8080/",
     "height": 79
    },
    "executionInfo": {
     "elapsed": 1197,
     "status": "ok",
     "timestamp": 1601112917115,
     "user": {
      "displayName": "ししぞう",
      "photoUrl": "https://lh3.googleusercontent.com/a-/AOh14GhjLtZCTS59IIEP1zssr09agt_qGp10CwS1J0Pq=s64",
      "userId": "07139038096484400229"
     },
     "user_tz": -540
    },
    "id": "oywQDpHbhhxz",
    "outputId": "74ada543-c4ed-4701-d021-a95b69a159cf"
   },
   "outputs": [
    {
     "data": {
      "text/html": [
       "<div>\n",
       "<style scoped>\n",
       "    .dataframe tbody tr th:only-of-type {\n",
       "        vertical-align: middle;\n",
       "    }\n",
       "\n",
       "    .dataframe tbody tr th {\n",
       "        vertical-align: top;\n",
       "    }\n",
       "\n",
       "    .dataframe thead th {\n",
       "        text-align: right;\n",
       "    }\n",
       "</style>\n",
       "<table border=\"1\" class=\"dataframe\">\n",
       "  <thead>\n",
       "    <tr style=\"text-align: right;\">\n",
       "      <th></th>\n",
       "      <th>sales_ymd</th>\n",
       "      <th>customer_id</th>\n",
       "      <th>product_cd</th>\n",
       "      <th>amount</th>\n",
       "    </tr>\n",
       "  </thead>\n",
       "  <tbody>\n",
       "    <tr>\n",
       "      <th>72254</th>\n",
       "      <td>20180911</td>\n",
       "      <td>CS018205000001</td>\n",
       "      <td>P071401005</td>\n",
       "      <td>1100</td>\n",
       "    </tr>\n",
       "  </tbody>\n",
       "</table>\n",
       "</div>"
      ],
      "text/plain": [
       "       sales_ymd     customer_id  product_cd  amount\n",
       "72254   20180911  CS018205000001  P071401005    1100"
      ]
     },
     "execution_count": 12,
     "metadata": {
      "tags": []
     },
     "output_type": "execute_result"
    }
   ],
   "source": [
    "df_receipt[['sales_ymd','customer_id','product_cd','amount']].query('customer_id == \"CS018205000001\" & 1000<= amount <= 2000')"
   ]
  },
  {
   "cell_type": "code",
   "execution_count": null,
   "metadata": {
    "colab": {
     "base_uri": "https://localhost:8080/",
     "height": 79
    },
    "executionInfo": {
     "elapsed": 1106,
     "status": "ok",
     "timestamp": 1601112920081,
     "user": {
      "displayName": "ししぞう",
      "photoUrl": "https://lh3.googleusercontent.com/a-/AOh14GhjLtZCTS59IIEP1zssr09agt_qGp10CwS1J0Pq=s64",
      "userId": "07139038096484400229"
     },
     "user_tz": -540
    },
    "id": "RMRTKOziFh5y",
    "outputId": "ae19ba4d-ae83-4f45-9725-a9cc592a5e6f"
   },
   "outputs": [
    {
     "data": {
      "text/html": [
       "<div>\n",
       "<style scoped>\n",
       "    .dataframe tbody tr th:only-of-type {\n",
       "        vertical-align: middle;\n",
       "    }\n",
       "\n",
       "    .dataframe tbody tr th {\n",
       "        vertical-align: top;\n",
       "    }\n",
       "\n",
       "    .dataframe thead th {\n",
       "        text-align: right;\n",
       "    }\n",
       "</style>\n",
       "<table border=\"1\" class=\"dataframe\">\n",
       "  <thead>\n",
       "    <tr style=\"text-align: right;\">\n",
       "      <th></th>\n",
       "      <th>sales_ymd</th>\n",
       "      <th>customer_id</th>\n",
       "      <th>product_cd</th>\n",
       "      <th>amount</th>\n",
       "    </tr>\n",
       "  </thead>\n",
       "  <tbody>\n",
       "    <tr>\n",
       "      <th>72254</th>\n",
       "      <td>20180911</td>\n",
       "      <td>CS018205000001</td>\n",
       "      <td>P071401005</td>\n",
       "      <td>1100</td>\n",
       "    </tr>\n",
       "  </tbody>\n",
       "</table>\n",
       "</div>"
      ],
      "text/plain": [
       "       sales_ymd     customer_id  product_cd  amount\n",
       "72254   20180911  CS018205000001  P071401005    1100"
      ]
     },
     "execution_count": 13,
     "metadata": {
      "tags": []
     },
     "output_type": "execute_result"
    }
   ],
   "source": [
    "df_receipt[(df_receipt[\"customer_id\"] == \"CS018205000001\") & (1000 <= df_receipt[\"amount\"]) & (df_receipt[\"amount\"]<= 2000)]\\\n",
    "[['sales_ymd','customer_id','product_cd','amount']]"
   ]
  },
  {
   "cell_type": "code",
   "execution_count": null,
   "metadata": {
    "colab": {
     "base_uri": "https://localhost:8080/",
     "height": 79
    },
    "executionInfo": {
     "elapsed": 1198,
     "status": "ok",
     "timestamp": 1601112923860,
     "user": {
      "displayName": "ししぞう",
      "photoUrl": "https://lh3.googleusercontent.com/a-/AOh14GhjLtZCTS59IIEP1zssr09agt_qGp10CwS1J0Pq=s64",
      "userId": "07139038096484400229"
     },
     "user_tz": -540
    },
    "id": "5E07Jd7G-ndd",
    "outputId": "ea77007c-5607-4b78-a828-52b16e088af2"
   },
   "outputs": [
    {
     "data": {
      "text/html": [
       "<div>\n",
       "<style scoped>\n",
       "    .dataframe tbody tr th:only-of-type {\n",
       "        vertical-align: middle;\n",
       "    }\n",
       "\n",
       "    .dataframe tbody tr th {\n",
       "        vertical-align: top;\n",
       "    }\n",
       "\n",
       "    .dataframe thead th {\n",
       "        text-align: right;\n",
       "    }\n",
       "</style>\n",
       "<table border=\"1\" class=\"dataframe\">\n",
       "  <thead>\n",
       "    <tr style=\"text-align: right;\">\n",
       "      <th></th>\n",
       "      <th>sales_ymd</th>\n",
       "      <th>customer_id</th>\n",
       "      <th>product_cd</th>\n",
       "      <th>amount</th>\n",
       "    </tr>\n",
       "  </thead>\n",
       "  <tbody>\n",
       "    <tr>\n",
       "      <th>72254</th>\n",
       "      <td>20180911</td>\n",
       "      <td>CS018205000001</td>\n",
       "      <td>P071401005</td>\n",
       "      <td>1100</td>\n",
       "    </tr>\n",
       "  </tbody>\n",
       "</table>\n",
       "</div>"
      ],
      "text/plain": [
       "       sales_ymd     customer_id  product_cd  amount\n",
       "72254   20180911  CS018205000001  P071401005    1100"
      ]
     },
     "execution_count": 14,
     "metadata": {
      "tags": []
     },
     "output_type": "execute_result"
    }
   ],
   "source": [
    "# オリジナルをコピー\n",
    "df_07 =df_receipt.copy()\n",
    "# 表示したい項目を絞る\n",
    "df_07 = df_07[[\"sales_ymd\", \"customer_id\", \"product_cd\",\"amount\"]]\n",
    "# 条件で絞り込む () の中は条件式\n",
    "df_07[(df_07[\"customer_id\"]==\"CS018205000001\") \n",
    "& (df_07[\"amount\"]>=1000) & (df_07[\"amount\"] <=2000)]"
   ]
  },
  {
   "cell_type": "markdown",
   "metadata": {
    "id": "wvvecxrThhx1"
   },
   "source": [
    "---\n",
    "> P-008: レシート明細のデータフレーム（df_receipt）から売上日（sales_ymd）、顧客ID（customer_id）、商品コード（product_cd）、売上金額（amount）の順に列を指定し、以下の条件を満たすデータを抽出せよ。\n",
    "> - 顧客ID（customer_id）が\"CS018205000001\"\n",
    "> - 商品コード（product_cd）が\"P071401019\"以外"
   ]
  },
  {
   "cell_type": "code",
   "execution_count": null,
   "metadata": {
    "colab": {
     "base_uri": "https://localhost:8080/",
     "height": 420
    },
    "executionInfo": {
     "elapsed": 1167,
     "status": "ok",
     "timestamp": 1601112927362,
     "user": {
      "displayName": "ししぞう",
      "photoUrl": "https://lh3.googleusercontent.com/a-/AOh14GhjLtZCTS59IIEP1zssr09agt_qGp10CwS1J0Pq=s64",
      "userId": "07139038096484400229"
     },
     "user_tz": -540
    },
    "id": "oIKb4uZEhhx1",
    "outputId": "807106c2-0437-4953-ec28-99f4b0aa58c3"
   },
   "outputs": [
    {
     "data": {
      "text/html": [
       "<div>\n",
       "<style scoped>\n",
       "    .dataframe tbody tr th:only-of-type {\n",
       "        vertical-align: middle;\n",
       "    }\n",
       "\n",
       "    .dataframe tbody tr th {\n",
       "        vertical-align: top;\n",
       "    }\n",
       "\n",
       "    .dataframe thead th {\n",
       "        text-align: right;\n",
       "    }\n",
       "</style>\n",
       "<table border=\"1\" class=\"dataframe\">\n",
       "  <thead>\n",
       "    <tr style=\"text-align: right;\">\n",
       "      <th></th>\n",
       "      <th>sales_ymd</th>\n",
       "      <th>customer_id</th>\n",
       "      <th>product_cd</th>\n",
       "      <th>amount</th>\n",
       "    </tr>\n",
       "  </thead>\n",
       "  <tbody>\n",
       "    <tr>\n",
       "      <th>36</th>\n",
       "      <td>20180911</td>\n",
       "      <td>CS018205000001</td>\n",
       "      <td>P071401012</td>\n",
       "      <td>2200</td>\n",
       "    </tr>\n",
       "    <tr>\n",
       "      <th>9843</th>\n",
       "      <td>20180414</td>\n",
       "      <td>CS018205000001</td>\n",
       "      <td>P060104007</td>\n",
       "      <td>600</td>\n",
       "    </tr>\n",
       "    <tr>\n",
       "      <th>21110</th>\n",
       "      <td>20170614</td>\n",
       "      <td>CS018205000001</td>\n",
       "      <td>P050206001</td>\n",
       "      <td>990</td>\n",
       "    </tr>\n",
       "    <tr>\n",
       "      <th>27673</th>\n",
       "      <td>20170614</td>\n",
       "      <td>CS018205000001</td>\n",
       "      <td>P060702015</td>\n",
       "      <td>108</td>\n",
       "    </tr>\n",
       "    <tr>\n",
       "      <th>27840</th>\n",
       "      <td>20190216</td>\n",
       "      <td>CS018205000001</td>\n",
       "      <td>P071005024</td>\n",
       "      <td>102</td>\n",
       "    </tr>\n",
       "    <tr>\n",
       "      <th>28757</th>\n",
       "      <td>20180414</td>\n",
       "      <td>CS018205000001</td>\n",
       "      <td>P071101002</td>\n",
       "      <td>278</td>\n",
       "    </tr>\n",
       "    <tr>\n",
       "      <th>39256</th>\n",
       "      <td>20190226</td>\n",
       "      <td>CS018205000001</td>\n",
       "      <td>P070902035</td>\n",
       "      <td>168</td>\n",
       "    </tr>\n",
       "    <tr>\n",
       "      <th>58121</th>\n",
       "      <td>20190924</td>\n",
       "      <td>CS018205000001</td>\n",
       "      <td>P060805001</td>\n",
       "      <td>495</td>\n",
       "    </tr>\n",
       "    <tr>\n",
       "      <th>68117</th>\n",
       "      <td>20190226</td>\n",
       "      <td>CS018205000001</td>\n",
       "      <td>P071401020</td>\n",
       "      <td>2200</td>\n",
       "    </tr>\n",
       "    <tr>\n",
       "      <th>72254</th>\n",
       "      <td>20180911</td>\n",
       "      <td>CS018205000001</td>\n",
       "      <td>P071401005</td>\n",
       "      <td>1100</td>\n",
       "    </tr>\n",
       "    <tr>\n",
       "      <th>88508</th>\n",
       "      <td>20190216</td>\n",
       "      <td>CS018205000001</td>\n",
       "      <td>P040101002</td>\n",
       "      <td>218</td>\n",
       "    </tr>\n",
       "    <tr>\n",
       "      <th>91525</th>\n",
       "      <td>20190924</td>\n",
       "      <td>CS018205000001</td>\n",
       "      <td>P091503001</td>\n",
       "      <td>280</td>\n",
       "    </tr>\n",
       "  </tbody>\n",
       "</table>\n",
       "</div>"
      ],
      "text/plain": [
       "       sales_ymd     customer_id  product_cd  amount\n",
       "36      20180911  CS018205000001  P071401012    2200\n",
       "9843    20180414  CS018205000001  P060104007     600\n",
       "21110   20170614  CS018205000001  P050206001     990\n",
       "27673   20170614  CS018205000001  P060702015     108\n",
       "27840   20190216  CS018205000001  P071005024     102\n",
       "28757   20180414  CS018205000001  P071101002     278\n",
       "39256   20190226  CS018205000001  P070902035     168\n",
       "58121   20190924  CS018205000001  P060805001     495\n",
       "68117   20190226  CS018205000001  P071401020    2200\n",
       "72254   20180911  CS018205000001  P071401005    1100\n",
       "88508   20190216  CS018205000001  P040101002     218\n",
       "91525   20190924  CS018205000001  P091503001     280"
      ]
     },
     "execution_count": 15,
     "metadata": {
      "tags": []
     },
     "output_type": "execute_result"
    }
   ],
   "source": [
    "df_receipt[['sales_ymd','customer_id','product_cd','amount']].query('customer_id == \"CS018205000001\" & product_cd != \"P071401019\"')"
   ]
  },
  {
   "cell_type": "code",
   "execution_count": null,
   "metadata": {
    "colab": {
     "base_uri": "https://localhost:8080/",
     "height": 420
    },
    "executionInfo": {
     "elapsed": 892,
     "status": "ok",
     "timestamp": 1601112935343,
     "user": {
      "displayName": "ししぞう",
      "photoUrl": "https://lh3.googleusercontent.com/a-/AOh14GhjLtZCTS59IIEP1zssr09agt_qGp10CwS1J0Pq=s64",
      "userId": "07139038096484400229"
     },
     "user_tz": -540
    },
    "id": "271QHVAS_2W5",
    "outputId": "d7dc6666-f9cc-4024-fbf9-ab372ec70a5e"
   },
   "outputs": [
    {
     "data": {
      "text/html": [
       "<div>\n",
       "<style scoped>\n",
       "    .dataframe tbody tr th:only-of-type {\n",
       "        vertical-align: middle;\n",
       "    }\n",
       "\n",
       "    .dataframe tbody tr th {\n",
       "        vertical-align: top;\n",
       "    }\n",
       "\n",
       "    .dataframe thead th {\n",
       "        text-align: right;\n",
       "    }\n",
       "</style>\n",
       "<table border=\"1\" class=\"dataframe\">\n",
       "  <thead>\n",
       "    <tr style=\"text-align: right;\">\n",
       "      <th></th>\n",
       "      <th>sales_ymd</th>\n",
       "      <th>customer_id</th>\n",
       "      <th>product_cd</th>\n",
       "      <th>amount</th>\n",
       "    </tr>\n",
       "  </thead>\n",
       "  <tbody>\n",
       "    <tr>\n",
       "      <th>36</th>\n",
       "      <td>20180911</td>\n",
       "      <td>CS018205000001</td>\n",
       "      <td>P071401012</td>\n",
       "      <td>2200</td>\n",
       "    </tr>\n",
       "    <tr>\n",
       "      <th>9843</th>\n",
       "      <td>20180414</td>\n",
       "      <td>CS018205000001</td>\n",
       "      <td>P060104007</td>\n",
       "      <td>600</td>\n",
       "    </tr>\n",
       "    <tr>\n",
       "      <th>21110</th>\n",
       "      <td>20170614</td>\n",
       "      <td>CS018205000001</td>\n",
       "      <td>P050206001</td>\n",
       "      <td>990</td>\n",
       "    </tr>\n",
       "    <tr>\n",
       "      <th>27673</th>\n",
       "      <td>20170614</td>\n",
       "      <td>CS018205000001</td>\n",
       "      <td>P060702015</td>\n",
       "      <td>108</td>\n",
       "    </tr>\n",
       "    <tr>\n",
       "      <th>27840</th>\n",
       "      <td>20190216</td>\n",
       "      <td>CS018205000001</td>\n",
       "      <td>P071005024</td>\n",
       "      <td>102</td>\n",
       "    </tr>\n",
       "    <tr>\n",
       "      <th>28757</th>\n",
       "      <td>20180414</td>\n",
       "      <td>CS018205000001</td>\n",
       "      <td>P071101002</td>\n",
       "      <td>278</td>\n",
       "    </tr>\n",
       "    <tr>\n",
       "      <th>39256</th>\n",
       "      <td>20190226</td>\n",
       "      <td>CS018205000001</td>\n",
       "      <td>P070902035</td>\n",
       "      <td>168</td>\n",
       "    </tr>\n",
       "    <tr>\n",
       "      <th>58121</th>\n",
       "      <td>20190924</td>\n",
       "      <td>CS018205000001</td>\n",
       "      <td>P060805001</td>\n",
       "      <td>495</td>\n",
       "    </tr>\n",
       "    <tr>\n",
       "      <th>68117</th>\n",
       "      <td>20190226</td>\n",
       "      <td>CS018205000001</td>\n",
       "      <td>P071401020</td>\n",
       "      <td>2200</td>\n",
       "    </tr>\n",
       "    <tr>\n",
       "      <th>72254</th>\n",
       "      <td>20180911</td>\n",
       "      <td>CS018205000001</td>\n",
       "      <td>P071401005</td>\n",
       "      <td>1100</td>\n",
       "    </tr>\n",
       "    <tr>\n",
       "      <th>88508</th>\n",
       "      <td>20190216</td>\n",
       "      <td>CS018205000001</td>\n",
       "      <td>P040101002</td>\n",
       "      <td>218</td>\n",
       "    </tr>\n",
       "    <tr>\n",
       "      <th>91525</th>\n",
       "      <td>20190924</td>\n",
       "      <td>CS018205000001</td>\n",
       "      <td>P091503001</td>\n",
       "      <td>280</td>\n",
       "    </tr>\n",
       "  </tbody>\n",
       "</table>\n",
       "</div>"
      ],
      "text/plain": [
       "       sales_ymd     customer_id  product_cd  amount\n",
       "36      20180911  CS018205000001  P071401012    2200\n",
       "9843    20180414  CS018205000001  P060104007     600\n",
       "21110   20170614  CS018205000001  P050206001     990\n",
       "27673   20170614  CS018205000001  P060702015     108\n",
       "27840   20190216  CS018205000001  P071005024     102\n",
       "28757   20180414  CS018205000001  P071101002     278\n",
       "39256   20190226  CS018205000001  P070902035     168\n",
       "58121   20190924  CS018205000001  P060805001     495\n",
       "68117   20190226  CS018205000001  P071401020    2200\n",
       "72254   20180911  CS018205000001  P071401005    1100\n",
       "88508   20190216  CS018205000001  P040101002     218\n",
       "91525   20190924  CS018205000001  P091503001     280"
      ]
     },
     "execution_count": 17,
     "metadata": {
      "tags": []
     },
     "output_type": "execute_result"
    }
   ],
   "source": [
    "# オリジナルをコピー\n",
    "df_08 =df_receipt.copy()\n",
    "# 表示したい項目を絞る\n",
    "df_08 = df_08[[\"sales_ymd\", \"customer_id\", \"product_cd\",\"amount\"]]\n",
    "# 条件で絞り込む () の中は条件式\n",
    "df_08[(df_08[\"customer_id\"]==\"CS018205000001\") \n",
    "    & (df_08[\"product_cd\"] != \"P071401019\")]"
   ]
  },
  {
   "cell_type": "markdown",
   "metadata": {
    "id": "raZwJrBbhhx3"
   },
   "source": [
    "---\n",
    "> P-009: 以下の処理において、出力結果を変えずにORをANDに書き換えよ。\n",
    "\n",
    "`df_store.query('not(prefecture_cd == \"13\" | floor_area > 900)')`"
   ]
  },
  {
   "cell_type": "code",
   "execution_count": null,
   "metadata": {
    "colab": {
     "base_uri": "https://localhost:8080/",
     "height": 383
    },
    "executionInfo": {
     "elapsed": 545,
     "status": "ok",
     "timestamp": 1601112938920,
     "user": {
      "displayName": "ししぞう",
      "photoUrl": "https://lh3.googleusercontent.com/a-/AOh14GhjLtZCTS59IIEP1zssr09agt_qGp10CwS1J0Pq=s64",
      "userId": "07139038096484400229"
     },
     "user_tz": -540
    },
    "id": "Ik77huJ-hhx3",
    "outputId": "4f73d445-a8ae-4b65-c8c0-2b9db350dc2d"
   },
   "outputs": [
    {
     "data": {
      "text/html": [
       "<div>\n",
       "<style scoped>\n",
       "    .dataframe tbody tr th:only-of-type {\n",
       "        vertical-align: middle;\n",
       "    }\n",
       "\n",
       "    .dataframe tbody tr th {\n",
       "        vertical-align: top;\n",
       "    }\n",
       "\n",
       "    .dataframe thead th {\n",
       "        text-align: right;\n",
       "    }\n",
       "</style>\n",
       "<table border=\"1\" class=\"dataframe\">\n",
       "  <thead>\n",
       "    <tr style=\"text-align: right;\">\n",
       "      <th></th>\n",
       "      <th>store_cd</th>\n",
       "      <th>store_name</th>\n",
       "      <th>prefecture_cd</th>\n",
       "      <th>prefecture</th>\n",
       "      <th>address</th>\n",
       "      <th>address_kana</th>\n",
       "      <th>tel_no</th>\n",
       "      <th>longitude</th>\n",
       "      <th>latitude</th>\n",
       "      <th>floor_area</th>\n",
       "    </tr>\n",
       "  </thead>\n",
       "  <tbody>\n",
       "    <tr>\n",
       "      <th>18</th>\n",
       "      <td>S14046</td>\n",
       "      <td>北山田店</td>\n",
       "      <td>14</td>\n",
       "      <td>神奈川県</td>\n",
       "      <td>神奈川県横浜市都筑区北山田一丁目</td>\n",
       "      <td>カナガワケンヨコハマシツヅキクキタヤマタイッチョウメ</td>\n",
       "      <td>045-123-4049</td>\n",
       "      <td>139.5916</td>\n",
       "      <td>35.56189</td>\n",
       "      <td>831.0</td>\n",
       "    </tr>\n",
       "    <tr>\n",
       "      <th>20</th>\n",
       "      <td>S14011</td>\n",
       "      <td>日吉本町店</td>\n",
       "      <td>14</td>\n",
       "      <td>神奈川県</td>\n",
       "      <td>神奈川県横浜市港北区日吉本町四丁目</td>\n",
       "      <td>カナガワケンヨコハマシコウホククヒヨシホンチョウヨンチョウメ</td>\n",
       "      <td>045-123-4033</td>\n",
       "      <td>139.6316</td>\n",
       "      <td>35.54655</td>\n",
       "      <td>890.0</td>\n",
       "    </tr>\n",
       "    <tr>\n",
       "      <th>38</th>\n",
       "      <td>S12013</td>\n",
       "      <td>習志野店</td>\n",
       "      <td>12</td>\n",
       "      <td>千葉県</td>\n",
       "      <td>千葉県習志野市芝園一丁目</td>\n",
       "      <td>チバケンナラシノシシバゾノイッチョウメ</td>\n",
       "      <td>047-123-4002</td>\n",
       "      <td>140.0220</td>\n",
       "      <td>35.66122</td>\n",
       "      <td>808.0</td>\n",
       "    </tr>\n",
       "  </tbody>\n",
       "</table>\n",
       "</div>"
      ],
      "text/plain": [
       "   store_cd store_name  prefecture_cd  ... longitude  latitude floor_area\n",
       "18   S14046       北山田店             14  ...  139.5916  35.56189      831.0\n",
       "20   S14011      日吉本町店             14  ...  139.6316  35.54655      890.0\n",
       "38   S12013       習志野店             12  ...  140.0220  35.66122      808.0\n",
       "\n",
       "[3 rows x 10 columns]"
      ]
     },
     "execution_count": 18,
     "metadata": {
      "tags": []
     },
     "output_type": "execute_result"
    }
   ],
   "source": [
    "df_store.query('not(prefecture_cd == \"13\" | floor_area > 900)')"
   ]
  },
  {
   "cell_type": "code",
   "execution_count": null,
   "metadata": {
    "colab": {
     "base_uri": "https://localhost:8080/",
     "height": 141
    },
    "executionInfo": {
     "elapsed": 1437,
     "status": "ok",
     "timestamp": 1599993584483,
     "user": {
      "displayName": "ししぞう",
      "photoUrl": "https://lh3.googleusercontent.com/a-/AOh14GhjLtZCTS59IIEP1zssr09agt_qGp10CwS1J0Pq=s64",
      "userId": "07139038096484400229"
     },
     "user_tz": -540
    },
    "id": "5ey-Wlh4GbgT",
    "outputId": "1d4056b3-6982-4f1d-b884-cdd6a2e5d1cd"
   },
   "outputs": [
    {
     "data": {
      "text/html": [
       "<div>\n",
       "<style scoped>\n",
       "    .dataframe tbody tr th:only-of-type {\n",
       "        vertical-align: middle;\n",
       "    }\n",
       "\n",
       "    .dataframe tbody tr th {\n",
       "        vertical-align: top;\n",
       "    }\n",
       "\n",
       "    .dataframe thead th {\n",
       "        text-align: right;\n",
       "    }\n",
       "</style>\n",
       "<table border=\"1\" class=\"dataframe\">\n",
       "  <thead>\n",
       "    <tr style=\"text-align: right;\">\n",
       "      <th></th>\n",
       "      <th>store_cd</th>\n",
       "      <th>store_name</th>\n",
       "      <th>prefecture_cd</th>\n",
       "      <th>prefecture</th>\n",
       "      <th>address</th>\n",
       "      <th>address_kana</th>\n",
       "      <th>tel_no</th>\n",
       "      <th>longitude</th>\n",
       "      <th>latitude</th>\n",
       "      <th>floor_area</th>\n",
       "    </tr>\n",
       "  </thead>\n",
       "  <tbody>\n",
       "    <tr>\n",
       "      <th>18</th>\n",
       "      <td>S14046</td>\n",
       "      <td>北山田店</td>\n",
       "      <td>14</td>\n",
       "      <td>神奈川県</td>\n",
       "      <td>神奈川県横浜市都筑区北山田一丁目</td>\n",
       "      <td>カナガワケンヨコハマシツヅキクキタヤマタイッチョウメ</td>\n",
       "      <td>045-123-4049</td>\n",
       "      <td>139.5916</td>\n",
       "      <td>35.56189</td>\n",
       "      <td>831.0</td>\n",
       "    </tr>\n",
       "    <tr>\n",
       "      <th>20</th>\n",
       "      <td>S14011</td>\n",
       "      <td>日吉本町店</td>\n",
       "      <td>14</td>\n",
       "      <td>神奈川県</td>\n",
       "      <td>神奈川県横浜市港北区日吉本町四丁目</td>\n",
       "      <td>カナガワケンヨコハマシコウホククヒヨシホンチョウヨンチョウメ</td>\n",
       "      <td>045-123-4033</td>\n",
       "      <td>139.6316</td>\n",
       "      <td>35.54655</td>\n",
       "      <td>890.0</td>\n",
       "    </tr>\n",
       "    <tr>\n",
       "      <th>38</th>\n",
       "      <td>S12013</td>\n",
       "      <td>習志野店</td>\n",
       "      <td>12</td>\n",
       "      <td>千葉県</td>\n",
       "      <td>千葉県習志野市芝園一丁目</td>\n",
       "      <td>チバケンナラシノシシバゾノイッチョウメ</td>\n",
       "      <td>047-123-4002</td>\n",
       "      <td>140.0220</td>\n",
       "      <td>35.66122</td>\n",
       "      <td>808.0</td>\n",
       "    </tr>\n",
       "  </tbody>\n",
       "</table>\n",
       "</div>"
      ],
      "text/plain": [
       "   store_cd store_name  prefecture_cd  ... longitude  latitude floor_area\n",
       "18   S14046       北山田店             14  ...  139.5916  35.56189      831.0\n",
       "20   S14011      日吉本町店             14  ...  139.6316  35.54655      890.0\n",
       "38   S12013       習志野店             12  ...  140.0220  35.66122      808.0\n",
       "\n",
       "[3 rows x 10 columns]"
      ]
     },
     "execution_count": 19,
     "metadata": {
      "tags": []
     },
     "output_type": "execute_result"
    }
   ],
   "source": [
    "df_store.query('prefecture_cd != \"13\" & floor_area <= 900')"
   ]
  },
  {
   "cell_type": "code",
   "execution_count": null,
   "metadata": {
    "colab": {
     "base_uri": "https://localhost:8080/",
     "height": 383
    },
    "executionInfo": {
     "elapsed": 1052,
     "status": "ok",
     "timestamp": 1601112946568,
     "user": {
      "displayName": "ししぞう",
      "photoUrl": "https://lh3.googleusercontent.com/a-/AOh14GhjLtZCTS59IIEP1zssr09agt_qGp10CwS1J0Pq=s64",
      "userId": "07139038096484400229"
     },
     "user_tz": -540
    },
    "id": "YJEcmlO6AuyP",
    "outputId": "d0639e17-3f68-4915-fded-ad678a413dc0"
   },
   "outputs": [
    {
     "data": {
      "text/html": [
       "<div>\n",
       "<style scoped>\n",
       "    .dataframe tbody tr th:only-of-type {\n",
       "        vertical-align: middle;\n",
       "    }\n",
       "\n",
       "    .dataframe tbody tr th {\n",
       "        vertical-align: top;\n",
       "    }\n",
       "\n",
       "    .dataframe thead th {\n",
       "        text-align: right;\n",
       "    }\n",
       "</style>\n",
       "<table border=\"1\" class=\"dataframe\">\n",
       "  <thead>\n",
       "    <tr style=\"text-align: right;\">\n",
       "      <th></th>\n",
       "      <th>store_cd</th>\n",
       "      <th>store_name</th>\n",
       "      <th>prefecture_cd</th>\n",
       "      <th>prefecture</th>\n",
       "      <th>address</th>\n",
       "      <th>address_kana</th>\n",
       "      <th>tel_no</th>\n",
       "      <th>longitude</th>\n",
       "      <th>latitude</th>\n",
       "      <th>floor_area</th>\n",
       "    </tr>\n",
       "  </thead>\n",
       "  <tbody>\n",
       "    <tr>\n",
       "      <th>18</th>\n",
       "      <td>S14046</td>\n",
       "      <td>北山田店</td>\n",
       "      <td>14</td>\n",
       "      <td>神奈川県</td>\n",
       "      <td>神奈川県横浜市都筑区北山田一丁目</td>\n",
       "      <td>カナガワケンヨコハマシツヅキクキタヤマタイッチョウメ</td>\n",
       "      <td>045-123-4049</td>\n",
       "      <td>139.5916</td>\n",
       "      <td>35.56189</td>\n",
       "      <td>831.0</td>\n",
       "    </tr>\n",
       "    <tr>\n",
       "      <th>20</th>\n",
       "      <td>S14011</td>\n",
       "      <td>日吉本町店</td>\n",
       "      <td>14</td>\n",
       "      <td>神奈川県</td>\n",
       "      <td>神奈川県横浜市港北区日吉本町四丁目</td>\n",
       "      <td>カナガワケンヨコハマシコウホククヒヨシホンチョウヨンチョウメ</td>\n",
       "      <td>045-123-4033</td>\n",
       "      <td>139.6316</td>\n",
       "      <td>35.54655</td>\n",
       "      <td>890.0</td>\n",
       "    </tr>\n",
       "    <tr>\n",
       "      <th>38</th>\n",
       "      <td>S12013</td>\n",
       "      <td>習志野店</td>\n",
       "      <td>12</td>\n",
       "      <td>千葉県</td>\n",
       "      <td>千葉県習志野市芝園一丁目</td>\n",
       "      <td>チバケンナラシノシシバゾノイッチョウメ</td>\n",
       "      <td>047-123-4002</td>\n",
       "      <td>140.0220</td>\n",
       "      <td>35.66122</td>\n",
       "      <td>808.0</td>\n",
       "    </tr>\n",
       "  </tbody>\n",
       "</table>\n",
       "</div>"
      ],
      "text/plain": [
       "   store_cd store_name  prefecture_cd  ... longitude  latitude floor_area\n",
       "18   S14046       北山田店             14  ...  139.5916  35.56189      831.0\n",
       "20   S14011      日吉本町店             14  ...  139.6316  35.54655      890.0\n",
       "38   S12013       習志野店             12  ...  140.0220  35.66122      808.0\n",
       "\n",
       "[3 rows x 10 columns]"
      ]
     },
     "execution_count": 19,
     "metadata": {
      "tags": []
     },
     "output_type": "execute_result"
    }
   ],
   "source": [
    "df_09 = df_store.copy()\n",
    "df_09[(df_09[\"prefecture_cd\"] != 13)&(df_09[\"floor_area\"] <= 900)]\n"
   ]
  },
  {
   "cell_type": "code",
   "execution_count": null,
   "metadata": {
    "id": "bCk-ONdlAvKS"
   },
   "outputs": [],
   "source": []
  },
  {
   "cell_type": "markdown",
   "metadata": {
    "id": "vyAFAs5Rhhx5"
   },
   "source": [
    "---\n",
    "> P-010: 店舗データフレーム（df_store）から、店舗コード（store_cd）が\"S14\"で始まるものだけ全項目抽出し、10件だけ表示せよ。"
   ]
  },
  {
   "cell_type": "code",
   "execution_count": null,
   "metadata": {
    "colab": {
     "base_uri": "https://localhost:8080/",
     "height": 1000
    },
    "executionInfo": {
     "elapsed": 970,
     "status": "ok",
     "timestamp": 1601112951337,
     "user": {
      "displayName": "ししぞう",
      "photoUrl": "https://lh3.googleusercontent.com/a-/AOh14GhjLtZCTS59IIEP1zssr09agt_qGp10CwS1J0Pq=s64",
      "userId": "07139038096484400229"
     },
     "user_tz": -540
    },
    "id": "aaHaULLwhhx5",
    "outputId": "d7207581-78e5-4c61-eaa8-31143a1d3623"
   },
   "outputs": [
    {
     "data": {
      "text/html": [
       "<div>\n",
       "<style scoped>\n",
       "    .dataframe tbody tr th:only-of-type {\n",
       "        vertical-align: middle;\n",
       "    }\n",
       "\n",
       "    .dataframe tbody tr th {\n",
       "        vertical-align: top;\n",
       "    }\n",
       "\n",
       "    .dataframe thead th {\n",
       "        text-align: right;\n",
       "    }\n",
       "</style>\n",
       "<table border=\"1\" class=\"dataframe\">\n",
       "  <thead>\n",
       "    <tr style=\"text-align: right;\">\n",
       "      <th></th>\n",
       "      <th>store_cd</th>\n",
       "      <th>store_name</th>\n",
       "      <th>prefecture_cd</th>\n",
       "      <th>prefecture</th>\n",
       "      <th>address</th>\n",
       "      <th>address_kana</th>\n",
       "      <th>tel_no</th>\n",
       "      <th>longitude</th>\n",
       "      <th>latitude</th>\n",
       "      <th>floor_area</th>\n",
       "    </tr>\n",
       "  </thead>\n",
       "  <tbody>\n",
       "    <tr>\n",
       "      <th>2</th>\n",
       "      <td>S14010</td>\n",
       "      <td>菊名店</td>\n",
       "      <td>14</td>\n",
       "      <td>神奈川県</td>\n",
       "      <td>神奈川県横浜市港北区菊名一丁目</td>\n",
       "      <td>カナガワケンヨコハマシコウホククキクナイッチョウメ</td>\n",
       "      <td>045-123-4032</td>\n",
       "      <td>139.6326</td>\n",
       "      <td>35.50049</td>\n",
       "      <td>1732.0</td>\n",
       "    </tr>\n",
       "    <tr>\n",
       "      <th>3</th>\n",
       "      <td>S14033</td>\n",
       "      <td>阿久和店</td>\n",
       "      <td>14</td>\n",
       "      <td>神奈川県</td>\n",
       "      <td>神奈川県横浜市瀬谷区阿久和西一丁目</td>\n",
       "      <td>カナガワケンヨコハマシセヤクアクワニシイッチョウメ</td>\n",
       "      <td>045-123-4043</td>\n",
       "      <td>139.4961</td>\n",
       "      <td>35.45918</td>\n",
       "      <td>1495.0</td>\n",
       "    </tr>\n",
       "    <tr>\n",
       "      <th>4</th>\n",
       "      <td>S14036</td>\n",
       "      <td>相模原中央店</td>\n",
       "      <td>14</td>\n",
       "      <td>神奈川県</td>\n",
       "      <td>神奈川県相模原市中央二丁目</td>\n",
       "      <td>カナガワケンサガミハラシチュウオウニチョウメ</td>\n",
       "      <td>042-123-4045</td>\n",
       "      <td>139.3716</td>\n",
       "      <td>35.57327</td>\n",
       "      <td>1679.0</td>\n",
       "    </tr>\n",
       "    <tr>\n",
       "      <th>7</th>\n",
       "      <td>S14040</td>\n",
       "      <td>長津田店</td>\n",
       "      <td>14</td>\n",
       "      <td>神奈川県</td>\n",
       "      <td>神奈川県横浜市緑区長津田みなみ台五丁目</td>\n",
       "      <td>カナガワケンヨコハマシミドリクナガツタミナミダイゴチョウメ</td>\n",
       "      <td>045-123-4046</td>\n",
       "      <td>139.4994</td>\n",
       "      <td>35.52398</td>\n",
       "      <td>1548.0</td>\n",
       "    </tr>\n",
       "    <tr>\n",
       "      <th>9</th>\n",
       "      <td>S14050</td>\n",
       "      <td>阿久和西店</td>\n",
       "      <td>14</td>\n",
       "      <td>神奈川県</td>\n",
       "      <td>神奈川県横浜市瀬谷区阿久和西一丁目</td>\n",
       "      <td>カナガワケンヨコハマシセヤクアクワニシイッチョウメ</td>\n",
       "      <td>045-123-4053</td>\n",
       "      <td>139.4961</td>\n",
       "      <td>35.45918</td>\n",
       "      <td>1830.0</td>\n",
       "    </tr>\n",
       "    <tr>\n",
       "      <th>12</th>\n",
       "      <td>S14028</td>\n",
       "      <td>二ツ橋店</td>\n",
       "      <td>14</td>\n",
       "      <td>神奈川県</td>\n",
       "      <td>神奈川県横浜市瀬谷区二ツ橋町</td>\n",
       "      <td>カナガワケンヨコハマシセヤクフタツバシチョウ</td>\n",
       "      <td>045-123-4042</td>\n",
       "      <td>139.4963</td>\n",
       "      <td>35.46304</td>\n",
       "      <td>1574.0</td>\n",
       "    </tr>\n",
       "    <tr>\n",
       "      <th>16</th>\n",
       "      <td>S14012</td>\n",
       "      <td>本牧和田店</td>\n",
       "      <td>14</td>\n",
       "      <td>神奈川県</td>\n",
       "      <td>神奈川県横浜市中区本牧和田</td>\n",
       "      <td>カナガワケンヨコハマシナカクホンモクワダ</td>\n",
       "      <td>045-123-4034</td>\n",
       "      <td>139.6582</td>\n",
       "      <td>35.42156</td>\n",
       "      <td>1341.0</td>\n",
       "    </tr>\n",
       "    <tr>\n",
       "      <th>18</th>\n",
       "      <td>S14046</td>\n",
       "      <td>北山田店</td>\n",
       "      <td>14</td>\n",
       "      <td>神奈川県</td>\n",
       "      <td>神奈川県横浜市都筑区北山田一丁目</td>\n",
       "      <td>カナガワケンヨコハマシツヅキクキタヤマタイッチョウメ</td>\n",
       "      <td>045-123-4049</td>\n",
       "      <td>139.5916</td>\n",
       "      <td>35.56189</td>\n",
       "      <td>831.0</td>\n",
       "    </tr>\n",
       "    <tr>\n",
       "      <th>19</th>\n",
       "      <td>S14022</td>\n",
       "      <td>逗子店</td>\n",
       "      <td>14</td>\n",
       "      <td>神奈川県</td>\n",
       "      <td>神奈川県逗子市逗子一丁目</td>\n",
       "      <td>カナガワケンズシシズシイッチョウメ</td>\n",
       "      <td>046-123-4036</td>\n",
       "      <td>139.5789</td>\n",
       "      <td>35.29642</td>\n",
       "      <td>1838.0</td>\n",
       "    </tr>\n",
       "    <tr>\n",
       "      <th>20</th>\n",
       "      <td>S14011</td>\n",
       "      <td>日吉本町店</td>\n",
       "      <td>14</td>\n",
       "      <td>神奈川県</td>\n",
       "      <td>神奈川県横浜市港北区日吉本町四丁目</td>\n",
       "      <td>カナガワケンヨコハマシコウホククヒヨシホンチョウヨンチョウメ</td>\n",
       "      <td>045-123-4033</td>\n",
       "      <td>139.6316</td>\n",
       "      <td>35.54655</td>\n",
       "      <td>890.0</td>\n",
       "    </tr>\n",
       "  </tbody>\n",
       "</table>\n",
       "</div>"
      ],
      "text/plain": [
       "   store_cd store_name  prefecture_cd  ... longitude  latitude floor_area\n",
       "2    S14010        菊名店             14  ...  139.6326  35.50049     1732.0\n",
       "3    S14033       阿久和店             14  ...  139.4961  35.45918     1495.0\n",
       "4    S14036     相模原中央店             14  ...  139.3716  35.57327     1679.0\n",
       "7    S14040       長津田店             14  ...  139.4994  35.52398     1548.0\n",
       "9    S14050      阿久和西店             14  ...  139.4961  35.45918     1830.0\n",
       "12   S14028       二ツ橋店             14  ...  139.4963  35.46304     1574.0\n",
       "16   S14012      本牧和田店             14  ...  139.6582  35.42156     1341.0\n",
       "18   S14046       北山田店             14  ...  139.5916  35.56189      831.0\n",
       "19   S14022        逗子店             14  ...  139.5789  35.29642     1838.0\n",
       "20   S14011      日吉本町店             14  ...  139.6316  35.54655      890.0\n",
       "\n",
       "[10 rows x 10 columns]"
      ]
     },
     "execution_count": 20,
     "metadata": {
      "tags": []
     },
     "output_type": "execute_result"
    }
   ],
   "source": [
    "df_store[df_store['store_cd'].str.startswith('S14')].head(10)"
   ]
  },
  {
   "cell_type": "code",
   "execution_count": null,
   "metadata": {
    "colab": {
     "base_uri": "https://localhost:8080/",
     "height": 1000
    },
    "executionInfo": {
     "elapsed": 1107,
     "status": "ok",
     "timestamp": 1601112955932,
     "user": {
      "displayName": "ししぞう",
      "photoUrl": "https://lh3.googleusercontent.com/a-/AOh14GhjLtZCTS59IIEP1zssr09agt_qGp10CwS1J0Pq=s64",
      "userId": "07139038096484400229"
     },
     "user_tz": -540
    },
    "id": "nIuHk8I3JdmY",
    "outputId": "4c248bcb-c1f2-48a0-fe10-0eaf51585850"
   },
   "outputs": [
    {
     "data": {
      "text/html": [
       "<div>\n",
       "<style scoped>\n",
       "    .dataframe tbody tr th:only-of-type {\n",
       "        vertical-align: middle;\n",
       "    }\n",
       "\n",
       "    .dataframe tbody tr th {\n",
       "        vertical-align: top;\n",
       "    }\n",
       "\n",
       "    .dataframe thead th {\n",
       "        text-align: right;\n",
       "    }\n",
       "</style>\n",
       "<table border=\"1\" class=\"dataframe\">\n",
       "  <thead>\n",
       "    <tr style=\"text-align: right;\">\n",
       "      <th></th>\n",
       "      <th>store_cd</th>\n",
       "      <th>store_name</th>\n",
       "      <th>prefecture_cd</th>\n",
       "      <th>prefecture</th>\n",
       "      <th>address</th>\n",
       "      <th>address_kana</th>\n",
       "      <th>tel_no</th>\n",
       "      <th>longitude</th>\n",
       "      <th>latitude</th>\n",
       "      <th>floor_area</th>\n",
       "    </tr>\n",
       "  </thead>\n",
       "  <tbody>\n",
       "    <tr>\n",
       "      <th>2</th>\n",
       "      <td>S14010</td>\n",
       "      <td>菊名店</td>\n",
       "      <td>14</td>\n",
       "      <td>神奈川県</td>\n",
       "      <td>神奈川県横浜市港北区菊名一丁目</td>\n",
       "      <td>カナガワケンヨコハマシコウホククキクナイッチョウメ</td>\n",
       "      <td>045-123-4032</td>\n",
       "      <td>139.6326</td>\n",
       "      <td>35.50049</td>\n",
       "      <td>1732.0</td>\n",
       "    </tr>\n",
       "    <tr>\n",
       "      <th>3</th>\n",
       "      <td>S14033</td>\n",
       "      <td>阿久和店</td>\n",
       "      <td>14</td>\n",
       "      <td>神奈川県</td>\n",
       "      <td>神奈川県横浜市瀬谷区阿久和西一丁目</td>\n",
       "      <td>カナガワケンヨコハマシセヤクアクワニシイッチョウメ</td>\n",
       "      <td>045-123-4043</td>\n",
       "      <td>139.4961</td>\n",
       "      <td>35.45918</td>\n",
       "      <td>1495.0</td>\n",
       "    </tr>\n",
       "    <tr>\n",
       "      <th>4</th>\n",
       "      <td>S14036</td>\n",
       "      <td>相模原中央店</td>\n",
       "      <td>14</td>\n",
       "      <td>神奈川県</td>\n",
       "      <td>神奈川県相模原市中央二丁目</td>\n",
       "      <td>カナガワケンサガミハラシチュウオウニチョウメ</td>\n",
       "      <td>042-123-4045</td>\n",
       "      <td>139.3716</td>\n",
       "      <td>35.57327</td>\n",
       "      <td>1679.0</td>\n",
       "    </tr>\n",
       "    <tr>\n",
       "      <th>7</th>\n",
       "      <td>S14040</td>\n",
       "      <td>長津田店</td>\n",
       "      <td>14</td>\n",
       "      <td>神奈川県</td>\n",
       "      <td>神奈川県横浜市緑区長津田みなみ台五丁目</td>\n",
       "      <td>カナガワケンヨコハマシミドリクナガツタミナミダイゴチョウメ</td>\n",
       "      <td>045-123-4046</td>\n",
       "      <td>139.4994</td>\n",
       "      <td>35.52398</td>\n",
       "      <td>1548.0</td>\n",
       "    </tr>\n",
       "    <tr>\n",
       "      <th>9</th>\n",
       "      <td>S14050</td>\n",
       "      <td>阿久和西店</td>\n",
       "      <td>14</td>\n",
       "      <td>神奈川県</td>\n",
       "      <td>神奈川県横浜市瀬谷区阿久和西一丁目</td>\n",
       "      <td>カナガワケンヨコハマシセヤクアクワニシイッチョウメ</td>\n",
       "      <td>045-123-4053</td>\n",
       "      <td>139.4961</td>\n",
       "      <td>35.45918</td>\n",
       "      <td>1830.0</td>\n",
       "    </tr>\n",
       "    <tr>\n",
       "      <th>12</th>\n",
       "      <td>S14028</td>\n",
       "      <td>二ツ橋店</td>\n",
       "      <td>14</td>\n",
       "      <td>神奈川県</td>\n",
       "      <td>神奈川県横浜市瀬谷区二ツ橋町</td>\n",
       "      <td>カナガワケンヨコハマシセヤクフタツバシチョウ</td>\n",
       "      <td>045-123-4042</td>\n",
       "      <td>139.4963</td>\n",
       "      <td>35.46304</td>\n",
       "      <td>1574.0</td>\n",
       "    </tr>\n",
       "    <tr>\n",
       "      <th>16</th>\n",
       "      <td>S14012</td>\n",
       "      <td>本牧和田店</td>\n",
       "      <td>14</td>\n",
       "      <td>神奈川県</td>\n",
       "      <td>神奈川県横浜市中区本牧和田</td>\n",
       "      <td>カナガワケンヨコハマシナカクホンモクワダ</td>\n",
       "      <td>045-123-4034</td>\n",
       "      <td>139.6582</td>\n",
       "      <td>35.42156</td>\n",
       "      <td>1341.0</td>\n",
       "    </tr>\n",
       "    <tr>\n",
       "      <th>18</th>\n",
       "      <td>S14046</td>\n",
       "      <td>北山田店</td>\n",
       "      <td>14</td>\n",
       "      <td>神奈川県</td>\n",
       "      <td>神奈川県横浜市都筑区北山田一丁目</td>\n",
       "      <td>カナガワケンヨコハマシツヅキクキタヤマタイッチョウメ</td>\n",
       "      <td>045-123-4049</td>\n",
       "      <td>139.5916</td>\n",
       "      <td>35.56189</td>\n",
       "      <td>831.0</td>\n",
       "    </tr>\n",
       "    <tr>\n",
       "      <th>19</th>\n",
       "      <td>S14022</td>\n",
       "      <td>逗子店</td>\n",
       "      <td>14</td>\n",
       "      <td>神奈川県</td>\n",
       "      <td>神奈川県逗子市逗子一丁目</td>\n",
       "      <td>カナガワケンズシシズシイッチョウメ</td>\n",
       "      <td>046-123-4036</td>\n",
       "      <td>139.5789</td>\n",
       "      <td>35.29642</td>\n",
       "      <td>1838.0</td>\n",
       "    </tr>\n",
       "    <tr>\n",
       "      <th>20</th>\n",
       "      <td>S14011</td>\n",
       "      <td>日吉本町店</td>\n",
       "      <td>14</td>\n",
       "      <td>神奈川県</td>\n",
       "      <td>神奈川県横浜市港北区日吉本町四丁目</td>\n",
       "      <td>カナガワケンヨコハマシコウホククヒヨシホンチョウヨンチョウメ</td>\n",
       "      <td>045-123-4033</td>\n",
       "      <td>139.6316</td>\n",
       "      <td>35.54655</td>\n",
       "      <td>890.0</td>\n",
       "    </tr>\n",
       "  </tbody>\n",
       "</table>\n",
       "</div>"
      ],
      "text/plain": [
       "   store_cd store_name  prefecture_cd  ... longitude  latitude floor_area\n",
       "2    S14010        菊名店             14  ...  139.6326  35.50049     1732.0\n",
       "3    S14033       阿久和店             14  ...  139.4961  35.45918     1495.0\n",
       "4    S14036     相模原中央店             14  ...  139.3716  35.57327     1679.0\n",
       "7    S14040       長津田店             14  ...  139.4994  35.52398     1548.0\n",
       "9    S14050      阿久和西店             14  ...  139.4961  35.45918     1830.0\n",
       "12   S14028       二ツ橋店             14  ...  139.4963  35.46304     1574.0\n",
       "16   S14012      本牧和田店             14  ...  139.6582  35.42156     1341.0\n",
       "18   S14046       北山田店             14  ...  139.5916  35.56189      831.0\n",
       "19   S14022        逗子店             14  ...  139.5789  35.29642     1838.0\n",
       "20   S14011      日吉本町店             14  ...  139.6316  35.54655      890.0\n",
       "\n",
       "[10 rows x 10 columns]"
      ]
     },
     "execution_count": 21,
     "metadata": {
      "tags": []
     },
     "output_type": "execute_result"
    }
   ],
   "source": [
    "df_store.query('store_cd.str.startswith(\"S14\")', engine='python').head(10)"
   ]
  },
  {
   "cell_type": "markdown",
   "metadata": {
    "id": "rZOTvgu0hhx7"
   },
   "source": [
    "---\n",
    "> P-011: 顧客データフレーム（df_customer）から顧客ID（customer_id）の末尾が1のものだけ全項目抽出し、10件だけ表示せよ。"
   ]
  },
  {
   "cell_type": "code",
   "execution_count": null,
   "metadata": {
    "colab": {
     "base_uri": "https://localhost:8080/",
     "height": 736
    },
    "executionInfo": {
     "elapsed": 1167,
     "status": "ok",
     "timestamp": 1601112960224,
     "user": {
      "displayName": "ししぞう",
      "photoUrl": "https://lh3.googleusercontent.com/a-/AOh14GhjLtZCTS59IIEP1zssr09agt_qGp10CwS1J0Pq=s64",
      "userId": "07139038096484400229"
     },
     "user_tz": -540
    },
    "id": "tTJ7JCl_hhx7",
    "outputId": "a232cf17-7b29-4f32-bb44-31903058e47a"
   },
   "outputs": [
    {
     "data": {
      "text/html": [
       "<div>\n",
       "<style scoped>\n",
       "    .dataframe tbody tr th:only-of-type {\n",
       "        vertical-align: middle;\n",
       "    }\n",
       "\n",
       "    .dataframe tbody tr th {\n",
       "        vertical-align: top;\n",
       "    }\n",
       "\n",
       "    .dataframe thead th {\n",
       "        text-align: right;\n",
       "    }\n",
       "</style>\n",
       "<table border=\"1\" class=\"dataframe\">\n",
       "  <thead>\n",
       "    <tr style=\"text-align: right;\">\n",
       "      <th></th>\n",
       "      <th>customer_id</th>\n",
       "      <th>customer_name</th>\n",
       "      <th>gender_cd</th>\n",
       "      <th>gender</th>\n",
       "      <th>birth_day</th>\n",
       "      <th>age</th>\n",
       "      <th>postal_cd</th>\n",
       "      <th>address</th>\n",
       "      <th>application_store_cd</th>\n",
       "      <th>application_date</th>\n",
       "      <th>status_cd</th>\n",
       "    </tr>\n",
       "  </thead>\n",
       "  <tbody>\n",
       "    <tr>\n",
       "      <th>1</th>\n",
       "      <td>CS037613000071</td>\n",
       "      <td>六角 雅彦</td>\n",
       "      <td>9</td>\n",
       "      <td>不明</td>\n",
       "      <td>1952-04-01</td>\n",
       "      <td>66</td>\n",
       "      <td>136-0076</td>\n",
       "      <td>東京都江東区南砂**********</td>\n",
       "      <td>S13037</td>\n",
       "      <td>20150414</td>\n",
       "      <td>0-00000000-0</td>\n",
       "    </tr>\n",
       "    <tr>\n",
       "      <th>3</th>\n",
       "      <td>CS028811000001</td>\n",
       "      <td>堀井 かおり</td>\n",
       "      <td>1</td>\n",
       "      <td>女性</td>\n",
       "      <td>1933-03-27</td>\n",
       "      <td>86</td>\n",
       "      <td>245-0016</td>\n",
       "      <td>神奈川県横浜市泉区和泉町**********</td>\n",
       "      <td>S14028</td>\n",
       "      <td>20160115</td>\n",
       "      <td>0-00000000-0</td>\n",
       "    </tr>\n",
       "    <tr>\n",
       "      <th>14</th>\n",
       "      <td>CS040412000191</td>\n",
       "      <td>川井 郁恵</td>\n",
       "      <td>1</td>\n",
       "      <td>女性</td>\n",
       "      <td>1977-01-05</td>\n",
       "      <td>42</td>\n",
       "      <td>226-0021</td>\n",
       "      <td>神奈川県横浜市緑区北八朔町**********</td>\n",
       "      <td>S14040</td>\n",
       "      <td>20151101</td>\n",
       "      <td>1-20091025-4</td>\n",
       "    </tr>\n",
       "    <tr>\n",
       "      <th>31</th>\n",
       "      <td>CS028314000011</td>\n",
       "      <td>小菅 あおい</td>\n",
       "      <td>1</td>\n",
       "      <td>女性</td>\n",
       "      <td>1983-11-26</td>\n",
       "      <td>35</td>\n",
       "      <td>246-0038</td>\n",
       "      <td>神奈川県横浜市瀬谷区宮沢**********</td>\n",
       "      <td>S14028</td>\n",
       "      <td>20151123</td>\n",
       "      <td>1-20080426-5</td>\n",
       "    </tr>\n",
       "    <tr>\n",
       "      <th>56</th>\n",
       "      <td>CS039212000051</td>\n",
       "      <td>藤島 恵梨香</td>\n",
       "      <td>1</td>\n",
       "      <td>女性</td>\n",
       "      <td>1997-02-03</td>\n",
       "      <td>22</td>\n",
       "      <td>166-0001</td>\n",
       "      <td>東京都杉並区阿佐谷北**********</td>\n",
       "      <td>S13039</td>\n",
       "      <td>20171121</td>\n",
       "      <td>1-20100215-4</td>\n",
       "    </tr>\n",
       "    <tr>\n",
       "      <th>59</th>\n",
       "      <td>CS015412000111</td>\n",
       "      <td>松居 奈月</td>\n",
       "      <td>1</td>\n",
       "      <td>女性</td>\n",
       "      <td>1972-10-04</td>\n",
       "      <td>46</td>\n",
       "      <td>136-0071</td>\n",
       "      <td>東京都江東区亀戸**********</td>\n",
       "      <td>S13015</td>\n",
       "      <td>20150629</td>\n",
       "      <td>0-00000000-0</td>\n",
       "    </tr>\n",
       "    <tr>\n",
       "      <th>63</th>\n",
       "      <td>CS004702000041</td>\n",
       "      <td>野島 洋</td>\n",
       "      <td>0</td>\n",
       "      <td>男性</td>\n",
       "      <td>1943-08-24</td>\n",
       "      <td>75</td>\n",
       "      <td>176-0022</td>\n",
       "      <td>東京都練馬区向山**********</td>\n",
       "      <td>S13004</td>\n",
       "      <td>20170218</td>\n",
       "      <td>0-00000000-0</td>\n",
       "    </tr>\n",
       "    <tr>\n",
       "      <th>74</th>\n",
       "      <td>CS041515000001</td>\n",
       "      <td>栗田 千夏</td>\n",
       "      <td>1</td>\n",
       "      <td>女性</td>\n",
       "      <td>1967-01-02</td>\n",
       "      <td>52</td>\n",
       "      <td>206-0001</td>\n",
       "      <td>東京都多摩市和田**********</td>\n",
       "      <td>S13041</td>\n",
       "      <td>20160422</td>\n",
       "      <td>E-20100803-F</td>\n",
       "    </tr>\n",
       "    <tr>\n",
       "      <th>85</th>\n",
       "      <td>CS029313000221</td>\n",
       "      <td>北条 ひかり</td>\n",
       "      <td>1</td>\n",
       "      <td>女性</td>\n",
       "      <td>1987-06-19</td>\n",
       "      <td>31</td>\n",
       "      <td>279-0011</td>\n",
       "      <td>千葉県浦安市美浜**********</td>\n",
       "      <td>S12029</td>\n",
       "      <td>20180810</td>\n",
       "      <td>0-00000000-0</td>\n",
       "    </tr>\n",
       "    <tr>\n",
       "      <th>102</th>\n",
       "      <td>CS034312000071</td>\n",
       "      <td>望月 奈央</td>\n",
       "      <td>1</td>\n",
       "      <td>女性</td>\n",
       "      <td>1980-09-20</td>\n",
       "      <td>38</td>\n",
       "      <td>213-0026</td>\n",
       "      <td>神奈川県川崎市高津区久末**********</td>\n",
       "      <td>S14034</td>\n",
       "      <td>20160106</td>\n",
       "      <td>0-00000000-0</td>\n",
       "    </tr>\n",
       "  </tbody>\n",
       "</table>\n",
       "</div>"
      ],
      "text/plain": [
       "        customer_id customer_name  ...  application_date     status_cd\n",
       "1    CS037613000071         六角 雅彦  ...          20150414  0-00000000-0\n",
       "3    CS028811000001        堀井 かおり  ...          20160115  0-00000000-0\n",
       "14   CS040412000191         川井 郁恵  ...          20151101  1-20091025-4\n",
       "31   CS028314000011        小菅 あおい  ...          20151123  1-20080426-5\n",
       "56   CS039212000051        藤島 恵梨香  ...          20171121  1-20100215-4\n",
       "59   CS015412000111         松居 奈月  ...          20150629  0-00000000-0\n",
       "63   CS004702000041          野島 洋  ...          20170218  0-00000000-0\n",
       "74   CS041515000001         栗田 千夏  ...          20160422  E-20100803-F\n",
       "85   CS029313000221        北条 ひかり  ...          20180810  0-00000000-0\n",
       "102  CS034312000071         望月 奈央  ...          20160106  0-00000000-0\n",
       "\n",
       "[10 rows x 11 columns]"
      ]
     },
     "execution_count": 22,
     "metadata": {
      "tags": []
     },
     "output_type": "execute_result"
    }
   ],
   "source": [
    "df_customer[df_customer['customer_id'].str.endswith('1')].head(10)"
   ]
  },
  {
   "cell_type": "markdown",
   "metadata": {
    "id": "rZR7bxyYhhx9"
   },
   "source": [
    "---\n",
    "> P-012: 店舗データフレーム（df_store）から横浜市の店舗だけ全項目表示せよ。"
   ]
  },
  {
   "cell_type": "code",
   "execution_count": null,
   "metadata": {
    "colab": {
     "base_uri": "https://localhost:8080/",
     "height": 1000
    },
    "executionInfo": {
     "elapsed": 1546,
     "status": "ok",
     "timestamp": 1601112967917,
     "user": {
      "displayName": "ししぞう",
      "photoUrl": "https://lh3.googleusercontent.com/a-/AOh14GhjLtZCTS59IIEP1zssr09agt_qGp10CwS1J0Pq=s64",
      "userId": "07139038096484400229"
     },
     "user_tz": -540
    },
    "id": "Yvqzxpskhhx9",
    "outputId": "b3a8d946-e1f6-4690-ad4c-384d961d5498"
   },
   "outputs": [
    {
     "data": {
      "text/html": [
       "<div>\n",
       "<style scoped>\n",
       "    .dataframe tbody tr th:only-of-type {\n",
       "        vertical-align: middle;\n",
       "    }\n",
       "\n",
       "    .dataframe tbody tr th {\n",
       "        vertical-align: top;\n",
       "    }\n",
       "\n",
       "    .dataframe thead th {\n",
       "        text-align: right;\n",
       "    }\n",
       "</style>\n",
       "<table border=\"1\" class=\"dataframe\">\n",
       "  <thead>\n",
       "    <tr style=\"text-align: right;\">\n",
       "      <th></th>\n",
       "      <th>store_cd</th>\n",
       "      <th>store_name</th>\n",
       "      <th>prefecture_cd</th>\n",
       "      <th>prefecture</th>\n",
       "      <th>address</th>\n",
       "      <th>address_kana</th>\n",
       "      <th>tel_no</th>\n",
       "      <th>longitude</th>\n",
       "      <th>latitude</th>\n",
       "      <th>floor_area</th>\n",
       "    </tr>\n",
       "  </thead>\n",
       "  <tbody>\n",
       "    <tr>\n",
       "      <th>2</th>\n",
       "      <td>S14010</td>\n",
       "      <td>菊名店</td>\n",
       "      <td>14</td>\n",
       "      <td>神奈川県</td>\n",
       "      <td>神奈川県横浜市港北区菊名一丁目</td>\n",
       "      <td>カナガワケンヨコハマシコウホククキクナイッチョウメ</td>\n",
       "      <td>045-123-4032</td>\n",
       "      <td>139.6326</td>\n",
       "      <td>35.50049</td>\n",
       "      <td>1732.0</td>\n",
       "    </tr>\n",
       "    <tr>\n",
       "      <th>3</th>\n",
       "      <td>S14033</td>\n",
       "      <td>阿久和店</td>\n",
       "      <td>14</td>\n",
       "      <td>神奈川県</td>\n",
       "      <td>神奈川県横浜市瀬谷区阿久和西一丁目</td>\n",
       "      <td>カナガワケンヨコハマシセヤクアクワニシイッチョウメ</td>\n",
       "      <td>045-123-4043</td>\n",
       "      <td>139.4961</td>\n",
       "      <td>35.45918</td>\n",
       "      <td>1495.0</td>\n",
       "    </tr>\n",
       "    <tr>\n",
       "      <th>7</th>\n",
       "      <td>S14040</td>\n",
       "      <td>長津田店</td>\n",
       "      <td>14</td>\n",
       "      <td>神奈川県</td>\n",
       "      <td>神奈川県横浜市緑区長津田みなみ台五丁目</td>\n",
       "      <td>カナガワケンヨコハマシミドリクナガツタミナミダイゴチョウメ</td>\n",
       "      <td>045-123-4046</td>\n",
       "      <td>139.4994</td>\n",
       "      <td>35.52398</td>\n",
       "      <td>1548.0</td>\n",
       "    </tr>\n",
       "    <tr>\n",
       "      <th>9</th>\n",
       "      <td>S14050</td>\n",
       "      <td>阿久和西店</td>\n",
       "      <td>14</td>\n",
       "      <td>神奈川県</td>\n",
       "      <td>神奈川県横浜市瀬谷区阿久和西一丁目</td>\n",
       "      <td>カナガワケンヨコハマシセヤクアクワニシイッチョウメ</td>\n",
       "      <td>045-123-4053</td>\n",
       "      <td>139.4961</td>\n",
       "      <td>35.45918</td>\n",
       "      <td>1830.0</td>\n",
       "    </tr>\n",
       "    <tr>\n",
       "      <th>12</th>\n",
       "      <td>S14028</td>\n",
       "      <td>二ツ橋店</td>\n",
       "      <td>14</td>\n",
       "      <td>神奈川県</td>\n",
       "      <td>神奈川県横浜市瀬谷区二ツ橋町</td>\n",
       "      <td>カナガワケンヨコハマシセヤクフタツバシチョウ</td>\n",
       "      <td>045-123-4042</td>\n",
       "      <td>139.4963</td>\n",
       "      <td>35.46304</td>\n",
       "      <td>1574.0</td>\n",
       "    </tr>\n",
       "    <tr>\n",
       "      <th>16</th>\n",
       "      <td>S14012</td>\n",
       "      <td>本牧和田店</td>\n",
       "      <td>14</td>\n",
       "      <td>神奈川県</td>\n",
       "      <td>神奈川県横浜市中区本牧和田</td>\n",
       "      <td>カナガワケンヨコハマシナカクホンモクワダ</td>\n",
       "      <td>045-123-4034</td>\n",
       "      <td>139.6582</td>\n",
       "      <td>35.42156</td>\n",
       "      <td>1341.0</td>\n",
       "    </tr>\n",
       "    <tr>\n",
       "      <th>18</th>\n",
       "      <td>S14046</td>\n",
       "      <td>北山田店</td>\n",
       "      <td>14</td>\n",
       "      <td>神奈川県</td>\n",
       "      <td>神奈川県横浜市都筑区北山田一丁目</td>\n",
       "      <td>カナガワケンヨコハマシツヅキクキタヤマタイッチョウメ</td>\n",
       "      <td>045-123-4049</td>\n",
       "      <td>139.5916</td>\n",
       "      <td>35.56189</td>\n",
       "      <td>831.0</td>\n",
       "    </tr>\n",
       "    <tr>\n",
       "      <th>20</th>\n",
       "      <td>S14011</td>\n",
       "      <td>日吉本町店</td>\n",
       "      <td>14</td>\n",
       "      <td>神奈川県</td>\n",
       "      <td>神奈川県横浜市港北区日吉本町四丁目</td>\n",
       "      <td>カナガワケンヨコハマシコウホククヒヨシホンチョウヨンチョウメ</td>\n",
       "      <td>045-123-4033</td>\n",
       "      <td>139.6316</td>\n",
       "      <td>35.54655</td>\n",
       "      <td>890.0</td>\n",
       "    </tr>\n",
       "    <tr>\n",
       "      <th>26</th>\n",
       "      <td>S14048</td>\n",
       "      <td>中川中央店</td>\n",
       "      <td>14</td>\n",
       "      <td>神奈川県</td>\n",
       "      <td>神奈川県横浜市都筑区中川中央二丁目</td>\n",
       "      <td>カナガワケンヨコハマシツヅキクナカガワチュウオウニチョウメ</td>\n",
       "      <td>045-123-4051</td>\n",
       "      <td>139.5758</td>\n",
       "      <td>35.54912</td>\n",
       "      <td>1657.0</td>\n",
       "    </tr>\n",
       "    <tr>\n",
       "      <th>40</th>\n",
       "      <td>S14042</td>\n",
       "      <td>新山下店</td>\n",
       "      <td>14</td>\n",
       "      <td>神奈川県</td>\n",
       "      <td>神奈川県横浜市中区新山下二丁目</td>\n",
       "      <td>カナガワケンヨコハマシナカクシンヤマシタニチョウメ</td>\n",
       "      <td>045-123-4047</td>\n",
       "      <td>139.6593</td>\n",
       "      <td>35.43894</td>\n",
       "      <td>1044.0</td>\n",
       "    </tr>\n",
       "    <tr>\n",
       "      <th>52</th>\n",
       "      <td>S14006</td>\n",
       "      <td>葛が谷店</td>\n",
       "      <td>14</td>\n",
       "      <td>神奈川県</td>\n",
       "      <td>神奈川県横浜市都筑区葛が谷</td>\n",
       "      <td>カナガワケンヨコハマシツヅキククズガヤ</td>\n",
       "      <td>045-123-4031</td>\n",
       "      <td>139.5633</td>\n",
       "      <td>35.53573</td>\n",
       "      <td>1886.0</td>\n",
       "    </tr>\n",
       "  </tbody>\n",
       "</table>\n",
       "</div>"
      ],
      "text/plain": [
       "   store_cd store_name  prefecture_cd  ... longitude  latitude floor_area\n",
       "2    S14010        菊名店             14  ...  139.6326  35.50049     1732.0\n",
       "3    S14033       阿久和店             14  ...  139.4961  35.45918     1495.0\n",
       "7    S14040       長津田店             14  ...  139.4994  35.52398     1548.0\n",
       "9    S14050      阿久和西店             14  ...  139.4961  35.45918     1830.0\n",
       "12   S14028       二ツ橋店             14  ...  139.4963  35.46304     1574.0\n",
       "16   S14012      本牧和田店             14  ...  139.6582  35.42156     1341.0\n",
       "18   S14046       北山田店             14  ...  139.5916  35.56189      831.0\n",
       "20   S14011      日吉本町店             14  ...  139.6316  35.54655      890.0\n",
       "26   S14048      中川中央店             14  ...  139.5758  35.54912     1657.0\n",
       "40   S14042       新山下店             14  ...  139.6593  35.43894     1044.0\n",
       "52   S14006       葛が谷店             14  ...  139.5633  35.53573     1886.0\n",
       "\n",
       "[11 rows x 10 columns]"
      ]
     },
     "execution_count": 23,
     "metadata": {
      "tags": []
     },
     "output_type": "execute_result"
    }
   ],
   "source": [
    "df_store[df_store['address'].str.contains('横浜市')]"
   ]
  },
  {
   "cell_type": "markdown",
   "metadata": {
    "id": "6J8QsPb9hhx_"
   },
   "source": [
    "---\n",
    "> P-013: 顧客データフレーム（df_customer）から、ステータスコード（status_cd）の先頭がアルファベットのA〜Fで始まるデータを全項目抽出し、10件だけ表示せよ。"
   ]
  },
  {
   "cell_type": "code",
   "execution_count": null,
   "metadata": {
    "colab": {
     "base_uri": "https://localhost:8080/",
     "height": 358
    },
    "executionInfo": {
     "elapsed": 782,
     "status": "ok",
     "timestamp": 1599878688610,
     "user": {
      "displayName": "ししぞう",
      "photoUrl": "https://lh3.googleusercontent.com/a-/AOh14GhjLtZCTS59IIEP1zssr09agt_qGp10CwS1J0Pq=s64",
      "userId": "07139038096484400229"
     },
     "user_tz": -540
    },
    "id": "ZBA2t0BThhx_",
    "outputId": "93ef56d6-d6f6-48e9-844b-ff3fc17ac592"
   },
   "outputs": [
    {
     "data": {
      "text/html": [
       "<div>\n",
       "<style scoped>\n",
       "    .dataframe tbody tr th:only-of-type {\n",
       "        vertical-align: middle;\n",
       "    }\n",
       "\n",
       "    .dataframe tbody tr th {\n",
       "        vertical-align: top;\n",
       "    }\n",
       "\n",
       "    .dataframe thead th {\n",
       "        text-align: right;\n",
       "    }\n",
       "</style>\n",
       "<table border=\"1\" class=\"dataframe\">\n",
       "  <thead>\n",
       "    <tr style=\"text-align: right;\">\n",
       "      <th></th>\n",
       "      <th>customer_id</th>\n",
       "      <th>customer_name</th>\n",
       "      <th>gender_cd</th>\n",
       "      <th>gender</th>\n",
       "      <th>birth_day</th>\n",
       "      <th>age</th>\n",
       "      <th>postal_cd</th>\n",
       "      <th>address</th>\n",
       "      <th>application_store_cd</th>\n",
       "      <th>application_date</th>\n",
       "      <th>status_cd</th>\n",
       "    </tr>\n",
       "  </thead>\n",
       "  <tbody>\n",
       "    <tr>\n",
       "      <th>2</th>\n",
       "      <td>CS031415000172</td>\n",
       "      <td>宇多田 貴美子</td>\n",
       "      <td>1</td>\n",
       "      <td>女性</td>\n",
       "      <td>1976-10-04</td>\n",
       "      <td>42</td>\n",
       "      <td>151-0053</td>\n",
       "      <td>東京都渋谷区代々木**********</td>\n",
       "      <td>S13031</td>\n",
       "      <td>20150529</td>\n",
       "      <td>D-20100325-C</td>\n",
       "    </tr>\n",
       "    <tr>\n",
       "      <th>6</th>\n",
       "      <td>CS015414000103</td>\n",
       "      <td>奥野 陽子</td>\n",
       "      <td>1</td>\n",
       "      <td>女性</td>\n",
       "      <td>1977-08-09</td>\n",
       "      <td>41</td>\n",
       "      <td>136-0073</td>\n",
       "      <td>東京都江東区北砂**********</td>\n",
       "      <td>S13015</td>\n",
       "      <td>20150722</td>\n",
       "      <td>B-20100609-B</td>\n",
       "    </tr>\n",
       "    <tr>\n",
       "      <th>12</th>\n",
       "      <td>CS011215000048</td>\n",
       "      <td>芦田 沙耶</td>\n",
       "      <td>1</td>\n",
       "      <td>女性</td>\n",
       "      <td>1992-02-01</td>\n",
       "      <td>27</td>\n",
       "      <td>223-0062</td>\n",
       "      <td>神奈川県横浜市港北区日吉本町**********</td>\n",
       "      <td>S14011</td>\n",
       "      <td>20150228</td>\n",
       "      <td>C-20100421-9</td>\n",
       "    </tr>\n",
       "    <tr>\n",
       "      <th>15</th>\n",
       "      <td>CS029415000023</td>\n",
       "      <td>梅田 里穂</td>\n",
       "      <td>1</td>\n",
       "      <td>女性</td>\n",
       "      <td>1976-01-17</td>\n",
       "      <td>43</td>\n",
       "      <td>279-0043</td>\n",
       "      <td>千葉県浦安市富士見**********</td>\n",
       "      <td>S12029</td>\n",
       "      <td>20150610</td>\n",
       "      <td>D-20100918-E</td>\n",
       "    </tr>\n",
       "    <tr>\n",
       "      <th>21</th>\n",
       "      <td>CS035415000029</td>\n",
       "      <td>寺沢 真希</td>\n",
       "      <td>9</td>\n",
       "      <td>不明</td>\n",
       "      <td>1977-09-27</td>\n",
       "      <td>41</td>\n",
       "      <td>158-0096</td>\n",
       "      <td>東京都世田谷区玉川台**********</td>\n",
       "      <td>S13035</td>\n",
       "      <td>20141220</td>\n",
       "      <td>F-20101029-F</td>\n",
       "    </tr>\n",
       "    <tr>\n",
       "      <th>32</th>\n",
       "      <td>CS031415000106</td>\n",
       "      <td>宇野 由美子</td>\n",
       "      <td>1</td>\n",
       "      <td>女性</td>\n",
       "      <td>1970-02-26</td>\n",
       "      <td>49</td>\n",
       "      <td>151-0053</td>\n",
       "      <td>東京都渋谷区代々木**********</td>\n",
       "      <td>S13031</td>\n",
       "      <td>20150201</td>\n",
       "      <td>F-20100511-E</td>\n",
       "    </tr>\n",
       "    <tr>\n",
       "      <th>33</th>\n",
       "      <td>CS029215000025</td>\n",
       "      <td>石倉 美帆</td>\n",
       "      <td>1</td>\n",
       "      <td>女性</td>\n",
       "      <td>1993-09-28</td>\n",
       "      <td>25</td>\n",
       "      <td>279-0022</td>\n",
       "      <td>千葉県浦安市今川**********</td>\n",
       "      <td>S12029</td>\n",
       "      <td>20150708</td>\n",
       "      <td>B-20100820-C</td>\n",
       "    </tr>\n",
       "    <tr>\n",
       "      <th>40</th>\n",
       "      <td>CS033605000005</td>\n",
       "      <td>猪股 雄太</td>\n",
       "      <td>0</td>\n",
       "      <td>男性</td>\n",
       "      <td>1955-12-05</td>\n",
       "      <td>63</td>\n",
       "      <td>246-0031</td>\n",
       "      <td>神奈川県横浜市瀬谷区瀬谷**********</td>\n",
       "      <td>S14033</td>\n",
       "      <td>20150425</td>\n",
       "      <td>F-20100917-E</td>\n",
       "    </tr>\n",
       "    <tr>\n",
       "      <th>44</th>\n",
       "      <td>CS033415000229</td>\n",
       "      <td>板垣 菜々美</td>\n",
       "      <td>1</td>\n",
       "      <td>女性</td>\n",
       "      <td>1977-11-07</td>\n",
       "      <td>41</td>\n",
       "      <td>246-0021</td>\n",
       "      <td>神奈川県横浜市瀬谷区二ツ橋町**********</td>\n",
       "      <td>S14033</td>\n",
       "      <td>20150712</td>\n",
       "      <td>F-20100326-E</td>\n",
       "    </tr>\n",
       "    <tr>\n",
       "      <th>53</th>\n",
       "      <td>CS008415000145</td>\n",
       "      <td>黒谷 麻緒</td>\n",
       "      <td>1</td>\n",
       "      <td>女性</td>\n",
       "      <td>1977-06-27</td>\n",
       "      <td>41</td>\n",
       "      <td>157-0067</td>\n",
       "      <td>東京都世田谷区喜多見**********</td>\n",
       "      <td>S13008</td>\n",
       "      <td>20150829</td>\n",
       "      <td>F-20100622-F</td>\n",
       "    </tr>\n",
       "  </tbody>\n",
       "</table>\n",
       "</div>"
      ],
      "text/plain": [
       "       customer_id customer_name  ...  application_date     status_cd\n",
       "2   CS031415000172       宇多田 貴美子  ...          20150529  D-20100325-C\n",
       "6   CS015414000103         奥野 陽子  ...          20150722  B-20100609-B\n",
       "12  CS011215000048         芦田 沙耶  ...          20150228  C-20100421-9\n",
       "15  CS029415000023         梅田 里穂  ...          20150610  D-20100918-E\n",
       "21  CS035415000029         寺沢 真希  ...          20141220  F-20101029-F\n",
       "32  CS031415000106        宇野 由美子  ...          20150201  F-20100511-E\n",
       "33  CS029215000025         石倉 美帆  ...          20150708  B-20100820-C\n",
       "40  CS033605000005         猪股 雄太  ...          20150425  F-20100917-E\n",
       "44  CS033415000229        板垣 菜々美  ...          20150712  F-20100326-E\n",
       "53  CS008415000145         黒谷 麻緒  ...          20150829  F-20100622-F\n",
       "\n",
       "[10 rows x 11 columns]"
      ]
     },
     "execution_count": 59,
     "metadata": {
      "tags": []
     },
     "output_type": "execute_result"
    }
   ],
   "source": [
    "df_customer[df_customer['status_cd'].str.match(r\"^[A-F]\")]"
   ]
  },
  {
   "cell_type": "markdown",
   "metadata": {
    "id": "4rPUMBu_hhyB"
   },
   "source": [
    "---\n",
    "> P-014: 顧客データフレーム（df_customer）から、ステータスコード（status_cd）の末尾が数字の1〜9で終わるデータを全項目抽出し、10件だけ表示せよ。"
   ]
  },
  {
   "cell_type": "code",
   "execution_count": null,
   "metadata": {
    "colab": {
     "base_uri": "https://localhost:8080/",
     "height": 770
    },
    "executionInfo": {
     "elapsed": 982,
     "status": "ok",
     "timestamp": 1601112989303,
     "user": {
      "displayName": "ししぞう",
      "photoUrl": "https://lh3.googleusercontent.com/a-/AOh14GhjLtZCTS59IIEP1zssr09agt_qGp10CwS1J0Pq=s64",
      "userId": "07139038096484400229"
     },
     "user_tz": -540
    },
    "id": "0U8WSbn1hhyB",
    "outputId": "d9a02104-1408-42da-af21-32d9094b67a0"
   },
   "outputs": [
    {
     "data": {
      "text/html": [
       "<div>\n",
       "<style scoped>\n",
       "    .dataframe tbody tr th:only-of-type {\n",
       "        vertical-align: middle;\n",
       "    }\n",
       "\n",
       "    .dataframe tbody tr th {\n",
       "        vertical-align: top;\n",
       "    }\n",
       "\n",
       "    .dataframe thead th {\n",
       "        text-align: right;\n",
       "    }\n",
       "</style>\n",
       "<table border=\"1\" class=\"dataframe\">\n",
       "  <thead>\n",
       "    <tr style=\"text-align: right;\">\n",
       "      <th></th>\n",
       "      <th>customer_id</th>\n",
       "      <th>customer_name</th>\n",
       "      <th>gender_cd</th>\n",
       "      <th>gender</th>\n",
       "      <th>birth_day</th>\n",
       "      <th>age</th>\n",
       "      <th>postal_cd</th>\n",
       "      <th>address</th>\n",
       "      <th>application_store_cd</th>\n",
       "      <th>application_date</th>\n",
       "      <th>status_cd</th>\n",
       "    </tr>\n",
       "  </thead>\n",
       "  <tbody>\n",
       "    <tr>\n",
       "      <th>4</th>\n",
       "      <td>CS001215000145</td>\n",
       "      <td>田崎 美紀</td>\n",
       "      <td>1</td>\n",
       "      <td>女性</td>\n",
       "      <td>1995-03-29</td>\n",
       "      <td>24</td>\n",
       "      <td>144-0055</td>\n",
       "      <td>東京都大田区仲六郷**********</td>\n",
       "      <td>S13001</td>\n",
       "      <td>20170605</td>\n",
       "      <td>6-20090929-2</td>\n",
       "    </tr>\n",
       "    <tr>\n",
       "      <th>9</th>\n",
       "      <td>CS033513000180</td>\n",
       "      <td>安斎 遥</td>\n",
       "      <td>1</td>\n",
       "      <td>女性</td>\n",
       "      <td>1962-07-11</td>\n",
       "      <td>56</td>\n",
       "      <td>241-0823</td>\n",
       "      <td>神奈川県横浜市旭区善部町**********</td>\n",
       "      <td>S14033</td>\n",
       "      <td>20150728</td>\n",
       "      <td>6-20080506-5</td>\n",
       "    </tr>\n",
       "    <tr>\n",
       "      <th>12</th>\n",
       "      <td>CS011215000048</td>\n",
       "      <td>芦田 沙耶</td>\n",
       "      <td>1</td>\n",
       "      <td>女性</td>\n",
       "      <td>1992-02-01</td>\n",
       "      <td>27</td>\n",
       "      <td>223-0062</td>\n",
       "      <td>神奈川県横浜市港北区日吉本町**********</td>\n",
       "      <td>S14011</td>\n",
       "      <td>20150228</td>\n",
       "      <td>C-20100421-9</td>\n",
       "    </tr>\n",
       "    <tr>\n",
       "      <th>14</th>\n",
       "      <td>CS040412000191</td>\n",
       "      <td>川井 郁恵</td>\n",
       "      <td>1</td>\n",
       "      <td>女性</td>\n",
       "      <td>1977-01-05</td>\n",
       "      <td>42</td>\n",
       "      <td>226-0021</td>\n",
       "      <td>神奈川県横浜市緑区北八朔町**********</td>\n",
       "      <td>S14040</td>\n",
       "      <td>20151101</td>\n",
       "      <td>1-20091025-4</td>\n",
       "    </tr>\n",
       "    <tr>\n",
       "      <th>16</th>\n",
       "      <td>CS009315000023</td>\n",
       "      <td>皆川 文世</td>\n",
       "      <td>1</td>\n",
       "      <td>女性</td>\n",
       "      <td>1980-04-15</td>\n",
       "      <td>38</td>\n",
       "      <td>154-0012</td>\n",
       "      <td>東京都世田谷区駒沢**********</td>\n",
       "      <td>S13009</td>\n",
       "      <td>20150319</td>\n",
       "      <td>5-20080322-1</td>\n",
       "    </tr>\n",
       "    <tr>\n",
       "      <th>22</th>\n",
       "      <td>CS015315000033</td>\n",
       "      <td>福士 璃奈子</td>\n",
       "      <td>1</td>\n",
       "      <td>女性</td>\n",
       "      <td>1983-03-17</td>\n",
       "      <td>36</td>\n",
       "      <td>135-0043</td>\n",
       "      <td>東京都江東区塩浜**********</td>\n",
       "      <td>S13015</td>\n",
       "      <td>20141024</td>\n",
       "      <td>4-20080219-3</td>\n",
       "    </tr>\n",
       "    <tr>\n",
       "      <th>23</th>\n",
       "      <td>CS023513000066</td>\n",
       "      <td>神戸 そら</td>\n",
       "      <td>1</td>\n",
       "      <td>女性</td>\n",
       "      <td>1961-12-17</td>\n",
       "      <td>57</td>\n",
       "      <td>210-0005</td>\n",
       "      <td>神奈川県川崎市川崎区東田町**********</td>\n",
       "      <td>S14023</td>\n",
       "      <td>20150915</td>\n",
       "      <td>5-20100524-9</td>\n",
       "    </tr>\n",
       "    <tr>\n",
       "      <th>24</th>\n",
       "      <td>CS035513000134</td>\n",
       "      <td>市川 美帆</td>\n",
       "      <td>1</td>\n",
       "      <td>女性</td>\n",
       "      <td>1960-03-27</td>\n",
       "      <td>59</td>\n",
       "      <td>156-0053</td>\n",
       "      <td>東京都世田谷区桜**********</td>\n",
       "      <td>S13035</td>\n",
       "      <td>20150227</td>\n",
       "      <td>8-20100711-9</td>\n",
       "    </tr>\n",
       "    <tr>\n",
       "      <th>27</th>\n",
       "      <td>CS001515000263</td>\n",
       "      <td>高松 夏空</td>\n",
       "      <td>1</td>\n",
       "      <td>女性</td>\n",
       "      <td>1962-11-09</td>\n",
       "      <td>56</td>\n",
       "      <td>144-0051</td>\n",
       "      <td>東京都大田区西蒲田**********</td>\n",
       "      <td>S13001</td>\n",
       "      <td>20160812</td>\n",
       "      <td>1-20100804-1</td>\n",
       "    </tr>\n",
       "    <tr>\n",
       "      <th>28</th>\n",
       "      <td>CS040314000027</td>\n",
       "      <td>鶴田 きみまろ</td>\n",
       "      <td>9</td>\n",
       "      <td>不明</td>\n",
       "      <td>1986-03-26</td>\n",
       "      <td>33</td>\n",
       "      <td>226-0027</td>\n",
       "      <td>神奈川県横浜市緑区長津田**********</td>\n",
       "      <td>S14040</td>\n",
       "      <td>20150122</td>\n",
       "      <td>2-20080426-4</td>\n",
       "    </tr>\n",
       "  </tbody>\n",
       "</table>\n",
       "</div>"
      ],
      "text/plain": [
       "       customer_id customer_name  ...  application_date     status_cd\n",
       "4   CS001215000145         田崎 美紀  ...          20170605  6-20090929-2\n",
       "9   CS033513000180          安斎 遥  ...          20150728  6-20080506-5\n",
       "12  CS011215000048         芦田 沙耶  ...          20150228  C-20100421-9\n",
       "14  CS040412000191         川井 郁恵  ...          20151101  1-20091025-4\n",
       "16  CS009315000023         皆川 文世  ...          20150319  5-20080322-1\n",
       "22  CS015315000033        福士 璃奈子  ...          20141024  4-20080219-3\n",
       "23  CS023513000066         神戸 そら  ...          20150915  5-20100524-9\n",
       "24  CS035513000134         市川 美帆  ...          20150227  8-20100711-9\n",
       "27  CS001515000263         高松 夏空  ...          20160812  1-20100804-1\n",
       "28  CS040314000027       鶴田 きみまろ  ...          20150122  2-20080426-4\n",
       "\n",
       "[10 rows x 11 columns]"
      ]
     },
     "execution_count": 24,
     "metadata": {
      "tags": []
     },
     "output_type": "execute_result"
    }
   ],
   "source": [
    "df_customer[df_customer['status_cd'].str.contains(r\"[1-9]$\")].head(10)"
   ]
  },
  {
   "cell_type": "code",
   "execution_count": null,
   "metadata": {
    "colab": {
     "base_uri": "https://localhost:8080/",
     "height": 770
    },
    "executionInfo": {
     "elapsed": 936,
     "status": "ok",
     "timestamp": 1601112996137,
     "user": {
      "displayName": "ししぞう",
      "photoUrl": "https://lh3.googleusercontent.com/a-/AOh14GhjLtZCTS59IIEP1zssr09agt_qGp10CwS1J0Pq=s64",
      "userId": "07139038096484400229"
     },
     "user_tz": -540
    },
    "id": "irdFe9UVOp4J",
    "outputId": "c480676c-1eda-43de-e110-431df85a9736"
   },
   "outputs": [
    {
     "data": {
      "text/html": [
       "<div>\n",
       "<style scoped>\n",
       "    .dataframe tbody tr th:only-of-type {\n",
       "        vertical-align: middle;\n",
       "    }\n",
       "\n",
       "    .dataframe tbody tr th {\n",
       "        vertical-align: top;\n",
       "    }\n",
       "\n",
       "    .dataframe thead th {\n",
       "        text-align: right;\n",
       "    }\n",
       "</style>\n",
       "<table border=\"1\" class=\"dataframe\">\n",
       "  <thead>\n",
       "    <tr style=\"text-align: right;\">\n",
       "      <th></th>\n",
       "      <th>customer_id</th>\n",
       "      <th>customer_name</th>\n",
       "      <th>gender_cd</th>\n",
       "      <th>gender</th>\n",
       "      <th>birth_day</th>\n",
       "      <th>age</th>\n",
       "      <th>postal_cd</th>\n",
       "      <th>address</th>\n",
       "      <th>application_store_cd</th>\n",
       "      <th>application_date</th>\n",
       "      <th>status_cd</th>\n",
       "    </tr>\n",
       "  </thead>\n",
       "  <tbody>\n",
       "    <tr>\n",
       "      <th>4</th>\n",
       "      <td>CS001215000145</td>\n",
       "      <td>田崎 美紀</td>\n",
       "      <td>1</td>\n",
       "      <td>女性</td>\n",
       "      <td>1995-03-29</td>\n",
       "      <td>24</td>\n",
       "      <td>144-0055</td>\n",
       "      <td>東京都大田区仲六郷**********</td>\n",
       "      <td>S13001</td>\n",
       "      <td>20170605</td>\n",
       "      <td>6-20090929-2</td>\n",
       "    </tr>\n",
       "    <tr>\n",
       "      <th>9</th>\n",
       "      <td>CS033513000180</td>\n",
       "      <td>安斎 遥</td>\n",
       "      <td>1</td>\n",
       "      <td>女性</td>\n",
       "      <td>1962-07-11</td>\n",
       "      <td>56</td>\n",
       "      <td>241-0823</td>\n",
       "      <td>神奈川県横浜市旭区善部町**********</td>\n",
       "      <td>S14033</td>\n",
       "      <td>20150728</td>\n",
       "      <td>6-20080506-5</td>\n",
       "    </tr>\n",
       "    <tr>\n",
       "      <th>12</th>\n",
       "      <td>CS011215000048</td>\n",
       "      <td>芦田 沙耶</td>\n",
       "      <td>1</td>\n",
       "      <td>女性</td>\n",
       "      <td>1992-02-01</td>\n",
       "      <td>27</td>\n",
       "      <td>223-0062</td>\n",
       "      <td>神奈川県横浜市港北区日吉本町**********</td>\n",
       "      <td>S14011</td>\n",
       "      <td>20150228</td>\n",
       "      <td>C-20100421-9</td>\n",
       "    </tr>\n",
       "    <tr>\n",
       "      <th>14</th>\n",
       "      <td>CS040412000191</td>\n",
       "      <td>川井 郁恵</td>\n",
       "      <td>1</td>\n",
       "      <td>女性</td>\n",
       "      <td>1977-01-05</td>\n",
       "      <td>42</td>\n",
       "      <td>226-0021</td>\n",
       "      <td>神奈川県横浜市緑区北八朔町**********</td>\n",
       "      <td>S14040</td>\n",
       "      <td>20151101</td>\n",
       "      <td>1-20091025-4</td>\n",
       "    </tr>\n",
       "    <tr>\n",
       "      <th>16</th>\n",
       "      <td>CS009315000023</td>\n",
       "      <td>皆川 文世</td>\n",
       "      <td>1</td>\n",
       "      <td>女性</td>\n",
       "      <td>1980-04-15</td>\n",
       "      <td>38</td>\n",
       "      <td>154-0012</td>\n",
       "      <td>東京都世田谷区駒沢**********</td>\n",
       "      <td>S13009</td>\n",
       "      <td>20150319</td>\n",
       "      <td>5-20080322-1</td>\n",
       "    </tr>\n",
       "    <tr>\n",
       "      <th>22</th>\n",
       "      <td>CS015315000033</td>\n",
       "      <td>福士 璃奈子</td>\n",
       "      <td>1</td>\n",
       "      <td>女性</td>\n",
       "      <td>1983-03-17</td>\n",
       "      <td>36</td>\n",
       "      <td>135-0043</td>\n",
       "      <td>東京都江東区塩浜**********</td>\n",
       "      <td>S13015</td>\n",
       "      <td>20141024</td>\n",
       "      <td>4-20080219-3</td>\n",
       "    </tr>\n",
       "    <tr>\n",
       "      <th>23</th>\n",
       "      <td>CS023513000066</td>\n",
       "      <td>神戸 そら</td>\n",
       "      <td>1</td>\n",
       "      <td>女性</td>\n",
       "      <td>1961-12-17</td>\n",
       "      <td>57</td>\n",
       "      <td>210-0005</td>\n",
       "      <td>神奈川県川崎市川崎区東田町**********</td>\n",
       "      <td>S14023</td>\n",
       "      <td>20150915</td>\n",
       "      <td>5-20100524-9</td>\n",
       "    </tr>\n",
       "    <tr>\n",
       "      <th>24</th>\n",
       "      <td>CS035513000134</td>\n",
       "      <td>市川 美帆</td>\n",
       "      <td>1</td>\n",
       "      <td>女性</td>\n",
       "      <td>1960-03-27</td>\n",
       "      <td>59</td>\n",
       "      <td>156-0053</td>\n",
       "      <td>東京都世田谷区桜**********</td>\n",
       "      <td>S13035</td>\n",
       "      <td>20150227</td>\n",
       "      <td>8-20100711-9</td>\n",
       "    </tr>\n",
       "    <tr>\n",
       "      <th>27</th>\n",
       "      <td>CS001515000263</td>\n",
       "      <td>高松 夏空</td>\n",
       "      <td>1</td>\n",
       "      <td>女性</td>\n",
       "      <td>1962-11-09</td>\n",
       "      <td>56</td>\n",
       "      <td>144-0051</td>\n",
       "      <td>東京都大田区西蒲田**********</td>\n",
       "      <td>S13001</td>\n",
       "      <td>20160812</td>\n",
       "      <td>1-20100804-1</td>\n",
       "    </tr>\n",
       "    <tr>\n",
       "      <th>28</th>\n",
       "      <td>CS040314000027</td>\n",
       "      <td>鶴田 きみまろ</td>\n",
       "      <td>9</td>\n",
       "      <td>不明</td>\n",
       "      <td>1986-03-26</td>\n",
       "      <td>33</td>\n",
       "      <td>226-0027</td>\n",
       "      <td>神奈川県横浜市緑区長津田**********</td>\n",
       "      <td>S14040</td>\n",
       "      <td>20150122</td>\n",
       "      <td>2-20080426-4</td>\n",
       "    </tr>\n",
       "  </tbody>\n",
       "</table>\n",
       "</div>"
      ],
      "text/plain": [
       "       customer_id customer_name  ...  application_date     status_cd\n",
       "4   CS001215000145         田崎 美紀  ...          20170605  6-20090929-2\n",
       "9   CS033513000180          安斎 遥  ...          20150728  6-20080506-5\n",
       "12  CS011215000048         芦田 沙耶  ...          20150228  C-20100421-9\n",
       "14  CS040412000191         川井 郁恵  ...          20151101  1-20091025-4\n",
       "16  CS009315000023         皆川 文世  ...          20150319  5-20080322-1\n",
       "22  CS015315000033        福士 璃奈子  ...          20141024  4-20080219-3\n",
       "23  CS023513000066         神戸 そら  ...          20150915  5-20100524-9\n",
       "24  CS035513000134         市川 美帆  ...          20150227  8-20100711-9\n",
       "27  CS001515000263         高松 夏空  ...          20160812  1-20100804-1\n",
       "28  CS040314000027       鶴田 きみまろ  ...          20150122  2-20080426-4\n",
       "\n",
       "[10 rows x 11 columns]"
      ]
     },
     "execution_count": 25,
     "metadata": {
      "tags": []
     },
     "output_type": "execute_result"
    }
   ],
   "source": [
    "df_customer[df_customer['status_cd'].str.match(r\".*[1-9]$\")].head(10)"
   ]
  },
  {
   "cell_type": "markdown",
   "metadata": {
    "id": "0Jx471rjhhyD"
   },
   "source": [
    "---\n",
    "> P-015: 顧客データフレーム（df_customer）から、ステータスコード（status_cd）の先頭がアルファベットのA〜Fで始まり、末尾が数字の1〜9で終わるデータを全項目抽出し、10件だけ表示せよ。"
   ]
  },
  {
   "cell_type": "code",
   "execution_count": null,
   "metadata": {
    "colab": {
     "base_uri": "https://localhost:8080/",
     "height": 358
    },
    "executionInfo": {
     "elapsed": 1112,
     "status": "ok",
     "timestamp": 1601113117467,
     "user": {
      "displayName": "ししぞう",
      "photoUrl": "https://lh3.googleusercontent.com/a-/AOh14GhjLtZCTS59IIEP1zssr09agt_qGp10CwS1J0Pq=s64",
      "userId": "07139038096484400229"
     },
     "user_tz": -540
    },
    "id": "QuiyjScHhhyD",
    "outputId": "f6186b8b-0958-44f2-bddd-84971ab044c2"
   },
   "outputs": [
    {
     "data": {
      "text/html": [
       "<div>\n",
       "<style scoped>\n",
       "    .dataframe tbody tr th:only-of-type {\n",
       "        vertical-align: middle;\n",
       "    }\n",
       "\n",
       "    .dataframe tbody tr th {\n",
       "        vertical-align: top;\n",
       "    }\n",
       "\n",
       "    .dataframe thead th {\n",
       "        text-align: right;\n",
       "    }\n",
       "</style>\n",
       "<table border=\"1\" class=\"dataframe\">\n",
       "  <thead>\n",
       "    <tr style=\"text-align: right;\">\n",
       "      <th></th>\n",
       "      <th>customer_id</th>\n",
       "      <th>customer_name</th>\n",
       "      <th>gender_cd</th>\n",
       "      <th>gender</th>\n",
       "      <th>birth_day</th>\n",
       "      <th>age</th>\n",
       "      <th>postal_cd</th>\n",
       "      <th>address</th>\n",
       "      <th>application_store_cd</th>\n",
       "      <th>application_date</th>\n",
       "      <th>status_cd</th>\n",
       "    </tr>\n",
       "  </thead>\n",
       "  <tbody>\n",
       "    <tr>\n",
       "      <th>12</th>\n",
       "      <td>CS011215000048</td>\n",
       "      <td>芦田 沙耶</td>\n",
       "      <td>1</td>\n",
       "      <td>女性</td>\n",
       "      <td>1992-02-01</td>\n",
       "      <td>27</td>\n",
       "      <td>223-0062</td>\n",
       "      <td>神奈川県横浜市港北区日吉本町**********</td>\n",
       "      <td>S14011</td>\n",
       "      <td>20150228</td>\n",
       "      <td>C-20100421-9</td>\n",
       "    </tr>\n",
       "    <tr>\n",
       "      <th>68</th>\n",
       "      <td>CS022513000105</td>\n",
       "      <td>島村 貴美子</td>\n",
       "      <td>1</td>\n",
       "      <td>女性</td>\n",
       "      <td>1962-03-12</td>\n",
       "      <td>57</td>\n",
       "      <td>249-0002</td>\n",
       "      <td>神奈川県逗子市山の根**********</td>\n",
       "      <td>S14022</td>\n",
       "      <td>20150320</td>\n",
       "      <td>A-20091115-7</td>\n",
       "    </tr>\n",
       "    <tr>\n",
       "      <th>71</th>\n",
       "      <td>CS001515000096</td>\n",
       "      <td>水野 陽子</td>\n",
       "      <td>9</td>\n",
       "      <td>不明</td>\n",
       "      <td>1960-11-29</td>\n",
       "      <td>58</td>\n",
       "      <td>144-0053</td>\n",
       "      <td>東京都大田区蒲田本町**********</td>\n",
       "      <td>S13001</td>\n",
       "      <td>20150614</td>\n",
       "      <td>A-20100724-7</td>\n",
       "    </tr>\n",
       "    <tr>\n",
       "      <th>122</th>\n",
       "      <td>CS013615000053</td>\n",
       "      <td>西脇 季衣</td>\n",
       "      <td>1</td>\n",
       "      <td>女性</td>\n",
       "      <td>1953-10-18</td>\n",
       "      <td>65</td>\n",
       "      <td>261-0026</td>\n",
       "      <td>千葉県千葉市美浜区幕張西**********</td>\n",
       "      <td>S12013</td>\n",
       "      <td>20150128</td>\n",
       "      <td>B-20100329-6</td>\n",
       "    </tr>\n",
       "    <tr>\n",
       "      <th>144</th>\n",
       "      <td>CS020412000161</td>\n",
       "      <td>小宮 薫</td>\n",
       "      <td>1</td>\n",
       "      <td>女性</td>\n",
       "      <td>1974-05-21</td>\n",
       "      <td>44</td>\n",
       "      <td>174-0042</td>\n",
       "      <td>東京都板橋区東坂下**********</td>\n",
       "      <td>S13020</td>\n",
       "      <td>20150822</td>\n",
       "      <td>B-20081021-3</td>\n",
       "    </tr>\n",
       "    <tr>\n",
       "      <th>178</th>\n",
       "      <td>CS001215000097</td>\n",
       "      <td>竹中 あさみ</td>\n",
       "      <td>1</td>\n",
       "      <td>女性</td>\n",
       "      <td>1990-07-25</td>\n",
       "      <td>28</td>\n",
       "      <td>146-0095</td>\n",
       "      <td>東京都大田区多摩川**********</td>\n",
       "      <td>S13001</td>\n",
       "      <td>20170315</td>\n",
       "      <td>A-20100211-2</td>\n",
       "    </tr>\n",
       "    <tr>\n",
       "      <th>252</th>\n",
       "      <td>CS035212000007</td>\n",
       "      <td>内村 恵梨香</td>\n",
       "      <td>1</td>\n",
       "      <td>女性</td>\n",
       "      <td>1990-12-04</td>\n",
       "      <td>28</td>\n",
       "      <td>152-0023</td>\n",
       "      <td>東京都目黒区八雲**********</td>\n",
       "      <td>S13035</td>\n",
       "      <td>20151013</td>\n",
       "      <td>B-20101018-6</td>\n",
       "    </tr>\n",
       "    <tr>\n",
       "      <th>259</th>\n",
       "      <td>CS002515000386</td>\n",
       "      <td>野田 コウ</td>\n",
       "      <td>1</td>\n",
       "      <td>女性</td>\n",
       "      <td>1963-05-30</td>\n",
       "      <td>55</td>\n",
       "      <td>185-0013</td>\n",
       "      <td>東京都国分寺市西恋ケ窪**********</td>\n",
       "      <td>S13002</td>\n",
       "      <td>20160410</td>\n",
       "      <td>C-20100127-8</td>\n",
       "    </tr>\n",
       "    <tr>\n",
       "      <th>293</th>\n",
       "      <td>CS001615000372</td>\n",
       "      <td>稲垣 寿々花</td>\n",
       "      <td>1</td>\n",
       "      <td>女性</td>\n",
       "      <td>1956-10-29</td>\n",
       "      <td>62</td>\n",
       "      <td>144-0035</td>\n",
       "      <td>東京都大田区南蒲田**********</td>\n",
       "      <td>S13001</td>\n",
       "      <td>20170403</td>\n",
       "      <td>A-20100104-1</td>\n",
       "    </tr>\n",
       "    <tr>\n",
       "      <th>297</th>\n",
       "      <td>CS032512000121</td>\n",
       "      <td>松井 知世</td>\n",
       "      <td>1</td>\n",
       "      <td>女性</td>\n",
       "      <td>1962-09-04</td>\n",
       "      <td>56</td>\n",
       "      <td>210-0011</td>\n",
       "      <td>神奈川県川崎市川崎区富士見**********</td>\n",
       "      <td>S13032</td>\n",
       "      <td>20150727</td>\n",
       "      <td>A-20100103-5</td>\n",
       "    </tr>\n",
       "  </tbody>\n",
       "</table>\n",
       "</div>"
      ],
      "text/plain": [
       "        customer_id customer_name  ...  application_date     status_cd\n",
       "12   CS011215000048         芦田 沙耶  ...          20150228  C-20100421-9\n",
       "68   CS022513000105        島村 貴美子  ...          20150320  A-20091115-7\n",
       "71   CS001515000096         水野 陽子  ...          20150614  A-20100724-7\n",
       "122  CS013615000053         西脇 季衣  ...          20150128  B-20100329-6\n",
       "144  CS020412000161          小宮 薫  ...          20150822  B-20081021-3\n",
       "178  CS001215000097        竹中 あさみ  ...          20170315  A-20100211-2\n",
       "252  CS035212000007        内村 恵梨香  ...          20151013  B-20101018-6\n",
       "259  CS002515000386         野田 コウ  ...          20160410  C-20100127-8\n",
       "293  CS001615000372        稲垣 寿々花  ...          20170403  A-20100104-1\n",
       "297  CS032512000121         松井 知世  ...          20150727  A-20100103-5\n",
       "\n",
       "[10 rows x 11 columns]"
      ]
     },
     "execution_count": 27,
     "metadata": {
      "tags": []
     },
     "output_type": "execute_result"
    }
   ],
   "source": [
    "df_customer[df_customer['status_cd'].str.match(r\"^[A-F].*[1-9]$\")].head(10)"
   ]
  },
  {
   "cell_type": "markdown",
   "metadata": {
    "id": "48UCinEUhhyF"
   },
   "source": [
    "---\n",
    "> P-016: 店舗データフレーム（df_store）から、電話番号（tel_no）が3桁-3桁-4桁のデータを全項目表示せよ。"
   ]
  },
  {
   "cell_type": "code",
   "execution_count": null,
   "metadata": {
    "colab": {
     "base_uri": "https://localhost:8080/",
     "height": 1000
    },
    "executionInfo": {
     "elapsed": 999,
     "status": "ok",
     "timestamp": 1601113389531,
     "user": {
      "displayName": "ししぞう",
      "photoUrl": "https://lh3.googleusercontent.com/a-/AOh14GhjLtZCTS59IIEP1zssr09agt_qGp10CwS1J0Pq=s64",
      "userId": "07139038096484400229"
     },
     "user_tz": -540
    },
    "id": "SrA3BoD5hhyF",
    "outputId": "298cd0c8-5a31-4268-e56f-1950c7938e3f"
   },
   "outputs": [
    {
     "data": {
      "text/html": [
       "<div>\n",
       "<style scoped>\n",
       "    .dataframe tbody tr th:only-of-type {\n",
       "        vertical-align: middle;\n",
       "    }\n",
       "\n",
       "    .dataframe tbody tr th {\n",
       "        vertical-align: top;\n",
       "    }\n",
       "\n",
       "    .dataframe thead th {\n",
       "        text-align: right;\n",
       "    }\n",
       "</style>\n",
       "<table border=\"1\" class=\"dataframe\">\n",
       "  <thead>\n",
       "    <tr style=\"text-align: right;\">\n",
       "      <th></th>\n",
       "      <th>store_cd</th>\n",
       "      <th>store_name</th>\n",
       "      <th>prefecture_cd</th>\n",
       "      <th>prefecture</th>\n",
       "      <th>address</th>\n",
       "      <th>address_kana</th>\n",
       "      <th>tel_no</th>\n",
       "      <th>longitude</th>\n",
       "      <th>latitude</th>\n",
       "      <th>floor_area</th>\n",
       "    </tr>\n",
       "  </thead>\n",
       "  <tbody>\n",
       "    <tr>\n",
       "      <th>0</th>\n",
       "      <td>S12014</td>\n",
       "      <td>千草台店</td>\n",
       "      <td>12</td>\n",
       "      <td>千葉県</td>\n",
       "      <td>千葉県千葉市稲毛区千草台一丁目</td>\n",
       "      <td>チバケンチバシイナゲクチグサダイイッチョウメ</td>\n",
       "      <td>043-123-4003</td>\n",
       "      <td>140.1180</td>\n",
       "      <td>35.63559</td>\n",
       "      <td>1698.0</td>\n",
       "    </tr>\n",
       "    <tr>\n",
       "      <th>1</th>\n",
       "      <td>S13002</td>\n",
       "      <td>国分寺店</td>\n",
       "      <td>13</td>\n",
       "      <td>東京都</td>\n",
       "      <td>東京都国分寺市本多二丁目</td>\n",
       "      <td>トウキョウトコクブンジシホンダニチョウメ</td>\n",
       "      <td>042-123-4008</td>\n",
       "      <td>139.4802</td>\n",
       "      <td>35.70566</td>\n",
       "      <td>1735.0</td>\n",
       "    </tr>\n",
       "    <tr>\n",
       "      <th>2</th>\n",
       "      <td>S14010</td>\n",
       "      <td>菊名店</td>\n",
       "      <td>14</td>\n",
       "      <td>神奈川県</td>\n",
       "      <td>神奈川県横浜市港北区菊名一丁目</td>\n",
       "      <td>カナガワケンヨコハマシコウホククキクナイッチョウメ</td>\n",
       "      <td>045-123-4032</td>\n",
       "      <td>139.6326</td>\n",
       "      <td>35.50049</td>\n",
       "      <td>1732.0</td>\n",
       "    </tr>\n",
       "    <tr>\n",
       "      <th>3</th>\n",
       "      <td>S14033</td>\n",
       "      <td>阿久和店</td>\n",
       "      <td>14</td>\n",
       "      <td>神奈川県</td>\n",
       "      <td>神奈川県横浜市瀬谷区阿久和西一丁目</td>\n",
       "      <td>カナガワケンヨコハマシセヤクアクワニシイッチョウメ</td>\n",
       "      <td>045-123-4043</td>\n",
       "      <td>139.4961</td>\n",
       "      <td>35.45918</td>\n",
       "      <td>1495.0</td>\n",
       "    </tr>\n",
       "    <tr>\n",
       "      <th>4</th>\n",
       "      <td>S14036</td>\n",
       "      <td>相模原中央店</td>\n",
       "      <td>14</td>\n",
       "      <td>神奈川県</td>\n",
       "      <td>神奈川県相模原市中央二丁目</td>\n",
       "      <td>カナガワケンサガミハラシチュウオウニチョウメ</td>\n",
       "      <td>042-123-4045</td>\n",
       "      <td>139.3716</td>\n",
       "      <td>35.57327</td>\n",
       "      <td>1679.0</td>\n",
       "    </tr>\n",
       "    <tr>\n",
       "      <th>7</th>\n",
       "      <td>S14040</td>\n",
       "      <td>長津田店</td>\n",
       "      <td>14</td>\n",
       "      <td>神奈川県</td>\n",
       "      <td>神奈川県横浜市緑区長津田みなみ台五丁目</td>\n",
       "      <td>カナガワケンヨコハマシミドリクナガツタミナミダイゴチョウメ</td>\n",
       "      <td>045-123-4046</td>\n",
       "      <td>139.4994</td>\n",
       "      <td>35.52398</td>\n",
       "      <td>1548.0</td>\n",
       "    </tr>\n",
       "    <tr>\n",
       "      <th>9</th>\n",
       "      <td>S14050</td>\n",
       "      <td>阿久和西店</td>\n",
       "      <td>14</td>\n",
       "      <td>神奈川県</td>\n",
       "      <td>神奈川県横浜市瀬谷区阿久和西一丁目</td>\n",
       "      <td>カナガワケンヨコハマシセヤクアクワニシイッチョウメ</td>\n",
       "      <td>045-123-4053</td>\n",
       "      <td>139.4961</td>\n",
       "      <td>35.45918</td>\n",
       "      <td>1830.0</td>\n",
       "    </tr>\n",
       "    <tr>\n",
       "      <th>11</th>\n",
       "      <td>S13052</td>\n",
       "      <td>森野店</td>\n",
       "      <td>13</td>\n",
       "      <td>東京都</td>\n",
       "      <td>東京都町田市森野三丁目</td>\n",
       "      <td>トウキョウトマチダシモリノサンチョウメ</td>\n",
       "      <td>042-123-4030</td>\n",
       "      <td>139.4383</td>\n",
       "      <td>35.55293</td>\n",
       "      <td>1087.0</td>\n",
       "    </tr>\n",
       "    <tr>\n",
       "      <th>12</th>\n",
       "      <td>S14028</td>\n",
       "      <td>二ツ橋店</td>\n",
       "      <td>14</td>\n",
       "      <td>神奈川県</td>\n",
       "      <td>神奈川県横浜市瀬谷区二ツ橋町</td>\n",
       "      <td>カナガワケンヨコハマシセヤクフタツバシチョウ</td>\n",
       "      <td>045-123-4042</td>\n",
       "      <td>139.4963</td>\n",
       "      <td>35.46304</td>\n",
       "      <td>1574.0</td>\n",
       "    </tr>\n",
       "    <tr>\n",
       "      <th>16</th>\n",
       "      <td>S14012</td>\n",
       "      <td>本牧和田店</td>\n",
       "      <td>14</td>\n",
       "      <td>神奈川県</td>\n",
       "      <td>神奈川県横浜市中区本牧和田</td>\n",
       "      <td>カナガワケンヨコハマシナカクホンモクワダ</td>\n",
       "      <td>045-123-4034</td>\n",
       "      <td>139.6582</td>\n",
       "      <td>35.42156</td>\n",
       "      <td>1341.0</td>\n",
       "    </tr>\n",
       "    <tr>\n",
       "      <th>18</th>\n",
       "      <td>S14046</td>\n",
       "      <td>北山田店</td>\n",
       "      <td>14</td>\n",
       "      <td>神奈川県</td>\n",
       "      <td>神奈川県横浜市都筑区北山田一丁目</td>\n",
       "      <td>カナガワケンヨコハマシツヅキクキタヤマタイッチョウメ</td>\n",
       "      <td>045-123-4049</td>\n",
       "      <td>139.5916</td>\n",
       "      <td>35.56189</td>\n",
       "      <td>831.0</td>\n",
       "    </tr>\n",
       "    <tr>\n",
       "      <th>19</th>\n",
       "      <td>S14022</td>\n",
       "      <td>逗子店</td>\n",
       "      <td>14</td>\n",
       "      <td>神奈川県</td>\n",
       "      <td>神奈川県逗子市逗子一丁目</td>\n",
       "      <td>カナガワケンズシシズシイッチョウメ</td>\n",
       "      <td>046-123-4036</td>\n",
       "      <td>139.5789</td>\n",
       "      <td>35.29642</td>\n",
       "      <td>1838.0</td>\n",
       "    </tr>\n",
       "    <tr>\n",
       "      <th>20</th>\n",
       "      <td>S14011</td>\n",
       "      <td>日吉本町店</td>\n",
       "      <td>14</td>\n",
       "      <td>神奈川県</td>\n",
       "      <td>神奈川県横浜市港北区日吉本町四丁目</td>\n",
       "      <td>カナガワケンヨコハマシコウホククヒヨシホンチョウヨンチョウメ</td>\n",
       "      <td>045-123-4033</td>\n",
       "      <td>139.6316</td>\n",
       "      <td>35.54655</td>\n",
       "      <td>890.0</td>\n",
       "    </tr>\n",
       "    <tr>\n",
       "      <th>21</th>\n",
       "      <td>S13016</td>\n",
       "      <td>小金井店</td>\n",
       "      <td>13</td>\n",
       "      <td>東京都</td>\n",
       "      <td>東京都小金井市本町一丁目</td>\n",
       "      <td>トウキョウトコガネイシホンチョウイッチョウメ</td>\n",
       "      <td>042-123-4015</td>\n",
       "      <td>139.5094</td>\n",
       "      <td>35.70018</td>\n",
       "      <td>1399.0</td>\n",
       "    </tr>\n",
       "    <tr>\n",
       "      <th>22</th>\n",
       "      <td>S14034</td>\n",
       "      <td>川崎野川店</td>\n",
       "      <td>14</td>\n",
       "      <td>神奈川県</td>\n",
       "      <td>神奈川県川崎市宮前区野川</td>\n",
       "      <td>カナガワケンカワサキシミヤマエクノガワ</td>\n",
       "      <td>044-123-4044</td>\n",
       "      <td>139.5998</td>\n",
       "      <td>35.57693</td>\n",
       "      <td>1318.0</td>\n",
       "    </tr>\n",
       "    <tr>\n",
       "      <th>26</th>\n",
       "      <td>S14048</td>\n",
       "      <td>中川中央店</td>\n",
       "      <td>14</td>\n",
       "      <td>神奈川県</td>\n",
       "      <td>神奈川県横浜市都筑区中川中央二丁目</td>\n",
       "      <td>カナガワケンヨコハマシツヅキクナカガワチュウオウニチョウメ</td>\n",
       "      <td>045-123-4051</td>\n",
       "      <td>139.5758</td>\n",
       "      <td>35.54912</td>\n",
       "      <td>1657.0</td>\n",
       "    </tr>\n",
       "    <tr>\n",
       "      <th>27</th>\n",
       "      <td>S12007</td>\n",
       "      <td>佐倉店</td>\n",
       "      <td>12</td>\n",
       "      <td>千葉県</td>\n",
       "      <td>千葉県佐倉市上志津</td>\n",
       "      <td>チバケンサクラシカミシヅ</td>\n",
       "      <td>043-123-4001</td>\n",
       "      <td>140.1452</td>\n",
       "      <td>35.71872</td>\n",
       "      <td>1895.0</td>\n",
       "    </tr>\n",
       "    <tr>\n",
       "      <th>28</th>\n",
       "      <td>S14026</td>\n",
       "      <td>辻堂西海岸店</td>\n",
       "      <td>14</td>\n",
       "      <td>神奈川県</td>\n",
       "      <td>神奈川県藤沢市辻堂西海岸二丁目</td>\n",
       "      <td>カナガワケンフジサワシツジドウニシカイガンニチョウメ</td>\n",
       "      <td>046-123-4040</td>\n",
       "      <td>139.4466</td>\n",
       "      <td>35.32464</td>\n",
       "      <td>1732.0</td>\n",
       "    </tr>\n",
       "    <tr>\n",
       "      <th>29</th>\n",
       "      <td>S13041</td>\n",
       "      <td>八王子店</td>\n",
       "      <td>13</td>\n",
       "      <td>東京都</td>\n",
       "      <td>東京都八王子市大塚</td>\n",
       "      <td>トウキョウトハチオウジシオオツカ</td>\n",
       "      <td>042-123-4026</td>\n",
       "      <td>139.4235</td>\n",
       "      <td>35.63787</td>\n",
       "      <td>810.0</td>\n",
       "    </tr>\n",
       "    <tr>\n",
       "      <th>31</th>\n",
       "      <td>S14049</td>\n",
       "      <td>川崎大師店</td>\n",
       "      <td>14</td>\n",
       "      <td>神奈川県</td>\n",
       "      <td>神奈川県川崎市川崎区中瀬三丁目</td>\n",
       "      <td>カナガワケンカワサキシカワサキクナカゼサンチョウメ</td>\n",
       "      <td>044-123-4052</td>\n",
       "      <td>139.7327</td>\n",
       "      <td>35.53759</td>\n",
       "      <td>962.0</td>\n",
       "    </tr>\n",
       "    <tr>\n",
       "      <th>32</th>\n",
       "      <td>S14023</td>\n",
       "      <td>川崎店</td>\n",
       "      <td>14</td>\n",
       "      <td>神奈川県</td>\n",
       "      <td>神奈川県川崎市川崎区本町二丁目</td>\n",
       "      <td>カナガワケンカワサキシカワサキクホンチョウニチョウメ</td>\n",
       "      <td>044-123-4037</td>\n",
       "      <td>139.7028</td>\n",
       "      <td>35.53599</td>\n",
       "      <td>1804.0</td>\n",
       "    </tr>\n",
       "    <tr>\n",
       "      <th>33</th>\n",
       "      <td>S13018</td>\n",
       "      <td>清瀬店</td>\n",
       "      <td>13</td>\n",
       "      <td>東京都</td>\n",
       "      <td>東京都清瀬市松山一丁目</td>\n",
       "      <td>トウキョウトキヨセシマツヤマイッチョウメ</td>\n",
       "      <td>042-123-4017</td>\n",
       "      <td>139.5178</td>\n",
       "      <td>35.76885</td>\n",
       "      <td>1220.0</td>\n",
       "    </tr>\n",
       "    <tr>\n",
       "      <th>35</th>\n",
       "      <td>S14027</td>\n",
       "      <td>南藤沢店</td>\n",
       "      <td>14</td>\n",
       "      <td>神奈川県</td>\n",
       "      <td>神奈川県藤沢市南藤沢</td>\n",
       "      <td>カナガワケンフジサワシミナミフジサワ</td>\n",
       "      <td>046-123-4041</td>\n",
       "      <td>139.4896</td>\n",
       "      <td>35.33762</td>\n",
       "      <td>1521.0</td>\n",
       "    </tr>\n",
       "    <tr>\n",
       "      <th>36</th>\n",
       "      <td>S14021</td>\n",
       "      <td>伊勢原店</td>\n",
       "      <td>14</td>\n",
       "      <td>神奈川県</td>\n",
       "      <td>神奈川県伊勢原市伊勢原四丁目</td>\n",
       "      <td>カナガワケンイセハラシイセハラヨンチョウメ</td>\n",
       "      <td>046-123-4035</td>\n",
       "      <td>139.3129</td>\n",
       "      <td>35.40169</td>\n",
       "      <td>962.0</td>\n",
       "    </tr>\n",
       "    <tr>\n",
       "      <th>37</th>\n",
       "      <td>S14047</td>\n",
       "      <td>相模原店</td>\n",
       "      <td>14</td>\n",
       "      <td>神奈川県</td>\n",
       "      <td>神奈川県相模原市千代田六丁目</td>\n",
       "      <td>カナガワケンサガミハラシチヨダロクチョウメ</td>\n",
       "      <td>042-123-4050</td>\n",
       "      <td>139.3748</td>\n",
       "      <td>35.55959</td>\n",
       "      <td>1047.0</td>\n",
       "    </tr>\n",
       "    <tr>\n",
       "      <th>38</th>\n",
       "      <td>S12013</td>\n",
       "      <td>習志野店</td>\n",
       "      <td>12</td>\n",
       "      <td>千葉県</td>\n",
       "      <td>千葉県習志野市芝園一丁目</td>\n",
       "      <td>チバケンナラシノシシバゾノイッチョウメ</td>\n",
       "      <td>047-123-4002</td>\n",
       "      <td>140.0220</td>\n",
       "      <td>35.66122</td>\n",
       "      <td>808.0</td>\n",
       "    </tr>\n",
       "    <tr>\n",
       "      <th>40</th>\n",
       "      <td>S14042</td>\n",
       "      <td>新山下店</td>\n",
       "      <td>14</td>\n",
       "      <td>神奈川県</td>\n",
       "      <td>神奈川県横浜市中区新山下二丁目</td>\n",
       "      <td>カナガワケンヨコハマシナカクシンヤマシタニチョウメ</td>\n",
       "      <td>045-123-4047</td>\n",
       "      <td>139.6593</td>\n",
       "      <td>35.43894</td>\n",
       "      <td>1044.0</td>\n",
       "    </tr>\n",
       "    <tr>\n",
       "      <th>42</th>\n",
       "      <td>S12030</td>\n",
       "      <td>八幡店</td>\n",
       "      <td>12</td>\n",
       "      <td>千葉県</td>\n",
       "      <td>千葉県市川市八幡三丁目</td>\n",
       "      <td>チバケンイチカワシヤワタサンチョウメ</td>\n",
       "      <td>047-123-4005</td>\n",
       "      <td>139.9240</td>\n",
       "      <td>35.72318</td>\n",
       "      <td>1162.0</td>\n",
       "    </tr>\n",
       "    <tr>\n",
       "      <th>44</th>\n",
       "      <td>S14025</td>\n",
       "      <td>大和店</td>\n",
       "      <td>14</td>\n",
       "      <td>神奈川県</td>\n",
       "      <td>神奈川県大和市下和田</td>\n",
       "      <td>カナガワケンヤマトシシモワダ</td>\n",
       "      <td>046-123-4039</td>\n",
       "      <td>139.4680</td>\n",
       "      <td>35.43414</td>\n",
       "      <td>1011.0</td>\n",
       "    </tr>\n",
       "    <tr>\n",
       "      <th>45</th>\n",
       "      <td>S14045</td>\n",
       "      <td>厚木店</td>\n",
       "      <td>14</td>\n",
       "      <td>神奈川県</td>\n",
       "      <td>神奈川県厚木市中町二丁目</td>\n",
       "      <td>カナガワケンアツギシナカチョウニチョウメ</td>\n",
       "      <td>046-123-4048</td>\n",
       "      <td>139.3651</td>\n",
       "      <td>35.44182</td>\n",
       "      <td>980.0</td>\n",
       "    </tr>\n",
       "    <tr>\n",
       "      <th>47</th>\n",
       "      <td>S12029</td>\n",
       "      <td>東野店</td>\n",
       "      <td>12</td>\n",
       "      <td>千葉県</td>\n",
       "      <td>千葉県浦安市東野一丁目</td>\n",
       "      <td>チバケンウラヤスシヒガシノイッチョウメ</td>\n",
       "      <td>047-123-4004</td>\n",
       "      <td>139.8968</td>\n",
       "      <td>35.65086</td>\n",
       "      <td>1101.0</td>\n",
       "    </tr>\n",
       "    <tr>\n",
       "      <th>49</th>\n",
       "      <td>S12053</td>\n",
       "      <td>高洲店</td>\n",
       "      <td>12</td>\n",
       "      <td>千葉県</td>\n",
       "      <td>千葉県浦安市高洲五丁目</td>\n",
       "      <td>チバケンウラヤスシタカスゴチョウメ</td>\n",
       "      <td>047-123-4006</td>\n",
       "      <td>139.9176</td>\n",
       "      <td>35.63755</td>\n",
       "      <td>1555.0</td>\n",
       "    </tr>\n",
       "    <tr>\n",
       "      <th>51</th>\n",
       "      <td>S14024</td>\n",
       "      <td>三田店</td>\n",
       "      <td>14</td>\n",
       "      <td>神奈川県</td>\n",
       "      <td>神奈川県川崎市多摩区三田四丁目</td>\n",
       "      <td>カナガワケンカワサキシタマクミタヨンチョウメ</td>\n",
       "      <td>044-123-4038</td>\n",
       "      <td>139.5424</td>\n",
       "      <td>35.60770</td>\n",
       "      <td>972.0</td>\n",
       "    </tr>\n",
       "    <tr>\n",
       "      <th>52</th>\n",
       "      <td>S14006</td>\n",
       "      <td>葛が谷店</td>\n",
       "      <td>14</td>\n",
       "      <td>神奈川県</td>\n",
       "      <td>神奈川県横浜市都筑区葛が谷</td>\n",
       "      <td>カナガワケンヨコハマシツヅキククズガヤ</td>\n",
       "      <td>045-123-4031</td>\n",
       "      <td>139.5633</td>\n",
       "      <td>35.53573</td>\n",
       "      <td>1886.0</td>\n",
       "    </tr>\n",
       "  </tbody>\n",
       "</table>\n",
       "</div>"
      ],
      "text/plain": [
       "   store_cd store_name  prefecture_cd  ... longitude  latitude floor_area\n",
       "0    S12014       千草台店             12  ...  140.1180  35.63559     1698.0\n",
       "1    S13002       国分寺店             13  ...  139.4802  35.70566     1735.0\n",
       "2    S14010        菊名店             14  ...  139.6326  35.50049     1732.0\n",
       "3    S14033       阿久和店             14  ...  139.4961  35.45918     1495.0\n",
       "4    S14036     相模原中央店             14  ...  139.3716  35.57327     1679.0\n",
       "7    S14040       長津田店             14  ...  139.4994  35.52398     1548.0\n",
       "9    S14050      阿久和西店             14  ...  139.4961  35.45918     1830.0\n",
       "11   S13052        森野店             13  ...  139.4383  35.55293     1087.0\n",
       "12   S14028       二ツ橋店             14  ...  139.4963  35.46304     1574.0\n",
       "16   S14012      本牧和田店             14  ...  139.6582  35.42156     1341.0\n",
       "18   S14046       北山田店             14  ...  139.5916  35.56189      831.0\n",
       "19   S14022        逗子店             14  ...  139.5789  35.29642     1838.0\n",
       "20   S14011      日吉本町店             14  ...  139.6316  35.54655      890.0\n",
       "21   S13016       小金井店             13  ...  139.5094  35.70018     1399.0\n",
       "22   S14034      川崎野川店             14  ...  139.5998  35.57693     1318.0\n",
       "26   S14048      中川中央店             14  ...  139.5758  35.54912     1657.0\n",
       "27   S12007        佐倉店             12  ...  140.1452  35.71872     1895.0\n",
       "28   S14026     辻堂西海岸店             14  ...  139.4466  35.32464     1732.0\n",
       "29   S13041       八王子店             13  ...  139.4235  35.63787      810.0\n",
       "31   S14049      川崎大師店             14  ...  139.7327  35.53759      962.0\n",
       "32   S14023        川崎店             14  ...  139.7028  35.53599     1804.0\n",
       "33   S13018        清瀬店             13  ...  139.5178  35.76885     1220.0\n",
       "35   S14027       南藤沢店             14  ...  139.4896  35.33762     1521.0\n",
       "36   S14021       伊勢原店             14  ...  139.3129  35.40169      962.0\n",
       "37   S14047       相模原店             14  ...  139.3748  35.55959     1047.0\n",
       "38   S12013       習志野店             12  ...  140.0220  35.66122      808.0\n",
       "40   S14042       新山下店             14  ...  139.6593  35.43894     1044.0\n",
       "42   S12030        八幡店             12  ...  139.9240  35.72318     1162.0\n",
       "44   S14025        大和店             14  ...  139.4680  35.43414     1011.0\n",
       "45   S14045        厚木店             14  ...  139.3651  35.44182      980.0\n",
       "47   S12029        東野店             12  ...  139.8968  35.65086     1101.0\n",
       "49   S12053        高洲店             12  ...  139.9176  35.63755     1555.0\n",
       "51   S14024        三田店             14  ...  139.5424  35.60770      972.0\n",
       "52   S14006       葛が谷店             14  ...  139.5633  35.53573     1886.0\n",
       "\n",
       "[34 rows x 10 columns]"
      ]
     },
     "execution_count": 28,
     "metadata": {
      "tags": []
     },
     "output_type": "execute_result"
    }
   ],
   "source": [
    "df_store[df_store['tel_no'].str.match(r'\\d{3}-\\d{3}-\\d{4}')]"
   ]
  },
  {
   "cell_type": "markdown",
   "metadata": {
    "id": "KnSy736bhhyH"
   },
   "source": [
    "---\n",
    "> P-17: 顧客データフレーム（df_customer）を生年月日（birth_day）で高齢順にソートし、先頭10件を全項目表示せよ。"
   ]
  },
  {
   "cell_type": "code",
   "execution_count": null,
   "metadata": {
    "colab": {
     "base_uri": "https://localhost:8080/",
     "height": 358
    },
    "executionInfo": {
     "elapsed": 1155,
     "status": "ok",
     "timestamp": 1601113690921,
     "user": {
      "displayName": "ししぞう",
      "photoUrl": "https://lh3.googleusercontent.com/a-/AOh14GhjLtZCTS59IIEP1zssr09agt_qGp10CwS1J0Pq=s64",
      "userId": "07139038096484400229"
     },
     "user_tz": -540
    },
    "id": "5gjQipFAhhyH",
    "outputId": "b3c89fe6-d025-4beb-dcf5-554cd180a743"
   },
   "outputs": [
    {
     "data": {
      "text/html": [
       "<div>\n",
       "<style scoped>\n",
       "    .dataframe tbody tr th:only-of-type {\n",
       "        vertical-align: middle;\n",
       "    }\n",
       "\n",
       "    .dataframe tbody tr th {\n",
       "        vertical-align: top;\n",
       "    }\n",
       "\n",
       "    .dataframe thead th {\n",
       "        text-align: right;\n",
       "    }\n",
       "</style>\n",
       "<table border=\"1\" class=\"dataframe\">\n",
       "  <thead>\n",
       "    <tr style=\"text-align: right;\">\n",
       "      <th></th>\n",
       "      <th>customer_id</th>\n",
       "      <th>customer_name</th>\n",
       "      <th>gender_cd</th>\n",
       "      <th>gender</th>\n",
       "      <th>birth_day</th>\n",
       "      <th>age</th>\n",
       "      <th>postal_cd</th>\n",
       "      <th>address</th>\n",
       "      <th>application_store_cd</th>\n",
       "      <th>application_date</th>\n",
       "      <th>status_cd</th>\n",
       "    </tr>\n",
       "  </thead>\n",
       "  <tbody>\n",
       "    <tr>\n",
       "      <th>18817</th>\n",
       "      <td>CS003813000014</td>\n",
       "      <td>村山 菜々美</td>\n",
       "      <td>1</td>\n",
       "      <td>女性</td>\n",
       "      <td>1928-11-26</td>\n",
       "      <td>90</td>\n",
       "      <td>182-0007</td>\n",
       "      <td>東京都調布市菊野台**********</td>\n",
       "      <td>S13003</td>\n",
       "      <td>20160214</td>\n",
       "      <td>0-00000000-0</td>\n",
       "    </tr>\n",
       "    <tr>\n",
       "      <th>12328</th>\n",
       "      <td>CS026813000004</td>\n",
       "      <td>吉村 朝陽</td>\n",
       "      <td>1</td>\n",
       "      <td>女性</td>\n",
       "      <td>1928-12-14</td>\n",
       "      <td>90</td>\n",
       "      <td>251-0043</td>\n",
       "      <td>神奈川県藤沢市辻堂元町**********</td>\n",
       "      <td>S14026</td>\n",
       "      <td>20150723</td>\n",
       "      <td>0-00000000-0</td>\n",
       "    </tr>\n",
       "    <tr>\n",
       "      <th>15682</th>\n",
       "      <td>CS018811000003</td>\n",
       "      <td>熊沢 美里</td>\n",
       "      <td>1</td>\n",
       "      <td>女性</td>\n",
       "      <td>1929-01-07</td>\n",
       "      <td>90</td>\n",
       "      <td>204-0004</td>\n",
       "      <td>東京都清瀬市野塩**********</td>\n",
       "      <td>S13018</td>\n",
       "      <td>20150403</td>\n",
       "      <td>0-00000000-0</td>\n",
       "    </tr>\n",
       "    <tr>\n",
       "      <th>15302</th>\n",
       "      <td>CS027803000004</td>\n",
       "      <td>内村 拓郎</td>\n",
       "      <td>0</td>\n",
       "      <td>男性</td>\n",
       "      <td>1929-01-12</td>\n",
       "      <td>90</td>\n",
       "      <td>251-0031</td>\n",
       "      <td>神奈川県藤沢市鵠沼藤が谷**********</td>\n",
       "      <td>S14027</td>\n",
       "      <td>20151227</td>\n",
       "      <td>0-00000000-0</td>\n",
       "    </tr>\n",
       "    <tr>\n",
       "      <th>1681</th>\n",
       "      <td>CS013801000003</td>\n",
       "      <td>天野 拓郎</td>\n",
       "      <td>0</td>\n",
       "      <td>男性</td>\n",
       "      <td>1929-01-15</td>\n",
       "      <td>90</td>\n",
       "      <td>274-0824</td>\n",
       "      <td>千葉県船橋市前原東**********</td>\n",
       "      <td>S12013</td>\n",
       "      <td>20160120</td>\n",
       "      <td>0-00000000-0</td>\n",
       "    </tr>\n",
       "    <tr>\n",
       "      <th>7511</th>\n",
       "      <td>CS001814000022</td>\n",
       "      <td>鶴田 里穂</td>\n",
       "      <td>1</td>\n",
       "      <td>女性</td>\n",
       "      <td>1929-01-28</td>\n",
       "      <td>90</td>\n",
       "      <td>144-0045</td>\n",
       "      <td>東京都大田区南六郷**********</td>\n",
       "      <td>S13001</td>\n",
       "      <td>20161012</td>\n",
       "      <td>A-20090415-7</td>\n",
       "    </tr>\n",
       "    <tr>\n",
       "      <th>2378</th>\n",
       "      <td>CS016815000002</td>\n",
       "      <td>山元 美紀</td>\n",
       "      <td>1</td>\n",
       "      <td>女性</td>\n",
       "      <td>1929-02-22</td>\n",
       "      <td>90</td>\n",
       "      <td>184-0005</td>\n",
       "      <td>東京都小金井市桜町**********</td>\n",
       "      <td>S13016</td>\n",
       "      <td>20150629</td>\n",
       "      <td>C-20090923-C</td>\n",
       "    </tr>\n",
       "    <tr>\n",
       "      <th>4680</th>\n",
       "      <td>CS009815000003</td>\n",
       "      <td>中田 里穂</td>\n",
       "      <td>1</td>\n",
       "      <td>女性</td>\n",
       "      <td>1929-04-08</td>\n",
       "      <td>89</td>\n",
       "      <td>154-0014</td>\n",
       "      <td>東京都世田谷区新町**********</td>\n",
       "      <td>S13009</td>\n",
       "      <td>20150421</td>\n",
       "      <td>D-20091021-E</td>\n",
       "    </tr>\n",
       "    <tr>\n",
       "      <th>16070</th>\n",
       "      <td>CS005813000015</td>\n",
       "      <td>金谷 恵梨香</td>\n",
       "      <td>1</td>\n",
       "      <td>女性</td>\n",
       "      <td>1929-04-09</td>\n",
       "      <td>89</td>\n",
       "      <td>165-0032</td>\n",
       "      <td>東京都中野区鷺宮**********</td>\n",
       "      <td>S13005</td>\n",
       "      <td>20150506</td>\n",
       "      <td>0-00000000-0</td>\n",
       "    </tr>\n",
       "    <tr>\n",
       "      <th>6305</th>\n",
       "      <td>CS012813000013</td>\n",
       "      <td>宇野 南朋</td>\n",
       "      <td>1</td>\n",
       "      <td>女性</td>\n",
       "      <td>1929-04-09</td>\n",
       "      <td>89</td>\n",
       "      <td>231-0806</td>\n",
       "      <td>神奈川県横浜市中区本牧町**********</td>\n",
       "      <td>S14012</td>\n",
       "      <td>20150712</td>\n",
       "      <td>0-00000000-0</td>\n",
       "    </tr>\n",
       "  </tbody>\n",
       "</table>\n",
       "</div>"
      ],
      "text/plain": [
       "          customer_id customer_name  ...  application_date     status_cd\n",
       "18817  CS003813000014        村山 菜々美  ...          20160214  0-00000000-0\n",
       "12328  CS026813000004         吉村 朝陽  ...          20150723  0-00000000-0\n",
       "15682  CS018811000003         熊沢 美里  ...          20150403  0-00000000-0\n",
       "15302  CS027803000004         内村 拓郎  ...          20151227  0-00000000-0\n",
       "1681   CS013801000003         天野 拓郎  ...          20160120  0-00000000-0\n",
       "7511   CS001814000022         鶴田 里穂  ...          20161012  A-20090415-7\n",
       "2378   CS016815000002         山元 美紀  ...          20150629  C-20090923-C\n",
       "4680   CS009815000003         中田 里穂  ...          20150421  D-20091021-E\n",
       "16070  CS005813000015        金谷 恵梨香  ...          20150506  0-00000000-0\n",
       "6305   CS012813000013         宇野 南朋  ...          20150712  0-00000000-0\n",
       "\n",
       "[10 rows x 11 columns]"
      ]
     },
     "execution_count": 29,
     "metadata": {
      "tags": []
     },
     "output_type": "execute_result"
    }
   ],
   "source": [
    "df_customer.sort_values('birth_day').head(10)"
   ]
  },
  {
   "cell_type": "markdown",
   "metadata": {
    "id": "BDUAeRqshhyI"
   },
   "source": [
    "---\n",
    "> P-18: 顧客データフレーム（df_customer）を生年月日（birth_day）で若い順にソートし、先頭10件を全項目表示せよ。"
   ]
  },
  {
   "cell_type": "code",
   "execution_count": null,
   "metadata": {
    "colab": {
     "base_uri": "https://localhost:8080/",
     "height": 358
    },
    "executionInfo": {
     "elapsed": 949,
     "status": "ok",
     "timestamp": 1599879822510,
     "user": {
      "displayName": "ししぞう",
      "photoUrl": "https://lh3.googleusercontent.com/a-/AOh14GhjLtZCTS59IIEP1zssr09agt_qGp10CwS1J0Pq=s64",
      "userId": "07139038096484400229"
     },
     "user_tz": -540
    },
    "id": "AkM5jZ2xhhyJ",
    "outputId": "d517c4fc-a957-45f1-9c70-8ce521111647"
   },
   "outputs": [
    {
     "data": {
      "text/html": [
       "<div>\n",
       "<style scoped>\n",
       "    .dataframe tbody tr th:only-of-type {\n",
       "        vertical-align: middle;\n",
       "    }\n",
       "\n",
       "    .dataframe tbody tr th {\n",
       "        vertical-align: top;\n",
       "    }\n",
       "\n",
       "    .dataframe thead th {\n",
       "        text-align: right;\n",
       "    }\n",
       "</style>\n",
       "<table border=\"1\" class=\"dataframe\">\n",
       "  <thead>\n",
       "    <tr style=\"text-align: right;\">\n",
       "      <th></th>\n",
       "      <th>customer_id</th>\n",
       "      <th>customer_name</th>\n",
       "      <th>gender_cd</th>\n",
       "      <th>gender</th>\n",
       "      <th>birth_day</th>\n",
       "      <th>age</th>\n",
       "      <th>postal_cd</th>\n",
       "      <th>address</th>\n",
       "      <th>application_store_cd</th>\n",
       "      <th>application_date</th>\n",
       "      <th>status_cd</th>\n",
       "    </tr>\n",
       "  </thead>\n",
       "  <tbody>\n",
       "    <tr>\n",
       "      <th>15639</th>\n",
       "      <td>CS035114000004</td>\n",
       "      <td>大村 美里</td>\n",
       "      <td>1</td>\n",
       "      <td>女性</td>\n",
       "      <td>2007-11-25</td>\n",
       "      <td>11</td>\n",
       "      <td>156-0053</td>\n",
       "      <td>東京都世田谷区桜**********</td>\n",
       "      <td>S13035</td>\n",
       "      <td>20150619</td>\n",
       "      <td>6-20091205-6</td>\n",
       "    </tr>\n",
       "    <tr>\n",
       "      <th>7468</th>\n",
       "      <td>CS022103000002</td>\n",
       "      <td>福山 はじめ</td>\n",
       "      <td>9</td>\n",
       "      <td>不明</td>\n",
       "      <td>2007-10-02</td>\n",
       "      <td>11</td>\n",
       "      <td>249-0006</td>\n",
       "      <td>神奈川県逗子市逗子**********</td>\n",
       "      <td>S14022</td>\n",
       "      <td>20160909</td>\n",
       "      <td>0-00000000-0</td>\n",
       "    </tr>\n",
       "    <tr>\n",
       "      <th>10745</th>\n",
       "      <td>CS002113000009</td>\n",
       "      <td>柴田 真悠子</td>\n",
       "      <td>1</td>\n",
       "      <td>女性</td>\n",
       "      <td>2007-09-17</td>\n",
       "      <td>11</td>\n",
       "      <td>184-0014</td>\n",
       "      <td>東京都小金井市貫井南町**********</td>\n",
       "      <td>S13002</td>\n",
       "      <td>20160304</td>\n",
       "      <td>0-00000000-0</td>\n",
       "    </tr>\n",
       "    <tr>\n",
       "      <th>19811</th>\n",
       "      <td>CS004115000014</td>\n",
       "      <td>松井 京子</td>\n",
       "      <td>1</td>\n",
       "      <td>女性</td>\n",
       "      <td>2007-08-09</td>\n",
       "      <td>11</td>\n",
       "      <td>165-0031</td>\n",
       "      <td>東京都中野区上鷺宮**********</td>\n",
       "      <td>S13004</td>\n",
       "      <td>20161120</td>\n",
       "      <td>1-20081231-1</td>\n",
       "    </tr>\n",
       "    <tr>\n",
       "      <th>7039</th>\n",
       "      <td>CS002114000010</td>\n",
       "      <td>山内 遥</td>\n",
       "      <td>1</td>\n",
       "      <td>女性</td>\n",
       "      <td>2007-06-03</td>\n",
       "      <td>11</td>\n",
       "      <td>184-0015</td>\n",
       "      <td>東京都小金井市貫井北町**********</td>\n",
       "      <td>S13002</td>\n",
       "      <td>20160920</td>\n",
       "      <td>6-20100510-1</td>\n",
       "    </tr>\n",
       "    <tr>\n",
       "      <th>3670</th>\n",
       "      <td>CS025115000002</td>\n",
       "      <td>小柳 夏希</td>\n",
       "      <td>1</td>\n",
       "      <td>女性</td>\n",
       "      <td>2007-04-18</td>\n",
       "      <td>11</td>\n",
       "      <td>245-0018</td>\n",
       "      <td>神奈川県横浜市泉区上飯田町**********</td>\n",
       "      <td>S14025</td>\n",
       "      <td>20160116</td>\n",
       "      <td>D-20100913-D</td>\n",
       "    </tr>\n",
       "    <tr>\n",
       "      <th>12493</th>\n",
       "      <td>CS002113000025</td>\n",
       "      <td>広末 まなみ</td>\n",
       "      <td>1</td>\n",
       "      <td>女性</td>\n",
       "      <td>2007-03-30</td>\n",
       "      <td>12</td>\n",
       "      <td>184-0015</td>\n",
       "      <td>東京都小金井市貫井北町**********</td>\n",
       "      <td>S13002</td>\n",
       "      <td>20171030</td>\n",
       "      <td>0-00000000-0</td>\n",
       "    </tr>\n",
       "    <tr>\n",
       "      <th>15977</th>\n",
       "      <td>CS033112000003</td>\n",
       "      <td>長野 美紀</td>\n",
       "      <td>1</td>\n",
       "      <td>女性</td>\n",
       "      <td>2007-03-22</td>\n",
       "      <td>12</td>\n",
       "      <td>245-0051</td>\n",
       "      <td>神奈川県横浜市戸塚区名瀬町**********</td>\n",
       "      <td>S14033</td>\n",
       "      <td>20150606</td>\n",
       "      <td>0-00000000-0</td>\n",
       "    </tr>\n",
       "    <tr>\n",
       "      <th>5716</th>\n",
       "      <td>CS007115000006</td>\n",
       "      <td>福岡 瞬</td>\n",
       "      <td>1</td>\n",
       "      <td>女性</td>\n",
       "      <td>2007-03-10</td>\n",
       "      <td>12</td>\n",
       "      <td>285-0845</td>\n",
       "      <td>千葉県佐倉市西志津**********</td>\n",
       "      <td>S12007</td>\n",
       "      <td>20151118</td>\n",
       "      <td>F-20101016-F</td>\n",
       "    </tr>\n",
       "    <tr>\n",
       "      <th>15097</th>\n",
       "      <td>CS014113000008</td>\n",
       "      <td>矢口 莉緒</td>\n",
       "      <td>1</td>\n",
       "      <td>女性</td>\n",
       "      <td>2007-03-05</td>\n",
       "      <td>12</td>\n",
       "      <td>260-0041</td>\n",
       "      <td>千葉県千葉市中央区東千葉**********</td>\n",
       "      <td>S12014</td>\n",
       "      <td>20150622</td>\n",
       "      <td>3-20091108-6</td>\n",
       "    </tr>\n",
       "  </tbody>\n",
       "</table>\n",
       "</div>"
      ],
      "text/plain": [
       "          customer_id customer_name  ...  application_date     status_cd\n",
       "15639  CS035114000004         大村 美里  ...          20150619  6-20091205-6\n",
       "7468   CS022103000002        福山 はじめ  ...          20160909  0-00000000-0\n",
       "10745  CS002113000009        柴田 真悠子  ...          20160304  0-00000000-0\n",
       "19811  CS004115000014         松井 京子  ...          20161120  1-20081231-1\n",
       "7039   CS002114000010          山内 遥  ...          20160920  6-20100510-1\n",
       "3670   CS025115000002         小柳 夏希  ...          20160116  D-20100913-D\n",
       "12493  CS002113000025        広末 まなみ  ...          20171030  0-00000000-0\n",
       "15977  CS033112000003         長野 美紀  ...          20150606  0-00000000-0\n",
       "5716   CS007115000006          福岡 瞬  ...          20151118  F-20101016-F\n",
       "15097  CS014113000008         矢口 莉緒  ...          20150622  3-20091108-6\n",
       "\n",
       "[10 rows x 11 columns]"
      ]
     },
     "execution_count": 83,
     "metadata": {
      "tags": []
     },
     "output_type": "execute_result"
    }
   ],
   "source": [
    "df_customer.sort_values('birth_day',ascending=False).head(10)"
   ]
  },
  {
   "cell_type": "markdown",
   "metadata": {
    "id": "jIbxf5DwhhyK"
   },
   "source": [
    "---\n",
    "> P-19: レシート明細データフレーム（df_receipt）に対し、1件あたりの売上金額（amount）が高い順にランクを付与し、先頭10件を抽出せよ。項目は顧客ID（customer_id）、売上金額（amount）、付与したランクを表示させること。なお、売上金額（amount）が等しい場合は同一順位を付与するものとする。"
   ]
  },
  {
   "cell_type": "code",
   "execution_count": null,
   "metadata": {
    "id": "CQYswCLZS2Yx"
   },
   "outputs": [],
   "source": [
    "# method='min'とすると最小値が順位となる。1位、2位タイ、2位タイ、4位\n",
    "df_receipt['rank_amount']=df_receipt['amount'].rank(method='min', ascending=False)"
   ]
  },
  {
   "cell_type": "code",
   "execution_count": null,
   "metadata": {
    "colab": {
     "base_uri": "https://localhost:8080/",
     "height": 210
    },
    "executionInfo": {
     "elapsed": 1694,
     "status": "ok",
     "timestamp": 1601114243048,
     "user": {
      "displayName": "ししぞう",
      "photoUrl": "https://lh3.googleusercontent.com/a-/AOh14GhjLtZCTS59IIEP1zssr09agt_qGp10CwS1J0Pq=s64",
      "userId": "07139038096484400229"
     },
     "user_tz": -540
    },
    "id": "oWcMp0kS1c0N",
    "outputId": "dea40615-5027-4a64-d4b7-892f16e2173c"
   },
   "outputs": [
    {
     "data": {
      "text/plain": [
       "1202     1.0\n",
       "62317    2.0\n",
       "54095    3.0\n",
       "4632     4.0\n",
       "72747    4.0\n",
       "10320    4.0\n",
       "97294    7.0\n",
       "28304    7.0\n",
       "92246    9.0\n",
       "68553    9.0\n",
       "Name: rank_amount, dtype: float64"
      ]
     },
     "execution_count": 38,
     "metadata": {
      "tags": []
     },
     "output_type": "execute_result"
    }
   ],
   "source": [
    "df_receipt['rank_amount'].sort_values().head(10)"
   ]
  },
  {
   "cell_type": "code",
   "execution_count": null,
   "metadata": {
    "colab": {
     "base_uri": "https://localhost:8080/",
     "height": 358
    },
    "executionInfo": {
     "elapsed": 1100,
     "status": "ok",
     "timestamp": 1601113979565,
     "user": {
      "displayName": "ししぞう",
      "photoUrl": "https://lh3.googleusercontent.com/a-/AOh14GhjLtZCTS59IIEP1zssr09agt_qGp10CwS1J0Pq=s64",
      "userId": "07139038096484400229"
     },
     "user_tz": -540
    },
    "id": "FTwvyKnBWyve",
    "outputId": "6ce1eace-a87a-42a7-af6b-1a40bcfde810"
   },
   "outputs": [
    {
     "data": {
      "text/html": [
       "<div>\n",
       "<style scoped>\n",
       "    .dataframe tbody tr th:only-of-type {\n",
       "        vertical-align: middle;\n",
       "    }\n",
       "\n",
       "    .dataframe tbody tr th {\n",
       "        vertical-align: top;\n",
       "    }\n",
       "\n",
       "    .dataframe thead th {\n",
       "        text-align: right;\n",
       "    }\n",
       "</style>\n",
       "<table border=\"1\" class=\"dataframe\">\n",
       "  <thead>\n",
       "    <tr style=\"text-align: right;\">\n",
       "      <th></th>\n",
       "      <th>customer_id</th>\n",
       "      <th>amount</th>\n",
       "      <th>rank_amount</th>\n",
       "    </tr>\n",
       "  </thead>\n",
       "  <tbody>\n",
       "    <tr>\n",
       "      <th>1202</th>\n",
       "      <td>CS011415000006</td>\n",
       "      <td>10925</td>\n",
       "      <td>1.0</td>\n",
       "    </tr>\n",
       "    <tr>\n",
       "      <th>62317</th>\n",
       "      <td>ZZ000000000000</td>\n",
       "      <td>6800</td>\n",
       "      <td>2.0</td>\n",
       "    </tr>\n",
       "    <tr>\n",
       "      <th>54095</th>\n",
       "      <td>CS028605000002</td>\n",
       "      <td>5780</td>\n",
       "      <td>3.0</td>\n",
       "    </tr>\n",
       "    <tr>\n",
       "      <th>4632</th>\n",
       "      <td>CS015515000034</td>\n",
       "      <td>5480</td>\n",
       "      <td>4.0</td>\n",
       "    </tr>\n",
       "    <tr>\n",
       "      <th>72747</th>\n",
       "      <td>ZZ000000000000</td>\n",
       "      <td>5480</td>\n",
       "      <td>4.0</td>\n",
       "    </tr>\n",
       "    <tr>\n",
       "      <th>10320</th>\n",
       "      <td>ZZ000000000000</td>\n",
       "      <td>5480</td>\n",
       "      <td>4.0</td>\n",
       "    </tr>\n",
       "    <tr>\n",
       "      <th>97294</th>\n",
       "      <td>CS021515000089</td>\n",
       "      <td>5440</td>\n",
       "      <td>7.0</td>\n",
       "    </tr>\n",
       "    <tr>\n",
       "      <th>28304</th>\n",
       "      <td>ZZ000000000000</td>\n",
       "      <td>5440</td>\n",
       "      <td>7.0</td>\n",
       "    </tr>\n",
       "    <tr>\n",
       "      <th>92246</th>\n",
       "      <td>CS009415000038</td>\n",
       "      <td>5280</td>\n",
       "      <td>9.0</td>\n",
       "    </tr>\n",
       "    <tr>\n",
       "      <th>68553</th>\n",
       "      <td>CS040415000200</td>\n",
       "      <td>5280</td>\n",
       "      <td>9.0</td>\n",
       "    </tr>\n",
       "  </tbody>\n",
       "</table>\n",
       "</div>"
      ],
      "text/plain": [
       "          customer_id  amount  rank_amount\n",
       "1202   CS011415000006   10925          1.0\n",
       "62317  ZZ000000000000    6800          2.0\n",
       "54095  CS028605000002    5780          3.0\n",
       "4632   CS015515000034    5480          4.0\n",
       "72747  ZZ000000000000    5480          4.0\n",
       "10320  ZZ000000000000    5480          4.0\n",
       "97294  CS021515000089    5440          7.0\n",
       "28304  ZZ000000000000    5440          7.0\n",
       "92246  CS009415000038    5280          9.0\n",
       "68553  CS040415000200    5280          9.0"
      ]
     },
     "execution_count": 31,
     "metadata": {
      "tags": []
     },
     "output_type": "execute_result"
    }
   ],
   "source": [
    "df_receipt.sort_values('rank_amount')[['customer_id','amount','rank_amount']].head(10)\n"
   ]
  },
  {
   "cell_type": "markdown",
   "metadata": {
    "id": "mhp33yibhhyM"
   },
   "source": [
    "---\n",
    "> P-020: レシート明細データフレーム（df_receipt）に対し、1件あたりの売上金額（amount）が高い順にランクを付与し、先頭10件を抽出せよ。項目は顧客ID（customer_id）、売上金額（amount）、付与したランクを表示させること。なお、売上金額（amount）が等しい場合でも別順位を付与すること。"
   ]
  },
  {
   "cell_type": "code",
   "execution_count": null,
   "metadata": {
    "id": "Ks8wJ4dghhyM"
   },
   "outputs": [],
   "source": [
    "#first：同一値は登場順に順位付け。数値のみに有効。\n",
    "df_receipt['rank_amount2']=df_receipt['amount'].rank(method='first', ascending=False)"
   ]
  },
  {
   "cell_type": "code",
   "execution_count": null,
   "metadata": {
    "colab": {
     "base_uri": "https://localhost:8080/",
     "height": 358
    },
    "executionInfo": {
     "elapsed": 880,
     "status": "ok",
     "timestamp": 1600004256621,
     "user": {
      "displayName": "ししぞう",
      "photoUrl": "https://lh3.googleusercontent.com/a-/AOh14GhjLtZCTS59IIEP1zssr09agt_qGp10CwS1J0Pq=s64",
      "userId": "07139038096484400229"
     },
     "user_tz": -540
    },
    "id": "RUYEB0ExaEYh",
    "outputId": "4df15b6e-3d98-4598-b59b-16271ee4ff7e"
   },
   "outputs": [
    {
     "data": {
      "text/html": [
       "<div>\n",
       "<style scoped>\n",
       "    .dataframe tbody tr th:only-of-type {\n",
       "        vertical-align: middle;\n",
       "    }\n",
       "\n",
       "    .dataframe tbody tr th {\n",
       "        vertical-align: top;\n",
       "    }\n",
       "\n",
       "    .dataframe thead th {\n",
       "        text-align: right;\n",
       "    }\n",
       "</style>\n",
       "<table border=\"1\" class=\"dataframe\">\n",
       "  <thead>\n",
       "    <tr style=\"text-align: right;\">\n",
       "      <th></th>\n",
       "      <th>customer_id</th>\n",
       "      <th>amount</th>\n",
       "      <th>rank_amount2</th>\n",
       "    </tr>\n",
       "  </thead>\n",
       "  <tbody>\n",
       "    <tr>\n",
       "      <th>1202</th>\n",
       "      <td>CS011415000006</td>\n",
       "      <td>10925</td>\n",
       "      <td>1.0</td>\n",
       "    </tr>\n",
       "    <tr>\n",
       "      <th>62317</th>\n",
       "      <td>ZZ000000000000</td>\n",
       "      <td>6800</td>\n",
       "      <td>2.0</td>\n",
       "    </tr>\n",
       "    <tr>\n",
       "      <th>54095</th>\n",
       "      <td>CS028605000002</td>\n",
       "      <td>5780</td>\n",
       "      <td>3.0</td>\n",
       "    </tr>\n",
       "    <tr>\n",
       "      <th>4632</th>\n",
       "      <td>CS015515000034</td>\n",
       "      <td>5480</td>\n",
       "      <td>4.0</td>\n",
       "    </tr>\n",
       "    <tr>\n",
       "      <th>10320</th>\n",
       "      <td>ZZ000000000000</td>\n",
       "      <td>5480</td>\n",
       "      <td>5.0</td>\n",
       "    </tr>\n",
       "    <tr>\n",
       "      <th>72747</th>\n",
       "      <td>ZZ000000000000</td>\n",
       "      <td>5480</td>\n",
       "      <td>6.0</td>\n",
       "    </tr>\n",
       "    <tr>\n",
       "      <th>28304</th>\n",
       "      <td>ZZ000000000000</td>\n",
       "      <td>5440</td>\n",
       "      <td>7.0</td>\n",
       "    </tr>\n",
       "    <tr>\n",
       "      <th>97294</th>\n",
       "      <td>CS021515000089</td>\n",
       "      <td>5440</td>\n",
       "      <td>8.0</td>\n",
       "    </tr>\n",
       "    <tr>\n",
       "      <th>596</th>\n",
       "      <td>CS015515000083</td>\n",
       "      <td>5280</td>\n",
       "      <td>9.0</td>\n",
       "    </tr>\n",
       "    <tr>\n",
       "      <th>11275</th>\n",
       "      <td>CS017414000114</td>\n",
       "      <td>5280</td>\n",
       "      <td>10.0</td>\n",
       "    </tr>\n",
       "  </tbody>\n",
       "</table>\n",
       "</div>"
      ],
      "text/plain": [
       "          customer_id  amount  rank_amount2\n",
       "1202   CS011415000006   10925           1.0\n",
       "62317  ZZ000000000000    6800           2.0\n",
       "54095  CS028605000002    5780           3.0\n",
       "4632   CS015515000034    5480           4.0\n",
       "10320  ZZ000000000000    5480           5.0\n",
       "72747  ZZ000000000000    5480           6.0\n",
       "28304  ZZ000000000000    5440           7.0\n",
       "97294  CS021515000089    5440           8.0\n",
       "596    CS015515000083    5280           9.0\n",
       "11275  CS017414000114    5280          10.0"
      ]
     },
     "execution_count": 72,
     "metadata": {
      "tags": []
     },
     "output_type": "execute_result"
    }
   ],
   "source": [
    "df_receipt.sort_values('rank_amount2')[['customer_id','amount','rank_amount2']].head(10)\n"
   ]
  },
  {
   "cell_type": "markdown",
   "metadata": {
    "id": "1lRGtDSphhyQ"
   },
   "source": [
    "---\n",
    "> P-021: レシート明細データフレーム（df_receipt）に対し、件数をカウントせよ。"
   ]
  },
  {
   "cell_type": "code",
   "execution_count": null,
   "metadata": {
    "colab": {
     "base_uri": "https://localhost:8080/",
     "height": 228
    },
    "executionInfo": {
     "elapsed": 818,
     "status": "ok",
     "timestamp": 1600002526634,
     "user": {
      "displayName": "ししぞう",
      "photoUrl": "https://lh3.googleusercontent.com/a-/AOh14GhjLtZCTS59IIEP1zssr09agt_qGp10CwS1J0Pq=s64",
      "userId": "07139038096484400229"
     },
     "user_tz": -540
    },
    "id": "m-ihL_fVhhyQ",
    "outputId": "4b8d26e4-044c-45d4-9e9e-7824f4f727ab"
   },
   "outputs": [
    {
     "data": {
      "text/plain": [
       "sales_ymd         104681\n",
       "sales_epoch       104681\n",
       "store_cd          104681\n",
       "receipt_no        104681\n",
       "receipt_sub_no    104681\n",
       "customer_id       104681\n",
       "product_cd        104681\n",
       "quantity          104681\n",
       "amount            104681\n",
       "rank_amount       104681\n",
       "rank_amount2      104681\n",
       "dtype: int64"
      ]
     },
     "execution_count": 39,
     "metadata": {
      "tags": []
     },
     "output_type": "execute_result"
    }
   ],
   "source": [
    "df_receipt.count()"
   ]
  },
  {
   "cell_type": "code",
   "execution_count": null,
   "metadata": {
    "colab": {
     "base_uri": "https://localhost:8080/",
     "height": 34
    },
    "executionInfo": {
     "elapsed": 848,
     "status": "ok",
     "timestamp": 1600002762077,
     "user": {
      "displayName": "ししぞう",
      "photoUrl": "https://lh3.googleusercontent.com/a-/AOh14GhjLtZCTS59IIEP1zssr09agt_qGp10CwS1J0Pq=s64",
      "userId": "07139038096484400229"
     },
     "user_tz": -540
    },
    "id": "3o42NOGVlUIf",
    "outputId": "ea34e8e7-b044-4c2a-c6ff-169e2e98f726"
   },
   "outputs": [
    {
     "data": {
      "text/plain": [
       "104681"
      ]
     },
     "execution_count": 41,
     "metadata": {
      "tags": []
     },
     "output_type": "execute_result"
    }
   ],
   "source": [
    "df_receipt[\"receipt_no\"].count()"
   ]
  },
  {
   "cell_type": "code",
   "execution_count": null,
   "metadata": {
    "colab": {
     "base_uri": "https://localhost:8080/",
     "height": 34
    },
    "executionInfo": {
     "elapsed": 892,
     "status": "ok",
     "timestamp": 1601125957878,
     "user": {
      "displayName": "ししぞう",
      "photoUrl": "https://lh3.googleusercontent.com/a-/AOh14GhjLtZCTS59IIEP1zssr09agt_qGp10CwS1J0Pq=s64",
      "userId": "07139038096484400229"
     },
     "user_tz": -540
    },
    "id": "SIvX17whiuE5",
    "outputId": "da13ed97-d9d5-4c61-9c0c-24e5130dca5e"
   },
   "outputs": [
    {
     "data": {
      "text/plain": [
       "104681"
      ]
     },
     "execution_count": 51,
     "metadata": {
      "tags": []
     },
     "output_type": "execute_result"
    }
   ],
   "source": [
    "len(df_receipt)\n"
   ]
  },
  {
   "cell_type": "code",
   "execution_count": null,
   "metadata": {
    "colab": {
     "base_uri": "https://localhost:8080/",
     "height": 316
    },
    "executionInfo": {
     "elapsed": 1000,
     "status": "ok",
     "timestamp": 1601125961954,
     "user": {
      "displayName": "ししぞう",
      "photoUrl": "https://lh3.googleusercontent.com/a-/AOh14GhjLtZCTS59IIEP1zssr09agt_qGp10CwS1J0Pq=s64",
      "userId": "07139038096484400229"
     },
     "user_tz": -540
    },
    "id": "OLjj_TJLixK6",
    "outputId": "3c483e5a-a2be-435f-9f13-e6dfc6411e75"
   },
   "outputs": [
    {
     "name": "stdout",
     "output_type": "stream",
     "text": [
      "<class 'pandas.core.frame.DataFrame'>\n",
      "RangeIndex: 104681 entries, 0 to 104680\n",
      "Data columns (total 10 columns):\n",
      " #   Column          Non-Null Count   Dtype  \n",
      "---  ------          --------------   -----  \n",
      " 0   sales_ymd       104681 non-null  int64  \n",
      " 1   sales_epoch     104681 non-null  int64  \n",
      " 2   store_cd        104681 non-null  object \n",
      " 3   receipt_no      104681 non-null  int64  \n",
      " 4   receipt_sub_no  104681 non-null  int64  \n",
      " 5   customer_id     104681 non-null  object \n",
      " 6   product_cd      104681 non-null  object \n",
      " 7   quantity        104681 non-null  int64  \n",
      " 8   amount          104681 non-null  int64  \n",
      " 9   rank_amount     104681 non-null  float64\n",
      "dtypes: float64(1), int64(6), object(3)\n",
      "memory usage: 8.0+ MB\n"
     ]
    }
   ],
   "source": [
    "df_receipt.info()"
   ]
  },
  {
   "cell_type": "markdown",
   "metadata": {
    "id": "MkjDW-oyhhyS"
   },
   "source": [
    "---\n",
    "> P-022: レシート明細データフレーム（df_receipt）の顧客ID（customer_id）に対し、ユニーク件数をカウントせよ。"
   ]
  },
  {
   "cell_type": "code",
   "execution_count": null,
   "metadata": {
    "colab": {
     "base_uri": "https://localhost:8080/",
     "height": 34
    },
    "executionInfo": {
     "elapsed": 893,
     "status": "ok",
     "timestamp": 1601126505589,
     "user": {
      "displayName": "ししぞう",
      "photoUrl": "https://lh3.googleusercontent.com/a-/AOh14GhjLtZCTS59IIEP1zssr09agt_qGp10CwS1J0Pq=s64",
      "userId": "07139038096484400229"
     },
     "user_tz": -540
    },
    "id": "0xSI9r8UhhyS",
    "outputId": "28a501f8-ba8e-4f78-bb19-889f3c8b2033"
   },
   "outputs": [
    {
     "data": {
      "text/plain": [
       "8307"
      ]
     },
     "execution_count": 76,
     "metadata": {
      "tags": []
     },
     "output_type": "execute_result"
    }
   ],
   "source": [
    "df_022 = df_receipt.copy()\n",
    "len(df_022[[\"customer_id\"]].groupby(\"customer_id\"))\n",
    "\n",
    "#groupbyで新しい塊のオブジェクトを作っただけで、なにも返さない。どんな形で返したいか、指示をだす\n",
    "\n",
    "#unique重複ないデータを取りたい時→lenで囲って配列の数だす\n",
    "#len(df_receipt['customer_id'].unique())"
   ]
  },
  {
   "cell_type": "code",
   "execution_count": null,
   "metadata": {
    "colab": {
     "base_uri": "https://localhost:8080/",
     "height": 34
    },
    "executionInfo": {
     "elapsed": 1089,
     "status": "ok",
     "timestamp": 1601126017487,
     "user": {
      "displayName": "ししぞう",
      "photoUrl": "https://lh3.googleusercontent.com/a-/AOh14GhjLtZCTS59IIEP1zssr09agt_qGp10CwS1J0Pq=s64",
      "userId": "07139038096484400229"
     },
     "user_tz": -540
    },
    "id": "YBJ_fZ3PjBnE",
    "outputId": "5b2e7ef1-540b-480f-f8c5-c26dacec23b5"
   },
   "outputs": [
    {
     "data": {
      "text/plain": [
       "8307"
      ]
     },
     "execution_count": 53,
     "metadata": {
      "tags": []
     },
     "output_type": "execute_result"
    }
   ],
   "source": [
    "#nunique重複ないデータのカウントを取りたいとき\n",
    "df_receipt['customer_id'].nunique()"
   ]
  },
  {
   "cell_type": "markdown",
   "metadata": {
    "id": "nhAK-Wf5hhyT"
   },
   "source": [
    "---\n",
    "> P-023: レシート明細データフレーム（df_receipt）に対し、店舗コード（store_cd）ごとに売上金額（amount）と売上数量（quantity）を合計せよ。"
   ]
  },
  {
   "cell_type": "code",
   "execution_count": null,
   "metadata": {
    "id": "lxJS-sFA3Svs"
   },
   "outputs": [],
   "source": [
    "#list(df_receipt.groupby(\"store_cd\"))\n",
    "#list(df_receipt.groupby(\"store_cd\"))[0]\n",
    "#list(df_receipt.groupby(\"store_cd\"))[0][0]\n",
    "#list(df_receipt.groupby(\"store_cd\"))[0][1]\n",
    "#list(df_receipt.groupby(\"store_cd\"))[0][1][[\"amount\"\"quantity\"]].sum()"
   ]
  },
  {
   "cell_type": "code",
   "execution_count": 40,
   "metadata": {
    "colab": {
     "base_uri": "https://localhost:8080/",
     "height": 1000
    },
    "executionInfo": {
     "elapsed": 766,
     "status": "ok",
     "timestamp": 1603001236139,
     "user": {
      "displayName": "ししぞう",
      "photoUrl": "https://lh3.googleusercontent.com/a-/AOh14GhjLtZCTS59IIEP1zssr09agt_qGp10CwS1J0Pq=s64",
      "userId": "07139038096484400229"
     },
     "user_tz": -540
    },
    "id": "ZAkUf4-5hhyU",
    "outputId": "32c42789-1e21-432d-de79-d64fdcb8c016"
   },
   "outputs": [
    {
     "data": {
      "text/html": [
       "<div>\n",
       "<style scoped>\n",
       "    .dataframe tbody tr th:only-of-type {\n",
       "        vertical-align: middle;\n",
       "    }\n",
       "\n",
       "    .dataframe tbody tr th {\n",
       "        vertical-align: top;\n",
       "    }\n",
       "\n",
       "    .dataframe thead th {\n",
       "        text-align: right;\n",
       "    }\n",
       "</style>\n",
       "<table border=\"1\" class=\"dataframe\">\n",
       "  <thead>\n",
       "    <tr style=\"text-align: right;\">\n",
       "      <th></th>\n",
       "      <th>amount</th>\n",
       "      <th>quantity</th>\n",
       "    </tr>\n",
       "    <tr>\n",
       "      <th>store_cd</th>\n",
       "      <th></th>\n",
       "      <th></th>\n",
       "    </tr>\n",
       "  </thead>\n",
       "  <tbody>\n",
       "    <tr>\n",
       "      <th>S12007</th>\n",
       "      <td>638761</td>\n",
       "      <td>2099</td>\n",
       "    </tr>\n",
       "    <tr>\n",
       "      <th>S12013</th>\n",
       "      <td>787513</td>\n",
       "      <td>2425</td>\n",
       "    </tr>\n",
       "    <tr>\n",
       "      <th>S12014</th>\n",
       "      <td>725167</td>\n",
       "      <td>2358</td>\n",
       "    </tr>\n",
       "    <tr>\n",
       "      <th>S12029</th>\n",
       "      <td>794741</td>\n",
       "      <td>2555</td>\n",
       "    </tr>\n",
       "    <tr>\n",
       "      <th>S12030</th>\n",
       "      <td>684402</td>\n",
       "      <td>2403</td>\n",
       "    </tr>\n",
       "    <tr>\n",
       "      <th>S13001</th>\n",
       "      <td>811936</td>\n",
       "      <td>2347</td>\n",
       "    </tr>\n",
       "    <tr>\n",
       "      <th>S13002</th>\n",
       "      <td>727821</td>\n",
       "      <td>2340</td>\n",
       "    </tr>\n",
       "    <tr>\n",
       "      <th>S13003</th>\n",
       "      <td>764294</td>\n",
       "      <td>2197</td>\n",
       "    </tr>\n",
       "    <tr>\n",
       "      <th>S13004</th>\n",
       "      <td>779373</td>\n",
       "      <td>2390</td>\n",
       "    </tr>\n",
       "    <tr>\n",
       "      <th>S13005</th>\n",
       "      <td>629876</td>\n",
       "      <td>2004</td>\n",
       "    </tr>\n",
       "    <tr>\n",
       "      <th>S13008</th>\n",
       "      <td>809288</td>\n",
       "      <td>2491</td>\n",
       "    </tr>\n",
       "    <tr>\n",
       "      <th>S13009</th>\n",
       "      <td>808870</td>\n",
       "      <td>2486</td>\n",
       "    </tr>\n",
       "    <tr>\n",
       "      <th>S13015</th>\n",
       "      <td>780873</td>\n",
       "      <td>2248</td>\n",
       "    </tr>\n",
       "    <tr>\n",
       "      <th>S13016</th>\n",
       "      <td>793773</td>\n",
       "      <td>2432</td>\n",
       "    </tr>\n",
       "    <tr>\n",
       "      <th>S13017</th>\n",
       "      <td>748221</td>\n",
       "      <td>2376</td>\n",
       "    </tr>\n",
       "    <tr>\n",
       "      <th>S13018</th>\n",
       "      <td>790535</td>\n",
       "      <td>2562</td>\n",
       "    </tr>\n",
       "    <tr>\n",
       "      <th>S13019</th>\n",
       "      <td>827833</td>\n",
       "      <td>2541</td>\n",
       "    </tr>\n",
       "    <tr>\n",
       "      <th>S13020</th>\n",
       "      <td>796383</td>\n",
       "      <td>2383</td>\n",
       "    </tr>\n",
       "    <tr>\n",
       "      <th>S13031</th>\n",
       "      <td>705968</td>\n",
       "      <td>2336</td>\n",
       "    </tr>\n",
       "    <tr>\n",
       "      <th>S13032</th>\n",
       "      <td>790501</td>\n",
       "      <td>2491</td>\n",
       "    </tr>\n",
       "    <tr>\n",
       "      <th>S13035</th>\n",
       "      <td>715869</td>\n",
       "      <td>2219</td>\n",
       "    </tr>\n",
       "    <tr>\n",
       "      <th>S13037</th>\n",
       "      <td>693087</td>\n",
       "      <td>2344</td>\n",
       "    </tr>\n",
       "    <tr>\n",
       "      <th>S13038</th>\n",
       "      <td>708884</td>\n",
       "      <td>2337</td>\n",
       "    </tr>\n",
       "    <tr>\n",
       "      <th>S13039</th>\n",
       "      <td>611888</td>\n",
       "      <td>1981</td>\n",
       "    </tr>\n",
       "    <tr>\n",
       "      <th>S13041</th>\n",
       "      <td>728266</td>\n",
       "      <td>2233</td>\n",
       "    </tr>\n",
       "    <tr>\n",
       "      <th>S13043</th>\n",
       "      <td>587895</td>\n",
       "      <td>1881</td>\n",
       "    </tr>\n",
       "    <tr>\n",
       "      <th>S13044</th>\n",
       "      <td>520764</td>\n",
       "      <td>1729</td>\n",
       "    </tr>\n",
       "    <tr>\n",
       "      <th>S13051</th>\n",
       "      <td>107452</td>\n",
       "      <td>354</td>\n",
       "    </tr>\n",
       "    <tr>\n",
       "      <th>S13052</th>\n",
       "      <td>100314</td>\n",
       "      <td>250</td>\n",
       "    </tr>\n",
       "    <tr>\n",
       "      <th>S14006</th>\n",
       "      <td>712839</td>\n",
       "      <td>2284</td>\n",
       "    </tr>\n",
       "    <tr>\n",
       "      <th>S14010</th>\n",
       "      <td>790361</td>\n",
       "      <td>2290</td>\n",
       "    </tr>\n",
       "    <tr>\n",
       "      <th>S14011</th>\n",
       "      <td>805724</td>\n",
       "      <td>2434</td>\n",
       "    </tr>\n",
       "    <tr>\n",
       "      <th>S14012</th>\n",
       "      <td>720600</td>\n",
       "      <td>2412</td>\n",
       "    </tr>\n",
       "    <tr>\n",
       "      <th>S14021</th>\n",
       "      <td>699511</td>\n",
       "      <td>2231</td>\n",
       "    </tr>\n",
       "    <tr>\n",
       "      <th>S14022</th>\n",
       "      <td>651328</td>\n",
       "      <td>2047</td>\n",
       "    </tr>\n",
       "    <tr>\n",
       "      <th>S14023</th>\n",
       "      <td>727630</td>\n",
       "      <td>2258</td>\n",
       "    </tr>\n",
       "    <tr>\n",
       "      <th>S14024</th>\n",
       "      <td>736323</td>\n",
       "      <td>2417</td>\n",
       "    </tr>\n",
       "    <tr>\n",
       "      <th>S14025</th>\n",
       "      <td>755581</td>\n",
       "      <td>2394</td>\n",
       "    </tr>\n",
       "    <tr>\n",
       "      <th>S14026</th>\n",
       "      <td>824537</td>\n",
       "      <td>2503</td>\n",
       "    </tr>\n",
       "    <tr>\n",
       "      <th>S14027</th>\n",
       "      <td>714550</td>\n",
       "      <td>2303</td>\n",
       "    </tr>\n",
       "    <tr>\n",
       "      <th>S14028</th>\n",
       "      <td>786145</td>\n",
       "      <td>2458</td>\n",
       "    </tr>\n",
       "    <tr>\n",
       "      <th>S14033</th>\n",
       "      <td>725318</td>\n",
       "      <td>2282</td>\n",
       "    </tr>\n",
       "    <tr>\n",
       "      <th>S14034</th>\n",
       "      <td>653681</td>\n",
       "      <td>2024</td>\n",
       "    </tr>\n",
       "    <tr>\n",
       "      <th>S14036</th>\n",
       "      <td>203694</td>\n",
       "      <td>635</td>\n",
       "    </tr>\n",
       "    <tr>\n",
       "      <th>S14040</th>\n",
       "      <td>701858</td>\n",
       "      <td>2233</td>\n",
       "    </tr>\n",
       "    <tr>\n",
       "      <th>S14042</th>\n",
       "      <td>534689</td>\n",
       "      <td>1935</td>\n",
       "    </tr>\n",
       "    <tr>\n",
       "      <th>S14045</th>\n",
       "      <td>458484</td>\n",
       "      <td>1398</td>\n",
       "    </tr>\n",
       "    <tr>\n",
       "      <th>S14046</th>\n",
       "      <td>412646</td>\n",
       "      <td>1354</td>\n",
       "    </tr>\n",
       "    <tr>\n",
       "      <th>S14047</th>\n",
       "      <td>338329</td>\n",
       "      <td>1041</td>\n",
       "    </tr>\n",
       "    <tr>\n",
       "      <th>S14048</th>\n",
       "      <td>234276</td>\n",
       "      <td>769</td>\n",
       "    </tr>\n",
       "    <tr>\n",
       "      <th>S14049</th>\n",
       "      <td>230808</td>\n",
       "      <td>788</td>\n",
       "    </tr>\n",
       "    <tr>\n",
       "      <th>S14050</th>\n",
       "      <td>167090</td>\n",
       "      <td>580</td>\n",
       "    </tr>\n",
       "  </tbody>\n",
       "</table>\n",
       "</div>"
      ],
      "text/plain": [
       "          amount  quantity\n",
       "store_cd                  \n",
       "S12007    638761      2099\n",
       "S12013    787513      2425\n",
       "S12014    725167      2358\n",
       "S12029    794741      2555\n",
       "S12030    684402      2403\n",
       "S13001    811936      2347\n",
       "S13002    727821      2340\n",
       "S13003    764294      2197\n",
       "S13004    779373      2390\n",
       "S13005    629876      2004\n",
       "S13008    809288      2491\n",
       "S13009    808870      2486\n",
       "S13015    780873      2248\n",
       "S13016    793773      2432\n",
       "S13017    748221      2376\n",
       "S13018    790535      2562\n",
       "S13019    827833      2541\n",
       "S13020    796383      2383\n",
       "S13031    705968      2336\n",
       "S13032    790501      2491\n",
       "S13035    715869      2219\n",
       "S13037    693087      2344\n",
       "S13038    708884      2337\n",
       "S13039    611888      1981\n",
       "S13041    728266      2233\n",
       "S13043    587895      1881\n",
       "S13044    520764      1729\n",
       "S13051    107452       354\n",
       "S13052    100314       250\n",
       "S14006    712839      2284\n",
       "S14010    790361      2290\n",
       "S14011    805724      2434\n",
       "S14012    720600      2412\n",
       "S14021    699511      2231\n",
       "S14022    651328      2047\n",
       "S14023    727630      2258\n",
       "S14024    736323      2417\n",
       "S14025    755581      2394\n",
       "S14026    824537      2503\n",
       "S14027    714550      2303\n",
       "S14028    786145      2458\n",
       "S14033    725318      2282\n",
       "S14034    653681      2024\n",
       "S14036    203694       635\n",
       "S14040    701858      2233\n",
       "S14042    534689      1935\n",
       "S14045    458484      1398\n",
       "S14046    412646      1354\n",
       "S14047    338329      1041\n",
       "S14048    234276       769\n",
       "S14049    230808       788\n",
       "S14050    167090       580"
      ]
     },
     "execution_count": 40,
     "metadata": {
      "tags": []
     },
     "output_type": "execute_result"
    }
   ],
   "source": [
    "df_023 = df_receipt.copy()\n",
    "df_023.groupby(\"store_cd\")[[\"amount\",\"quantity\"]].sum()\n",
    "\n",
    "\n"
   ]
  },
  {
   "cell_type": "markdown",
   "metadata": {
    "id": "F4RjuZr_hhyV"
   },
   "source": [
    "---\n",
    "> P-024: レシート明細データフレーム（df_receipt）に対し、顧客ID（customer_id）ごとに最も新しい売上日（sales_ymd）を求め、10件表示せよ。"
   ]
  },
  {
   "cell_type": "code",
   "execution_count": null,
   "metadata": {
    "colab": {
     "base_uri": "https://localhost:8080/",
     "height": 228
    },
    "executionInfo": {
     "elapsed": 920,
     "status": "ok",
     "timestamp": 1601127128988,
     "user": {
      "displayName": "ししぞう",
      "photoUrl": "https://lh3.googleusercontent.com/a-/AOh14GhjLtZCTS59IIEP1zssr09agt_qGp10CwS1J0Pq=s64",
      "userId": "07139038096484400229"
     },
     "user_tz": -540
    },
    "id": "ir6Oke73hhyV",
    "outputId": "625f46a7-7525-4490-d4c6-9a411ed2fd75"
   },
   "outputs": [
    {
     "data": {
      "text/plain": [
       "customer_id\n",
       "CS001113000004   2019-03-08\n",
       "CS001114000005   2019-07-31\n",
       "CS001115000010   2019-04-05\n",
       "CS001205000004   2019-06-25\n",
       "CS001205000006   2019-02-24\n",
       "CS001211000025   2019-03-22\n",
       "CS001212000027   2017-01-27\n",
       "CS001212000031   2018-09-06\n",
       "CS001212000046   2017-08-11\n",
       "CS001212000070   2019-10-18\n",
       "Name: sales_ymd, dtype: datetime64[ns]"
      ]
     },
     "execution_count": 82,
     "metadata": {
      "tags": []
     },
     "output_type": "execute_result"
    }
   ],
   "source": [
    "df_024 = df_receipt.copy()\n",
    "#日付型に変更\n",
    "df_024[\"sales_ymd\"] = pd.to_datetime(df_024[\"sales_ymd\"],format=\"%Y%m%d\") \n",
    "#日付型に変更されたか確認\n",
    "df_024[\"sales_ymd\"]\n",
    "#顧客ID（customer_id）ごとに最も新しい売上日の頭10件表示\n",
    "df_024.groupby(\"customer_id\")[\"sales_ymd\"].max().head(10)"
   ]
  },
  {
   "cell_type": "markdown",
   "metadata": {
    "id": "QZlvMM7AhhyX"
   },
   "source": [
    "---\n",
    "> P-025: レシート明細データフレーム（df_receipt）に対し、顧客ID（customer_id）ごとに最も古い売上日（sales_ymd）を求め、10件表示せよ。"
   ]
  },
  {
   "cell_type": "code",
   "execution_count": null,
   "metadata": {
    "colab": {
     "base_uri": "https://localhost:8080/",
     "height": 228
    },
    "executionInfo": {
     "elapsed": 887,
     "status": "ok",
     "timestamp": 1601126903454,
     "user": {
      "displayName": "ししぞう",
      "photoUrl": "https://lh3.googleusercontent.com/a-/AOh14GhjLtZCTS59IIEP1zssr09agt_qGp10CwS1J0Pq=s64",
      "userId": "07139038096484400229"
     },
     "user_tz": -540
    },
    "id": "MFnLotE_hhyX",
    "outputId": "99f6ec54-a3d7-42c9-89de-c634ac182c65"
   },
   "outputs": [
    {
     "data": {
      "text/plain": [
       "customer_id\n",
       "CS001113000004   2019-03-08\n",
       "CS001114000005   2018-05-03\n",
       "CS001115000010   2017-12-28\n",
       "CS001205000004   2017-09-14\n",
       "CS001205000006   2018-02-07\n",
       "CS001211000025   2019-03-22\n",
       "CS001212000027   2017-01-27\n",
       "CS001212000031   2018-09-06\n",
       "CS001212000046   2017-08-11\n",
       "CS001212000070   2019-10-18\n",
       "Name: sales_ymd, dtype: datetime64[ns]"
      ]
     },
     "execution_count": 81,
     "metadata": {
      "tags": []
     },
     "output_type": "execute_result"
    }
   ],
   "source": [
    "df_025 = df_receipt.copy()\n",
    "df_025[\"sales_ymd\"] = pd.to_datetime(df_025[\"sales_ymd\"],format=\"%Y%m%d\") \n",
    "df_025[\"sales_ymd\"]\n",
    "df_025.groupby(\"customer_id\")[\"sales_ymd\"].min().head(10)\n"
   ]
  },
  {
   "cell_type": "markdown",
   "metadata": {
    "id": "QLeGVwYWhhyZ"
   },
   "source": [
    "---\n",
    "> P-026: レシート明細データフレーム（df_receipt）に対し、顧客ID（customer_id）ごとに最も新しい売上日（sales_ymd）と古い売上日を求め、両者が異なるデータを10件表示せよ。"
   ]
  },
  {
   "cell_type": "code",
   "execution_count": null,
   "metadata": {
    "colab": {
     "base_uri": "https://localhost:8080/",
     "height": 389
    },
    "executionInfo": {
     "elapsed": 951,
     "status": "ok",
     "timestamp": 1601128478792,
     "user": {
      "displayName": "ししぞう",
      "photoUrl": "https://lh3.googleusercontent.com/a-/AOh14GhjLtZCTS59IIEP1zssr09agt_qGp10CwS1J0Pq=s64",
      "userId": "07139038096484400229"
     },
     "user_tz": -540
    },
    "id": "q68lbEewhhyZ",
    "outputId": "02fe863c-2a00-4d00-b3d4-f9ce9db2aebc"
   },
   "outputs": [
    {
     "data": {
      "text/html": [
       "<div>\n",
       "<style scoped>\n",
       "    .dataframe tbody tr th:only-of-type {\n",
       "        vertical-align: middle;\n",
       "    }\n",
       "\n",
       "    .dataframe tbody tr th {\n",
       "        vertical-align: top;\n",
       "    }\n",
       "\n",
       "    .dataframe thead th {\n",
       "        text-align: right;\n",
       "    }\n",
       "</style>\n",
       "<table border=\"1\" class=\"dataframe\">\n",
       "  <thead>\n",
       "    <tr style=\"text-align: right;\">\n",
       "      <th></th>\n",
       "      <th>sales_ymd_min</th>\n",
       "      <th>sales_ymd_max</th>\n",
       "    </tr>\n",
       "    <tr>\n",
       "      <th>customer_id</th>\n",
       "      <th></th>\n",
       "      <th></th>\n",
       "    </tr>\n",
       "  </thead>\n",
       "  <tbody>\n",
       "    <tr>\n",
       "      <th>CS001114000005</th>\n",
       "      <td>2018-05-03</td>\n",
       "      <td>2019-07-31</td>\n",
       "    </tr>\n",
       "    <tr>\n",
       "      <th>CS001115000010</th>\n",
       "      <td>2017-12-28</td>\n",
       "      <td>2019-04-05</td>\n",
       "    </tr>\n",
       "    <tr>\n",
       "      <th>CS001205000004</th>\n",
       "      <td>2017-09-14</td>\n",
       "      <td>2019-06-25</td>\n",
       "    </tr>\n",
       "    <tr>\n",
       "      <th>CS001205000006</th>\n",
       "      <td>2018-02-07</td>\n",
       "      <td>2019-02-24</td>\n",
       "    </tr>\n",
       "    <tr>\n",
       "      <th>CS001214000009</th>\n",
       "      <td>2017-03-06</td>\n",
       "      <td>2019-09-02</td>\n",
       "    </tr>\n",
       "    <tr>\n",
       "      <th>CS001214000017</th>\n",
       "      <td>2018-08-28</td>\n",
       "      <td>2019-10-06</td>\n",
       "    </tr>\n",
       "    <tr>\n",
       "      <th>CS001214000048</th>\n",
       "      <td>2017-11-09</td>\n",
       "      <td>2019-09-29</td>\n",
       "    </tr>\n",
       "    <tr>\n",
       "      <th>CS001214000052</th>\n",
       "      <td>2018-02-08</td>\n",
       "      <td>2019-06-17</td>\n",
       "    </tr>\n",
       "    <tr>\n",
       "      <th>CS001215000005</th>\n",
       "      <td>2017-02-06</td>\n",
       "      <td>2018-10-21</td>\n",
       "    </tr>\n",
       "    <tr>\n",
       "      <th>CS001215000040</th>\n",
       "      <td>2017-02-14</td>\n",
       "      <td>2017-10-22</td>\n",
       "    </tr>\n",
       "  </tbody>\n",
       "</table>\n",
       "</div>"
      ],
      "text/plain": [
       "               sales_ymd_min sales_ymd_max\n",
       "customer_id                               \n",
       "CS001114000005    2018-05-03    2019-07-31\n",
       "CS001115000010    2017-12-28    2019-04-05\n",
       "CS001205000004    2017-09-14    2019-06-25\n",
       "CS001205000006    2018-02-07    2019-02-24\n",
       "CS001214000009    2017-03-06    2019-09-02\n",
       "CS001214000017    2018-08-28    2019-10-06\n",
       "CS001214000048    2017-11-09    2019-09-29\n",
       "CS001214000052    2018-02-08    2019-06-17\n",
       "CS001215000005    2017-02-06    2018-10-21\n",
       "CS001215000040    2017-02-14    2017-10-22"
      ]
     },
     "execution_count": 94,
     "metadata": {
      "tags": []
     },
     "output_type": "execute_result"
    }
   ],
   "source": [
    "df_026 = df_receipt.copy()\n",
    "df_026[\"sales_ymd\"] = pd.to_datetime(df_026[\"sales_ymd\"],format=\"%Y%m%d\") \n",
    "#キー(customer_id)とminの塊つくる\n",
    "s_026_ymd_min = df_026.groupby(\"customer_id\")[\"sales_ymd\"].min()\n",
    "s_026_ymd_min.name=\"sales_ymd_min\"\n",
    "\n",
    "#キー(customer_id)とmaxの塊つくる\n",
    "s_026_ymd_max = df_026.groupby(\"customer_id\")[\"sales_ymd\"].max()\n",
    "s_026_ymd_max.name=\"sales_ymd_max\"\n",
    "#concat 塊をくっつけるから、[]でくくる。書いてある順に塊をくっつける。axis=1がないと縦にくっつける。axis=1 で横に１つくっつける\n",
    "#キーが同じもの同士くっつけるときに列名を変える→キーが全部同じだから、concat使える。違う場合は、merge（ゆかりおさんの参照）\n",
    "df_026_con = pd.concat([s_026_ymd_min,s_026_ymd_max],axis=1)\n",
    "\n",
    "# キーとTrue or Falesか結果をだす\n",
    "# df_026_con[\"sales_ymd_min\"] != df_026_con[\"sales_ymd_max\"]\n",
    "#↓\n",
    "#Trueになるものだけだす\n",
    "df_026_con[df_026_con[\"sales_ymd_min\"] != df_026_con[\"sales_ymd_max\"]].head(10)\n"
   ]
  },
  {
   "cell_type": "markdown",
   "metadata": {
    "id": "259M7d7Ohhyb"
   },
   "source": [
    "---\n",
    "> P-027: レシート明細データフレーム（df_receipt）に対し、店舗コード（store_cd）ごとに売上金額（amount）の平均を計算し、降順でTOP5を表示せよ。"
   ]
  },
  {
   "cell_type": "code",
   "execution_count": null,
   "metadata": {
    "colab": {
     "base_uri": "https://localhost:8080/",
     "height": 140
    },
    "executionInfo": {
     "elapsed": 944,
     "status": "ok",
     "timestamp": 1601131738705,
     "user": {
      "displayName": "ししぞう",
      "photoUrl": "https://lh3.googleusercontent.com/a-/AOh14GhjLtZCTS59IIEP1zssr09agt_qGp10CwS1J0Pq=s64",
      "userId": "07139038096484400229"
     },
     "user_tz": -540
    },
    "id": "i5ehOOaBhhyb",
    "outputId": "c7240372-0e7d-4680-8f5c-db661091e965"
   },
   "outputs": [
    {
     "data": {
      "text/plain": [
       "store_cd\n",
       "S13052    402.867470\n",
       "S13015    351.111960\n",
       "S13003    350.915519\n",
       "S14010    348.791262\n",
       "S13001    348.470386\n",
       "Name: amount, dtype: float64"
      ]
     },
     "execution_count": 118,
     "metadata": {
      "tags": []
     },
     "output_type": "execute_result"
    }
   ],
   "source": [
    "df_027 = df_receipt.copy()\n",
    "df_027.groupby(\"store_cd\")[\"amount\"].mean().sort_values(ascending=False).head(5)\n"
   ]
  },
  {
   "cell_type": "markdown",
   "metadata": {
    "id": "fB5bsz7quswH"
   },
   "source": [
    "# P-28"
   ]
  },
  {
   "cell_type": "markdown",
   "metadata": {
    "id": "5oUtacPihhyc"
   },
   "source": [
    "---\n",
    "> P-028: レシート明細データフレーム（df_receipt）に対し、店舗コード（store_cd）ごとに売上金額（amount）の中央値を計算し、降順でTOP5を表示せよ。"
   ]
  },
  {
   "cell_type": "code",
   "execution_count": null,
   "metadata": {
    "colab": {
     "base_uri": "https://localhost:8080/",
     "height": 140
    },
    "executionInfo": {
     "elapsed": 877,
     "status": "ok",
     "timestamp": 1601131840065,
     "user": {
      "displayName": "ししぞう",
      "photoUrl": "https://lh3.googleusercontent.com/a-/AOh14GhjLtZCTS59IIEP1zssr09agt_qGp10CwS1J0Pq=s64",
      "userId": "07139038096484400229"
     },
     "user_tz": -540
    },
    "id": "-s9SplCEhhyd",
    "outputId": "aeda91f7-5dc9-4fe7-f8a5-a4aebd365c62"
   },
   "outputs": [
    {
     "data": {
      "text/plain": [
       "store_cd\n",
       "S13052    190\n",
       "S14010    188\n",
       "S14050    185\n",
       "S14040    180\n",
       "S13003    180\n",
       "Name: amount, dtype: int64"
      ]
     },
     "execution_count": 119,
     "metadata": {
      "tags": []
     },
     "output_type": "execute_result"
    }
   ],
   "source": [
    "df_028 = df_receipt.copy()\n",
    "df_028.groupby(\"store_cd\")[\"amount\"].median().sort_values(ascending=False).head()"
   ]
  },
  {
   "cell_type": "markdown",
   "metadata": {
    "id": "J-T4pnubvNgd"
   },
   "source": [
    "# P-29"
   ]
  },
  {
   "cell_type": "markdown",
   "metadata": {
    "id": "4i4pM4Cmhhye"
   },
   "source": [
    "---\n",
    "> P-029: レシート明細データフレーム（df_receipt）に対し、店舗コード（store_cd）ごとに商品コード（product_cd）の最頻値を求めよ。"
   ]
  },
  {
   "cell_type": "code",
   "execution_count": null,
   "metadata": {
    "colab": {
     "base_uri": "https://localhost:8080/",
     "height": 1000
    },
    "executionInfo": {
     "elapsed": 984,
     "status": "ok",
     "timestamp": 1601133337273,
     "user": {
      "displayName": "ししぞう",
      "photoUrl": "https://lh3.googleusercontent.com/a-/AOh14GhjLtZCTS59IIEP1zssr09agt_qGp10CwS1J0Pq=s64",
      "userId": "07139038096484400229"
     },
     "user_tz": -540
    },
    "id": "DsX1TXZIhhye",
    "outputId": "80e906b0-aa5b-40ca-c99b-d423d0e79e3c"
   },
   "outputs": [
    {
     "data": {
      "text/plain": [
       "store_cd   \n",
       "S12007    0    P060303001\n",
       "S12013    0    P060303001\n",
       "S12014    0    P060303001\n",
       "S12029    0    P060303001\n",
       "S12030    0    P060303001\n",
       "S13001    0    P060303001\n",
       "S13002    0    P060303001\n",
       "S13003    0    P071401001\n",
       "S13004    0    P060303001\n",
       "S13005    0    P040503001\n",
       "S13008    0    P060303001\n",
       "S13009    0    P060303001\n",
       "S13015    0    P071401001\n",
       "S13016    0    P071102001\n",
       "S13017    0    P060101002\n",
       "S13018    0    P071401001\n",
       "S13019    0    P071401001\n",
       "S13020    0    P071401001\n",
       "S13031    0    P060303001\n",
       "S13032    0    P060303001\n",
       "S13035    0    P040503001\n",
       "S13037    0    P060303001\n",
       "S13038    0    P060303001\n",
       "S13039    0    P071401001\n",
       "S13041    0    P071401001\n",
       "S13043    0    P060303001\n",
       "S13044    0    P060303001\n",
       "S13051    0    P050102001\n",
       "          1    P071003001\n",
       "          2    P080804001\n",
       "S13052    0    P050101001\n",
       "S14006    0    P060303001\n",
       "S14010    0    P060303001\n",
       "S14011    0    P060101001\n",
       "S14012    0    P060303001\n",
       "S14021    0    P060101001\n",
       "S14022    0    P060303001\n",
       "S14023    0    P071401001\n",
       "S14024    0    P060303001\n",
       "S14025    0    P060303001\n",
       "S14026    0    P071401001\n",
       "S14027    0    P060303001\n",
       "S14028    0    P060303001\n",
       "S14033    0    P071401001\n",
       "S14034    0    P060303001\n",
       "S14036    0    P040503001\n",
       "          1    P060101001\n",
       "S14040    0    P060303001\n",
       "S14042    0    P050101001\n",
       "S14045    0    P060303001\n",
       "S14046    0    P060303001\n",
       "S14047    0    P060303001\n",
       "S14048    0    P050101001\n",
       "S14049    0    P060303001\n",
       "S14050    0    P060303001\n",
       "Name: product_cd, dtype: object"
      ]
     },
     "execution_count": 136,
     "metadata": {
      "tags": []
     },
     "output_type": "execute_result"
    }
   ],
   "source": [
    "df29 = df_receipt.copy()\n",
    "# groupby の中身をみたいときは、リストでみれる。1個目：グループ化したときのキー、2個目：グループ化の対象の塊\n",
    "# list(df29.groupby([\"store_cd\", \"product_cd\"]))\n",
    "df29.groupby(\"store_cd\")[\"product_cd\"].apply(lambda x: x.mode())\n",
    "#groupbyが提供しているメソッドに限りがある。applyで1つ1つのセルごとに関数を適用している。\n",
    "# ラムダ式\n",
    "#https://www.atmarkit.co.jp/ait/articles/1908/26/news124.html\n"
   ]
  },
  {
   "cell_type": "code",
   "execution_count": null,
   "metadata": {
    "colab": {
     "base_uri": "https://localhost:8080/",
     "height": 448
    },
    "executionInfo": {
     "elapsed": 785,
     "status": "ok",
     "timestamp": 1601136348320,
     "user": {
      "displayName": "ししぞう",
      "photoUrl": "https://lh3.googleusercontent.com/a-/AOh14GhjLtZCTS59IIEP1zssr09agt_qGp10CwS1J0Pq=s64",
      "userId": "07139038096484400229"
     },
     "user_tz": -540
    },
    "id": "kSovKEOh5nOb",
    "outputId": "1842e36c-3fae-4377-948c-a9456c1385a6"
   },
   "outputs": [
    {
     "data": {
      "text/html": [
       "<div>\n",
       "<style scoped>\n",
       "    .dataframe tbody tr th:only-of-type {\n",
       "        vertical-align: middle;\n",
       "    }\n",
       "\n",
       "    .dataframe tbody tr th {\n",
       "        vertical-align: top;\n",
       "    }\n",
       "\n",
       "    .dataframe thead th {\n",
       "        text-align: right;\n",
       "    }\n",
       "</style>\n",
       "<table border=\"1\" class=\"dataframe\">\n",
       "  <thead>\n",
       "    <tr style=\"text-align: right;\">\n",
       "      <th></th>\n",
       "      <th></th>\n",
       "      <th>cnt</th>\n",
       "    </tr>\n",
       "    <tr>\n",
       "      <th>store_cd</th>\n",
       "      <th>product_cd</th>\n",
       "      <th></th>\n",
       "    </tr>\n",
       "  </thead>\n",
       "  <tbody>\n",
       "    <tr>\n",
       "      <th rowspan=\"5\" valign=\"top\">S12007</th>\n",
       "      <th>P040101001</th>\n",
       "      <td>11</td>\n",
       "    </tr>\n",
       "    <tr>\n",
       "      <th>P040101002</th>\n",
       "      <td>5</td>\n",
       "    </tr>\n",
       "    <tr>\n",
       "      <th>P040101003</th>\n",
       "      <td>3</td>\n",
       "    </tr>\n",
       "    <tr>\n",
       "      <th>P040101005</th>\n",
       "      <td>3</td>\n",
       "    </tr>\n",
       "    <tr>\n",
       "      <th>P040101008</th>\n",
       "      <td>1</td>\n",
       "    </tr>\n",
       "    <tr>\n",
       "      <th>...</th>\n",
       "      <th>...</th>\n",
       "      <td>...</td>\n",
       "    </tr>\n",
       "    <tr>\n",
       "      <th rowspan=\"5\" valign=\"top\">S14050</th>\n",
       "      <th>P091501002</th>\n",
       "      <td>1</td>\n",
       "    </tr>\n",
       "    <tr>\n",
       "      <th>P091501036</th>\n",
       "      <td>1</td>\n",
       "    </tr>\n",
       "    <tr>\n",
       "      <th>P091503001</th>\n",
       "      <td>7</td>\n",
       "    </tr>\n",
       "    <tr>\n",
       "      <th>P091503002</th>\n",
       "      <td>1</td>\n",
       "    </tr>\n",
       "    <tr>\n",
       "      <th>P091503004</th>\n",
       "      <td>1</td>\n",
       "    </tr>\n",
       "  </tbody>\n",
       "</table>\n",
       "<p>54194 rows × 1 columns</p>\n",
       "</div>"
      ],
      "text/plain": [
       "                     cnt\n",
       "store_cd product_cd     \n",
       "S12007   P040101001   11\n",
       "         P040101002    5\n",
       "         P040101003    3\n",
       "         P040101005    3\n",
       "         P040101008    1\n",
       "...                  ...\n",
       "S14050   P091501002    1\n",
       "         P091501036    1\n",
       "         P091503001    7\n",
       "         P091503002    1\n",
       "         P091503004    1\n",
       "\n",
       "[54194 rows x 1 columns]"
      ]
     },
     "execution_count": 173,
     "metadata": {
      "tags": []
     },
     "output_type": "execute_result"
    }
   ],
   "source": [
    "w = pd.DataFrame(df29.groupby([\"store_cd\", \"product_cd\"]).size(),columns=['cnt'])\n",
    "w\n",
    "\n"
   ]
  },
  {
   "cell_type": "markdown",
   "metadata": {
    "id": "UPsvb9zGvkVd"
   },
   "source": [
    "# P-30"
   ]
  },
  {
   "cell_type": "markdown",
   "metadata": {
    "id": "DKpNVF4Ahhyg"
   },
   "source": [
    "---\n",
    "> P-030: レシート明細データフレーム（df_receipt）に対し、店舗コード（store_cd）ごとに売上金額（amount）の標本分散を計算し、降順でTOP5を表示せよ。"
   ]
  },
  {
   "cell_type": "code",
   "execution_count": null,
   "metadata": {
    "colab": {
     "base_uri": "https://localhost:8080/",
     "height": 140
    },
    "executionInfo": {
     "elapsed": 794,
     "status": "ok",
     "timestamp": 1602997957536,
     "user": {
      "displayName": "ししぞう",
      "photoUrl": "https://lh3.googleusercontent.com/a-/AOh14GhjLtZCTS59IIEP1zssr09agt_qGp10CwS1J0Pq=s64",
      "userId": "07139038096484400229"
     },
     "user_tz": -540
    },
    "id": "f16kNU11DORz",
    "outputId": "42c220cb-0e09-4e56-c83e-2da86b689108"
   },
   "outputs": [
    {
     "data": {
      "text/plain": [
       "store_cd\n",
       "S13052    440088.701311\n",
       "S14011    306314.558164\n",
       "S14034    296920.081011\n",
       "S13001    295431.993329\n",
       "S13015    295294.361116\n",
       "Name: amount, dtype: float64"
      ]
     },
     "execution_count": 11,
     "metadata": {
      "tags": []
     },
     "output_type": "execute_result"
    }
   ],
   "source": [
    "df_30 = df_receipt.copy()\n",
    "df_30.groupby(\"store_cd\")[\"amount\"].var(ddof=0).sort_values(ascending=False).head()"
   ]
  },
  {
   "cell_type": "markdown",
   "metadata": {
    "id": "erGZQnhUvua7"
   },
   "source": [
    "# P-31"
   ]
  },
  {
   "cell_type": "markdown",
   "metadata": {
    "id": "KQUwt_Zghhyi"
   },
   "source": [
    "---\n",
    "> P-031: レシート明細データフレーム（df_receipt）に対し、店舗コード（store_cd）ごとに売上金額（amount）の標本標準偏差を計算し、降順でTOP5を表示せよ。"
   ]
  },
  {
   "cell_type": "code",
   "execution_count": null,
   "metadata": {
    "colab": {
     "base_uri": "https://localhost:8080/",
     "height": 140
    },
    "executionInfo": {
     "elapsed": 604,
     "status": "ok",
     "timestamp": 1602997569999,
     "user": {
      "displayName": "ししぞう",
      "photoUrl": "https://lh3.googleusercontent.com/a-/AOh14GhjLtZCTS59IIEP1zssr09agt_qGp10CwS1J0Pq=s64",
      "userId": "07139038096484400229"
     },
     "user_tz": -540
    },
    "id": "7UwDIKcZhhyi",
    "outputId": "2ef87ae5-ec82-420d-b904-eb532c5ec6e8"
   },
   "outputs": [
    {
     "data": {
      "text/plain": [
       "store_cd\n",
       "S13052    663.391816\n",
       "S14011    553.456916\n",
       "S14034    544.903736\n",
       "S13001    543.536561\n",
       "S13015    543.409938\n",
       "Name: amount, dtype: float64"
      ]
     },
     "execution_count": 7,
     "metadata": {
      "tags": []
     },
     "output_type": "execute_result"
    }
   ],
   "source": [
    "df_31 = df_receipt.copy()\n",
    "df_31.groupby(\"store_cd\")[\"amount\"].std(ddof=0).sort_values(ascending=False).head()"
   ]
  },
  {
   "cell_type": "markdown",
   "metadata": {
    "id": "0-Dj25lfv55q"
   },
   "source": [
    "# P-32"
   ]
  },
  {
   "cell_type": "markdown",
   "metadata": {
    "id": "DpGB1z1Ehhyj"
   },
   "source": [
    "---\n",
    "> P-032: レシート明細データフレーム（df_receipt）の売上金額（amount）について、25％刻みでパーセンタイル値を求めよ。"
   ]
  },
  {
   "cell_type": "code",
   "execution_count": null,
   "metadata": {
    "colab": {
     "base_uri": "https://localhost:8080/",
     "height": 122
    },
    "executionInfo": {
     "elapsed": 674,
     "status": "ok",
     "timestamp": 1602997817616,
     "user": {
      "displayName": "ししぞう",
      "photoUrl": "https://lh3.googleusercontent.com/a-/AOh14GhjLtZCTS59IIEP1zssr09agt_qGp10CwS1J0Pq=s64",
      "userId": "07139038096484400229"
     },
     "user_tz": -540
    },
    "id": "JBG97d1yhhyk",
    "outputId": "67249a1e-2e8c-4984-d14d-b8a79a18718c"
   },
   "outputs": [
    {
     "data": {
      "text/plain": [
       "0.00       10.0\n",
       "0.25      102.0\n",
       "0.50      170.0\n",
       "0.75      288.0\n",
       "1.00    10925.0\n",
       "Name: amount, dtype: float64"
      ]
     },
     "execution_count": 9,
     "metadata": {
      "tags": []
     },
     "output_type": "execute_result"
    }
   ],
   "source": [
    "df_32 = df_receipt.copy()\n",
    "df_31[\"amount\"].quantile([0, 0.25, 0.5, 0.75, 1.0])"
   ]
  },
  {
   "cell_type": "markdown",
   "metadata": {
    "id": "A41bm701wCZf"
   },
   "source": [
    "# P-33"
   ]
  },
  {
   "cell_type": "markdown",
   "metadata": {
    "id": "mYPLc_n4hhyl"
   },
   "source": [
    "---\n",
    "> P-033: レシート明細データフレーム（df_receipt）に対し、店舗コード（store_cd）ごとに売上金額（amount）の平均を計算し、330以上のものを抽出せよ。"
   ]
  },
  {
   "cell_type": "code",
   "execution_count": 7,
   "metadata": {
    "colab": {
     "base_uri": "https://localhost:8080/",
     "height": 281
    },
    "executionInfo": {
     "elapsed": 659,
     "status": "ok",
     "timestamp": 1602998751128,
     "user": {
      "displayName": "ししぞう",
      "photoUrl": "https://lh3.googleusercontent.com/a-/AOh14GhjLtZCTS59IIEP1zssr09agt_qGp10CwS1J0Pq=s64",
      "userId": "07139038096484400229"
     },
     "user_tz": -540
    },
    "id": "mJsrgWhNhhym",
    "outputId": "145b6856-ac20-44fe-c271-53b396e31f03"
   },
   "outputs": [
    {
     "data": {
      "text/html": [
       "<div>\n",
       "<style scoped>\n",
       "    .dataframe tbody tr th:only-of-type {\n",
       "        vertical-align: middle;\n",
       "    }\n",
       "\n",
       "    .dataframe tbody tr th {\n",
       "        vertical-align: top;\n",
       "    }\n",
       "\n",
       "    .dataframe thead th {\n",
       "        text-align: right;\n",
       "    }\n",
       "</style>\n",
       "<table border=\"1\" class=\"dataframe\">\n",
       "  <thead>\n",
       "    <tr style=\"text-align: right;\">\n",
       "      <th></th>\n",
       "      <th>amount</th>\n",
       "    </tr>\n",
       "    <tr>\n",
       "      <th>store_cd</th>\n",
       "      <th></th>\n",
       "    </tr>\n",
       "  </thead>\n",
       "  <tbody>\n",
       "    <tr>\n",
       "      <th>S12013</th>\n",
       "      <td>330.194130</td>\n",
       "    </tr>\n",
       "    <tr>\n",
       "      <th>S13001</th>\n",
       "      <td>348.470386</td>\n",
       "    </tr>\n",
       "    <tr>\n",
       "      <th>S13003</th>\n",
       "      <td>350.915519</td>\n",
       "    </tr>\n",
       "    <tr>\n",
       "      <th>S13004</th>\n",
       "      <td>330.943949</td>\n",
       "    </tr>\n",
       "    <tr>\n",
       "      <th>S13015</th>\n",
       "      <td>351.111960</td>\n",
       "    </tr>\n",
       "    <tr>\n",
       "      <th>S13019</th>\n",
       "      <td>330.208616</td>\n",
       "    </tr>\n",
       "    <tr>\n",
       "      <th>S13020</th>\n",
       "      <td>337.879932</td>\n",
       "    </tr>\n",
       "    <tr>\n",
       "      <th>S13052</th>\n",
       "      <td>402.867470</td>\n",
       "    </tr>\n",
       "    <tr>\n",
       "      <th>S14010</th>\n",
       "      <td>348.791262</td>\n",
       "    </tr>\n",
       "    <tr>\n",
       "      <th>S14011</th>\n",
       "      <td>335.718333</td>\n",
       "    </tr>\n",
       "    <tr>\n",
       "      <th>S14026</th>\n",
       "      <td>332.340588</td>\n",
       "    </tr>\n",
       "    <tr>\n",
       "      <th>S14045</th>\n",
       "      <td>330.082073</td>\n",
       "    </tr>\n",
       "    <tr>\n",
       "      <th>S14047</th>\n",
       "      <td>330.077073</td>\n",
       "    </tr>\n",
       "  </tbody>\n",
       "</table>\n",
       "</div>"
      ],
      "text/plain": [
       "              amount\n",
       "store_cd            \n",
       "S12013    330.194130\n",
       "S13001    348.470386\n",
       "S13003    350.915519\n",
       "S13004    330.943949\n",
       "S13015    351.111960\n",
       "S13019    330.208616\n",
       "S13020    337.879932\n",
       "S13052    402.867470\n",
       "S14010    348.791262\n",
       "S14011    335.718333\n",
       "S14026    332.340588\n",
       "S14045    330.082073\n",
       "S14047    330.077073"
      ]
     },
     "execution_count": 7,
     "metadata": {},
     "output_type": "execute_result"
    }
   ],
   "source": [
    "df_33 = df_receipt.copy()\n",
    "df33_w = df_33.groupby(\"store_cd\")[[\"amount\"]].mean()\n",
    "df33_w[(df33_w[\"amount\"]>=330)]\n"
   ]
  },
  {
   "cell_type": "code",
   "execution_count": 8,
   "metadata": {},
   "outputs": [
    {
     "data": {
      "text/plain": [
       "pandas.core.frame.DataFrame"
      ]
     },
     "execution_count": 8,
     "metadata": {},
     "output_type": "execute_result"
    }
   ],
   "source": [
    "type(df33_w)"
   ]
  },
  {
   "cell_type": "markdown",
   "metadata": {
    "id": "_5b3H5q7wQlX"
   },
   "source": [
    "# P-34"
   ]
  },
  {
   "cell_type": "markdown",
   "metadata": {
    "id": "Wraz5peFhhyo"
   },
   "source": [
    "---\n",
    "> P-034: レシート明細データフレーム（df_receipt）に対し、顧客ID（customer_id）ごとに売上金額（amount）を合計して全顧客の平均を求めよ。ただし、顧客IDが\"Z\"から始まるのものは非会員を表すため、除外して計算すること。\n"
   ]
  },
  {
   "cell_type": "code",
   "execution_count": null,
   "metadata": {
    "id": "hYgDnVGjhhyo"
   },
   "outputs": [],
   "source": [
    "df_34 = df_receipt.copy()\n"
   ]
  },
  {
   "cell_type": "code",
   "execution_count": null,
   "metadata": {
    "colab": {
     "base_uri": "https://localhost:8080/",
     "height": 417
    },
    "executionInfo": {
     "elapsed": 1184,
     "status": "ok",
     "timestamp": 1603000223612,
     "user": {
      "displayName": "ししぞう",
      "photoUrl": "https://lh3.googleusercontent.com/a-/AOh14GhjLtZCTS59IIEP1zssr09agt_qGp10CwS1J0Pq=s64",
      "userId": "07139038096484400229"
     },
     "user_tz": -540
    },
    "id": "E8pn9yatQip4",
    "outputId": "ab1e48ab-cd88-4c76-b9ba-5cb123bb3569"
   },
   "outputs": [
    {
     "data": {
      "text/html": [
       "<div>\n",
       "<style scoped>\n",
       "    .dataframe tbody tr th:only-of-type {\n",
       "        vertical-align: middle;\n",
       "    }\n",
       "\n",
       "    .dataframe tbody tr th {\n",
       "        vertical-align: top;\n",
       "    }\n",
       "\n",
       "    .dataframe thead th {\n",
       "        text-align: right;\n",
       "    }\n",
       "</style>\n",
       "<table border=\"1\" class=\"dataframe\">\n",
       "  <thead>\n",
       "    <tr style=\"text-align: right;\">\n",
       "      <th></th>\n",
       "      <th>sales_ymd</th>\n",
       "      <th>sales_epoch</th>\n",
       "      <th>store_cd</th>\n",
       "      <th>receipt_no</th>\n",
       "      <th>receipt_sub_no</th>\n",
       "      <th>customer_id</th>\n",
       "      <th>product_cd</th>\n",
       "      <th>quantity</th>\n",
       "      <th>amount</th>\n",
       "    </tr>\n",
       "  </thead>\n",
       "  <tbody>\n",
       "    <tr>\n",
       "      <th>3</th>\n",
       "      <td>20190205</td>\n",
       "      <td>1549324800</td>\n",
       "      <td>S14042</td>\n",
       "      <td>1132</td>\n",
       "      <td>1</td>\n",
       "      <td>ZZ000000000000</td>\n",
       "      <td>P050301001</td>\n",
       "      <td>1</td>\n",
       "      <td>25</td>\n",
       "    </tr>\n",
       "    <tr>\n",
       "      <th>8</th>\n",
       "      <td>20170504</td>\n",
       "      <td>1493856000</td>\n",
       "      <td>S13020</td>\n",
       "      <td>1112</td>\n",
       "      <td>2</td>\n",
       "      <td>ZZ000000000000</td>\n",
       "      <td>P071302010</td>\n",
       "      <td>1</td>\n",
       "      <td>770</td>\n",
       "    </tr>\n",
       "    <tr>\n",
       "      <th>14</th>\n",
       "      <td>20180329</td>\n",
       "      <td>1522281600</td>\n",
       "      <td>S12014</td>\n",
       "      <td>1122</td>\n",
       "      <td>1</td>\n",
       "      <td>ZZ000000000000</td>\n",
       "      <td>P050104001</td>\n",
       "      <td>1</td>\n",
       "      <td>115</td>\n",
       "    </tr>\n",
       "    <tr>\n",
       "      <th>15</th>\n",
       "      <td>20170116</td>\n",
       "      <td>1484524800</td>\n",
       "      <td>S13002</td>\n",
       "      <td>1112</td>\n",
       "      <td>1</td>\n",
       "      <td>ZZ000000000000</td>\n",
       "      <td>P080803001</td>\n",
       "      <td>1</td>\n",
       "      <td>100</td>\n",
       "    </tr>\n",
       "    <tr>\n",
       "      <th>16</th>\n",
       "      <td>20190621</td>\n",
       "      <td>1561075200</td>\n",
       "      <td>S13044</td>\n",
       "      <td>1142</td>\n",
       "      <td>2</td>\n",
       "      <td>ZZ000000000000</td>\n",
       "      <td>P040102001</td>\n",
       "      <td>1</td>\n",
       "      <td>268</td>\n",
       "    </tr>\n",
       "    <tr>\n",
       "      <th>...</th>\n",
       "      <td>...</td>\n",
       "      <td>...</td>\n",
       "      <td>...</td>\n",
       "      <td>...</td>\n",
       "      <td>...</td>\n",
       "      <td>...</td>\n",
       "      <td>...</td>\n",
       "      <td>...</td>\n",
       "      <td>...</td>\n",
       "    </tr>\n",
       "    <tr>\n",
       "      <th>104672</th>\n",
       "      <td>20180721</td>\n",
       "      <td>1532131200</td>\n",
       "      <td>S13043</td>\n",
       "      <td>1192</td>\n",
       "      <td>2</td>\n",
       "      <td>ZZ000000000000</td>\n",
       "      <td>P059001015</td>\n",
       "      <td>1</td>\n",
       "      <td>308</td>\n",
       "    </tr>\n",
       "    <tr>\n",
       "      <th>104675</th>\n",
       "      <td>20190430</td>\n",
       "      <td>1556582400</td>\n",
       "      <td>S13041</td>\n",
       "      <td>1122</td>\n",
       "      <td>1</td>\n",
       "      <td>ZZ000000000000</td>\n",
       "      <td>P070503012</td>\n",
       "      <td>1</td>\n",
       "      <td>100</td>\n",
       "    </tr>\n",
       "    <tr>\n",
       "      <th>104676</th>\n",
       "      <td>20180221</td>\n",
       "      <td>1519171200</td>\n",
       "      <td>S13043</td>\n",
       "      <td>1132</td>\n",
       "      <td>2</td>\n",
       "      <td>ZZ000000000000</td>\n",
       "      <td>P050101001</td>\n",
       "      <td>1</td>\n",
       "      <td>40</td>\n",
       "    </tr>\n",
       "    <tr>\n",
       "      <th>104677</th>\n",
       "      <td>20190911</td>\n",
       "      <td>1568160000</td>\n",
       "      <td>S14047</td>\n",
       "      <td>1132</td>\n",
       "      <td>2</td>\n",
       "      <td>ZZ000000000000</td>\n",
       "      <td>P071006005</td>\n",
       "      <td>1</td>\n",
       "      <td>218</td>\n",
       "    </tr>\n",
       "    <tr>\n",
       "      <th>104680</th>\n",
       "      <td>20190423</td>\n",
       "      <td>1555977600</td>\n",
       "      <td>S13016</td>\n",
       "      <td>1102</td>\n",
       "      <td>2</td>\n",
       "      <td>ZZ000000000000</td>\n",
       "      <td>P050601001</td>\n",
       "      <td>1</td>\n",
       "      <td>138</td>\n",
       "    </tr>\n",
       "  </tbody>\n",
       "</table>\n",
       "<p>38999 rows × 9 columns</p>\n",
       "</div>"
      ],
      "text/plain": [
       "        sales_ymd  sales_epoch store_cd  ...  product_cd  quantity amount\n",
       "3        20190205   1549324800   S14042  ...  P050301001         1     25\n",
       "8        20170504   1493856000   S13020  ...  P071302010         1    770\n",
       "14       20180329   1522281600   S12014  ...  P050104001         1    115\n",
       "15       20170116   1484524800   S13002  ...  P080803001         1    100\n",
       "16       20190621   1561075200   S13044  ...  P040102001         1    268\n",
       "...           ...          ...      ...  ...         ...       ...    ...\n",
       "104672   20180721   1532131200   S13043  ...  P059001015         1    308\n",
       "104675   20190430   1556582400   S13041  ...  P070503012         1    100\n",
       "104676   20180221   1519171200   S13043  ...  P050101001         1     40\n",
       "104677   20190911   1568160000   S14047  ...  P071006005         1    218\n",
       "104680   20190423   1555977600   S13016  ...  P050601001         1    138\n",
       "\n",
       "[38999 rows x 9 columns]"
      ]
     },
     "execution_count": 32,
     "metadata": {
      "tags": []
     },
     "output_type": "execute_result"
    }
   ],
   "source": [
    "df_receipt[df_receipt['customer_id'].str.startswith(\"Z\")]"
   ]
  },
  {
   "cell_type": "code",
   "execution_count": null,
   "metadata": {
    "colab": {
     "base_uri": "https://localhost:8080/",
     "height": 417
    },
    "executionInfo": {
     "elapsed": 706,
     "status": "ok",
     "timestamp": 1602999959760,
     "user": {
      "displayName": "ししぞう",
      "photoUrl": "https://lh3.googleusercontent.com/a-/AOh14GhjLtZCTS59IIEP1zssr09agt_qGp10CwS1J0Pq=s64",
      "userId": "07139038096484400229"
     },
     "user_tz": -540
    },
    "id": "JFJ3v17FLjM0",
    "outputId": "c5b2dfb8-d3db-47c3-93c4-3e84859e2a0c"
   },
   "outputs": [
    {
     "data": {
      "text/html": [
       "<div>\n",
       "<style scoped>\n",
       "    .dataframe tbody tr th:only-of-type {\n",
       "        vertical-align: middle;\n",
       "    }\n",
       "\n",
       "    .dataframe tbody tr th {\n",
       "        vertical-align: top;\n",
       "    }\n",
       "\n",
       "    .dataframe thead th {\n",
       "        text-align: right;\n",
       "    }\n",
       "</style>\n",
       "<table border=\"1\" class=\"dataframe\">\n",
       "  <thead>\n",
       "    <tr style=\"text-align: right;\">\n",
       "      <th></th>\n",
       "      <th>sales_ymd</th>\n",
       "      <th>sales_epoch</th>\n",
       "      <th>store_cd</th>\n",
       "      <th>receipt_no</th>\n",
       "      <th>receipt_sub_no</th>\n",
       "      <th>customer_id</th>\n",
       "      <th>product_cd</th>\n",
       "      <th>quantity</th>\n",
       "      <th>amount</th>\n",
       "    </tr>\n",
       "  </thead>\n",
       "  <tbody>\n",
       "    <tr>\n",
       "      <th>0</th>\n",
       "      <td>20181103</td>\n",
       "      <td>1541203200</td>\n",
       "      <td>S14006</td>\n",
       "      <td>112</td>\n",
       "      <td>1</td>\n",
       "      <td>CS006214000001</td>\n",
       "      <td>P070305012</td>\n",
       "      <td>1</td>\n",
       "      <td>158</td>\n",
       "    </tr>\n",
       "    <tr>\n",
       "      <th>1</th>\n",
       "      <td>20181118</td>\n",
       "      <td>1542499200</td>\n",
       "      <td>S13008</td>\n",
       "      <td>1132</td>\n",
       "      <td>2</td>\n",
       "      <td>CS008415000097</td>\n",
       "      <td>P070701017</td>\n",
       "      <td>1</td>\n",
       "      <td>81</td>\n",
       "    </tr>\n",
       "    <tr>\n",
       "      <th>2</th>\n",
       "      <td>20170712</td>\n",
       "      <td>1499817600</td>\n",
       "      <td>S14028</td>\n",
       "      <td>1102</td>\n",
       "      <td>1</td>\n",
       "      <td>CS028414000014</td>\n",
       "      <td>P060101005</td>\n",
       "      <td>1</td>\n",
       "      <td>170</td>\n",
       "    </tr>\n",
       "    <tr>\n",
       "      <th>4</th>\n",
       "      <td>20180821</td>\n",
       "      <td>1534809600</td>\n",
       "      <td>S14025</td>\n",
       "      <td>1102</td>\n",
       "      <td>2</td>\n",
       "      <td>CS025415000050</td>\n",
       "      <td>P060102007</td>\n",
       "      <td>1</td>\n",
       "      <td>90</td>\n",
       "    </tr>\n",
       "    <tr>\n",
       "      <th>5</th>\n",
       "      <td>20190605</td>\n",
       "      <td>1559692800</td>\n",
       "      <td>S13003</td>\n",
       "      <td>1112</td>\n",
       "      <td>1</td>\n",
       "      <td>CS003515000195</td>\n",
       "      <td>P050102002</td>\n",
       "      <td>1</td>\n",
       "      <td>138</td>\n",
       "    </tr>\n",
       "    <tr>\n",
       "      <th>...</th>\n",
       "      <td>...</td>\n",
       "      <td>...</td>\n",
       "      <td>...</td>\n",
       "      <td>...</td>\n",
       "      <td>...</td>\n",
       "      <td>...</td>\n",
       "      <td>...</td>\n",
       "      <td>...</td>\n",
       "      <td>...</td>\n",
       "    </tr>\n",
       "    <tr>\n",
       "      <th>104671</th>\n",
       "      <td>20180131</td>\n",
       "      <td>1517356800</td>\n",
       "      <td>S14010</td>\n",
       "      <td>1102</td>\n",
       "      <td>1</td>\n",
       "      <td>CS010414000008</td>\n",
       "      <td>P060103003</td>\n",
       "      <td>1</td>\n",
       "      <td>150</td>\n",
       "    </tr>\n",
       "    <tr>\n",
       "      <th>104673</th>\n",
       "      <td>20181217</td>\n",
       "      <td>1545004800</td>\n",
       "      <td>S13004</td>\n",
       "      <td>1142</td>\n",
       "      <td>2</td>\n",
       "      <td>CS004515000066</td>\n",
       "      <td>P059001016</td>\n",
       "      <td>1</td>\n",
       "      <td>308</td>\n",
       "    </tr>\n",
       "    <tr>\n",
       "      <th>104674</th>\n",
       "      <td>20190911</td>\n",
       "      <td>1568160000</td>\n",
       "      <td>S14046</td>\n",
       "      <td>1182</td>\n",
       "      <td>1</td>\n",
       "      <td>CS046415000017</td>\n",
       "      <td>P070703003</td>\n",
       "      <td>1</td>\n",
       "      <td>98</td>\n",
       "    </tr>\n",
       "    <tr>\n",
       "      <th>104678</th>\n",
       "      <td>20170311</td>\n",
       "      <td>1489190400</td>\n",
       "      <td>S14040</td>\n",
       "      <td>1122</td>\n",
       "      <td>1</td>\n",
       "      <td>CS040513000195</td>\n",
       "      <td>P050405003</td>\n",
       "      <td>1</td>\n",
       "      <td>168</td>\n",
       "    </tr>\n",
       "    <tr>\n",
       "      <th>104679</th>\n",
       "      <td>20170331</td>\n",
       "      <td>1490918400</td>\n",
       "      <td>S13002</td>\n",
       "      <td>1142</td>\n",
       "      <td>1</td>\n",
       "      <td>CS002513000049</td>\n",
       "      <td>P060303001</td>\n",
       "      <td>1</td>\n",
       "      <td>148</td>\n",
       "    </tr>\n",
       "  </tbody>\n",
       "</table>\n",
       "<p>65682 rows × 9 columns</p>\n",
       "</div>"
      ],
      "text/plain": [
       "        sales_ymd  sales_epoch store_cd  ...  product_cd  quantity amount\n",
       "0        20181103   1541203200   S14006  ...  P070305012         1    158\n",
       "1        20181118   1542499200   S13008  ...  P070701017         1     81\n",
       "2        20170712   1499817600   S14028  ...  P060101005         1    170\n",
       "4        20180821   1534809600   S14025  ...  P060102007         1     90\n",
       "5        20190605   1559692800   S13003  ...  P050102002         1    138\n",
       "...           ...          ...      ...  ...         ...       ...    ...\n",
       "104671   20180131   1517356800   S14010  ...  P060103003         1    150\n",
       "104673   20181217   1545004800   S13004  ...  P059001016         1    308\n",
       "104674   20190911   1568160000   S14046  ...  P070703003         1     98\n",
       "104678   20170311   1489190400   S14040  ...  P050405003         1    168\n",
       "104679   20170331   1490918400   S13002  ...  P060303001         1    148\n",
       "\n",
       "[65682 rows x 9 columns]"
      ]
     },
     "execution_count": 28,
     "metadata": {
      "tags": []
     },
     "output_type": "execute_result"
    }
   ],
   "source": [
    "df34_c = df_receipt[~df_receipt['customer_id'].str.startswith(\"Z\")]\n",
    "df34_c\n"
   ]
  },
  {
   "cell_type": "code",
   "execution_count": null,
   "metadata": {
    "colab": {
     "base_uri": "https://localhost:8080/",
     "height": 246
    },
    "executionInfo": {
     "elapsed": 744,
     "status": "ok",
     "timestamp": 1603000031257,
     "user": {
      "displayName": "ししぞう",
      "photoUrl": "https://lh3.googleusercontent.com/a-/AOh14GhjLtZCTS59IIEP1zssr09agt_qGp10CwS1J0Pq=s64",
      "userId": "07139038096484400229"
     },
     "user_tz": -540
    },
    "id": "bSZIbCQFNJDl",
    "outputId": "f70c05b0-0225-4837-c3b7-da4ef6922100"
   },
   "outputs": [
    {
     "data": {
      "text/plain": [
       "customer_id\n",
       "CS001113000004    1298\n",
       "CS001114000005     626\n",
       "CS001115000010    3044\n",
       "CS001205000004    1988\n",
       "CS001205000006    3337\n",
       "                  ... \n",
       "CS051212000001     336\n",
       "CS051513000004     551\n",
       "CS051515000002     265\n",
       "CS052212000002     192\n",
       "CS052514000001     178\n",
       "Name: amount, Length: 8306, dtype: int64"
      ]
     },
     "execution_count": 30,
     "metadata": {
      "tags": []
     },
     "output_type": "execute_result"
    }
   ],
   "source": [
    "df34_c.groupby(\"customer_id\")[\"amount\"].sum()"
   ]
  },
  {
   "cell_type": "code",
   "execution_count": null,
   "metadata": {
    "colab": {
     "base_uri": "https://localhost:8080/",
     "height": 34
    },
    "executionInfo": {
     "elapsed": 1230,
     "status": "ok",
     "timestamp": 1603000361877,
     "user": {
      "displayName": "ししぞう",
      "photoUrl": "https://lh3.googleusercontent.com/a-/AOh14GhjLtZCTS59IIEP1zssr09agt_qGp10CwS1J0Pq=s64",
      "userId": "07139038096484400229"
     },
     "user_tz": -540
    },
    "id": "Uj4JBV6xP_Vg",
    "outputId": "6d410f58-dcee-4548-85b6-c33ec29ee123"
   },
   "outputs": [
    {
     "data": {
      "text/plain": [
       "2547.742234529256"
      ]
     },
     "execution_count": 33,
     "metadata": {
      "tags": []
     },
     "output_type": "execute_result"
    }
   ],
   "source": [
    "mean_val = df34_c.groupby(\"customer_id\")[\"amount\"].sum().mean()\n",
    "mean_val"
   ]
  },
  {
   "cell_type": "markdown",
   "metadata": {
    "id": "GkFF6Lk9wMzy"
   },
   "source": [
    "# P-35"
   ]
  },
  {
   "cell_type": "markdown",
   "metadata": {
    "id": "h9E9b_yUhhyq"
   },
   "source": [
    "---\n",
    "> P-035: レシート明細データフレーム（df_receipt）に対し、顧客ID（customer_id）ごとに売上金額（amount）を合計して全顧客の平均を求め、平均以上に買い物をしている顧客を抽出せよ。ただし、顧客IDが\"Z\"から始まるのものは非会員を表すため、除外して計算すること。なお、データは10件だけ表示させれば良い。"
   ]
  },
  {
   "cell_type": "code",
   "execution_count": 9,
   "metadata": {
    "id": "7lYKkmsohhyq"
   },
   "outputs": [],
   "source": [
    "df35 = df_receipt.copy()\n",
    "df35_c = df35[~df35['customer_id'].str.startswith(\"Z\")].groupby(\"customer_id\")[\"amount\"].sum()"
   ]
  },
  {
   "cell_type": "code",
   "execution_count": 10,
   "metadata": {
    "colab": {
     "base_uri": "https://localhost:8080/",
     "height": 228
    },
    "executionInfo": {
     "elapsed": 843,
     "status": "ok",
     "timestamp": 1603000720870,
     "user": {
      "displayName": "ししぞう",
      "photoUrl": "https://lh3.googleusercontent.com/a-/AOh14GhjLtZCTS59IIEP1zssr09agt_qGp10CwS1J0Pq=s64",
      "userId": "07139038096484400229"
     },
     "user_tz": -540
    },
    "id": "km5I-UiPRnqj",
    "outputId": "0097a30a-57e5-4c2b-c33d-eebfc9584663"
   },
   "outputs": [
    {
     "data": {
      "text/plain": [
       "customer_id\n",
       "CS001115000010    3044\n",
       "CS001205000006    3337\n",
       "CS001214000009    4685\n",
       "CS001214000017    4132\n",
       "CS001214000052    5639\n",
       "CS001215000040    3496\n",
       "CS001304000006    3726\n",
       "CS001305000005    3485\n",
       "CS001305000011    4370\n",
       "CS001315000180    3300\n",
       "Name: amount, dtype: int64"
      ]
     },
     "execution_count": 10,
     "metadata": {},
     "output_type": "execute_result"
    }
   ],
   "source": [
    "df35_c[df35_c>=df35_c.mean()].head(10)"
   ]
  },
  {
   "cell_type": "markdown",
   "metadata": {
    "id": "7ArVueIZwdYg"
   },
   "source": [
    "# P-36"
   ]
  },
  {
   "cell_type": "markdown",
   "metadata": {
    "id": "e4wFXsuLhhys"
   },
   "source": [
    "---\n",
    "> P-036: レシート明細データフレーム（df_receipt）と店舗データフレーム（df_store）を内部結合し、レシート明細データフレームの全項目と店舗データフレームの店舗名（store_name）を10件表示させよ。"
   ]
  },
  {
   "cell_type": "code",
   "execution_count": 50,
   "metadata": {
    "executionInfo": {
     "elapsed": 740,
     "status": "ok",
     "timestamp": 1603001839163,
     "user": {
      "displayName": "ししぞう",
      "photoUrl": "https://lh3.googleusercontent.com/a-/AOh14GhjLtZCTS59IIEP1zssr09agt_qGp10CwS1J0Pq=s64",
      "userId": "07139038096484400229"
     },
     "user_tz": -540
    },
    "id": "n7p7o5sDhhys"
   },
   "outputs": [],
   "source": [
    "df36_receipt = df_receipt.copy()\n",
    "df36_store = df_store.copy()"
   ]
  },
  {
   "cell_type": "code",
   "execution_count": 47,
   "metadata": {
    "colab": {
     "base_uri": "https://localhost:8080/",
     "height": 358
    },
    "executionInfo": {
     "elapsed": 628,
     "status": "ok",
     "timestamp": 1603001470581,
     "user": {
      "displayName": "ししぞう",
      "photoUrl": "https://lh3.googleusercontent.com/a-/AOh14GhjLtZCTS59IIEP1zssr09agt_qGp10CwS1J0Pq=s64",
      "userId": "07139038096484400229"
     },
     "user_tz": -540
    },
    "id": "dryBszguUIx8",
    "outputId": "dc6f19bb-a65a-48f5-9ff7-4e3f34ffa18f"
   },
   "outputs": [
    {
     "data": {
      "text/html": [
       "<div>\n",
       "<style scoped>\n",
       "    .dataframe tbody tr th:only-of-type {\n",
       "        vertical-align: middle;\n",
       "    }\n",
       "\n",
       "    .dataframe tbody tr th {\n",
       "        vertical-align: top;\n",
       "    }\n",
       "\n",
       "    .dataframe thead th {\n",
       "        text-align: right;\n",
       "    }\n",
       "</style>\n",
       "<table border=\"1\" class=\"dataframe\">\n",
       "  <thead>\n",
       "    <tr style=\"text-align: right;\">\n",
       "      <th></th>\n",
       "      <th>sales_ymd</th>\n",
       "      <th>sales_epoch</th>\n",
       "      <th>store_cd</th>\n",
       "      <th>receipt_no</th>\n",
       "      <th>receipt_sub_no</th>\n",
       "      <th>customer_id</th>\n",
       "      <th>product_cd</th>\n",
       "      <th>quantity</th>\n",
       "      <th>amount</th>\n",
       "    </tr>\n",
       "  </thead>\n",
       "  <tbody>\n",
       "    <tr>\n",
       "      <th>0</th>\n",
       "      <td>20181103</td>\n",
       "      <td>1541203200</td>\n",
       "      <td>S14006</td>\n",
       "      <td>112</td>\n",
       "      <td>1</td>\n",
       "      <td>CS006214000001</td>\n",
       "      <td>P070305012</td>\n",
       "      <td>1</td>\n",
       "      <td>158</td>\n",
       "    </tr>\n",
       "    <tr>\n",
       "      <th>1</th>\n",
       "      <td>20181118</td>\n",
       "      <td>1542499200</td>\n",
       "      <td>S13008</td>\n",
       "      <td>1132</td>\n",
       "      <td>2</td>\n",
       "      <td>CS008415000097</td>\n",
       "      <td>P070701017</td>\n",
       "      <td>1</td>\n",
       "      <td>81</td>\n",
       "    </tr>\n",
       "    <tr>\n",
       "      <th>2</th>\n",
       "      <td>20170712</td>\n",
       "      <td>1499817600</td>\n",
       "      <td>S14028</td>\n",
       "      <td>1102</td>\n",
       "      <td>1</td>\n",
       "      <td>CS028414000014</td>\n",
       "      <td>P060101005</td>\n",
       "      <td>1</td>\n",
       "      <td>170</td>\n",
       "    </tr>\n",
       "    <tr>\n",
       "      <th>3</th>\n",
       "      <td>20190205</td>\n",
       "      <td>1549324800</td>\n",
       "      <td>S14042</td>\n",
       "      <td>1132</td>\n",
       "      <td>1</td>\n",
       "      <td>ZZ000000000000</td>\n",
       "      <td>P050301001</td>\n",
       "      <td>1</td>\n",
       "      <td>25</td>\n",
       "    </tr>\n",
       "    <tr>\n",
       "      <th>4</th>\n",
       "      <td>20180821</td>\n",
       "      <td>1534809600</td>\n",
       "      <td>S14025</td>\n",
       "      <td>1102</td>\n",
       "      <td>2</td>\n",
       "      <td>CS025415000050</td>\n",
       "      <td>P060102007</td>\n",
       "      <td>1</td>\n",
       "      <td>90</td>\n",
       "    </tr>\n",
       "    <tr>\n",
       "      <th>5</th>\n",
       "      <td>20190605</td>\n",
       "      <td>1559692800</td>\n",
       "      <td>S13003</td>\n",
       "      <td>1112</td>\n",
       "      <td>1</td>\n",
       "      <td>CS003515000195</td>\n",
       "      <td>P050102002</td>\n",
       "      <td>1</td>\n",
       "      <td>138</td>\n",
       "    </tr>\n",
       "    <tr>\n",
       "      <th>6</th>\n",
       "      <td>20181205</td>\n",
       "      <td>1543968000</td>\n",
       "      <td>S14024</td>\n",
       "      <td>1102</td>\n",
       "      <td>2</td>\n",
       "      <td>CS024514000042</td>\n",
       "      <td>P080101005</td>\n",
       "      <td>1</td>\n",
       "      <td>30</td>\n",
       "    </tr>\n",
       "    <tr>\n",
       "      <th>7</th>\n",
       "      <td>20190922</td>\n",
       "      <td>1569110400</td>\n",
       "      <td>S14040</td>\n",
       "      <td>1102</td>\n",
       "      <td>1</td>\n",
       "      <td>CS040415000178</td>\n",
       "      <td>P070501004</td>\n",
       "      <td>1</td>\n",
       "      <td>128</td>\n",
       "    </tr>\n",
       "    <tr>\n",
       "      <th>8</th>\n",
       "      <td>20170504</td>\n",
       "      <td>1493856000</td>\n",
       "      <td>S13020</td>\n",
       "      <td>1112</td>\n",
       "      <td>2</td>\n",
       "      <td>ZZ000000000000</td>\n",
       "      <td>P071302010</td>\n",
       "      <td>1</td>\n",
       "      <td>770</td>\n",
       "    </tr>\n",
       "    <tr>\n",
       "      <th>9</th>\n",
       "      <td>20191010</td>\n",
       "      <td>1570665600</td>\n",
       "      <td>S14027</td>\n",
       "      <td>1102</td>\n",
       "      <td>1</td>\n",
       "      <td>CS027514000015</td>\n",
       "      <td>P071101003</td>\n",
       "      <td>1</td>\n",
       "      <td>680</td>\n",
       "    </tr>\n",
       "  </tbody>\n",
       "</table>\n",
       "</div>"
      ],
      "text/plain": [
       "   sales_ymd  sales_epoch store_cd  ...  product_cd  quantity amount\n",
       "0   20181103   1541203200   S14006  ...  P070305012         1    158\n",
       "1   20181118   1542499200   S13008  ...  P070701017         1     81\n",
       "2   20170712   1499817600   S14028  ...  P060101005         1    170\n",
       "3   20190205   1549324800   S14042  ...  P050301001         1     25\n",
       "4   20180821   1534809600   S14025  ...  P060102007         1     90\n",
       "5   20190605   1559692800   S13003  ...  P050102002         1    138\n",
       "6   20181205   1543968000   S14024  ...  P080101005         1     30\n",
       "7   20190922   1569110400   S14040  ...  P070501004         1    128\n",
       "8   20170504   1493856000   S13020  ...  P071302010         1    770\n",
       "9   20191010   1570665600   S14027  ...  P071101003         1    680\n",
       "\n",
       "[10 rows x 9 columns]"
      ]
     },
     "execution_count": 47,
     "metadata": {
      "tags": []
     },
     "output_type": "execute_result"
    }
   ],
   "source": [
    "df36_receipt.head(10)"
   ]
  },
  {
   "cell_type": "code",
   "execution_count": 48,
   "metadata": {
    "colab": {
     "base_uri": "https://localhost:8080/",
     "height": 358
    },
    "executionInfo": {
     "elapsed": 678,
     "status": "ok",
     "timestamp": 1603001472552,
     "user": {
      "displayName": "ししぞう",
      "photoUrl": "https://lh3.googleusercontent.com/a-/AOh14GhjLtZCTS59IIEP1zssr09agt_qGp10CwS1J0Pq=s64",
      "userId": "07139038096484400229"
     },
     "user_tz": -540
    },
    "id": "sS-kpmbUVK4H",
    "outputId": "28c48fc2-cdfb-40b1-f00d-c12949e2cb9f"
   },
   "outputs": [
    {
     "data": {
      "text/html": [
       "<div>\n",
       "<style scoped>\n",
       "    .dataframe tbody tr th:only-of-type {\n",
       "        vertical-align: middle;\n",
       "    }\n",
       "\n",
       "    .dataframe tbody tr th {\n",
       "        vertical-align: top;\n",
       "    }\n",
       "\n",
       "    .dataframe thead th {\n",
       "        text-align: right;\n",
       "    }\n",
       "</style>\n",
       "<table border=\"1\" class=\"dataframe\">\n",
       "  <thead>\n",
       "    <tr style=\"text-align: right;\">\n",
       "      <th></th>\n",
       "      <th>store_cd</th>\n",
       "      <th>store_name</th>\n",
       "      <th>prefecture_cd</th>\n",
       "      <th>prefecture</th>\n",
       "      <th>address</th>\n",
       "      <th>address_kana</th>\n",
       "      <th>tel_no</th>\n",
       "      <th>longitude</th>\n",
       "      <th>latitude</th>\n",
       "      <th>floor_area</th>\n",
       "    </tr>\n",
       "  </thead>\n",
       "  <tbody>\n",
       "    <tr>\n",
       "      <th>0</th>\n",
       "      <td>S12014</td>\n",
       "      <td>千草台店</td>\n",
       "      <td>12</td>\n",
       "      <td>千葉県</td>\n",
       "      <td>千葉県千葉市稲毛区千草台一丁目</td>\n",
       "      <td>チバケンチバシイナゲクチグサダイイッチョウメ</td>\n",
       "      <td>043-123-4003</td>\n",
       "      <td>140.1180</td>\n",
       "      <td>35.63559</td>\n",
       "      <td>1698.0</td>\n",
       "    </tr>\n",
       "    <tr>\n",
       "      <th>1</th>\n",
       "      <td>S13002</td>\n",
       "      <td>国分寺店</td>\n",
       "      <td>13</td>\n",
       "      <td>東京都</td>\n",
       "      <td>東京都国分寺市本多二丁目</td>\n",
       "      <td>トウキョウトコクブンジシホンダニチョウメ</td>\n",
       "      <td>042-123-4008</td>\n",
       "      <td>139.4802</td>\n",
       "      <td>35.70566</td>\n",
       "      <td>1735.0</td>\n",
       "    </tr>\n",
       "    <tr>\n",
       "      <th>2</th>\n",
       "      <td>S14010</td>\n",
       "      <td>菊名店</td>\n",
       "      <td>14</td>\n",
       "      <td>神奈川県</td>\n",
       "      <td>神奈川県横浜市港北区菊名一丁目</td>\n",
       "      <td>カナガワケンヨコハマシコウホククキクナイッチョウメ</td>\n",
       "      <td>045-123-4032</td>\n",
       "      <td>139.6326</td>\n",
       "      <td>35.50049</td>\n",
       "      <td>1732.0</td>\n",
       "    </tr>\n",
       "    <tr>\n",
       "      <th>3</th>\n",
       "      <td>S14033</td>\n",
       "      <td>阿久和店</td>\n",
       "      <td>14</td>\n",
       "      <td>神奈川県</td>\n",
       "      <td>神奈川県横浜市瀬谷区阿久和西一丁目</td>\n",
       "      <td>カナガワケンヨコハマシセヤクアクワニシイッチョウメ</td>\n",
       "      <td>045-123-4043</td>\n",
       "      <td>139.4961</td>\n",
       "      <td>35.45918</td>\n",
       "      <td>1495.0</td>\n",
       "    </tr>\n",
       "    <tr>\n",
       "      <th>4</th>\n",
       "      <td>S14036</td>\n",
       "      <td>相模原中央店</td>\n",
       "      <td>14</td>\n",
       "      <td>神奈川県</td>\n",
       "      <td>神奈川県相模原市中央二丁目</td>\n",
       "      <td>カナガワケンサガミハラシチュウオウニチョウメ</td>\n",
       "      <td>042-123-4045</td>\n",
       "      <td>139.3716</td>\n",
       "      <td>35.57327</td>\n",
       "      <td>1679.0</td>\n",
       "    </tr>\n",
       "    <tr>\n",
       "      <th>5</th>\n",
       "      <td>S13051</td>\n",
       "      <td>板橋大原店</td>\n",
       "      <td>13</td>\n",
       "      <td>東京都</td>\n",
       "      <td>東京都板橋区大原町</td>\n",
       "      <td>トウキョウトイタバシクオオハラチョウ</td>\n",
       "      <td>03-0123-4029</td>\n",
       "      <td>139.6980</td>\n",
       "      <td>35.76788</td>\n",
       "      <td>1045.0</td>\n",
       "    </tr>\n",
       "    <tr>\n",
       "      <th>6</th>\n",
       "      <td>S13015</td>\n",
       "      <td>南砂店</td>\n",
       "      <td>13</td>\n",
       "      <td>東京都</td>\n",
       "      <td>東京都江東区南砂二丁目</td>\n",
       "      <td>トウキョウトコウトウクミナミスナニチョウメ</td>\n",
       "      <td>03-0123-4014</td>\n",
       "      <td>139.8229</td>\n",
       "      <td>35.67066</td>\n",
       "      <td>1337.0</td>\n",
       "    </tr>\n",
       "    <tr>\n",
       "      <th>7</th>\n",
       "      <td>S14040</td>\n",
       "      <td>長津田店</td>\n",
       "      <td>14</td>\n",
       "      <td>神奈川県</td>\n",
       "      <td>神奈川県横浜市緑区長津田みなみ台五丁目</td>\n",
       "      <td>カナガワケンヨコハマシミドリクナガツタミナミダイゴチョウメ</td>\n",
       "      <td>045-123-4046</td>\n",
       "      <td>139.4994</td>\n",
       "      <td>35.52398</td>\n",
       "      <td>1548.0</td>\n",
       "    </tr>\n",
       "    <tr>\n",
       "      <th>8</th>\n",
       "      <td>S13044</td>\n",
       "      <td>南六郷店</td>\n",
       "      <td>13</td>\n",
       "      <td>東京都</td>\n",
       "      <td>東京都大田区南六郷二丁目</td>\n",
       "      <td>トウキョウトオオタクミナミロクゴウニチョウメ</td>\n",
       "      <td>03-0123-4028</td>\n",
       "      <td>139.7207</td>\n",
       "      <td>35.54604</td>\n",
       "      <td>1379.0</td>\n",
       "    </tr>\n",
       "    <tr>\n",
       "      <th>9</th>\n",
       "      <td>S14050</td>\n",
       "      <td>阿久和西店</td>\n",
       "      <td>14</td>\n",
       "      <td>神奈川県</td>\n",
       "      <td>神奈川県横浜市瀬谷区阿久和西一丁目</td>\n",
       "      <td>カナガワケンヨコハマシセヤクアクワニシイッチョウメ</td>\n",
       "      <td>045-123-4053</td>\n",
       "      <td>139.4961</td>\n",
       "      <td>35.45918</td>\n",
       "      <td>1830.0</td>\n",
       "    </tr>\n",
       "  </tbody>\n",
       "</table>\n",
       "</div>"
      ],
      "text/plain": [
       "  store_cd store_name  prefecture_cd  ... longitude  latitude floor_area\n",
       "0   S12014       千草台店             12  ...  140.1180  35.63559     1698.0\n",
       "1   S13002       国分寺店             13  ...  139.4802  35.70566     1735.0\n",
       "2   S14010        菊名店             14  ...  139.6326  35.50049     1732.0\n",
       "3   S14033       阿久和店             14  ...  139.4961  35.45918     1495.0\n",
       "4   S14036     相模原中央店             14  ...  139.3716  35.57327     1679.0\n",
       "5   S13051      板橋大原店             13  ...  139.6980  35.76788     1045.0\n",
       "6   S13015        南砂店             13  ...  139.8229  35.67066     1337.0\n",
       "7   S14040       長津田店             14  ...  139.4994  35.52398     1548.0\n",
       "8   S13044       南六郷店             13  ...  139.7207  35.54604     1379.0\n",
       "9   S14050      阿久和西店             14  ...  139.4961  35.45918     1830.0\n",
       "\n",
       "[10 rows x 10 columns]"
      ]
     },
     "execution_count": 48,
     "metadata": {
      "tags": []
     },
     "output_type": "execute_result"
    }
   ],
   "source": [
    "df36_store.head(10)"
   ]
  },
  {
   "cell_type": "code",
   "execution_count": 54,
   "metadata": {
    "colab": {
     "base_uri": "https://localhost:8080/",
     "height": 358
    },
    "executionInfo": {
     "elapsed": 789,
     "status": "ok",
     "timestamp": 1603002066861,
     "user": {
      "displayName": "ししぞう",
      "photoUrl": "https://lh3.googleusercontent.com/a-/AOh14GhjLtZCTS59IIEP1zssr09agt_qGp10CwS1J0Pq=s64",
      "userId": "07139038096484400229"
     },
     "user_tz": -540
    },
    "id": "le6gAfnrVWdR",
    "outputId": "9a673757-225a-401f-ee99-4f4f796b2af2"
   },
   "outputs": [
    {
     "data": {
      "text/html": [
       "<div>\n",
       "<style scoped>\n",
       "    .dataframe tbody tr th:only-of-type {\n",
       "        vertical-align: middle;\n",
       "    }\n",
       "\n",
       "    .dataframe tbody tr th {\n",
       "        vertical-align: top;\n",
       "    }\n",
       "\n",
       "    .dataframe thead th {\n",
       "        text-align: right;\n",
       "    }\n",
       "</style>\n",
       "<table border=\"1\" class=\"dataframe\">\n",
       "  <thead>\n",
       "    <tr style=\"text-align: right;\">\n",
       "      <th></th>\n",
       "      <th>sales_ymd</th>\n",
       "      <th>sales_epoch</th>\n",
       "      <th>store_cd</th>\n",
       "      <th>receipt_no</th>\n",
       "      <th>receipt_sub_no</th>\n",
       "      <th>customer_id</th>\n",
       "      <th>product_cd</th>\n",
       "      <th>quantity</th>\n",
       "      <th>amount</th>\n",
       "      <th>store_name</th>\n",
       "    </tr>\n",
       "  </thead>\n",
       "  <tbody>\n",
       "    <tr>\n",
       "      <th>0</th>\n",
       "      <td>20181103</td>\n",
       "      <td>1541203200</td>\n",
       "      <td>S14006</td>\n",
       "      <td>112</td>\n",
       "      <td>1</td>\n",
       "      <td>CS006214000001</td>\n",
       "      <td>P070305012</td>\n",
       "      <td>1</td>\n",
       "      <td>158</td>\n",
       "      <td>葛が谷店</td>\n",
       "    </tr>\n",
       "    <tr>\n",
       "      <th>1</th>\n",
       "      <td>20181116</td>\n",
       "      <td>1542326400</td>\n",
       "      <td>S14006</td>\n",
       "      <td>112</td>\n",
       "      <td>2</td>\n",
       "      <td>ZZ000000000000</td>\n",
       "      <td>P080401001</td>\n",
       "      <td>1</td>\n",
       "      <td>48</td>\n",
       "      <td>葛が谷店</td>\n",
       "    </tr>\n",
       "    <tr>\n",
       "      <th>2</th>\n",
       "      <td>20170118</td>\n",
       "      <td>1484697600</td>\n",
       "      <td>S14006</td>\n",
       "      <td>1162</td>\n",
       "      <td>1</td>\n",
       "      <td>CS006815000006</td>\n",
       "      <td>P050406035</td>\n",
       "      <td>1</td>\n",
       "      <td>220</td>\n",
       "      <td>葛が谷店</td>\n",
       "    </tr>\n",
       "    <tr>\n",
       "      <th>3</th>\n",
       "      <td>20190524</td>\n",
       "      <td>1558656000</td>\n",
       "      <td>S14006</td>\n",
       "      <td>1192</td>\n",
       "      <td>1</td>\n",
       "      <td>CS006514000034</td>\n",
       "      <td>P060104003</td>\n",
       "      <td>1</td>\n",
       "      <td>80</td>\n",
       "      <td>葛が谷店</td>\n",
       "    </tr>\n",
       "    <tr>\n",
       "      <th>4</th>\n",
       "      <td>20190419</td>\n",
       "      <td>1555632000</td>\n",
       "      <td>S14006</td>\n",
       "      <td>112</td>\n",
       "      <td>2</td>\n",
       "      <td>ZZ000000000000</td>\n",
       "      <td>P060501002</td>\n",
       "      <td>1</td>\n",
       "      <td>148</td>\n",
       "      <td>葛が谷店</td>\n",
       "    </tr>\n",
       "    <tr>\n",
       "      <th>5</th>\n",
       "      <td>20181119</td>\n",
       "      <td>1542585600</td>\n",
       "      <td>S14006</td>\n",
       "      <td>1152</td>\n",
       "      <td>2</td>\n",
       "      <td>ZZ000000000000</td>\n",
       "      <td>P050701001</td>\n",
       "      <td>1</td>\n",
       "      <td>88</td>\n",
       "      <td>葛が谷店</td>\n",
       "    </tr>\n",
       "    <tr>\n",
       "      <th>6</th>\n",
       "      <td>20171211</td>\n",
       "      <td>1512950400</td>\n",
       "      <td>S14006</td>\n",
       "      <td>1132</td>\n",
       "      <td>2</td>\n",
       "      <td>CS006515000175</td>\n",
       "      <td>P090903001</td>\n",
       "      <td>1</td>\n",
       "      <td>80</td>\n",
       "      <td>葛が谷店</td>\n",
       "    </tr>\n",
       "    <tr>\n",
       "      <th>7</th>\n",
       "      <td>20191021</td>\n",
       "      <td>1571616000</td>\n",
       "      <td>S14006</td>\n",
       "      <td>1112</td>\n",
       "      <td>2</td>\n",
       "      <td>CS006415000221</td>\n",
       "      <td>P040602001</td>\n",
       "      <td>1</td>\n",
       "      <td>405</td>\n",
       "      <td>葛が谷店</td>\n",
       "    </tr>\n",
       "    <tr>\n",
       "      <th>8</th>\n",
       "      <td>20170710</td>\n",
       "      <td>1499644800</td>\n",
       "      <td>S14006</td>\n",
       "      <td>1132</td>\n",
       "      <td>2</td>\n",
       "      <td>CS006411000036</td>\n",
       "      <td>P090301051</td>\n",
       "      <td>1</td>\n",
       "      <td>330</td>\n",
       "      <td>葛が谷店</td>\n",
       "    </tr>\n",
       "    <tr>\n",
       "      <th>9</th>\n",
       "      <td>20190805</td>\n",
       "      <td>1564963200</td>\n",
       "      <td>S14006</td>\n",
       "      <td>112</td>\n",
       "      <td>1</td>\n",
       "      <td>CS006211000012</td>\n",
       "      <td>P050104001</td>\n",
       "      <td>1</td>\n",
       "      <td>115</td>\n",
       "      <td>葛が谷店</td>\n",
       "    </tr>\n",
       "  </tbody>\n",
       "</table>\n",
       "</div>"
      ],
      "text/plain": [
       "   sales_ymd  sales_epoch store_cd  ...  quantity  amount store_name\n",
       "0   20181103   1541203200   S14006  ...         1     158       葛が谷店\n",
       "1   20181116   1542326400   S14006  ...         1      48       葛が谷店\n",
       "2   20170118   1484697600   S14006  ...         1     220       葛が谷店\n",
       "3   20190524   1558656000   S14006  ...         1      80       葛が谷店\n",
       "4   20190419   1555632000   S14006  ...         1     148       葛が谷店\n",
       "5   20181119   1542585600   S14006  ...         1      88       葛が谷店\n",
       "6   20171211   1512950400   S14006  ...         1      80       葛が谷店\n",
       "7   20191021   1571616000   S14006  ...         1     405       葛が谷店\n",
       "8   20170710   1499644800   S14006  ...         1     330       葛が谷店\n",
       "9   20190805   1564963200   S14006  ...         1     115       葛が谷店\n",
       "\n",
       "[10 rows x 10 columns]"
      ]
     },
     "execution_count": 54,
     "metadata": {
      "tags": []
     },
     "output_type": "execute_result"
    }
   ],
   "source": [
    "pd.merge(df36_receipt,df36_store[[\"store_cd\",\"store_name\"]],on=\"store_cd\").head(10)"
   ]
  },
  {
   "cell_type": "markdown",
   "metadata": {
    "id": "Lln3kp2owjJJ"
   },
   "source": [
    "# P-37"
   ]
  },
  {
   "cell_type": "markdown",
   "metadata": {
    "id": "8TdeNEn_hhyu"
   },
   "source": [
    "---\n",
    "> P-037: 商品データフレーム（df_product）とカテゴリデータフレーム（df_category）を内部結合し、商品データフレームの全項目とカテゴリデータフレームの小区分名（category_small_name）を10件表示させよ。"
   ]
  },
  {
   "cell_type": "code",
   "execution_count": 56,
   "metadata": {
    "colab": {
     "base_uri": "https://localhost:8080/",
     "height": 203
    },
    "executionInfo": {
     "elapsed": 706,
     "status": "ok",
     "timestamp": 1603002228247,
     "user": {
      "displayName": "ししぞう",
      "photoUrl": "https://lh3.googleusercontent.com/a-/AOh14GhjLtZCTS59IIEP1zssr09agt_qGp10CwS1J0Pq=s64",
      "userId": "07139038096484400229"
     },
     "user_tz": -540
    },
    "id": "J20VBcmxhhyu",
    "outputId": "4b85fbb3-209a-4adf-8433-b6e093476ff6"
   },
   "outputs": [
    {
     "data": {
      "text/html": [
       "<div>\n",
       "<style scoped>\n",
       "    .dataframe tbody tr th:only-of-type {\n",
       "        vertical-align: middle;\n",
       "    }\n",
       "\n",
       "    .dataframe tbody tr th {\n",
       "        vertical-align: top;\n",
       "    }\n",
       "\n",
       "    .dataframe thead th {\n",
       "        text-align: right;\n",
       "    }\n",
       "</style>\n",
       "<table border=\"1\" class=\"dataframe\">\n",
       "  <thead>\n",
       "    <tr style=\"text-align: right;\">\n",
       "      <th></th>\n",
       "      <th>product_cd</th>\n",
       "      <th>category_major_cd</th>\n",
       "      <th>category_medium_cd</th>\n",
       "      <th>category_small_cd</th>\n",
       "      <th>unit_price</th>\n",
       "      <th>unit_cost</th>\n",
       "    </tr>\n",
       "  </thead>\n",
       "  <tbody>\n",
       "    <tr>\n",
       "      <th>0</th>\n",
       "      <td>P040101001</td>\n",
       "      <td>4</td>\n",
       "      <td>401</td>\n",
       "      <td>40101</td>\n",
       "      <td>198.0</td>\n",
       "      <td>149.0</td>\n",
       "    </tr>\n",
       "    <tr>\n",
       "      <th>1</th>\n",
       "      <td>P040101002</td>\n",
       "      <td>4</td>\n",
       "      <td>401</td>\n",
       "      <td>40101</td>\n",
       "      <td>218.0</td>\n",
       "      <td>164.0</td>\n",
       "    </tr>\n",
       "    <tr>\n",
       "      <th>2</th>\n",
       "      <td>P040101003</td>\n",
       "      <td>4</td>\n",
       "      <td>401</td>\n",
       "      <td>40101</td>\n",
       "      <td>230.0</td>\n",
       "      <td>173.0</td>\n",
       "    </tr>\n",
       "    <tr>\n",
       "      <th>3</th>\n",
       "      <td>P040101004</td>\n",
       "      <td>4</td>\n",
       "      <td>401</td>\n",
       "      <td>40101</td>\n",
       "      <td>248.0</td>\n",
       "      <td>186.0</td>\n",
       "    </tr>\n",
       "    <tr>\n",
       "      <th>4</th>\n",
       "      <td>P040101005</td>\n",
       "      <td>4</td>\n",
       "      <td>401</td>\n",
       "      <td>40101</td>\n",
       "      <td>268.0</td>\n",
       "      <td>201.0</td>\n",
       "    </tr>\n",
       "  </tbody>\n",
       "</table>\n",
       "</div>"
      ],
      "text/plain": [
       "   product_cd  category_major_cd  ...  unit_price  unit_cost\n",
       "0  P040101001                  4  ...       198.0      149.0\n",
       "1  P040101002                  4  ...       218.0      164.0\n",
       "2  P040101003                  4  ...       230.0      173.0\n",
       "3  P040101004                  4  ...       248.0      186.0\n",
       "4  P040101005                  4  ...       268.0      201.0\n",
       "\n",
       "[5 rows x 6 columns]"
      ]
     },
     "execution_count": 56,
     "metadata": {
      "tags": []
     },
     "output_type": "execute_result"
    }
   ],
   "source": [
    "df37_p=df_product.copy()\n",
    "df37_c=df_category.copy()\n",
    "df37_p.head()"
   ]
  },
  {
   "cell_type": "code",
   "execution_count": 57,
   "metadata": {
    "colab": {
     "base_uri": "https://localhost:8080/",
     "height": 203
    },
    "executionInfo": {
     "elapsed": 791,
     "status": "ok",
     "timestamp": 1603002232193,
     "user": {
      "displayName": "ししぞう",
      "photoUrl": "https://lh3.googleusercontent.com/a-/AOh14GhjLtZCTS59IIEP1zssr09agt_qGp10CwS1J0Pq=s64",
      "userId": "07139038096484400229"
     },
     "user_tz": -540
    },
    "id": "Kof2-7ghYIMP",
    "outputId": "eb436155-bd0a-4d70-c55e-a44083acdfa4"
   },
   "outputs": [
    {
     "data": {
      "text/html": [
       "<div>\n",
       "<style scoped>\n",
       "    .dataframe tbody tr th:only-of-type {\n",
       "        vertical-align: middle;\n",
       "    }\n",
       "\n",
       "    .dataframe tbody tr th {\n",
       "        vertical-align: top;\n",
       "    }\n",
       "\n",
       "    .dataframe thead th {\n",
       "        text-align: right;\n",
       "    }\n",
       "</style>\n",
       "<table border=\"1\" class=\"dataframe\">\n",
       "  <thead>\n",
       "    <tr style=\"text-align: right;\">\n",
       "      <th></th>\n",
       "      <th>category_major_cd</th>\n",
       "      <th>category_major_name</th>\n",
       "      <th>category_medium_cd</th>\n",
       "      <th>category_medium_name</th>\n",
       "      <th>category_small_cd</th>\n",
       "      <th>category_small_name</th>\n",
       "    </tr>\n",
       "  </thead>\n",
       "  <tbody>\n",
       "    <tr>\n",
       "      <th>0</th>\n",
       "      <td>4</td>\n",
       "      <td>惣菜</td>\n",
       "      <td>401</td>\n",
       "      <td>御飯類</td>\n",
       "      <td>40101</td>\n",
       "      <td>弁当類</td>\n",
       "    </tr>\n",
       "    <tr>\n",
       "      <th>1</th>\n",
       "      <td>4</td>\n",
       "      <td>惣菜</td>\n",
       "      <td>401</td>\n",
       "      <td>御飯類</td>\n",
       "      <td>40102</td>\n",
       "      <td>寿司類</td>\n",
       "    </tr>\n",
       "    <tr>\n",
       "      <th>2</th>\n",
       "      <td>4</td>\n",
       "      <td>惣菜</td>\n",
       "      <td>402</td>\n",
       "      <td>佃煮類</td>\n",
       "      <td>40201</td>\n",
       "      <td>魚介佃煮類</td>\n",
       "    </tr>\n",
       "    <tr>\n",
       "      <th>3</th>\n",
       "      <td>4</td>\n",
       "      <td>惣菜</td>\n",
       "      <td>402</td>\n",
       "      <td>佃煮類</td>\n",
       "      <td>40202</td>\n",
       "      <td>海草佃煮類</td>\n",
       "    </tr>\n",
       "    <tr>\n",
       "      <th>4</th>\n",
       "      <td>4</td>\n",
       "      <td>惣菜</td>\n",
       "      <td>402</td>\n",
       "      <td>佃煮類</td>\n",
       "      <td>40203</td>\n",
       "      <td>野菜佃煮類</td>\n",
       "    </tr>\n",
       "  </tbody>\n",
       "</table>\n",
       "</div>"
      ],
      "text/plain": [
       "   category_major_cd category_major_name  ...  category_small_cd category_small_name\n",
       "0                  4                  惣菜  ...              40101                 弁当類\n",
       "1                  4                  惣菜  ...              40102                 寿司類\n",
       "2                  4                  惣菜  ...              40201               魚介佃煮類\n",
       "3                  4                  惣菜  ...              40202               海草佃煮類\n",
       "4                  4                  惣菜  ...              40203               野菜佃煮類\n",
       "\n",
       "[5 rows x 6 columns]"
      ]
     },
     "execution_count": 57,
     "metadata": {
      "tags": []
     },
     "output_type": "execute_result"
    }
   ],
   "source": [
    "df37_c.head()"
   ]
  },
  {
   "cell_type": "code",
   "execution_count": 59,
   "metadata": {
    "colab": {
     "base_uri": "https://localhost:8080/",
     "height": 358
    },
    "executionInfo": {
     "elapsed": 722,
     "status": "ok",
     "timestamp": 1603002403082,
     "user": {
      "displayName": "ししぞう",
      "photoUrl": "https://lh3.googleusercontent.com/a-/AOh14GhjLtZCTS59IIEP1zssr09agt_qGp10CwS1J0Pq=s64",
      "userId": "07139038096484400229"
     },
     "user_tz": -540
    },
    "id": "AbL3gsJVYd1I",
    "outputId": "0832854e-d693-4c8d-9116-8d1fdf004f19"
   },
   "outputs": [
    {
     "data": {
      "text/html": [
       "<div>\n",
       "<style scoped>\n",
       "    .dataframe tbody tr th:only-of-type {\n",
       "        vertical-align: middle;\n",
       "    }\n",
       "\n",
       "    .dataframe tbody tr th {\n",
       "        vertical-align: top;\n",
       "    }\n",
       "\n",
       "    .dataframe thead th {\n",
       "        text-align: right;\n",
       "    }\n",
       "</style>\n",
       "<table border=\"1\" class=\"dataframe\">\n",
       "  <thead>\n",
       "    <tr style=\"text-align: right;\">\n",
       "      <th></th>\n",
       "      <th>product_cd</th>\n",
       "      <th>category_major_cd</th>\n",
       "      <th>category_medium_cd</th>\n",
       "      <th>category_small_cd</th>\n",
       "      <th>unit_price</th>\n",
       "      <th>unit_cost</th>\n",
       "      <th>category_small_name</th>\n",
       "    </tr>\n",
       "  </thead>\n",
       "  <tbody>\n",
       "    <tr>\n",
       "      <th>0</th>\n",
       "      <td>P040101001</td>\n",
       "      <td>4</td>\n",
       "      <td>401</td>\n",
       "      <td>40101</td>\n",
       "      <td>198.0</td>\n",
       "      <td>149.0</td>\n",
       "      <td>弁当類</td>\n",
       "    </tr>\n",
       "    <tr>\n",
       "      <th>1</th>\n",
       "      <td>P040101002</td>\n",
       "      <td>4</td>\n",
       "      <td>401</td>\n",
       "      <td>40101</td>\n",
       "      <td>218.0</td>\n",
       "      <td>164.0</td>\n",
       "      <td>弁当類</td>\n",
       "    </tr>\n",
       "    <tr>\n",
       "      <th>2</th>\n",
       "      <td>P040101003</td>\n",
       "      <td>4</td>\n",
       "      <td>401</td>\n",
       "      <td>40101</td>\n",
       "      <td>230.0</td>\n",
       "      <td>173.0</td>\n",
       "      <td>弁当類</td>\n",
       "    </tr>\n",
       "    <tr>\n",
       "      <th>3</th>\n",
       "      <td>P040101004</td>\n",
       "      <td>4</td>\n",
       "      <td>401</td>\n",
       "      <td>40101</td>\n",
       "      <td>248.0</td>\n",
       "      <td>186.0</td>\n",
       "      <td>弁当類</td>\n",
       "    </tr>\n",
       "    <tr>\n",
       "      <th>4</th>\n",
       "      <td>P040101005</td>\n",
       "      <td>4</td>\n",
       "      <td>401</td>\n",
       "      <td>40101</td>\n",
       "      <td>268.0</td>\n",
       "      <td>201.0</td>\n",
       "      <td>弁当類</td>\n",
       "    </tr>\n",
       "    <tr>\n",
       "      <th>5</th>\n",
       "      <td>P040101006</td>\n",
       "      <td>4</td>\n",
       "      <td>401</td>\n",
       "      <td>40101</td>\n",
       "      <td>298.0</td>\n",
       "      <td>224.0</td>\n",
       "      <td>弁当類</td>\n",
       "    </tr>\n",
       "    <tr>\n",
       "      <th>6</th>\n",
       "      <td>P040101007</td>\n",
       "      <td>4</td>\n",
       "      <td>401</td>\n",
       "      <td>40101</td>\n",
       "      <td>338.0</td>\n",
       "      <td>254.0</td>\n",
       "      <td>弁当類</td>\n",
       "    </tr>\n",
       "    <tr>\n",
       "      <th>7</th>\n",
       "      <td>P040101008</td>\n",
       "      <td>4</td>\n",
       "      <td>401</td>\n",
       "      <td>40101</td>\n",
       "      <td>420.0</td>\n",
       "      <td>315.0</td>\n",
       "      <td>弁当類</td>\n",
       "    </tr>\n",
       "    <tr>\n",
       "      <th>8</th>\n",
       "      <td>P040101009</td>\n",
       "      <td>4</td>\n",
       "      <td>401</td>\n",
       "      <td>40101</td>\n",
       "      <td>498.0</td>\n",
       "      <td>374.0</td>\n",
       "      <td>弁当類</td>\n",
       "    </tr>\n",
       "    <tr>\n",
       "      <th>9</th>\n",
       "      <td>P040101010</td>\n",
       "      <td>4</td>\n",
       "      <td>401</td>\n",
       "      <td>40101</td>\n",
       "      <td>580.0</td>\n",
       "      <td>435.0</td>\n",
       "      <td>弁当類</td>\n",
       "    </tr>\n",
       "  </tbody>\n",
       "</table>\n",
       "</div>"
      ],
      "text/plain": [
       "   product_cd  category_major_cd  ...  unit_cost  category_small_name\n",
       "0  P040101001                  4  ...      149.0                  弁当類\n",
       "1  P040101002                  4  ...      164.0                  弁当類\n",
       "2  P040101003                  4  ...      173.0                  弁当類\n",
       "3  P040101004                  4  ...      186.0                  弁当類\n",
       "4  P040101005                  4  ...      201.0                  弁当類\n",
       "5  P040101006                  4  ...      224.0                  弁当類\n",
       "6  P040101007                  4  ...      254.0                  弁当類\n",
       "7  P040101008                  4  ...      315.0                  弁当類\n",
       "8  P040101009                  4  ...      374.0                  弁当類\n",
       "9  P040101010                  4  ...      435.0                  弁当類\n",
       "\n",
       "[10 rows x 7 columns]"
      ]
     },
     "execution_count": 59,
     "metadata": {
      "tags": []
     },
     "output_type": "execute_result"
    }
   ],
   "source": [
    "pd.merge(df37_p,df37_c[[\"category_small_cd\",\"category_small_name\"]],on=\"category_small_cd\").head(10)"
   ]
  },
  {
   "cell_type": "markdown",
   "metadata": {
    "id": "SNphlzy9wnIW"
   },
   "source": [
    "# P-38"
   ]
  },
  {
   "cell_type": "markdown",
   "metadata": {
    "id": "iNO7ESvWhhyw"
   },
   "source": [
    "---\n",
    "> P-038: 顧客データフレーム（df_customer）とレシート明細データフレーム（df_receipt）から、各顧客ごとの売上金額合計を求めよ。ただし、買い物の実績がない顧客については売上金額を0として表示させること。また、顧客は性別コード（gender_cd）が女性（1）であるものを対象とし、非会員（顧客IDが'Z'から始まるもの）は除外すること。なお、結果は10件だけ表示させれば良い。"
   ]
  },
  {
   "cell_type": "code",
   "execution_count": 13,
   "metadata": {
    "executionInfo": {
     "elapsed": 665,
     "status": "ok",
     "timestamp": 1603002964233,
     "user": {
      "displayName": "ししぞう",
      "photoUrl": "https://lh3.googleusercontent.com/a-/AOh14GhjLtZCTS59IIEP1zssr09agt_qGp10CwS1J0Pq=s64",
      "userId": "07139038096484400229"
     },
     "user_tz": -540
    },
    "id": "hmc6LUaEhhyw"
   },
   "outputs": [],
   "source": [
    "df38_r = df_receipt.copy()\n",
    "df38_c = df_customer.copy()\n"
   ]
  },
  {
   "cell_type": "code",
   "execution_count": 12,
   "metadata": {},
   "outputs": [
    {
     "data": {
      "text/plain": [
       "0        False\n",
       "1        False\n",
       "2        False\n",
       "3        False\n",
       "4        False\n",
       "         ...  \n",
       "21966    False\n",
       "21967    False\n",
       "21968    False\n",
       "21969    False\n",
       "21970    False\n",
       "Name: customer_id, Length: 21971, dtype: bool"
      ]
     },
     "execution_count": 12,
     "metadata": {},
     "output_type": "execute_result"
    }
   ],
   "source": [
    "df38_c['customer_id'].str.startswith(\"Z\")"
   ]
  },
  {
   "cell_type": "code",
   "execution_count": 14,
   "metadata": {},
   "outputs": [
    {
     "data": {
      "text/plain": [
       "0         False\n",
       "1         False\n",
       "2         False\n",
       "3          True\n",
       "4         False\n",
       "          ...  \n",
       "104676     True\n",
       "104677     True\n",
       "104678    False\n",
       "104679    False\n",
       "104680     True\n",
       "Name: customer_id, Length: 104681, dtype: bool"
      ]
     },
     "execution_count": 14,
     "metadata": {},
     "output_type": "execute_result"
    }
   ],
   "source": [
    "df38_r['customer_id'].str.startswith(\"Z\")"
   ]
  },
  {
   "cell_type": "code",
   "execution_count": 17,
   "metadata": {},
   "outputs": [
    {
     "data": {
      "text/html": [
       "<div>\n",
       "<style scoped>\n",
       "    .dataframe tbody tr th:only-of-type {\n",
       "        vertical-align: middle;\n",
       "    }\n",
       "\n",
       "    .dataframe tbody tr th {\n",
       "        vertical-align: top;\n",
       "    }\n",
       "\n",
       "    .dataframe thead th {\n",
       "        text-align: right;\n",
       "    }\n",
       "</style>\n",
       "<table border=\"1\" class=\"dataframe\">\n",
       "  <thead>\n",
       "    <tr style=\"text-align: right;\">\n",
       "      <th></th>\n",
       "      <th>customer_id</th>\n",
       "      <th>customer_name</th>\n",
       "      <th>gender_cd</th>\n",
       "      <th>gender</th>\n",
       "      <th>birth_day</th>\n",
       "      <th>age</th>\n",
       "      <th>postal_cd</th>\n",
       "      <th>address</th>\n",
       "      <th>application_store_cd</th>\n",
       "      <th>application_date</th>\n",
       "      <th>status_cd</th>\n",
       "    </tr>\n",
       "  </thead>\n",
       "  <tbody>\n",
       "  </tbody>\n",
       "</table>\n",
       "</div>"
      ],
      "text/plain": [
       "Empty DataFrame\n",
       "Columns: [customer_id, customer_name, gender_cd, gender, birth_day, age, postal_cd, address, application_store_cd, application_date, status_cd]\n",
       "Index: []"
      ]
     },
     "execution_count": 17,
     "metadata": {},
     "output_type": "execute_result"
    }
   ],
   "source": [
    "df38_c[df38_c['customer_id'].str.startswith(\"Z\")]"
   ]
  },
  {
   "cell_type": "code",
   "execution_count": 16,
   "metadata": {},
   "outputs": [
    {
     "data": {
      "text/html": [
       "<div>\n",
       "<style scoped>\n",
       "    .dataframe tbody tr th:only-of-type {\n",
       "        vertical-align: middle;\n",
       "    }\n",
       "\n",
       "    .dataframe tbody tr th {\n",
       "        vertical-align: top;\n",
       "    }\n",
       "\n",
       "    .dataframe thead th {\n",
       "        text-align: right;\n",
       "    }\n",
       "</style>\n",
       "<table border=\"1\" class=\"dataframe\">\n",
       "  <thead>\n",
       "    <tr style=\"text-align: right;\">\n",
       "      <th></th>\n",
       "      <th>sales_ymd</th>\n",
       "      <th>sales_epoch</th>\n",
       "      <th>store_cd</th>\n",
       "      <th>receipt_no</th>\n",
       "      <th>receipt_sub_no</th>\n",
       "      <th>customer_id</th>\n",
       "      <th>product_cd</th>\n",
       "      <th>quantity</th>\n",
       "      <th>amount</th>\n",
       "    </tr>\n",
       "  </thead>\n",
       "  <tbody>\n",
       "    <tr>\n",
       "      <th>3</th>\n",
       "      <td>20190205</td>\n",
       "      <td>1549324800</td>\n",
       "      <td>S14042</td>\n",
       "      <td>1132</td>\n",
       "      <td>1</td>\n",
       "      <td>ZZ000000000000</td>\n",
       "      <td>P050301001</td>\n",
       "      <td>1</td>\n",
       "      <td>25</td>\n",
       "    </tr>\n",
       "    <tr>\n",
       "      <th>8</th>\n",
       "      <td>20170504</td>\n",
       "      <td>1493856000</td>\n",
       "      <td>S13020</td>\n",
       "      <td>1112</td>\n",
       "      <td>2</td>\n",
       "      <td>ZZ000000000000</td>\n",
       "      <td>P071302010</td>\n",
       "      <td>1</td>\n",
       "      <td>770</td>\n",
       "    </tr>\n",
       "    <tr>\n",
       "      <th>14</th>\n",
       "      <td>20180329</td>\n",
       "      <td>1522281600</td>\n",
       "      <td>S12014</td>\n",
       "      <td>1122</td>\n",
       "      <td>1</td>\n",
       "      <td>ZZ000000000000</td>\n",
       "      <td>P050104001</td>\n",
       "      <td>1</td>\n",
       "      <td>115</td>\n",
       "    </tr>\n",
       "    <tr>\n",
       "      <th>15</th>\n",
       "      <td>20170116</td>\n",
       "      <td>1484524800</td>\n",
       "      <td>S13002</td>\n",
       "      <td>1112</td>\n",
       "      <td>1</td>\n",
       "      <td>ZZ000000000000</td>\n",
       "      <td>P080803001</td>\n",
       "      <td>1</td>\n",
       "      <td>100</td>\n",
       "    </tr>\n",
       "    <tr>\n",
       "      <th>16</th>\n",
       "      <td>20190621</td>\n",
       "      <td>1561075200</td>\n",
       "      <td>S13044</td>\n",
       "      <td>1142</td>\n",
       "      <td>2</td>\n",
       "      <td>ZZ000000000000</td>\n",
       "      <td>P040102001</td>\n",
       "      <td>1</td>\n",
       "      <td>268</td>\n",
       "    </tr>\n",
       "    <tr>\n",
       "      <th>...</th>\n",
       "      <td>...</td>\n",
       "      <td>...</td>\n",
       "      <td>...</td>\n",
       "      <td>...</td>\n",
       "      <td>...</td>\n",
       "      <td>...</td>\n",
       "      <td>...</td>\n",
       "      <td>...</td>\n",
       "      <td>...</td>\n",
       "    </tr>\n",
       "    <tr>\n",
       "      <th>104672</th>\n",
       "      <td>20180721</td>\n",
       "      <td>1532131200</td>\n",
       "      <td>S13043</td>\n",
       "      <td>1192</td>\n",
       "      <td>2</td>\n",
       "      <td>ZZ000000000000</td>\n",
       "      <td>P059001015</td>\n",
       "      <td>1</td>\n",
       "      <td>308</td>\n",
       "    </tr>\n",
       "    <tr>\n",
       "      <th>104675</th>\n",
       "      <td>20190430</td>\n",
       "      <td>1556582400</td>\n",
       "      <td>S13041</td>\n",
       "      <td>1122</td>\n",
       "      <td>1</td>\n",
       "      <td>ZZ000000000000</td>\n",
       "      <td>P070503012</td>\n",
       "      <td>1</td>\n",
       "      <td>100</td>\n",
       "    </tr>\n",
       "    <tr>\n",
       "      <th>104676</th>\n",
       "      <td>20180221</td>\n",
       "      <td>1519171200</td>\n",
       "      <td>S13043</td>\n",
       "      <td>1132</td>\n",
       "      <td>2</td>\n",
       "      <td>ZZ000000000000</td>\n",
       "      <td>P050101001</td>\n",
       "      <td>1</td>\n",
       "      <td>40</td>\n",
       "    </tr>\n",
       "    <tr>\n",
       "      <th>104677</th>\n",
       "      <td>20190911</td>\n",
       "      <td>1568160000</td>\n",
       "      <td>S14047</td>\n",
       "      <td>1132</td>\n",
       "      <td>2</td>\n",
       "      <td>ZZ000000000000</td>\n",
       "      <td>P071006005</td>\n",
       "      <td>1</td>\n",
       "      <td>218</td>\n",
       "    </tr>\n",
       "    <tr>\n",
       "      <th>104680</th>\n",
       "      <td>20190423</td>\n",
       "      <td>1555977600</td>\n",
       "      <td>S13016</td>\n",
       "      <td>1102</td>\n",
       "      <td>2</td>\n",
       "      <td>ZZ000000000000</td>\n",
       "      <td>P050601001</td>\n",
       "      <td>1</td>\n",
       "      <td>138</td>\n",
       "    </tr>\n",
       "  </tbody>\n",
       "</table>\n",
       "<p>38999 rows × 9 columns</p>\n",
       "</div>"
      ],
      "text/plain": [
       "        sales_ymd  sales_epoch store_cd  receipt_no  receipt_sub_no  \\\n",
       "3        20190205   1549324800   S14042        1132               1   \n",
       "8        20170504   1493856000   S13020        1112               2   \n",
       "14       20180329   1522281600   S12014        1122               1   \n",
       "15       20170116   1484524800   S13002        1112               1   \n",
       "16       20190621   1561075200   S13044        1142               2   \n",
       "...           ...          ...      ...         ...             ...   \n",
       "104672   20180721   1532131200   S13043        1192               2   \n",
       "104675   20190430   1556582400   S13041        1122               1   \n",
       "104676   20180221   1519171200   S13043        1132               2   \n",
       "104677   20190911   1568160000   S14047        1132               2   \n",
       "104680   20190423   1555977600   S13016        1102               2   \n",
       "\n",
       "           customer_id  product_cd  quantity  amount  \n",
       "3       ZZ000000000000  P050301001         1      25  \n",
       "8       ZZ000000000000  P071302010         1     770  \n",
       "14      ZZ000000000000  P050104001         1     115  \n",
       "15      ZZ000000000000  P080803001         1     100  \n",
       "16      ZZ000000000000  P040102001         1     268  \n",
       "...                ...         ...       ...     ...  \n",
       "104672  ZZ000000000000  P059001015         1     308  \n",
       "104675  ZZ000000000000  P070503012         1     100  \n",
       "104676  ZZ000000000000  P050101001         1      40  \n",
       "104677  ZZ000000000000  P071006005         1     218  \n",
       "104680  ZZ000000000000  P050601001         1     138  \n",
       "\n",
       "[38999 rows x 9 columns]"
      ]
     },
     "execution_count": 16,
     "metadata": {},
     "output_type": "execute_result"
    }
   ],
   "source": [
    "df38_r[df38_r['customer_id'].str.startswith(\"Z\")]"
   ]
  },
  {
   "cell_type": "code",
   "execution_count": 68,
   "metadata": {
    "executionInfo": {
     "elapsed": 663,
     "status": "ok",
     "timestamp": 1603002969392,
     "user": {
      "displayName": "ししぞう",
      "photoUrl": "https://lh3.googleusercontent.com/a-/AOh14GhjLtZCTS59IIEP1zssr09agt_qGp10CwS1J0Pq=s64",
      "userId": "07139038096484400229"
     },
     "user_tz": -540
    },
    "id": "SGRyMtqnUtGc"
   },
   "outputs": [],
   "source": [
    "df38_c2 = df38_c[(~df38_c['customer_id'].str.startswith(\"Z\")) & (df38_c[\"gender_cd\"] != 1)]\n"
   ]
  },
  {
   "cell_type": "code",
   "execution_count": 18,
   "metadata": {},
   "outputs": [],
   "source": [
    "df38_r2 = df38_r[[~df38_r['customer_id'].str.startswith(\"Z\")].groupby(\"customer_id\")[\"amount\"].fillna({\"amount\":0})]"
   ]
  },
  {
   "cell_type": "code",
   "execution_count": 19,
   "metadata": {},
   "outputs": [
    {
     "data": {
      "text/plain": [
       "0         158\n",
       "1          81\n",
       "2         170\n",
       "4          90\n",
       "5         138\n",
       "         ... \n",
       "104671    150\n",
       "104673    308\n",
       "104674     98\n",
       "104678    168\n",
       "104679    148\n",
       "Name: amount, Length: 65682, dtype: int64"
      ]
     },
     "execution_count": 19,
     "metadata": {},
     "output_type": "execute_result"
    }
   ],
   "source": [
    "df38_r2"
   ]
  },
  {
   "cell_type": "code",
   "execution_count": 69,
   "metadata": {
    "executionInfo": {
     "elapsed": 684,
     "status": "ok",
     "timestamp": 1603003007142,
     "user": {
      "displayName": "ししぞう",
      "photoUrl": "https://lh3.googleusercontent.com/a-/AOh14GhjLtZCTS59IIEP1zssr09agt_qGp10CwS1J0Pq=s64",
      "userId": "07139038096484400229"
     },
     "user_tz": -540
    },
    "id": "4UlP5FSLavG2"
   },
   "outputs": [],
   "source": [
    "df38_r2 = df38_r.sum()"
   ]
  },
  {
   "cell_type": "code",
   "execution_count": 72,
   "metadata": {
    "colab": {
     "base_uri": "https://localhost:8080/",
     "height": 358
    },
    "executionInfo": {
     "elapsed": 640,
     "status": "ok",
     "timestamp": 1603003265649,
     "user": {
      "displayName": "ししぞう",
      "photoUrl": "https://lh3.googleusercontent.com/a-/AOh14GhjLtZCTS59IIEP1zssr09agt_qGp10CwS1J0Pq=s64",
      "userId": "07139038096484400229"
     },
     "user_tz": -540
    },
    "id": "eFMub46bbNFH",
    "outputId": "9f0f1945-86bf-45df-d66a-48d0ba123837"
   },
   "outputs": [
    {
     "data": {
      "text/html": [
       "<div>\n",
       "<style scoped>\n",
       "    .dataframe tbody tr th:only-of-type {\n",
       "        vertical-align: middle;\n",
       "    }\n",
       "\n",
       "    .dataframe tbody tr th {\n",
       "        vertical-align: top;\n",
       "    }\n",
       "\n",
       "    .dataframe thead th {\n",
       "        text-align: right;\n",
       "    }\n",
       "</style>\n",
       "<table border=\"1\" class=\"dataframe\">\n",
       "  <thead>\n",
       "    <tr style=\"text-align: right;\">\n",
       "      <th></th>\n",
       "      <th>customer_id</th>\n",
       "      <th>customer_name</th>\n",
       "      <th>gender_cd</th>\n",
       "      <th>gender</th>\n",
       "      <th>birth_day</th>\n",
       "      <th>age</th>\n",
       "      <th>postal_cd</th>\n",
       "      <th>address</th>\n",
       "      <th>application_store_cd</th>\n",
       "      <th>application_date</th>\n",
       "      <th>status_cd</th>\n",
       "      <th>amount</th>\n",
       "    </tr>\n",
       "  </thead>\n",
       "  <tbody>\n",
       "    <tr>\n",
       "      <th>0</th>\n",
       "      <td>CS037613000071</td>\n",
       "      <td>六角 雅彦</td>\n",
       "      <td>9</td>\n",
       "      <td>不明</td>\n",
       "      <td>1952-04-01</td>\n",
       "      <td>66</td>\n",
       "      <td>136-0076</td>\n",
       "      <td>東京都江東区南砂**********</td>\n",
       "      <td>S13037</td>\n",
       "      <td>20150414</td>\n",
       "      <td>0-00000000-0</td>\n",
       "      <td>0.0</td>\n",
       "    </tr>\n",
       "    <tr>\n",
       "      <th>1</th>\n",
       "      <td>CS020401000016</td>\n",
       "      <td>宮下 達士</td>\n",
       "      <td>0</td>\n",
       "      <td>男性</td>\n",
       "      <td>1974-09-15</td>\n",
       "      <td>44</td>\n",
       "      <td>174-0065</td>\n",
       "      <td>東京都板橋区若木**********</td>\n",
       "      <td>S13020</td>\n",
       "      <td>20150225</td>\n",
       "      <td>0-00000000-0</td>\n",
       "      <td>0.0</td>\n",
       "    </tr>\n",
       "    <tr>\n",
       "      <th>2</th>\n",
       "      <td>CS029403000008</td>\n",
       "      <td>釈 人志</td>\n",
       "      <td>0</td>\n",
       "      <td>男性</td>\n",
       "      <td>1973-08-17</td>\n",
       "      <td>45</td>\n",
       "      <td>279-0003</td>\n",
       "      <td>千葉県浦安市海楽**********</td>\n",
       "      <td>S12029</td>\n",
       "      <td>20150515</td>\n",
       "      <td>0-00000000-0</td>\n",
       "      <td>0.0</td>\n",
       "    </tr>\n",
       "    <tr>\n",
       "      <th>3</th>\n",
       "      <td>CS015804000004</td>\n",
       "      <td>松谷 米蔵</td>\n",
       "      <td>0</td>\n",
       "      <td>男性</td>\n",
       "      <td>1931-05-02</td>\n",
       "      <td>87</td>\n",
       "      <td>136-0073</td>\n",
       "      <td>東京都江東区北砂**********</td>\n",
       "      <td>S13015</td>\n",
       "      <td>20150607</td>\n",
       "      <td>0-00000000-0</td>\n",
       "      <td>0.0</td>\n",
       "    </tr>\n",
       "    <tr>\n",
       "      <th>4</th>\n",
       "      <td>CS007403000016</td>\n",
       "      <td>依田 満</td>\n",
       "      <td>0</td>\n",
       "      <td>男性</td>\n",
       "      <td>1975-08-18</td>\n",
       "      <td>43</td>\n",
       "      <td>276-0022</td>\n",
       "      <td>千葉県八千代市上高野**********</td>\n",
       "      <td>S12007</td>\n",
       "      <td>20150914</td>\n",
       "      <td>0-00000000-0</td>\n",
       "      <td>0.0</td>\n",
       "    </tr>\n",
       "    <tr>\n",
       "      <th>5</th>\n",
       "      <td>CS040702000012</td>\n",
       "      <td>根本 六郎</td>\n",
       "      <td>0</td>\n",
       "      <td>男性</td>\n",
       "      <td>1939-07-02</td>\n",
       "      <td>79</td>\n",
       "      <td>226-0018</td>\n",
       "      <td>神奈川県横浜市緑区長津田みなみ台**********</td>\n",
       "      <td>S14040</td>\n",
       "      <td>20150112</td>\n",
       "      <td>0-00000000-0</td>\n",
       "      <td>0.0</td>\n",
       "    </tr>\n",
       "    <tr>\n",
       "      <th>6</th>\n",
       "      <td>CS035415000029</td>\n",
       "      <td>寺沢 真希</td>\n",
       "      <td>9</td>\n",
       "      <td>不明</td>\n",
       "      <td>1977-09-27</td>\n",
       "      <td>41</td>\n",
       "      <td>158-0096</td>\n",
       "      <td>東京都世田谷区玉川台**********</td>\n",
       "      <td>S13035</td>\n",
       "      <td>20141220</td>\n",
       "      <td>F-20101029-F</td>\n",
       "      <td>7504.0</td>\n",
       "    </tr>\n",
       "    <tr>\n",
       "      <th>7</th>\n",
       "      <td>CS040314000027</td>\n",
       "      <td>鶴田 きみまろ</td>\n",
       "      <td>9</td>\n",
       "      <td>不明</td>\n",
       "      <td>1986-03-26</td>\n",
       "      <td>33</td>\n",
       "      <td>226-0027</td>\n",
       "      <td>神奈川県横浜市緑区長津田**********</td>\n",
       "      <td>S14040</td>\n",
       "      <td>20150122</td>\n",
       "      <td>2-20080426-4</td>\n",
       "      <td>348.0</td>\n",
       "    </tr>\n",
       "    <tr>\n",
       "      <th>8</th>\n",
       "      <td>CS024303000010</td>\n",
       "      <td>横田 雅彦</td>\n",
       "      <td>0</td>\n",
       "      <td>男性</td>\n",
       "      <td>1981-12-18</td>\n",
       "      <td>37</td>\n",
       "      <td>214-0035</td>\n",
       "      <td>神奈川県川崎市多摩区長沢**********</td>\n",
       "      <td>S14024</td>\n",
       "      <td>20150917</td>\n",
       "      <td>0-00000000-0</td>\n",
       "      <td>0.0</td>\n",
       "    </tr>\n",
       "    <tr>\n",
       "      <th>9</th>\n",
       "      <td>CS003802000009</td>\n",
       "      <td>大森 照生</td>\n",
       "      <td>0</td>\n",
       "      <td>男性</td>\n",
       "      <td>1930-01-23</td>\n",
       "      <td>89</td>\n",
       "      <td>214-0014</td>\n",
       "      <td>神奈川県川崎市多摩区登戸**********</td>\n",
       "      <td>S13003</td>\n",
       "      <td>20150216</td>\n",
       "      <td>0-00000000-0</td>\n",
       "      <td>0.0</td>\n",
       "    </tr>\n",
       "  </tbody>\n",
       "</table>\n",
       "</div>"
      ],
      "text/plain": [
       "      customer_id customer_name  ...     status_cd  amount\n",
       "0  CS037613000071         六角 雅彦  ...  0-00000000-0     0.0\n",
       "1  CS020401000016         宮下 達士  ...  0-00000000-0     0.0\n",
       "2  CS029403000008          釈 人志  ...  0-00000000-0     0.0\n",
       "3  CS015804000004         松谷 米蔵  ...  0-00000000-0     0.0\n",
       "4  CS007403000016          依田 満  ...  0-00000000-0     0.0\n",
       "5  CS040702000012         根本 六郎  ...  0-00000000-0     0.0\n",
       "6  CS035415000029         寺沢 真希  ...  F-20101029-F  7504.0\n",
       "7  CS040314000027       鶴田 きみまろ  ...  2-20080426-4   348.0\n",
       "8  CS024303000010         横田 雅彦  ...  0-00000000-0     0.0\n",
       "9  CS003802000009         大森 照生  ...  0-00000000-0     0.0\n",
       "\n",
       "[10 rows x 12 columns]"
      ]
     },
     "execution_count": 72,
     "metadata": {
      "tags": []
     },
     "output_type": "execute_result"
    }
   ],
   "source": [
    "pd.merge(df38_c2,df38_r2,how=\"left\",on=\"customer_id\").fillna(0).head(10)"
   ]
  },
  {
   "cell_type": "markdown",
   "metadata": {
    "id": "OUtKibsrwrRO"
   },
   "source": [
    "# P-39"
   ]
  },
  {
   "cell_type": "markdown",
   "metadata": {
    "id": "O8FU3doGhhyy"
   },
   "source": [
    "---\n",
    "> P-039: レシート明細データフレーム（df_receipt）から売上日数の多い顧客の上位20件と、売上金額合計の多い顧客の上位20件を抽出し、完全外部結合せよ。ただし、非会員（顧客IDが'Z'から始まるもの）は除外すること。"
   ]
  },
  {
   "cell_type": "code",
   "execution_count": 74,
   "metadata": {
    "executionInfo": {
     "elapsed": 751,
     "status": "ok",
     "timestamp": 1603003681922,
     "user": {
      "displayName": "ししぞう",
      "photoUrl": "https://lh3.googleusercontent.com/a-/AOh14GhjLtZCTS59IIEP1zssr09agt_qGp10CwS1J0Pq=s64",
      "userId": "07139038096484400229"
     },
     "user_tz": -540
    },
    "id": "Av7SadgPhhyy"
   },
   "outputs": [],
   "source": [
    "df39_r = df_receipt.copy()"
   ]
  },
  {
   "cell_type": "code",
   "execution_count": 78,
   "metadata": {
    "executionInfo": {
     "elapsed": 666,
     "status": "ok",
     "timestamp": 1603003801395,
     "user": {
      "displayName": "ししぞう",
      "photoUrl": "https://lh3.googleusercontent.com/a-/AOh14GhjLtZCTS59IIEP1zssr09agt_qGp10CwS1J0Pq=s64",
      "userId": "07139038096484400229"
     },
     "user_tz": -540
    },
    "id": "IxEEy7acd41U"
   },
   "outputs": [],
   "source": [
    "df39_day_cnt= df39_r[~df39_r[\"customer_id\"].str.startswith(\"Z\")].groupby(\"customer_id\")[\"sales_ymd\"].count().head(20)"
   ]
  },
  {
   "cell_type": "code",
   "execution_count": 82,
   "metadata": {
    "executionInfo": {
     "elapsed": 653,
     "status": "ok",
     "timestamp": 1603004021987,
     "user": {
      "displayName": "ししぞう",
      "photoUrl": "https://lh3.googleusercontent.com/a-/AOh14GhjLtZCTS59IIEP1zssr09agt_qGp10CwS1J0Pq=s64",
      "userId": "07139038096484400229"
     },
     "user_tz": -540
    },
    "id": "t_el9KMredFR"
   },
   "outputs": [],
   "source": [
    "df39_sales_amount = df39_r[~df39_r[\"customer_id\"].str.startswith(\"Z\")].groupby(\"customer_id\")[\"amount\"].sum().head(20)"
   ]
  },
  {
   "cell_type": "code",
   "execution_count": 86,
   "metadata": {
    "colab": {
     "base_uri": "https://localhost:8080/",
     "height": 698
    },
    "executionInfo": {
     "elapsed": 682,
     "status": "ok",
     "timestamp": 1603004338198,
     "user": {
      "displayName": "ししぞう",
      "photoUrl": "https://lh3.googleusercontent.com/a-/AOh14GhjLtZCTS59IIEP1zssr09agt_qGp10CwS1J0Pq=s64",
      "userId": "07139038096484400229"
     },
     "user_tz": -540
    },
    "id": "c4ICYoBSfONB",
    "outputId": "48475414-532d-46a5-b9af-2682ef0ab427"
   },
   "outputs": [
    {
     "data": {
      "text/html": [
       "<div>\n",
       "<style scoped>\n",
       "    .dataframe tbody tr th:only-of-type {\n",
       "        vertical-align: middle;\n",
       "    }\n",
       "\n",
       "    .dataframe tbody tr th {\n",
       "        vertical-align: top;\n",
       "    }\n",
       "\n",
       "    .dataframe thead th {\n",
       "        text-align: right;\n",
       "    }\n",
       "</style>\n",
       "<table border=\"1\" class=\"dataframe\">\n",
       "  <thead>\n",
       "    <tr style=\"text-align: right;\">\n",
       "      <th></th>\n",
       "      <th>sales_ymd</th>\n",
       "      <th>amount</th>\n",
       "    </tr>\n",
       "    <tr>\n",
       "      <th>customer_id</th>\n",
       "      <th></th>\n",
       "      <th></th>\n",
       "    </tr>\n",
       "  </thead>\n",
       "  <tbody>\n",
       "    <tr>\n",
       "      <th>CS001113000004</th>\n",
       "      <td>2</td>\n",
       "      <td>1298</td>\n",
       "    </tr>\n",
       "    <tr>\n",
       "      <th>CS001114000005</th>\n",
       "      <td>4</td>\n",
       "      <td>626</td>\n",
       "    </tr>\n",
       "    <tr>\n",
       "      <th>CS001115000010</th>\n",
       "      <td>6</td>\n",
       "      <td>3044</td>\n",
       "    </tr>\n",
       "    <tr>\n",
       "      <th>CS001205000004</th>\n",
       "      <td>10</td>\n",
       "      <td>1988</td>\n",
       "    </tr>\n",
       "    <tr>\n",
       "      <th>CS001205000006</th>\n",
       "      <td>12</td>\n",
       "      <td>3337</td>\n",
       "    </tr>\n",
       "    <tr>\n",
       "      <th>CS001211000025</th>\n",
       "      <td>2</td>\n",
       "      <td>456</td>\n",
       "    </tr>\n",
       "    <tr>\n",
       "      <th>CS001212000027</th>\n",
       "      <td>2</td>\n",
       "      <td>448</td>\n",
       "    </tr>\n",
       "    <tr>\n",
       "      <th>CS001212000031</th>\n",
       "      <td>2</td>\n",
       "      <td>296</td>\n",
       "    </tr>\n",
       "    <tr>\n",
       "      <th>CS001212000046</th>\n",
       "      <td>2</td>\n",
       "      <td>228</td>\n",
       "    </tr>\n",
       "    <tr>\n",
       "      <th>CS001212000070</th>\n",
       "      <td>2</td>\n",
       "      <td>456</td>\n",
       "    </tr>\n",
       "    <tr>\n",
       "      <th>CS001212000098</th>\n",
       "      <td>2</td>\n",
       "      <td>383</td>\n",
       "    </tr>\n",
       "    <tr>\n",
       "      <th>CS001213000018</th>\n",
       "      <td>2</td>\n",
       "      <td>243</td>\n",
       "    </tr>\n",
       "    <tr>\n",
       "      <th>CS001213000020</th>\n",
       "      <td>2</td>\n",
       "      <td>343</td>\n",
       "    </tr>\n",
       "    <tr>\n",
       "      <th>CS001214000009</th>\n",
       "      <td>14</td>\n",
       "      <td>4685</td>\n",
       "    </tr>\n",
       "    <tr>\n",
       "      <th>CS001214000017</th>\n",
       "      <td>12</td>\n",
       "      <td>4132</td>\n",
       "    </tr>\n",
       "    <tr>\n",
       "      <th>CS001214000024</th>\n",
       "      <td>2</td>\n",
       "      <td>335</td>\n",
       "    </tr>\n",
       "    <tr>\n",
       "      <th>CS001214000048</th>\n",
       "      <td>10</td>\n",
       "      <td>2374</td>\n",
       "    </tr>\n",
       "    <tr>\n",
       "      <th>CS001214000052</th>\n",
       "      <td>12</td>\n",
       "      <td>5639</td>\n",
       "    </tr>\n",
       "    <tr>\n",
       "      <th>CS001214000059</th>\n",
       "      <td>2</td>\n",
       "      <td>248</td>\n",
       "    </tr>\n",
       "    <tr>\n",
       "      <th>CS001214000063</th>\n",
       "      <td>2</td>\n",
       "      <td>123</td>\n",
       "    </tr>\n",
       "  </tbody>\n",
       "</table>\n",
       "</div>"
      ],
      "text/plain": [
       "                sales_ymd  amount\n",
       "customer_id                      \n",
       "CS001113000004          2    1298\n",
       "CS001114000005          4     626\n",
       "CS001115000010          6    3044\n",
       "CS001205000004         10    1988\n",
       "CS001205000006         12    3337\n",
       "CS001211000025          2     456\n",
       "CS001212000027          2     448\n",
       "CS001212000031          2     296\n",
       "CS001212000046          2     228\n",
       "CS001212000070          2     456\n",
       "CS001212000098          2     383\n",
       "CS001213000018          2     243\n",
       "CS001213000020          2     343\n",
       "CS001214000009         14    4685\n",
       "CS001214000017         12    4132\n",
       "CS001214000024          2     335\n",
       "CS001214000048         10    2374\n",
       "CS001214000052         12    5639\n",
       "CS001214000059          2     248\n",
       "CS001214000063          2     123"
      ]
     },
     "execution_count": 86,
     "metadata": {
      "tags": []
     },
     "output_type": "execute_result"
    }
   ],
   "source": [
    "pd.merge(df39_day_cnt,df39_sales_amount,how=\"outer\",on=\"customer_id\")"
   ]
  },
  {
   "cell_type": "markdown",
   "metadata": {
    "id": "QJAu838dwvfh"
   },
   "source": [
    "# P-40"
   ]
  },
  {
   "cell_type": "markdown",
   "metadata": {
    "id": "pcu3GCH9hhyz"
   },
   "source": [
    "---\n",
    "> P-040: 全ての店舗と全ての商品を組み合わせると何件のデータとなるか調査したい。店舗（df_store）と商品（df_product）を直積した件数を計算せよ。"
   ]
  },
  {
   "cell_type": "code",
   "execution_count": 87,
   "metadata": {
    "colab": {
     "base_uri": "https://localhost:8080/",
     "height": 34
    },
    "executionInfo": {
     "elapsed": 675,
     "status": "ok",
     "timestamp": 1603005070665,
     "user": {
      "displayName": "ししぞう",
      "photoUrl": "https://lh3.googleusercontent.com/a-/AOh14GhjLtZCTS59IIEP1zssr09agt_qGp10CwS1J0Pq=s64",
      "userId": "07139038096484400229"
     },
     "user_tz": -540
    },
    "id": "d_jUSaS3hhyz",
    "outputId": "d02ff0c0-cae8-4293-d788-bb7dfd42e586"
   },
   "outputs": [
    {
     "data": {
      "text/plain": [
       "531590"
      ]
     },
     "execution_count": 87,
     "metadata": {
      "tags": []
     },
     "output_type": "execute_result"
    }
   ],
   "source": [
    "#df_storeの店舗の件数とdf_productの商品の件数を掛け合わせる\n",
    "len(df_store[\"store_cd\"].unique()) * len(df_product[\"product_cd\"].unique())"
   ]
  },
  {
   "cell_type": "markdown",
   "metadata": {
    "id": "ttrjut_OwyvI"
   },
   "source": [
    "# P-41"
   ]
  },
  {
   "cell_type": "markdown",
   "metadata": {
    "id": "qbPipL0Hhhy1"
   },
   "source": [
    "---\n",
    "> P-041: レシート明細データフレーム（df_receipt）の売上金額（amount）を日付（sales_ymd）ごとに集計し、前日からの売上金額増減を計算せよ。なお、計算結果は10件表示すればよい。"
   ]
  },
  {
   "cell_type": "code",
   "execution_count": 7,
   "metadata": {
    "colab": {
     "base_uri": "https://localhost:8080/",
     "height": 358
    },
    "executionInfo": {
     "elapsed": 788,
     "status": "ok",
     "timestamp": 1603005338751,
     "user": {
      "displayName": "ししぞう",
      "photoUrl": "https://lh3.googleusercontent.com/a-/AOh14GhjLtZCTS59IIEP1zssr09agt_qGp10CwS1J0Pq=s64",
      "userId": "07139038096484400229"
     },
     "user_tz": -540
    },
    "id": "pVnJqLmQkDXq",
    "outputId": "f79148f3-c2b3-4aac-b463-80cd1382841f"
   },
   "outputs": [
    {
     "data": {
      "text/html": [
       "<div>\n",
       "<style scoped>\n",
       "    .dataframe tbody tr th:only-of-type {\n",
       "        vertical-align: middle;\n",
       "    }\n",
       "\n",
       "    .dataframe tbody tr th {\n",
       "        vertical-align: top;\n",
       "    }\n",
       "\n",
       "    .dataframe thead th {\n",
       "        text-align: right;\n",
       "    }\n",
       "</style>\n",
       "<table border=\"1\" class=\"dataframe\">\n",
       "  <thead>\n",
       "    <tr style=\"text-align: right;\">\n",
       "      <th></th>\n",
       "      <th>sales_ymd</th>\n",
       "      <th>amount</th>\n",
       "      <th>lag_ymd</th>\n",
       "      <th>lag_amount</th>\n",
       "      <th>diff_amount</th>\n",
       "    </tr>\n",
       "  </thead>\n",
       "  <tbody>\n",
       "    <tr>\n",
       "      <th>0</th>\n",
       "      <td>20170101</td>\n",
       "      <td>33723</td>\n",
       "      <td>NaN</td>\n",
       "      <td>NaN</td>\n",
       "      <td>NaN</td>\n",
       "    </tr>\n",
       "    <tr>\n",
       "      <th>1</th>\n",
       "      <td>20170102</td>\n",
       "      <td>24165</td>\n",
       "      <td>20170101.0</td>\n",
       "      <td>33723.0</td>\n",
       "      <td>-9558.0</td>\n",
       "    </tr>\n",
       "    <tr>\n",
       "      <th>2</th>\n",
       "      <td>20170103</td>\n",
       "      <td>27503</td>\n",
       "      <td>20170102.0</td>\n",
       "      <td>24165.0</td>\n",
       "      <td>3338.0</td>\n",
       "    </tr>\n",
       "    <tr>\n",
       "      <th>3</th>\n",
       "      <td>20170104</td>\n",
       "      <td>36165</td>\n",
       "      <td>20170103.0</td>\n",
       "      <td>27503.0</td>\n",
       "      <td>8662.0</td>\n",
       "    </tr>\n",
       "    <tr>\n",
       "      <th>4</th>\n",
       "      <td>20170105</td>\n",
       "      <td>37830</td>\n",
       "      <td>20170104.0</td>\n",
       "      <td>36165.0</td>\n",
       "      <td>1665.0</td>\n",
       "    </tr>\n",
       "    <tr>\n",
       "      <th>5</th>\n",
       "      <td>20170106</td>\n",
       "      <td>32387</td>\n",
       "      <td>20170105.0</td>\n",
       "      <td>37830.0</td>\n",
       "      <td>-5443.0</td>\n",
       "    </tr>\n",
       "    <tr>\n",
       "      <th>6</th>\n",
       "      <td>20170107</td>\n",
       "      <td>23415</td>\n",
       "      <td>20170106.0</td>\n",
       "      <td>32387.0</td>\n",
       "      <td>-8972.0</td>\n",
       "    </tr>\n",
       "    <tr>\n",
       "      <th>7</th>\n",
       "      <td>20170108</td>\n",
       "      <td>24737</td>\n",
       "      <td>20170107.0</td>\n",
       "      <td>23415.0</td>\n",
       "      <td>1322.0</td>\n",
       "    </tr>\n",
       "    <tr>\n",
       "      <th>8</th>\n",
       "      <td>20170109</td>\n",
       "      <td>26718</td>\n",
       "      <td>20170108.0</td>\n",
       "      <td>24737.0</td>\n",
       "      <td>1981.0</td>\n",
       "    </tr>\n",
       "    <tr>\n",
       "      <th>9</th>\n",
       "      <td>20170110</td>\n",
       "      <td>20143</td>\n",
       "      <td>20170109.0</td>\n",
       "      <td>26718.0</td>\n",
       "      <td>-6575.0</td>\n",
       "    </tr>\n",
       "  </tbody>\n",
       "</table>\n",
       "</div>"
      ],
      "text/plain": [
       "   sales_ymd  amount     lag_ymd  lag_amount  diff_amount\n",
       "0   20170101   33723         NaN         NaN          NaN\n",
       "1   20170102   24165  20170101.0     33723.0      -9558.0\n",
       "2   20170103   27503  20170102.0     24165.0       3338.0\n",
       "3   20170104   36165  20170103.0     27503.0       8662.0\n",
       "4   20170105   37830  20170104.0     36165.0       1665.0\n",
       "5   20170106   32387  20170105.0     37830.0      -5443.0\n",
       "6   20170107   23415  20170106.0     32387.0      -8972.0\n",
       "7   20170108   24737  20170107.0     23415.0       1322.0\n",
       "8   20170109   26718  20170108.0     24737.0       1981.0\n",
       "9   20170110   20143  20170109.0     26718.0      -6575.0"
      ]
     },
     "execution_count": 7,
     "metadata": {},
     "output_type": "execute_result"
    }
   ],
   "source": [
    "df_sales_amount_by_date = df_receipt[['sales_ymd', 'amount']].groupby('sales_ymd').sum().reset_index()\n",
    "df_sales_amount_by_date = pd.concat([df_sales_amount_by_date, df_sales_amount_by_date.shift()], axis=1)\n",
    "df_sales_amount_by_date.columns = ['sales_ymd','amount','lag_ymd','lag_amount']\n",
    "df_sales_amount_by_date['diff_amount'] = df_sales_amount_by_date['amount'] - df_sales_amount_by_date['lag_amount']\n",
    "df_sales_amount_by_date.head(10)"
   ]
  },
  {
   "cell_type": "markdown",
   "metadata": {
    "id": "81YcVpqrw148"
   },
   "source": [
    "# P-42"
   ]
  },
  {
   "cell_type": "markdown",
   "metadata": {
    "id": "PNUVk5Dmhhy3"
   },
   "source": [
    "---\n",
    "> P-042: レシート明細データフレーム（df_receipt）の売上金額（amount）を日付（sales_ymd）ごとに集計し、各日付のデータに対し、１日前、２日前、３日前のデータを結合せよ。結果は10件表示すればよい。"
   ]
  },
  {
   "cell_type": "code",
   "execution_count": null,
   "metadata": {
    "id": "LE_foOoUhhy4"
   },
   "outputs": [],
   "source": [
    "#df42_sales_amount_by_date = df_receipt[['sales_ymd', 'amount']].groupby('sales_ymd').sum().reset_index()"
   ]
  },
  {
   "cell_type": "markdown",
   "metadata": {
    "id": "Dg56pE7rw4me"
   },
   "source": [
    "# P-43"
   ]
  },
  {
   "cell_type": "markdown",
   "metadata": {
    "id": "uEnwKvWbhhy5"
   },
   "source": [
    "---\n",
    "> P-043： レシート明細データフレーム（df_receipt）と顧客データフレーム（df_customer）を結合し、性別（gender）と年代（ageから計算）ごとに売上金額（amount）を合計した売上サマリデータフレーム（df_sales_summary）を作成せよ。性別は0が男性、1が女性、9が不明を表すものとする。\n",
    ">\n",
    "> ただし、項目構成は年代、女性の売上金額、男性の売上金額、性別不明の売上金額の4項目とすること（縦に年代、横に性別のクロス集計）。また、年代は10歳ごとの階級とすること。"
   ]
  },
  {
   "cell_type": "code",
   "execution_count": null,
   "metadata": {
    "id": "a2wSKTmIhhy6"
   },
   "outputs": [],
   "source": [
    "df_tmp = pd.merge(df_receipt, df_customer, how ='inner', on=\"customer_id\")\n",
    "df_tmp['era'] = df_tmp['age'].apply(lambda x: math.floor(x / 10) * 10)\n",
    "df_sales_summary = pd.pivot_table(df_tmp, index='era', columns='gender_cd', values='amount', aggfunc='sum').reset_index()\n",
    "df_sales_summary.columns = ['era', 'male', 'female', 'unknown']\n",
    "df_sales_summary"
   ]
  },
  {
   "cell_type": "markdown",
   "metadata": {
    "id": "3uGNCnV2w7J2"
   },
   "source": [
    "# P-44"
   ]
  },
  {
   "cell_type": "markdown",
   "metadata": {
    "id": "PIC95tKMhhy8"
   },
   "source": [
    "---\n",
    "> P-044： 前設問で作成した売上サマリデータフレーム（df_sales_summary）は性別の売上を横持ちさせたものであった。このデータフレームから性別を縦持ちさせ、年代、性別コード、売上金額の3項目に変換せよ。ただし、性別コードは男性を'00'、女性を'01'、不明を'99'とする。"
   ]
  },
  {
   "cell_type": "code",
   "execution_count": null,
   "metadata": {
    "id": "TMKQe8F5hhy8"
   },
   "outputs": [],
   "source": []
  },
  {
   "cell_type": "markdown",
   "metadata": {
    "id": "tAnKryZUw9fu"
   },
   "source": [
    "# P-45"
   ]
  },
  {
   "cell_type": "markdown",
   "metadata": {
    "id": "L29i1r0Nhhy9"
   },
   "source": [
    "---\n",
    "> P-045: 顧客データフレーム（df_customer）の生年月日（birth_day）は日付型（Date）でデータを保有している。これをYYYYMMDD形式の文字列に変換し、顧客ID（customer_id）とともに抽出せよ。データは10件を抽出すれば良い。"
   ]
  },
  {
   "cell_type": "code",
   "execution_count": null,
   "metadata": {
    "id": "t2t7rJCWhhy9"
   },
   "outputs": [],
   "source": []
  },
  {
   "cell_type": "markdown",
   "metadata": {
    "id": "enXsZIUlw_th"
   },
   "source": [
    "# P-46"
   ]
  },
  {
   "cell_type": "markdown",
   "metadata": {
    "id": "umDmd8kohhzA"
   },
   "source": [
    "---\n",
    "> P-046: 顧客データフレーム（df_customer）の申し込み日（application_date）はYYYYMMD形式の文字列型でデータを保有している。これを日付型（dateやdatetime）に変換し、顧客ID（customer_id）とともに抽出せよ。データは10件を抽出すれば良い。"
   ]
  },
  {
   "cell_type": "code",
   "execution_count": null,
   "metadata": {
    "id": "pVAxV-TWhhzA"
   },
   "outputs": [],
   "source": []
  },
  {
   "cell_type": "markdown",
   "metadata": {
    "id": "R_8MiQQIxB0b"
   },
   "source": [
    "# P-47"
   ]
  },
  {
   "cell_type": "markdown",
   "metadata": {
    "id": "lbc058iGhhzC"
   },
   "source": [
    "---\n",
    "> P-047: レシート明細データフレーム（df_receipt）の売上日（sales_ymd）はYYYYMMDD形式の数値型でデータを保有している。これを日付型（dateやdatetime）に変換し、レシート番号(receipt_no)、レシートサブ番号（receipt_sub_no）とともに抽出せよ。データは10件を抽出すれば良い。"
   ]
  },
  {
   "cell_type": "code",
   "execution_count": null,
   "metadata": {
    "id": "-StgxCNyhhzC"
   },
   "outputs": [],
   "source": []
  },
  {
   "cell_type": "markdown",
   "metadata": {
    "id": "E0WKfFSNxEf_"
   },
   "source": [
    "# P-48"
   ]
  },
  {
   "cell_type": "markdown",
   "metadata": {
    "id": "ohZn7QSihhzD"
   },
   "source": [
    "---\n",
    "> P-048: レシート明細データフレーム（df_receipt）の売上エポック秒（sales_epoch）は数値型のUNIX秒でデータを保有している。これを日付型（dateやdatetime）に変換し、レシート番号(receipt_no)、レシートサブ番号（receipt_sub_no）とともに抽出せよ。データは10件を抽出すれば良い。"
   ]
  },
  {
   "cell_type": "code",
   "execution_count": null,
   "metadata": {
    "id": "Y-aq0twKhhzD"
   },
   "outputs": [],
   "source": []
  },
  {
   "cell_type": "markdown",
   "metadata": {
    "id": "UWooR_xLxH9I"
   },
   "source": [
    "# P-49"
   ]
  },
  {
   "cell_type": "markdown",
   "metadata": {
    "id": "GfUYeJaFhhzE"
   },
   "source": [
    "---\n",
    "> P-049: レシート明細データフレーム（df_receipt）の売上エポック秒（sales_epoch）を日付型（timestamp型）に変換し、\"年\"だけ取り出してレシート番号(receipt_no)、レシートサブ番号（receipt_sub_no）とともに抽出せよ。データは10件を抽出すれば良い。"
   ]
  },
  {
   "cell_type": "code",
   "execution_count": null,
   "metadata": {
    "id": "C72RHYAThhzE"
   },
   "outputs": [],
   "source": []
  },
  {
   "cell_type": "markdown",
   "metadata": {
    "id": "-0tU_2ErxKNS"
   },
   "source": [
    "# P-50"
   ]
  },
  {
   "cell_type": "markdown",
   "metadata": {
    "id": "wiogoJ-8hhzF"
   },
   "source": [
    "---\n",
    "> P-050: レシート明細データフレーム（df_receipt）の売上エポック秒（sales_epoch）を日付型（timestamp型）に変換し、\"月\"だけ取り出してレシート番号(receipt_no)、レシートサブ番号（receipt_sub_no）とともに抽出せよ。なお、\"月\"は0埋め2桁で取り出すこと。データは10件を抽出すれば良い。"
   ]
  },
  {
   "cell_type": "code",
   "execution_count": null,
   "metadata": {
    "id": "Dx9OH1LNhhzG"
   },
   "outputs": [],
   "source": []
  },
  {
   "cell_type": "markdown",
   "metadata": {
    "id": "KXpQa8wNxOth"
   },
   "source": [
    "# P-51"
   ]
  },
  {
   "cell_type": "markdown",
   "metadata": {
    "id": "8JT6_Cu-hhzH"
   },
   "source": [
    "---\n",
    "> P-051: レシート明細データフレーム（df_receipt）の売上エポック秒（sales_epoch）を日付型（timestamp型）に変換し、\"日\"だけ取り出してレシート番号(receipt_no)、レシートサブ番号（receipt_sub_no）とともに抽出せよ。なお、\"日\"は0埋め2桁で取り出すこと。データは10件を抽出すれば良い。"
   ]
  },
  {
   "cell_type": "code",
   "execution_count": null,
   "metadata": {
    "id": "6A7WIWLhhhzH"
   },
   "outputs": [],
   "source": []
  },
  {
   "cell_type": "markdown",
   "metadata": {
    "id": "onFP9ogmxU2J"
   },
   "source": [
    "# P-52"
   ]
  },
  {
   "cell_type": "markdown",
   "metadata": {
    "id": "OGXY-uRrhhzI"
   },
   "source": [
    "---\n",
    "> P-052: レシート明細データフレーム（df_receipt）の売上金額（amount）を顧客ID（customer_id）ごとに合計の上、売上金額合計に対して2000円以下を0、2000円超を1に2値化し、顧客ID、売上金額合計とともに10件表示せよ。ただし、顧客IDが\"Z\"から始まるのものは非会員を表すため、除外して計算すること。"
   ]
  },
  {
   "cell_type": "code",
   "execution_count": null,
   "metadata": {
    "id": "rQvmUUolhhzJ"
   },
   "outputs": [],
   "source": []
  },
  {
   "cell_type": "markdown",
   "metadata": {
    "id": "0uE2Cwf5xUAv"
   },
   "source": [
    "# P-53"
   ]
  },
  {
   "cell_type": "markdown",
   "metadata": {
    "id": "ZtGCQePGhhzK"
   },
   "source": [
    "---\n",
    "> P-053: 顧客データフレーム（df_customer）の郵便番号（postal_cd）に対し、東京（先頭3桁が100〜209のもの）を1、それ以外のものを0に２値化せよ。さらにレシート明細データフレーム（df_receipt）と結合し、全期間において買い物実績のある顧客数を、作成した2値ごとにカウントせよ。"
   ]
  },
  {
   "cell_type": "code",
   "execution_count": null,
   "metadata": {
    "id": "8NZw1hv2hhzK"
   },
   "outputs": [],
   "source": []
  },
  {
   "cell_type": "markdown",
   "metadata": {
    "id": "0kcfWbX_xcT0"
   },
   "source": [
    "# P-54"
   ]
  },
  {
   "cell_type": "markdown",
   "metadata": {
    "id": "HHPGETlfhhzL"
   },
   "source": [
    "---\n",
    "> P-054: 顧客データデータフレーム（df_customer）の住所（address）は、埼玉県、千葉県、東京都、神奈川県のいずれかとなっている。都道府県毎にコード値を作成し、顧客ID、住所とともに抽出せよ。値は埼玉県を11、千葉県を12、東京都を13、神奈川県を14とすること。結果は10件表示させれば良い。"
   ]
  },
  {
   "cell_type": "code",
   "execution_count": null,
   "metadata": {
    "id": "r4hjSRMohhzL"
   },
   "outputs": [],
   "source": []
  },
  {
   "cell_type": "markdown",
   "metadata": {
    "id": "Jv4tey2BxfuZ"
   },
   "source": [
    "# P-55"
   ]
  },
  {
   "cell_type": "markdown",
   "metadata": {
    "id": "0Gr2RKrrhhzM"
   },
   "source": [
    "---\n",
    "> P-055: レシート明細データフレーム（df_receipt）の売上金額（amount）を顧客ID（customer_id）ごとに合計し、その合計金額の四分位点を求めよ。その上で、顧客ごとの売上金額合計に対して以下の基準でカテゴリ値を作成し、顧客ID、売上金額と合計ともに表示せよ。カテゴリ値は上から順に1〜4とする。結果は10件表示させれば良い。\n",
    ">\n",
    "> - 最小値以上第一四分位未満\n",
    "> - 第一四分位以上第二四分位未満\n",
    "> - 第二四分位以上第三四分位未満\n",
    "> - 第三四分位以上"
   ]
  },
  {
   "cell_type": "code",
   "execution_count": null,
   "metadata": {
    "id": "g-o-bHSzhhzM"
   },
   "outputs": [],
   "source": []
  },
  {
   "cell_type": "markdown",
   "metadata": {
    "id": "X3_-P1ahhhzN"
   },
   "source": [
    "---\n",
    "> P-056: 顧客データフレーム（df_customer）の年齢（age）をもとに10歳刻みで年代を算出し、顧客ID（customer_id）、生年月日（birth_day）とともに抽出せよ。ただし、60歳以上は全て60歳代とすること。年代を表すカテゴリ名は任意とする。先頭10件を表示させればよい。"
   ]
  },
  {
   "cell_type": "code",
   "execution_count": null,
   "metadata": {
    "id": "p4xXkwzhhhzN"
   },
   "outputs": [],
   "source": []
  },
  {
   "cell_type": "markdown",
   "metadata": {
    "id": "b_I_dEsdhhzP"
   },
   "source": [
    "---\n",
    "> P-057: 前問題の抽出結果と性別（gender）を組み合わせ、新たに性別×年代の組み合わせを表すカテゴリデータを作成せよ。組み合わせを表すカテゴリの値は任意とする。先頭10件を表示させればよい。"
   ]
  },
  {
   "cell_type": "code",
   "execution_count": null,
   "metadata": {
    "id": "zz-TCEbChhzP"
   },
   "outputs": [],
   "source": []
  },
  {
   "cell_type": "markdown",
   "metadata": {
    "id": "oJZe2WQ3hhzQ"
   },
   "source": [
    "---\n",
    "> P-058: 顧客データフレーム（df_customer）の性別コード（gender_cd）をダミー変数化し、顧客ID（customer_id）とともに抽出せよ。結果は10件表示させれば良い。"
   ]
  },
  {
   "cell_type": "code",
   "execution_count": null,
   "metadata": {
    "id": "pm-akNNrhhzQ"
   },
   "outputs": [],
   "source": []
  },
  {
   "cell_type": "markdown",
   "metadata": {
    "id": "_rIF1D4RhhzR"
   },
   "source": [
    "---\n",
    "> P-059: レシート明細データフレーム（df_receipt）の売上金額（amount）を顧客ID（customer_id）ごとに合計し、合計した売上金額を平均0、標準偏差1に標準化して顧客ID、売上金額合計とともに表示せよ。標準化に使用する標準偏差は、不偏標準偏差と標本標準偏差のどちらでも良いものとする。ただし、顧客IDが\"Z\"から始まるのものは非会員を表すため、除外して計算すること。結果は10件表示させれば良い。"
   ]
  },
  {
   "cell_type": "code",
   "execution_count": null,
   "metadata": {
    "id": "hgU77tJWhhzR"
   },
   "outputs": [],
   "source": []
  },
  {
   "cell_type": "markdown",
   "metadata": {
    "id": "--LbbUHGhhzT"
   },
   "source": [
    "---\n",
    "> P-060: レシート明細データフレーム（df_receipt）の売上金額（amount）を顧客ID（customer_id）ごとに合計し、合計した売上金額を最小値0、最大値1に正規化して顧客ID、売上金額合計とともに表示せよ。ただし、顧客IDが\"Z\"から始まるのものは非会員を表すため、除外して計算すること。結果は10件表示させれば良い。"
   ]
  },
  {
   "cell_type": "code",
   "execution_count": null,
   "metadata": {
    "id": "RIfNz58jhhzT"
   },
   "outputs": [],
   "source": []
  },
  {
   "cell_type": "markdown",
   "metadata": {
    "id": "9v_q6BLjhhzU"
   },
   "source": [
    "---\n",
    "> P-061: レシート明細データフレーム（df_receipt）の売上金額（amount）を顧客ID（customer_id）ごとに合計し、合計した売上金額を常用対数化（底=10）して顧客ID、売上金額合計とともに表示せよ。ただし、顧客IDが\"Z\"から始まるのものは非会員を表すため、除外して計算すること。結果は10件表示させれば良い。"
   ]
  },
  {
   "cell_type": "code",
   "execution_count": null,
   "metadata": {
    "id": "d5_2HQ-2hhzU"
   },
   "outputs": [],
   "source": []
  },
  {
   "cell_type": "markdown",
   "metadata": {
    "id": "uYepDUW5hhzV"
   },
   "source": [
    "---\n",
    "> P-062: レシート明細データフレーム（df_receipt）の売上金額（amount）を顧客ID（customer_id）ごとに合計し、合計した売上金額を自然対数化(底=e）して顧客ID、売上金額合計とともに表示せよ。ただし、顧客IDが\"Z\"から始まるのものは非会員を表すため、除外して計算すること。結果は10件表示させれば良い。"
   ]
  },
  {
   "cell_type": "code",
   "execution_count": null,
   "metadata": {
    "id": "aqDDlXmEhhzV"
   },
   "outputs": [],
   "source": []
  },
  {
   "cell_type": "markdown",
   "metadata": {
    "id": "JrQz7vUxhhzW"
   },
   "source": [
    "---\n",
    "> P-063: 商品データフレーム（df_product）の単価（unit_price）と原価（unit_cost）から、各商品の利益額を算出せよ。結果は10件表示させれば良い。"
   ]
  },
  {
   "cell_type": "code",
   "execution_count": null,
   "metadata": {
    "id": "AEzRXedrhhzX"
   },
   "outputs": [],
   "source": []
  },
  {
   "cell_type": "markdown",
   "metadata": {
    "id": "dA3_mEIghhzY"
   },
   "source": [
    "---\n",
    "> P-064: 商品データフレーム（df_product）の単価（unit_price）と原価（unit_cost）から、各商品の利益率の全体平均を算出せよ。\n",
    "ただし、単価と原価にはNULLが存在することに注意せよ。"
   ]
  },
  {
   "cell_type": "code",
   "execution_count": null,
   "metadata": {
    "id": "tVmogEBBhhzY"
   },
   "outputs": [],
   "source": []
  },
  {
   "cell_type": "markdown",
   "metadata": {
    "id": "jQowqYLWhhzZ"
   },
   "source": [
    "---\n",
    "> P-065: 商品データフレーム（df_product）の各商品について、利益率が30%となる新たな単価を求めよ。ただし、1円未満は切り捨てること。そして結果を10件表示させ、利益率がおよそ30％付近であることを確認せよ。ただし、単価（unit_price）と原価（unit_cost）にはNULLが存在することに注意せよ。"
   ]
  },
  {
   "cell_type": "code",
   "execution_count": null,
   "metadata": {
    "id": "fSPVlHxthhzZ"
   },
   "outputs": [],
   "source": []
  },
  {
   "cell_type": "markdown",
   "metadata": {
    "id": "Tj7mplJihhza"
   },
   "source": [
    "---\n",
    "> P-066: 商品データフレーム（df_product）の各商品について、利益率が30%となる新たな単価を求めよ。今回は、1円未満を四捨五入すること（0.5については偶数方向の丸めで良い）。そして結果を10件表示させ、利益率がおよそ30％付近であることを確認せよ。ただし、単価（unit_price）と原価（unit_cost）にはNULLが存在することに注意せよ。"
   ]
  },
  {
   "cell_type": "code",
   "execution_count": null,
   "metadata": {
    "id": "gC81Fp6ehhza"
   },
   "outputs": [],
   "source": []
  },
  {
   "cell_type": "markdown",
   "metadata": {
    "id": "xxce_R6bhhzb"
   },
   "source": [
    "---\n",
    "> P-067: 商品データフレーム（df_product）の各商品について、利益率が30%となる新たな単価を求めよ。今回は、1円未満を切り上げること。そして結果を10件表示させ、利益率がおよそ30％付近であることを確認せよ。ただし、単価（unit_price）と原価（unit_cost）にはNULLが存在することに注意せよ。"
   ]
  },
  {
   "cell_type": "code",
   "execution_count": null,
   "metadata": {
    "id": "3rMUdEF6hhzb"
   },
   "outputs": [],
   "source": []
  },
  {
   "cell_type": "markdown",
   "metadata": {
    "id": "CnpgvfPThhzd"
   },
   "source": [
    "---\n",
    "> P-068: 商品データフレーム（df_product）の各商品について、消費税率10%の税込み金額を求めよ。 1円未満の端数は切り捨てとし、結果は10件表示すれば良い。ただし、単価（unit_price）にはNULLが存在することに注意せよ。"
   ]
  },
  {
   "cell_type": "code",
   "execution_count": null,
   "metadata": {
    "id": "pAlTEkKHhhzd"
   },
   "outputs": [],
   "source": []
  },
  {
   "cell_type": "markdown",
   "metadata": {
    "id": "zEABVDKXhhze"
   },
   "source": [
    "---\n",
    "> P-069: レシート明細データフレーム（df_receipt）と商品データフレーム（df_product）を結合し、顧客毎に全商品の売上金額合計と、カテゴリ大区分（category_major_cd）が\"07\"（瓶詰缶詰）の売上金額合計を計算の上、両者の比率を求めよ。抽出対象はカテゴリ大区分\"07\"（瓶詰缶詰）の購入実績がある顧客のみとし、結果は10件表示させればよい。"
   ]
  },
  {
   "cell_type": "code",
   "execution_count": null,
   "metadata": {
    "id": "FL33wGUMhhze"
   },
   "outputs": [],
   "source": []
  },
  {
   "cell_type": "markdown",
   "metadata": {
    "id": "ZEAiLMTShhzf"
   },
   "source": [
    "---\n",
    "> P-070: レシート明細データフレーム（df_receipt）の売上日（sales_ymd）に対し、顧客データフレーム（df_customer）の会員申込日（application_date）からの経過日数を計算し、顧客ID（customer_id）、売上日、会員申込日とともに表示せよ。結果は10件表示させれば良い（なお、sales_ymdは数値、application_dateは文字列でデータを保持している点に注意）。"
   ]
  },
  {
   "cell_type": "code",
   "execution_count": null,
   "metadata": {
    "id": "kvzQzXuShhzf"
   },
   "outputs": [],
   "source": []
  },
  {
   "cell_type": "markdown",
   "metadata": {
    "id": "HsMXQZXshhzg"
   },
   "source": [
    "---\n",
    "> P-071: レシート明細データフレーム（df_receipt）の売上日（sales_ymd）に対し、顧客データフレーム（df_customer）の会員申込日（application_date）からの経過月数を計算し、顧客ID（customer_id）、売上日、会員申込日とともに表示せよ。結果は10件表示させれば良い（なお、sales_ymdは数値、application_dateは文字列でデータを保持している点に注意）。1ヶ月未満は切り捨てること。"
   ]
  },
  {
   "cell_type": "code",
   "execution_count": null,
   "metadata": {
    "id": "go_c1NKxhhzh"
   },
   "outputs": [],
   "source": []
  },
  {
   "cell_type": "markdown",
   "metadata": {
    "id": "uRcwkWA6hhzi"
   },
   "source": [
    "---\n",
    "> P-072: レシート明細データフレーム（df_receipt）の売上日（sales_ymd）に対し、顧客データフレーム（df_customer）の会員申込日（application_date）からの経過年数を計算し、顧客ID（customer_id）、売上日、会員申込日とともに表示せよ。結果は10件表示させれば良い。（なお、sales_ymdは数値、application_dateは文字列でデータを保持している点に注意）。1年未満は切り捨てること。"
   ]
  },
  {
   "cell_type": "code",
   "execution_count": null,
   "metadata": {
    "id": "Z5-u-KYhhhzi"
   },
   "outputs": [],
   "source": []
  },
  {
   "cell_type": "markdown",
   "metadata": {
    "id": "-PsOPZZBhhzj"
   },
   "source": [
    "---\n",
    "> P-073: レシート明細データフレーム（df_receipt）の売上日（sales_ymd）に対し、顧客データフレーム（df_customer）の会員申込日（application_date）からのエポック秒による経過時間を計算し、顧客ID（customer_id）、売上日、会員申込日とともに表示せよ。結果は10件表示させれば良い（なお、sales_ymdは数値、application_dateは文字列でデータを保持している点に注意）。なお、時間情報は保有していないため各日付は0時0分0秒を表すものとする。"
   ]
  },
  {
   "cell_type": "code",
   "execution_count": null,
   "metadata": {
    "id": "vUrvuOBfhhzj"
   },
   "outputs": [],
   "source": []
  },
  {
   "cell_type": "markdown",
   "metadata": {
    "id": "u_8UNALZhhzk"
   },
   "source": [
    "---\n",
    "> P-074: レシート明細データフレーム（df_receipt）の売上日（sales_ymd）に対し、当該週の月曜日からの経過日数を計算し、売上日、当該週の月曜日付とともに表示せよ。結果は10件表示させれば良い（なお、sales_ymdは数値でデータを保持している点に注意）。"
   ]
  },
  {
   "cell_type": "code",
   "execution_count": null,
   "metadata": {
    "id": "mCtL5g4mhhzk"
   },
   "outputs": [],
   "source": []
  },
  {
   "cell_type": "markdown",
   "metadata": {
    "id": "2Jxo_7quhhzl"
   },
   "source": [
    "---\n",
    "> P-075: 顧客データフレーム（df_customer）からランダムに1%のデータを抽出し、先頭から10件データを抽出せよ。"
   ]
  },
  {
   "cell_type": "code",
   "execution_count": null,
   "metadata": {
    "id": "IlLf0t38hhzl"
   },
   "outputs": [],
   "source": []
  },
  {
   "cell_type": "markdown",
   "metadata": {
    "id": "aln1Xt5ghhzm"
   },
   "source": [
    "---\n",
    "> P-076: 顧客データフレーム（df_customer）から性別（gender_cd）の割合に基づきランダムに10%のデータを層化抽出データし、性別ごとに件数を集計せよ。"
   ]
  },
  {
   "cell_type": "code",
   "execution_count": null,
   "metadata": {
    "id": "RbrjkGllhhzm"
   },
   "outputs": [],
   "source": []
  },
  {
   "cell_type": "markdown",
   "metadata": {
    "id": "VPRFv68Jhhzn"
   },
   "source": [
    "---\n",
    "> P-077: レシート明細データフレーム（df_receipt）の売上金額（amount）を顧客単位に合計し、合計した売上金額の外れ値を抽出せよ。ただし、顧客IDが\"Z\"から始まるのものは非会員を表すため、除外して計算すること。なお、ここでは外れ値を平均から3σ以上離れたものとする。結果は10件表示させれば良い。"
   ]
  },
  {
   "cell_type": "code",
   "execution_count": null,
   "metadata": {
    "id": "7_EgePw6hhzn"
   },
   "outputs": [],
   "source": []
  },
  {
   "cell_type": "markdown",
   "metadata": {
    "id": "BatcRBrehhzp"
   },
   "source": [
    "---\n",
    "> P-078: レシート明細データフレーム（df_receipt）の売上金額（amount）を顧客単位に合計し、合計した売上金額の外れ値を抽出せよ。ただし、顧客IDが\"Z\"から始まるのものは非会員を表すため、除外して計算すること。なお、ここでは外れ値を第一四分位と第三四分位の差であるIQRを用いて、「第一四分位数-1.5×IQR」よりも下回るもの、または「第三四分位数+1.5×IQR」を超えるものとする。結果は10件表示させれば良い。"
   ]
  },
  {
   "cell_type": "code",
   "execution_count": null,
   "metadata": {
    "id": "4RvDfhvChhzp"
   },
   "outputs": [],
   "source": []
  },
  {
   "cell_type": "markdown",
   "metadata": {
    "id": "boe923CMhhzq"
   },
   "source": [
    "---\n",
    "> P-079: 商品データフレーム（df_product）の各項目に対し、欠損数を確認せよ。"
   ]
  },
  {
   "cell_type": "code",
   "execution_count": null,
   "metadata": {
    "id": "bxl__vC5hhzq"
   },
   "outputs": [],
   "source": []
  },
  {
   "cell_type": "markdown",
   "metadata": {
    "id": "afprSqIvhhzs"
   },
   "source": [
    "---\n",
    "> P-080: 商品データフレーム（df_product）のいずれかの項目に欠損が発生しているレコードを全て削除した新たなdf_product_1を作成せよ。なお、削除前後の件数を表示させ、前設問で確認した件数だけ減少していることも確認すること。"
   ]
  },
  {
   "cell_type": "code",
   "execution_count": null,
   "metadata": {
    "id": "q3_9sLdHhhzt"
   },
   "outputs": [],
   "source": []
  },
  {
   "cell_type": "markdown",
   "metadata": {
    "id": "GtiO20ZKhhzu"
   },
   "source": [
    "---\n",
    "> P-081: 単価（unit_price）と原価（unit_cost）の欠損値について、それぞれの平均値で補完した新たなdf_product_2を作成せよ。なお、平均値について1円未満は四捨五入とし、0.5については偶数寄せでかまわない。補完実施後、各項目について欠損が生じていないことも確認すること。"
   ]
  },
  {
   "cell_type": "code",
   "execution_count": null,
   "metadata": {
    "id": "puFf-7Ewhhzu"
   },
   "outputs": [],
   "source": []
  },
  {
   "cell_type": "markdown",
   "metadata": {
    "id": "i7x6WAJ2hhzv"
   },
   "source": [
    "---\n",
    "> P-082: 単価（unit_price）と原価（unit_cost）の欠損値について、それぞれの中央値で補完した新たなdf_product_3を作成せよ。なお、中央値について1円未満は四捨五入とし、0.5については偶数寄せでかまわない。補完実施後、各項目について欠損が生じていないことも確認すること。"
   ]
  },
  {
   "cell_type": "code",
   "execution_count": null,
   "metadata": {
    "id": "Meng_cTIhhzv"
   },
   "outputs": [],
   "source": []
  },
  {
   "cell_type": "markdown",
   "metadata": {
    "id": "kXCIpqm4hhzw"
   },
   "source": [
    "---\n",
    "> P-083: 単価（unit_price）と原価（unit_cost）の欠損値について、各商品の小区分（category_small_cd）ごとに算出した中央値で補完した新たなdf_product_4を作成せよ。なお、中央値について1円未満は四捨五入とし、0.5については偶数寄せでかまわない。補完実施後、各項目について欠損が生じていないことも確認すること。"
   ]
  },
  {
   "cell_type": "code",
   "execution_count": null,
   "metadata": {
    "id": "Qeq1bChyhhzw"
   },
   "outputs": [],
   "source": []
  },
  {
   "cell_type": "markdown",
   "metadata": {
    "id": "kKqZ8U_ihhzx"
   },
   "source": [
    "---\n",
    "> P-084: 顧客データフレーム（df_customer）の全顧客に対し、全期間の売上金額に占める2019年売上金額の割合を計算せよ。ただし、販売実績のない場合は0として扱うこと。そして計算した割合が0超のものを抽出せよ。 結果は10件表示させれば良い。また、作成したデータにNAやNANが存在しないことを確認せよ。"
   ]
  },
  {
   "cell_type": "code",
   "execution_count": null,
   "metadata": {
    "id": "Rtq3Y8Gxhhzx"
   },
   "outputs": [],
   "source": []
  },
  {
   "cell_type": "markdown",
   "metadata": {
    "id": "UEPE0K-rhhzy"
   },
   "source": [
    "---\n",
    "> P-085: 顧客データフレーム（df_customer）の全顧客に対し、郵便番号（postal_cd）を用いて経度緯度変換用データフレーム（df_geocode）を紐付け、新たなdf_customer_1を作成せよ。ただし、複数紐づく場合は経度（longitude）、緯度（latitude）それぞれ平均を算出すること。\n"
   ]
  },
  {
   "cell_type": "code",
   "execution_count": null,
   "metadata": {
    "id": "P_paWqODhhzy"
   },
   "outputs": [],
   "source": []
  },
  {
   "cell_type": "markdown",
   "metadata": {
    "id": "dJ8IvUgNhhzz"
   },
   "source": [
    "---\n",
    "> P-086: 前設問で作成した緯度経度つき顧客データフレーム（df_customer_1）に対し、申込み店舗コード（application_store_cd）をキーに店舗データフレーム（df_store）と結合せよ。そして申込み店舗の緯度（latitude）・経度情報（longitude)と顧客の緯度・経度を用いて距離（km）を求め、顧客ID（customer_id）、顧客住所（address）、店舗住所（address）とともに表示せよ。計算式は簡易式で良いものとするが、その他精度の高い方式を利用したライブラリを利用してもかまわない。結果は10件表示すれば良い。"
   ]
  },
  {
   "cell_type": "markdown",
   "metadata": {
    "id": "kFydo3tChhzz"
   },
   "source": [
    "$$\n",
    "緯度（ラジアン）：\\phi \\\\\n",
    "経度（ラジアン）：\\lambda \\\\\n",
    "距離L = 6371 * arccos(sin \\phi_1 * sin \\phi_2\n",
    "+ cos \\phi_1 * cos \\phi_2 * cos(\\lambda_1 − \\lambda_2))\n",
    "$$"
   ]
  },
  {
   "cell_type": "code",
   "execution_count": null,
   "metadata": {
    "id": "YOhgdXTphhz0"
   },
   "outputs": [],
   "source": []
  },
  {
   "cell_type": "markdown",
   "metadata": {
    "id": "-7BBzLWphhz0"
   },
   "source": [
    "---\n",
    "> P-087:  顧客データフレーム（df_customer）では、異なる店舗での申込みなどにより同一顧客が複数登録されている。名前（customer_name）と郵便番号（postal_cd）が同じ顧客は同一顧客とみなし、1顧客1レコードとなるように名寄せした名寄顧客データフレーム（df_customer_u）を作成せよ。ただし、同一顧客に対しては売上金額合計が最も高いものを残すものとし、売上金額合計が同一もしくは売上実績の無い顧客については顧客ID（customer_id）の番号が小さいものを残すこととする。"
   ]
  },
  {
   "cell_type": "code",
   "execution_count": null,
   "metadata": {
    "id": "hJhzgvxuhhz0"
   },
   "outputs": [],
   "source": []
  },
  {
   "cell_type": "markdown",
   "metadata": {
    "id": "U4ojNt4shhz1"
   },
   "source": [
    "---\n",
    "> P-088: 前設問で作成したデータを元に、顧客データフレームに統合名寄IDを付与したデータフレーム（df_customer_n）を作成せよ。ただし、統合名寄IDは以下の仕様で付与するものとする。\n",
    ">\n",
    "> - 重複していない顧客：顧客ID（customer_id）を設定\n",
    "> - 重複している顧客：前設問で抽出したレコードの顧客IDを設定"
   ]
  },
  {
   "cell_type": "code",
   "execution_count": null,
   "metadata": {
    "id": "G8xkmVEnhhz2"
   },
   "outputs": [],
   "source": []
  },
  {
   "cell_type": "markdown",
   "metadata": {
    "id": "ijOu7Ekfhhz3"
   },
   "source": [
    "---\n",
    "> P-閑話: df_customer_1, df_customer_nは使わないので削除する。"
   ]
  },
  {
   "cell_type": "code",
   "execution_count": null,
   "metadata": {
    "id": "0rMxTZIGhhz3"
   },
   "outputs": [],
   "source": []
  },
  {
   "cell_type": "markdown",
   "metadata": {
    "id": "jGzIjQvfhhz4"
   },
   "source": [
    "---\n",
    "> P-089: 売上実績のある顧客に対し、予測モデル構築のため学習用データとテスト用データに分割したい。それぞれ8:2の割合でランダムにデータを分割せよ。"
   ]
  },
  {
   "cell_type": "code",
   "execution_count": null,
   "metadata": {
    "id": "tQfblHJFhhz4"
   },
   "outputs": [],
   "source": []
  },
  {
   "cell_type": "markdown",
   "metadata": {
    "id": "lnuxS-40hhz5"
   },
   "source": [
    "---\n",
    "> P-090: レシート明細データフレーム（df_receipt）は2017年1月1日〜2019年10月31日までのデータを有している。売上金額（amount）を月次で集計し、学習用に12ヶ月、テスト用に6ヶ月のモデル構築用データを3セット作成せよ。"
   ]
  },
  {
   "cell_type": "code",
   "execution_count": null,
   "metadata": {
    "id": "54N1nBI3hhz5"
   },
   "outputs": [],
   "source": []
  },
  {
   "cell_type": "markdown",
   "metadata": {
    "id": "NIl5LRhbhhz6"
   },
   "source": [
    "---\n",
    "> P-091: 顧客データフレーム（df_customer）の各顧客に対し、売上実績のある顧客数と売上実績のない顧客数が1:1となるようにアンダーサンプリングで抽出せよ。"
   ]
  },
  {
   "cell_type": "code",
   "execution_count": null,
   "metadata": {
    "id": "Snlnbkm-hhz6"
   },
   "outputs": [],
   "source": []
  },
  {
   "cell_type": "markdown",
   "metadata": {
    "id": "LAzWjKmHhhz9"
   },
   "source": [
    "---\n",
    "> P-092: 顧客データフレーム（df_customer）では、性別に関する情報が非正規化の状態で保持されている。これを第三正規化せよ。"
   ]
  },
  {
   "cell_type": "code",
   "execution_count": null,
   "metadata": {
    "id": "BUEhEPR8hhz9"
   },
   "outputs": [],
   "source": []
  },
  {
   "cell_type": "markdown",
   "metadata": {
    "id": "u8OEQQikhhz-"
   },
   "source": [
    "---\n",
    "> P-093: 商品データフレーム（df_product）では各カテゴリのコード値だけを保有し、カテゴリ名は保有していない。カテゴリデータフレーム（df_category）と組み合わせて非正規化し、カテゴリ名を保有した新たな商品データフレームを作成せよ。"
   ]
  },
  {
   "cell_type": "code",
   "execution_count": null,
   "metadata": {
    "id": "mbOy7QIQhhz-"
   },
   "outputs": [],
   "source": []
  },
  {
   "cell_type": "markdown",
   "metadata": {
    "id": "WBQfMWaThhz_"
   },
   "source": [
    "---\n",
    "> P-094: 先に作成したカテゴリ名付き商品データを以下の仕様でファイル出力せよ。なお、出力先のパスはdata配下とする。\n",
    ">\n",
    "> - ファイル形式はCSV（カンマ区切り）\n",
    "> - ヘッダ有り\n",
    "> - 文字コードはUTF-8"
   ]
  },
  {
   "cell_type": "code",
   "execution_count": null,
   "metadata": {
    "id": "NdSruP0nhhz_"
   },
   "outputs": [],
   "source": []
  },
  {
   "cell_type": "markdown",
   "metadata": {
    "id": "OwHfilB2hh0B"
   },
   "source": [
    "---\n",
    "> P-095: 先に作成したカテゴリ名付き商品データを以下の仕様でファイル出力せよ。なお、出力先のパスはdata配下とする。\n",
    ">\n",
    "> - ファイル形式はCSV（カンマ区切り）\n",
    "> - ヘッダ有り\n",
    "> - 文字コードはCP932"
   ]
  },
  {
   "cell_type": "code",
   "execution_count": null,
   "metadata": {
    "id": "R_A_MhTYhh0C"
   },
   "outputs": [],
   "source": []
  },
  {
   "cell_type": "markdown",
   "metadata": {
    "id": "ijN5gi_Nhh0C"
   },
   "source": [
    "---\n",
    "> P-096: 先に作成したカテゴリ名付き商品データを以下の仕様でファイル出力せよ。なお、出力先のパスはdata配下とする。\n",
    ">\n",
    "> - ファイル形式はCSV（カンマ区切り）\n",
    "> - ヘッダ無し\n",
    "> - 文字コードはUTF-8"
   ]
  },
  {
   "cell_type": "code",
   "execution_count": null,
   "metadata": {
    "id": "HRMFIbjNhh0C"
   },
   "outputs": [],
   "source": []
  },
  {
   "cell_type": "markdown",
   "metadata": {
    "id": "EGEj2Gfohh0D"
   },
   "source": [
    "---\n",
    "> P-097: 先に作成した以下形式のファイルを読み込み、データフレームを作成せよ。また、先頭10件を表示させ、正しくとりまれていることを確認せよ。\n",
    ">\n",
    "> - ファイル形式はCSV（カンマ区切り）\n",
    "> - ヘッダ有り\n",
    "> - 文字コードはUTF-8"
   ]
  },
  {
   "cell_type": "code",
   "execution_count": null,
   "metadata": {
    "id": "elyUH6_2hh0D"
   },
   "outputs": [],
   "source": []
  },
  {
   "cell_type": "markdown",
   "metadata": {
    "id": "v51_UZ-Ahh0E"
   },
   "source": [
    "---\n",
    "> P-098: 先に作成した以下形式のファイルを読み込み、データフレームを作成せよ。また、先頭10件を表示させ、正しくとりまれていることを確認せよ。\n",
    ">\n",
    "> - ファイル形式はCSV（カンマ区切り）\n",
    "> - ヘッダ無し\n",
    "> - 文字コードはUTF-8"
   ]
  },
  {
   "cell_type": "code",
   "execution_count": null,
   "metadata": {
    "id": "4YBgcGjuhh0E"
   },
   "outputs": [],
   "source": []
  },
  {
   "cell_type": "markdown",
   "metadata": {
    "id": "PgrSkEmuhh0F"
   },
   "source": [
    "---\n",
    "> P-099: 先に作成したカテゴリ名付き商品データを以下の仕様でファイル出力せよ。なお、出力先のパスはdata配下とする。\n",
    ">\n",
    "> - ファイル形式はTSV（タブ区切り）\n",
    "> - ヘッダ有り\n",
    "> - 文字コードはUTF-8"
   ]
  },
  {
   "cell_type": "code",
   "execution_count": null,
   "metadata": {
    "id": "WrdmX0mihh0F"
   },
   "outputs": [],
   "source": []
  },
  {
   "cell_type": "markdown",
   "metadata": {
    "id": "fRhhcyMuhh0G"
   },
   "source": [
    "---\n",
    "> P-100: 先に作成した以下形式のファイルを読み込み、データフレームを作成せよ。また、先頭10件を表示させ、正しくとりまれていることを確認せよ。\n",
    ">\n",
    "> - ファイル形式はTSV（タブ区切り）\n",
    "> - ヘッダ有り\n",
    "> - 文字コードはUTF-8"
   ]
  },
  {
   "cell_type": "code",
   "execution_count": null,
   "metadata": {
    "id": "PrE1Dn_7hh0G"
   },
   "outputs": [],
   "source": []
  },
  {
   "cell_type": "markdown",
   "metadata": {
    "id": "WGSLC2Szhh0H"
   },
   "source": [
    "# これで１００本終わりです。おつかれさまでした！"
   ]
  }
 ],
 "metadata": {
  "colab": {
   "name": "100_knock_Python(Shishizo).ipynb",
   "provenance": [
    {
     "file_id": "https://github.com/noguhiro2002/100knocks-preprocess_ForColab-AzureNotebook/blob/master/preprocess_knock_Python_Colab.ipynb",
     "timestamp": 1596882673541
    }
   ],
   "toc_visible": true
  },
  "kernelspec": {
   "display_name": "Python 3",
   "language": "python",
   "name": "python3"
  },
  "language_info": {
   "codemirror_mode": {
    "name": "ipython",
    "version": 3
   },
   "file_extension": ".py",
   "mimetype": "text/x-python",
   "name": "python",
   "nbconvert_exporter": "python",
   "pygments_lexer": "ipython3",
   "version": "3.6.12"
  }
 },
 "nbformat": 4,
 "nbformat_minor": 1
}

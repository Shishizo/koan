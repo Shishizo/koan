{
  "nbformat": 4,
  "nbformat_minor": 0,
  "metadata": {
    "kernelspec": {
      "name": "python36",
      "display_name": "Python 3.6",
      "language": "python"
    },
    "language_info": {
      "mimetype": "text/x-python",
      "nbconvert_exporter": "python",
      "name": "python",
      "pygments_lexer": "ipython3",
      "version": "3.6.6",
      "file_extension": ".py",
      "codemirror_mode": {
        "version": 3,
        "name": "ipython"
      }
    },
    "colab": {
      "name": "100_knock_Python(minako).ipynb",
      "provenance": [],
      "toc_visible": true
    }
  },
  "cells": [
    {
      "cell_type": "markdown",
      "metadata": {
        "id": "2-YYpD4Nhhxd"
      },
      "source": [
        "# データサイエンス100本ノック（構造化データ加工編） - Python\n",
        "# for Google Colab"
      ]
    },
    {
      "cell_type": "markdown",
      "metadata": {
        "id": "wbvQn19ghhxe"
      },
      "source": [
        "## 【注意】オリジナル版との変更点\n",
        "1. Google Colab ではDockerを使えないので、2020.06.18時点の 100knocks-preprocess/docker/work/data にあるCSVファイルをPostgreSQLから入手する代わりに使います。\n",
        "2. オリジナルのCSVデータ, geocode.csvの'latitude'列名の初めにスペースが入っていたため、それを削除しました。\n",
        "\n",
        "   オリジナル(100knocks-preprocess ver.1.0): ' latitude' --> 'latitude'\n",
        "   \n",
        "\n",
        "4. オリジナルの解答を元に、必要のないlibraryはimportせず、そして必要なlibraryをAzureNotebookでインストールするように最初のセルを改変してあります。\n",
        "5. また、SQLではなく上記CSVからデータを読み込むように'はじめに'の最初のセルを改変してあります。"
      ]
    },
    {
      "cell_type": "markdown",
      "metadata": {
        "id": "qseL89kEhhxg"
      },
      "source": [
        "## はじめに\n",
        "- 初めに以下のセルを実行してください\n",
        "- 必要なライブラリのインポートと~~データベース（PostgreSQL）~~ 100knocks-preprocess/docker/work/data にあるCSVファイルからのデータ読み込みを行います。geocode.csvに変更を加えたため、またgit cloneをするとColabの簡便さを損なうため、noguhiro2002のgithubレポジトリから直接読み込みます。\n",
        "- pandas等、利用が想定されるライブラリは以下セルでインポートしています\n",
        "- その他利用したいライブラリがあれば適宜インストールしてください（\"!pip install ライブラリ名\"でインストールも可能)\n",
        "- オリジナルの解答例を元に、必要なライブラリーをpipでインストールします。\n",
        "- 処理は複数回に分けても構いません\n",
        "- 名前、住所等はダミーデータであり、実在するものではありません"
      ]
    },
    {
      "cell_type": "code",
      "metadata": {
        "trusted": true,
        "id": "k_rQuDF8hhxg",
        "colab": {
          "base_uri": "https://localhost:8080/"
        },
        "outputId": "1c053298-0583-4048-d3f6-0c2bd708e706"
      },
      "source": [
        "# pipでオリジナルの解答に必要なライブラリーをインストール\n",
        "!pip install --upgrade pip\n",
        "!pip install -U pandas numpy scikit-learn imbalanced-learn\n",
        "\n",
        "# pipでオリジナルの解答に必要なライブラリーをインポート\n",
        "import os\n",
        "import pandas as pd\n",
        "import numpy as np\n",
        "from datetime import datetime, date\n",
        "from dateutil.relativedelta import relativedelta\n",
        "import math\n",
        "from sklearn import preprocessing\n",
        "from sklearn.model_selection import train_test_split\n",
        "from imblearn.under_sampling import RandomUnderSampler\n",
        "\n",
        "\n",
        "# データを github/noguhiro2002/100knocks-preprocess/work/data フォルダよりDataframe形式でRead\n",
        "df_customer = pd.read_csv('https://raw.githubusercontent.com/The-Japan-DataScientist-Society/100knocks-preprocess/master/docker/work/data/customer.csv')\n",
        "df_category = pd.read_csv('https://raw.githubusercontent.com/The-Japan-DataScientist-Society/100knocks-preprocess/master/docker/work/data/category.csv')\n",
        "df_product = pd.read_csv('https://raw.githubusercontent.com/The-Japan-DataScientist-Society/100knocks-preprocess/master/docker/work/data/product.csv')\n",
        "df_receipt = pd.read_csv('https://raw.githubusercontent.com/The-Japan-DataScientist-Society/100knocks-preprocess/master/docker/work/data/receipt.csv')\n",
        "df_store = pd.read_csv('https://raw.githubusercontent.com/The-Japan-DataScientist-Society/100knocks-preprocess/master/docker/work/data/store.csv')\n",
        "df_geocode = pd.read_csv('https://raw.githubusercontent.com/noguhiro2002/100knocks-preprocess_ForColab-AzureNotebook/master/data/geocode.csv')"
      ],
      "execution_count": 13,
      "outputs": [
        {
          "output_type": "stream",
          "text": [
            "Requirement already up-to-date: pip in /usr/local/lib/python3.6/dist-packages (20.2.4)\n",
            "Requirement already up-to-date: pandas in /usr/local/lib/python3.6/dist-packages (1.1.4)\n",
            "Requirement already up-to-date: numpy in /usr/local/lib/python3.6/dist-packages (1.19.4)\n",
            "Requirement already up-to-date: scikit-learn in /usr/local/lib/python3.6/dist-packages (0.23.2)\n",
            "Requirement already up-to-date: imbalanced-learn in /usr/local/lib/python3.6/dist-packages (0.7.0)\n",
            "Requirement already satisfied, skipping upgrade: python-dateutil>=2.7.3 in /usr/local/lib/python3.6/dist-packages (from pandas) (2.8.1)\n",
            "Requirement already satisfied, skipping upgrade: pytz>=2017.2 in /usr/local/lib/python3.6/dist-packages (from pandas) (2018.9)\n",
            "Requirement already satisfied, skipping upgrade: scipy>=0.19.1 in /usr/local/lib/python3.6/dist-packages (from scikit-learn) (1.4.1)\n",
            "Requirement already satisfied, skipping upgrade: threadpoolctl>=2.0.0 in /usr/local/lib/python3.6/dist-packages (from scikit-learn) (2.1.0)\n",
            "Requirement already satisfied, skipping upgrade: joblib>=0.11 in /usr/local/lib/python3.6/dist-packages (from scikit-learn) (0.17.0)\n",
            "Requirement already satisfied, skipping upgrade: six>=1.5 in /usr/local/lib/python3.6/dist-packages (from python-dateutil>=2.7.3->pandas) (1.15.0)\n"
          ],
          "name": "stdout"
        },
        {
          "output_type": "stream",
          "text": [
            "/usr/local/lib/python3.6/dist-packages/IPython/core/interactiveshell.py:2718: DtypeWarning: Columns (4) have mixed types.Specify dtype option on import or set low_memory=False.\n",
            "  interactivity=interactivity, compiler=compiler, result=result)\n"
          ],
          "name": "stderr"
        }
      ]
    },
    {
      "cell_type": "markdown",
      "metadata": {
        "id": "EMvNeX6Qhhxk"
      },
      "source": [
        "# 演習問題"
      ]
    },
    {
      "cell_type": "markdown",
      "metadata": {
        "id": "r244WHrjhhxk"
      },
      "source": [
        "---\n",
        "> P-001: レシート明細のデータフレーム（df_receipt）から全項目の先頭10件を表示し、どのようなデータを保有しているか目視で確認せよ。"
      ]
    },
    {
      "cell_type": "code",
      "metadata": {
        "trusted": false,
        "id": "RrcFPQjUhhxk",
        "colab": {
          "base_uri": "https://localhost:8080/",
          "height": 379
        },
        "outputId": "b9dc96dd-3c62-41f6-89cc-f6f2ab383805"
      },
      "source": [
        "df_receipt.head(10)"
      ],
      "execution_count": null,
      "outputs": [
        {
          "output_type": "execute_result",
          "data": {
            "text/html": [
              "<div>\n",
              "<style scoped>\n",
              "    .dataframe tbody tr th:only-of-type {\n",
              "        vertical-align: middle;\n",
              "    }\n",
              "\n",
              "    .dataframe tbody tr th {\n",
              "        vertical-align: top;\n",
              "    }\n",
              "\n",
              "    .dataframe thead th {\n",
              "        text-align: right;\n",
              "    }\n",
              "</style>\n",
              "<table border=\"1\" class=\"dataframe\">\n",
              "  <thead>\n",
              "    <tr style=\"text-align: right;\">\n",
              "      <th></th>\n",
              "      <th>sales_ymd</th>\n",
              "      <th>sales_epoch</th>\n",
              "      <th>store_cd</th>\n",
              "      <th>receipt_no</th>\n",
              "      <th>receipt_sub_no</th>\n",
              "      <th>customer_id</th>\n",
              "      <th>product_cd</th>\n",
              "      <th>quantity</th>\n",
              "      <th>amount</th>\n",
              "    </tr>\n",
              "  </thead>\n",
              "  <tbody>\n",
              "    <tr>\n",
              "      <th>0</th>\n",
              "      <td>20181103</td>\n",
              "      <td>1541203200</td>\n",
              "      <td>S14006</td>\n",
              "      <td>112</td>\n",
              "      <td>1</td>\n",
              "      <td>CS006214000001</td>\n",
              "      <td>P070305012</td>\n",
              "      <td>1</td>\n",
              "      <td>158</td>\n",
              "    </tr>\n",
              "    <tr>\n",
              "      <th>1</th>\n",
              "      <td>20181118</td>\n",
              "      <td>1542499200</td>\n",
              "      <td>S13008</td>\n",
              "      <td>1132</td>\n",
              "      <td>2</td>\n",
              "      <td>CS008415000097</td>\n",
              "      <td>P070701017</td>\n",
              "      <td>1</td>\n",
              "      <td>81</td>\n",
              "    </tr>\n",
              "    <tr>\n",
              "      <th>2</th>\n",
              "      <td>20170712</td>\n",
              "      <td>1499817600</td>\n",
              "      <td>S14028</td>\n",
              "      <td>1102</td>\n",
              "      <td>1</td>\n",
              "      <td>CS028414000014</td>\n",
              "      <td>P060101005</td>\n",
              "      <td>1</td>\n",
              "      <td>170</td>\n",
              "    </tr>\n",
              "    <tr>\n",
              "      <th>3</th>\n",
              "      <td>20190205</td>\n",
              "      <td>1549324800</td>\n",
              "      <td>S14042</td>\n",
              "      <td>1132</td>\n",
              "      <td>1</td>\n",
              "      <td>ZZ000000000000</td>\n",
              "      <td>P050301001</td>\n",
              "      <td>1</td>\n",
              "      <td>25</td>\n",
              "    </tr>\n",
              "    <tr>\n",
              "      <th>4</th>\n",
              "      <td>20180821</td>\n",
              "      <td>1534809600</td>\n",
              "      <td>S14025</td>\n",
              "      <td>1102</td>\n",
              "      <td>2</td>\n",
              "      <td>CS025415000050</td>\n",
              "      <td>P060102007</td>\n",
              "      <td>1</td>\n",
              "      <td>90</td>\n",
              "    </tr>\n",
              "    <tr>\n",
              "      <th>5</th>\n",
              "      <td>20190605</td>\n",
              "      <td>1559692800</td>\n",
              "      <td>S13003</td>\n",
              "      <td>1112</td>\n",
              "      <td>1</td>\n",
              "      <td>CS003515000195</td>\n",
              "      <td>P050102002</td>\n",
              "      <td>1</td>\n",
              "      <td>138</td>\n",
              "    </tr>\n",
              "    <tr>\n",
              "      <th>6</th>\n",
              "      <td>20181205</td>\n",
              "      <td>1543968000</td>\n",
              "      <td>S14024</td>\n",
              "      <td>1102</td>\n",
              "      <td>2</td>\n",
              "      <td>CS024514000042</td>\n",
              "      <td>P080101005</td>\n",
              "      <td>1</td>\n",
              "      <td>30</td>\n",
              "    </tr>\n",
              "    <tr>\n",
              "      <th>7</th>\n",
              "      <td>20190922</td>\n",
              "      <td>1569110400</td>\n",
              "      <td>S14040</td>\n",
              "      <td>1102</td>\n",
              "      <td>1</td>\n",
              "      <td>CS040415000178</td>\n",
              "      <td>P070501004</td>\n",
              "      <td>1</td>\n",
              "      <td>128</td>\n",
              "    </tr>\n",
              "    <tr>\n",
              "      <th>8</th>\n",
              "      <td>20170504</td>\n",
              "      <td>1493856000</td>\n",
              "      <td>S13020</td>\n",
              "      <td>1112</td>\n",
              "      <td>2</td>\n",
              "      <td>ZZ000000000000</td>\n",
              "      <td>P071302010</td>\n",
              "      <td>1</td>\n",
              "      <td>770</td>\n",
              "    </tr>\n",
              "    <tr>\n",
              "      <th>9</th>\n",
              "      <td>20191010</td>\n",
              "      <td>1570665600</td>\n",
              "      <td>S14027</td>\n",
              "      <td>1102</td>\n",
              "      <td>1</td>\n",
              "      <td>CS027514000015</td>\n",
              "      <td>P071101003</td>\n",
              "      <td>1</td>\n",
              "      <td>680</td>\n",
              "    </tr>\n",
              "  </tbody>\n",
              "</table>\n",
              "</div>"
            ],
            "text/plain": [
              "   sales_ymd  sales_epoch store_cd  ...  product_cd  quantity amount\n",
              "0   20181103   1541203200   S14006  ...  P070305012         1    158\n",
              "1   20181118   1542499200   S13008  ...  P070701017         1     81\n",
              "2   20170712   1499817600   S14028  ...  P060101005         1    170\n",
              "3   20190205   1549324800   S14042  ...  P050301001         1     25\n",
              "4   20180821   1534809600   S14025  ...  P060102007         1     90\n",
              "5   20190605   1559692800   S13003  ...  P050102002         1    138\n",
              "6   20181205   1543968000   S14024  ...  P080101005         1     30\n",
              "7   20190922   1569110400   S14040  ...  P070501004         1    128\n",
              "8   20170504   1493856000   S13020  ...  P071302010         1    770\n",
              "9   20191010   1570665600   S14027  ...  P071101003         1    680\n",
              "\n",
              "[10 rows x 9 columns]"
            ]
          },
          "metadata": {
            "tags": []
          },
          "execution_count": 2
        }
      ]
    },
    {
      "cell_type": "markdown",
      "metadata": {
        "id": "us1AbdWfhhxm"
      },
      "source": [
        "---\n",
        "> P-002: レシート明細のデータフレーム（df_receipt）から売上日（sales_ymd）、顧客ID（customer_id）、商品コード（product_cd）、売上金額（amount）の順に列を指定し、10件表示させよ。"
      ]
    },
    {
      "cell_type": "code",
      "metadata": {
        "trusted": false,
        "id": "AwaINHByhhxm",
        "colab": {
          "base_uri": "https://localhost:8080/",
          "height": 359
        },
        "outputId": "e999bdb5-a9d5-40f4-e95f-d29f4c659e67"
      },
      "source": [
        "df_P002=df_receipt[['sales_ymd','customer_id','product_cd','amount']]\n",
        "df_P002.head(10)"
      ],
      "execution_count": null,
      "outputs": [
        {
          "output_type": "execute_result",
          "data": {
            "text/html": [
              "<div>\n",
              "<style scoped>\n",
              "    .dataframe tbody tr th:only-of-type {\n",
              "        vertical-align: middle;\n",
              "    }\n",
              "\n",
              "    .dataframe tbody tr th {\n",
              "        vertical-align: top;\n",
              "    }\n",
              "\n",
              "    .dataframe thead th {\n",
              "        text-align: right;\n",
              "    }\n",
              "</style>\n",
              "<table border=\"1\" class=\"dataframe\">\n",
              "  <thead>\n",
              "    <tr style=\"text-align: right;\">\n",
              "      <th></th>\n",
              "      <th>sales_ymd</th>\n",
              "      <th>customer_id</th>\n",
              "      <th>product_cd</th>\n",
              "      <th>amount</th>\n",
              "    </tr>\n",
              "  </thead>\n",
              "  <tbody>\n",
              "    <tr>\n",
              "      <th>0</th>\n",
              "      <td>20181103</td>\n",
              "      <td>CS006214000001</td>\n",
              "      <td>P070305012</td>\n",
              "      <td>158</td>\n",
              "    </tr>\n",
              "    <tr>\n",
              "      <th>1</th>\n",
              "      <td>20181118</td>\n",
              "      <td>CS008415000097</td>\n",
              "      <td>P070701017</td>\n",
              "      <td>81</td>\n",
              "    </tr>\n",
              "    <tr>\n",
              "      <th>2</th>\n",
              "      <td>20170712</td>\n",
              "      <td>CS028414000014</td>\n",
              "      <td>P060101005</td>\n",
              "      <td>170</td>\n",
              "    </tr>\n",
              "    <tr>\n",
              "      <th>3</th>\n",
              "      <td>20190205</td>\n",
              "      <td>ZZ000000000000</td>\n",
              "      <td>P050301001</td>\n",
              "      <td>25</td>\n",
              "    </tr>\n",
              "    <tr>\n",
              "      <th>4</th>\n",
              "      <td>20180821</td>\n",
              "      <td>CS025415000050</td>\n",
              "      <td>P060102007</td>\n",
              "      <td>90</td>\n",
              "    </tr>\n",
              "    <tr>\n",
              "      <th>5</th>\n",
              "      <td>20190605</td>\n",
              "      <td>CS003515000195</td>\n",
              "      <td>P050102002</td>\n",
              "      <td>138</td>\n",
              "    </tr>\n",
              "    <tr>\n",
              "      <th>6</th>\n",
              "      <td>20181205</td>\n",
              "      <td>CS024514000042</td>\n",
              "      <td>P080101005</td>\n",
              "      <td>30</td>\n",
              "    </tr>\n",
              "    <tr>\n",
              "      <th>7</th>\n",
              "      <td>20190922</td>\n",
              "      <td>CS040415000178</td>\n",
              "      <td>P070501004</td>\n",
              "      <td>128</td>\n",
              "    </tr>\n",
              "    <tr>\n",
              "      <th>8</th>\n",
              "      <td>20170504</td>\n",
              "      <td>ZZ000000000000</td>\n",
              "      <td>P071302010</td>\n",
              "      <td>770</td>\n",
              "    </tr>\n",
              "    <tr>\n",
              "      <th>9</th>\n",
              "      <td>20191010</td>\n",
              "      <td>CS027514000015</td>\n",
              "      <td>P071101003</td>\n",
              "      <td>680</td>\n",
              "    </tr>\n",
              "  </tbody>\n",
              "</table>\n",
              "</div>"
            ],
            "text/plain": [
              "   sales_ymd     customer_id  product_cd  amount\n",
              "0   20181103  CS006214000001  P070305012     158\n",
              "1   20181118  CS008415000097  P070701017      81\n",
              "2   20170712  CS028414000014  P060101005     170\n",
              "3   20190205  ZZ000000000000  P050301001      25\n",
              "4   20180821  CS025415000050  P060102007      90\n",
              "5   20190605  CS003515000195  P050102002     138\n",
              "6   20181205  CS024514000042  P080101005      30\n",
              "7   20190922  CS040415000178  P070501004     128\n",
              "8   20170504  ZZ000000000000  P071302010     770\n",
              "9   20191010  CS027514000015  P071101003     680"
            ]
          },
          "metadata": {
            "tags": []
          },
          "execution_count": 3
        }
      ]
    },
    {
      "cell_type": "markdown",
      "metadata": {
        "id": "_yPcu6bkhhxo"
      },
      "source": [
        "---\n",
        "> P-003: レシート明細のデータフレーム（df_receipt）から売上日（sales_ymd）、顧客ID（customer_id）、商品コード（product_cd）、売上金額（amount）の順に列を指定し、10件表示させよ。ただし、sales_ymdはsales_dateに項目名を変更しながら抽出すること。"
      ]
    },
    {
      "cell_type": "code",
      "metadata": {
        "trusted": false,
        "id": "ZKVA9bCRhhxp",
        "colab": {
          "base_uri": "https://localhost:8080/",
          "height": 359
        },
        "outputId": "38da37a5-d94b-4cec-f675-197052f6a844"
      },
      "source": [
        "df_P003=df_P002.rename(columns={\"sales_ymd\":\"sales_date\"})\n",
        "df_P003.head(10)\n",
        "\n",
        "#.head(10)と続けても表示されなかった（エラーにもならず）"
      ],
      "execution_count": null,
      "outputs": [
        {
          "output_type": "execute_result",
          "data": {
            "text/html": [
              "<div>\n",
              "<style scoped>\n",
              "    .dataframe tbody tr th:only-of-type {\n",
              "        vertical-align: middle;\n",
              "    }\n",
              "\n",
              "    .dataframe tbody tr th {\n",
              "        vertical-align: top;\n",
              "    }\n",
              "\n",
              "    .dataframe thead th {\n",
              "        text-align: right;\n",
              "    }\n",
              "</style>\n",
              "<table border=\"1\" class=\"dataframe\">\n",
              "  <thead>\n",
              "    <tr style=\"text-align: right;\">\n",
              "      <th></th>\n",
              "      <th>sales_date</th>\n",
              "      <th>customer_id</th>\n",
              "      <th>product_cd</th>\n",
              "      <th>amount</th>\n",
              "    </tr>\n",
              "  </thead>\n",
              "  <tbody>\n",
              "    <tr>\n",
              "      <th>0</th>\n",
              "      <td>20181103</td>\n",
              "      <td>CS006214000001</td>\n",
              "      <td>P070305012</td>\n",
              "      <td>158</td>\n",
              "    </tr>\n",
              "    <tr>\n",
              "      <th>1</th>\n",
              "      <td>20181118</td>\n",
              "      <td>CS008415000097</td>\n",
              "      <td>P070701017</td>\n",
              "      <td>81</td>\n",
              "    </tr>\n",
              "    <tr>\n",
              "      <th>2</th>\n",
              "      <td>20170712</td>\n",
              "      <td>CS028414000014</td>\n",
              "      <td>P060101005</td>\n",
              "      <td>170</td>\n",
              "    </tr>\n",
              "    <tr>\n",
              "      <th>3</th>\n",
              "      <td>20190205</td>\n",
              "      <td>ZZ000000000000</td>\n",
              "      <td>P050301001</td>\n",
              "      <td>25</td>\n",
              "    </tr>\n",
              "    <tr>\n",
              "      <th>4</th>\n",
              "      <td>20180821</td>\n",
              "      <td>CS025415000050</td>\n",
              "      <td>P060102007</td>\n",
              "      <td>90</td>\n",
              "    </tr>\n",
              "    <tr>\n",
              "      <th>5</th>\n",
              "      <td>20190605</td>\n",
              "      <td>CS003515000195</td>\n",
              "      <td>P050102002</td>\n",
              "      <td>138</td>\n",
              "    </tr>\n",
              "    <tr>\n",
              "      <th>6</th>\n",
              "      <td>20181205</td>\n",
              "      <td>CS024514000042</td>\n",
              "      <td>P080101005</td>\n",
              "      <td>30</td>\n",
              "    </tr>\n",
              "    <tr>\n",
              "      <th>7</th>\n",
              "      <td>20190922</td>\n",
              "      <td>CS040415000178</td>\n",
              "      <td>P070501004</td>\n",
              "      <td>128</td>\n",
              "    </tr>\n",
              "    <tr>\n",
              "      <th>8</th>\n",
              "      <td>20170504</td>\n",
              "      <td>ZZ000000000000</td>\n",
              "      <td>P071302010</td>\n",
              "      <td>770</td>\n",
              "    </tr>\n",
              "    <tr>\n",
              "      <th>9</th>\n",
              "      <td>20191010</td>\n",
              "      <td>CS027514000015</td>\n",
              "      <td>P071101003</td>\n",
              "      <td>680</td>\n",
              "    </tr>\n",
              "  </tbody>\n",
              "</table>\n",
              "</div>"
            ],
            "text/plain": [
              "   sales_date     customer_id  product_cd  amount\n",
              "0    20181103  CS006214000001  P070305012     158\n",
              "1    20181118  CS008415000097  P070701017      81\n",
              "2    20170712  CS028414000014  P060101005     170\n",
              "3    20190205  ZZ000000000000  P050301001      25\n",
              "4    20180821  CS025415000050  P060102007      90\n",
              "5    20190605  CS003515000195  P050102002     138\n",
              "6    20181205  CS024514000042  P080101005      30\n",
              "7    20190922  CS040415000178  P070501004     128\n",
              "8    20170504  ZZ000000000000  P071302010     770\n",
              "9    20191010  CS027514000015  P071101003     680"
            ]
          },
          "metadata": {
            "tags": []
          },
          "execution_count": 4
        }
      ]
    },
    {
      "cell_type": "markdown",
      "metadata": {
        "id": "KTRyYzmsdz8c"
      },
      "source": [
        ".headと続けたら表示されなかった"
      ]
    },
    {
      "cell_type": "markdown",
      "metadata": {
        "id": "dHcdbLoehhxq"
      },
      "source": [
        "---\n",
        "> P-004: レシート明細のデータフレーム（df_receipt）から売上日（sales_ymd）、顧客ID（customer_id）、商品コード（product_cd）、売上金額（amount）の順に列を指定し、以下の条件を満たすデータを抽出せよ。\n",
        "> - 顧客ID（customer_id）が\"CS018205000001\""
      ]
    },
    {
      "cell_type": "code",
      "metadata": {
        "trusted": false,
        "id": "Fqp5Qdmkhhxr",
        "colab": {
          "base_uri": "https://localhost:8080/",
          "height": 421
        },
        "outputId": "7e3904aa-c25b-4847-e1a7-331149d76b4b"
      },
      "source": [
        "#df_P004=df_P002.query('customer_id == \"CS018205000001\"')\n",
        "#df_P004\n",
        "\n",
        "#df_P004=df_receipt.copy() #Copyすることでオリジナルを汚さずチーム作業に向いてる\n",
        "#df_P004\n",
        "\n",
        "#df_P004=df_P004[['sales_ymd','customer_id','product_cd','amount']]\n",
        "df_P004=df_P002[df_P002['customer_id']== \"CS018205000001\"]\n",
        "df_P004\n",
        "#df_P004[df_P004['customer_id']== \"CS018205000001\"]\n",
        "\n",
        "#「'」だとNG"
      ],
      "execution_count": null,
      "outputs": [
        {
          "output_type": "execute_result",
          "data": {
            "text/html": [
              "<div>\n",
              "<style scoped>\n",
              "    .dataframe tbody tr th:only-of-type {\n",
              "        vertical-align: middle;\n",
              "    }\n",
              "\n",
              "    .dataframe tbody tr th {\n",
              "        vertical-align: top;\n",
              "    }\n",
              "\n",
              "    .dataframe thead th {\n",
              "        text-align: right;\n",
              "    }\n",
              "</style>\n",
              "<table border=\"1\" class=\"dataframe\">\n",
              "  <thead>\n",
              "    <tr style=\"text-align: right;\">\n",
              "      <th></th>\n",
              "      <th>sales_ymd</th>\n",
              "      <th>customer_id</th>\n",
              "      <th>product_cd</th>\n",
              "      <th>amount</th>\n",
              "    </tr>\n",
              "  </thead>\n",
              "  <tbody>\n",
              "    <tr>\n",
              "      <th>36</th>\n",
              "      <td>20180911</td>\n",
              "      <td>CS018205000001</td>\n",
              "      <td>P071401012</td>\n",
              "      <td>2200</td>\n",
              "    </tr>\n",
              "    <tr>\n",
              "      <th>9843</th>\n",
              "      <td>20180414</td>\n",
              "      <td>CS018205000001</td>\n",
              "      <td>P060104007</td>\n",
              "      <td>600</td>\n",
              "    </tr>\n",
              "    <tr>\n",
              "      <th>21110</th>\n",
              "      <td>20170614</td>\n",
              "      <td>CS018205000001</td>\n",
              "      <td>P050206001</td>\n",
              "      <td>990</td>\n",
              "    </tr>\n",
              "    <tr>\n",
              "      <th>27673</th>\n",
              "      <td>20170614</td>\n",
              "      <td>CS018205000001</td>\n",
              "      <td>P060702015</td>\n",
              "      <td>108</td>\n",
              "    </tr>\n",
              "    <tr>\n",
              "      <th>27840</th>\n",
              "      <td>20190216</td>\n",
              "      <td>CS018205000001</td>\n",
              "      <td>P071005024</td>\n",
              "      <td>102</td>\n",
              "    </tr>\n",
              "    <tr>\n",
              "      <th>28757</th>\n",
              "      <td>20180414</td>\n",
              "      <td>CS018205000001</td>\n",
              "      <td>P071101002</td>\n",
              "      <td>278</td>\n",
              "    </tr>\n",
              "    <tr>\n",
              "      <th>39256</th>\n",
              "      <td>20190226</td>\n",
              "      <td>CS018205000001</td>\n",
              "      <td>P070902035</td>\n",
              "      <td>168</td>\n",
              "    </tr>\n",
              "    <tr>\n",
              "      <th>58121</th>\n",
              "      <td>20190924</td>\n",
              "      <td>CS018205000001</td>\n",
              "      <td>P060805001</td>\n",
              "      <td>495</td>\n",
              "    </tr>\n",
              "    <tr>\n",
              "      <th>68117</th>\n",
              "      <td>20190226</td>\n",
              "      <td>CS018205000001</td>\n",
              "      <td>P071401020</td>\n",
              "      <td>2200</td>\n",
              "    </tr>\n",
              "    <tr>\n",
              "      <th>72254</th>\n",
              "      <td>20180911</td>\n",
              "      <td>CS018205000001</td>\n",
              "      <td>P071401005</td>\n",
              "      <td>1100</td>\n",
              "    </tr>\n",
              "    <tr>\n",
              "      <th>88508</th>\n",
              "      <td>20190216</td>\n",
              "      <td>CS018205000001</td>\n",
              "      <td>P040101002</td>\n",
              "      <td>218</td>\n",
              "    </tr>\n",
              "    <tr>\n",
              "      <th>91525</th>\n",
              "      <td>20190924</td>\n",
              "      <td>CS018205000001</td>\n",
              "      <td>P091503001</td>\n",
              "      <td>280</td>\n",
              "    </tr>\n",
              "  </tbody>\n",
              "</table>\n",
              "</div>"
            ],
            "text/plain": [
              "       sales_ymd     customer_id  product_cd  amount\n",
              "36      20180911  CS018205000001  P071401012    2200\n",
              "9843    20180414  CS018205000001  P060104007     600\n",
              "21110   20170614  CS018205000001  P050206001     990\n",
              "27673   20170614  CS018205000001  P060702015     108\n",
              "27840   20190216  CS018205000001  P071005024     102\n",
              "28757   20180414  CS018205000001  P071101002     278\n",
              "39256   20190226  CS018205000001  P070902035     168\n",
              "58121   20190924  CS018205000001  P060805001     495\n",
              "68117   20190226  CS018205000001  P071401020    2200\n",
              "72254   20180911  CS018205000001  P071401005    1100\n",
              "88508   20190216  CS018205000001  P040101002     218\n",
              "91525   20190924  CS018205000001  P091503001     280"
            ]
          },
          "metadata": {
            "tags": []
          },
          "execution_count": 5
        }
      ]
    },
    {
      "cell_type": "markdown",
      "metadata": {
        "id": "nvI5Comzhhxt"
      },
      "source": [
        "---\n",
        "> P-005: レシート明細のデータフレーム（df_receipt）から売上日（sales_ymd）、顧客ID（customer_id）、商品コード（product_cd）、売上金額（amount）の順に列を指定し、以下の条件を満たすデータを抽出せよ。\n",
        "> - 顧客ID（customer_id）が\"CS018205000001\"\n",
        "> - 売上金額（amount）が1,000以上"
      ]
    },
    {
      "cell_type": "code",
      "metadata": {
        "trusted": false,
        "id": "jZDWoB_Bhhxv",
        "colab": {
          "base_uri": "https://localhost:8080/",
          "height": 142
        },
        "outputId": "0c314e94-6b1b-4719-e804-d0fc5d597407"
      },
      "source": [
        "#df_P005=df_P004[df_P004['amount']>=1000]\n",
        "#df_P005\n",
        "\n",
        "df_P005=df_receipt.copy()\n",
        "df_P005=df_P005[[\"sales_ymd\",\"customer_id\",\"product_cd\",\"amount\"]]\n",
        "df_P005\n",
        "df_P005[(df_P005[\"customer_id\"] ==\"CS018205000001\") & (df_P005[\"amount\"] >=1000)]\n",
        "\n",
        "\n",
        "#(df[df['X']>y]) , (df.query('X>y')) どちらも可  "
      ],
      "execution_count": null,
      "outputs": [
        {
          "output_type": "execute_result",
          "data": {
            "text/html": [
              "<div>\n",
              "<style scoped>\n",
              "    .dataframe tbody tr th:only-of-type {\n",
              "        vertical-align: middle;\n",
              "    }\n",
              "\n",
              "    .dataframe tbody tr th {\n",
              "        vertical-align: top;\n",
              "    }\n",
              "\n",
              "    .dataframe thead th {\n",
              "        text-align: right;\n",
              "    }\n",
              "</style>\n",
              "<table border=\"1\" class=\"dataframe\">\n",
              "  <thead>\n",
              "    <tr style=\"text-align: right;\">\n",
              "      <th></th>\n",
              "      <th>sales_ymd</th>\n",
              "      <th>customer_id</th>\n",
              "      <th>product_cd</th>\n",
              "      <th>amount</th>\n",
              "    </tr>\n",
              "  </thead>\n",
              "  <tbody>\n",
              "    <tr>\n",
              "      <th>36</th>\n",
              "      <td>20180911</td>\n",
              "      <td>CS018205000001</td>\n",
              "      <td>P071401012</td>\n",
              "      <td>2200</td>\n",
              "    </tr>\n",
              "    <tr>\n",
              "      <th>68117</th>\n",
              "      <td>20190226</td>\n",
              "      <td>CS018205000001</td>\n",
              "      <td>P071401020</td>\n",
              "      <td>2200</td>\n",
              "    </tr>\n",
              "    <tr>\n",
              "      <th>72254</th>\n",
              "      <td>20180911</td>\n",
              "      <td>CS018205000001</td>\n",
              "      <td>P071401005</td>\n",
              "      <td>1100</td>\n",
              "    </tr>\n",
              "  </tbody>\n",
              "</table>\n",
              "</div>"
            ],
            "text/plain": [
              "       sales_ymd     customer_id  product_cd  amount\n",
              "36      20180911  CS018205000001  P071401012    2200\n",
              "68117   20190226  CS018205000001  P071401020    2200\n",
              "72254   20180911  CS018205000001  P071401005    1100"
            ]
          },
          "metadata": {
            "tags": []
          },
          "execution_count": 6
        }
      ]
    },
    {
      "cell_type": "markdown",
      "metadata": {
        "id": "-Dz6spPThhxx"
      },
      "source": [
        "---\n",
        "> P-006: レシート明細データフレーム「df_receipt」から売上日（sales_ymd）、顧客ID（customer_id）、商品コード（product_cd）、売上数量（quantity）、売上金額（amount）の順に列を指定し、以下の条件を満たすデータを抽出せよ。\n",
        "> - 顧客ID（customer_id）が\"CS018205000001\"\n",
        "> - 売上金額（amount）が1,000以上または売上数量（quantity）が5以上"
      ]
    },
    {
      "cell_type": "code",
      "metadata": {
        "trusted": false,
        "id": "8IH2MwDUhhxx",
        "colab": {
          "base_uri": "https://localhost:8080/",
          "height": 204
        },
        "outputId": "8f360b6c-0f07-46cb-aa40-71a0e6ff6148"
      },
      "source": [
        "df_P006=df_receipt.copy()\n",
        "df_P006=df_P006[['sales_ymd','customer_id','product_cd','quantity','amount']]\n",
        "df_P006[(df_P006['customer_id'] == 'CS018205000001') & ((df_P006['amount'] >= 1000) | (df_P006['quantity'] >=5))]\n",
        "\n",
        "#P004にquantity追加＆条件指定はできるのか"
      ],
      "execution_count": null,
      "outputs": [
        {
          "output_type": "execute_result",
          "data": {
            "text/html": [
              "<div>\n",
              "<style scoped>\n",
              "    .dataframe tbody tr th:only-of-type {\n",
              "        vertical-align: middle;\n",
              "    }\n",
              "\n",
              "    .dataframe tbody tr th {\n",
              "        vertical-align: top;\n",
              "    }\n",
              "\n",
              "    .dataframe thead th {\n",
              "        text-align: right;\n",
              "    }\n",
              "</style>\n",
              "<table border=\"1\" class=\"dataframe\">\n",
              "  <thead>\n",
              "    <tr style=\"text-align: right;\">\n",
              "      <th></th>\n",
              "      <th>sales_ymd</th>\n",
              "      <th>customer_id</th>\n",
              "      <th>product_cd</th>\n",
              "      <th>quantity</th>\n",
              "      <th>amount</th>\n",
              "    </tr>\n",
              "  </thead>\n",
              "  <tbody>\n",
              "    <tr>\n",
              "      <th>36</th>\n",
              "      <td>20180911</td>\n",
              "      <td>CS018205000001</td>\n",
              "      <td>P071401012</td>\n",
              "      <td>1</td>\n",
              "      <td>2200</td>\n",
              "    </tr>\n",
              "    <tr>\n",
              "      <th>9843</th>\n",
              "      <td>20180414</td>\n",
              "      <td>CS018205000001</td>\n",
              "      <td>P060104007</td>\n",
              "      <td>6</td>\n",
              "      <td>600</td>\n",
              "    </tr>\n",
              "    <tr>\n",
              "      <th>21110</th>\n",
              "      <td>20170614</td>\n",
              "      <td>CS018205000001</td>\n",
              "      <td>P050206001</td>\n",
              "      <td>5</td>\n",
              "      <td>990</td>\n",
              "    </tr>\n",
              "    <tr>\n",
              "      <th>68117</th>\n",
              "      <td>20190226</td>\n",
              "      <td>CS018205000001</td>\n",
              "      <td>P071401020</td>\n",
              "      <td>1</td>\n",
              "      <td>2200</td>\n",
              "    </tr>\n",
              "    <tr>\n",
              "      <th>72254</th>\n",
              "      <td>20180911</td>\n",
              "      <td>CS018205000001</td>\n",
              "      <td>P071401005</td>\n",
              "      <td>1</td>\n",
              "      <td>1100</td>\n",
              "    </tr>\n",
              "  </tbody>\n",
              "</table>\n",
              "</div>"
            ],
            "text/plain": [
              "       sales_ymd     customer_id  product_cd  quantity  amount\n",
              "36      20180911  CS018205000001  P071401012         1    2200\n",
              "9843    20180414  CS018205000001  P060104007         6     600\n",
              "21110   20170614  CS018205000001  P050206001         5     990\n",
              "68117   20190226  CS018205000001  P071401020         1    2200\n",
              "72254   20180911  CS018205000001  P071401005         1    1100"
            ]
          },
          "metadata": {
            "tags": []
          },
          "execution_count": 7
        }
      ]
    },
    {
      "cell_type": "markdown",
      "metadata": {
        "id": "OjU7Uofzhhxz"
      },
      "source": [
        "---\n",
        "> P-007: レシート明細のデータフレーム（df_receipt）から売上日（sales_ymd）、顧客ID（customer_id）、商品コード（product_cd）、売上金額（amount）の順に列を指定し、以下の条件を満たすデータを抽出せよ。\n",
        "> - 顧客ID（customer_id）が\"CS018205000001\"\n",
        "> - 売上金額（amount）が1,000以上2,000以下"
      ]
    },
    {
      "cell_type": "code",
      "metadata": {
        "trusted": false,
        "id": "oywQDpHbhhxz",
        "colab": {
          "base_uri": "https://localhost:8080/",
          "height": 80
        },
        "outputId": "371b86f9-4101-4a3e-ca1c-66720a63824a"
      },
      "source": [
        "df_P007=df_receipt.copy()\n",
        "df_P007=df_P007[['sales_ymd','customer_id','product_cd','amount']]\n",
        "df_P007[(df_P007['customer_id'] == 'CS018205000001') & \n",
        "        (df_P007['amount'] >=1000) & \n",
        "        (df_P007['amount'] <= 2000)]"
      ],
      "execution_count": null,
      "outputs": [
        {
          "output_type": "execute_result",
          "data": {
            "text/html": [
              "<div>\n",
              "<style scoped>\n",
              "    .dataframe tbody tr th:only-of-type {\n",
              "        vertical-align: middle;\n",
              "    }\n",
              "\n",
              "    .dataframe tbody tr th {\n",
              "        vertical-align: top;\n",
              "    }\n",
              "\n",
              "    .dataframe thead th {\n",
              "        text-align: right;\n",
              "    }\n",
              "</style>\n",
              "<table border=\"1\" class=\"dataframe\">\n",
              "  <thead>\n",
              "    <tr style=\"text-align: right;\">\n",
              "      <th></th>\n",
              "      <th>sales_ymd</th>\n",
              "      <th>customer_id</th>\n",
              "      <th>product_cd</th>\n",
              "      <th>amount</th>\n",
              "    </tr>\n",
              "  </thead>\n",
              "  <tbody>\n",
              "    <tr>\n",
              "      <th>72254</th>\n",
              "      <td>20180911</td>\n",
              "      <td>CS018205000001</td>\n",
              "      <td>P071401005</td>\n",
              "      <td>1100</td>\n",
              "    </tr>\n",
              "  </tbody>\n",
              "</table>\n",
              "</div>"
            ],
            "text/plain": [
              "       sales_ymd     customer_id  product_cd  amount\n",
              "72254   20180911  CS018205000001  P071401005    1100"
            ]
          },
          "metadata": {
            "tags": []
          },
          "execution_count": 8
        }
      ]
    },
    {
      "cell_type": "markdown",
      "metadata": {
        "id": "wvvecxrThhx1"
      },
      "source": [
        "df_P007=df_receipt.copy()\n",
        "df_P007=df_P007[['sales_ymd','customer_id','product_cd','amount']]---\n",
        "> P-008: レシート明細のデータフレーム（df_receipt）から売上日（sales_ymd）、顧客ID（customer_id）、商品コード（product_cd）、売上金額（amount）の順に列を指定し、以下の条件を満たすデータを抽出せよ。\n",
        "> - 顧客ID（customer_id）が\"CS018205000001\"\n",
        "> - 商品コード（product_cd）が\"P071401019\"以外"
      ]
    },
    {
      "cell_type": "code",
      "metadata": {
        "trusted": false,
        "id": "oIKb4uZEhhx1",
        "colab": {
          "base_uri": "https://localhost:8080/",
          "height": 421
        },
        "outputId": "c0f89716-770d-498f-b330-b8cb286bf652"
      },
      "source": [
        "df_P008=df_receipt.copy()\n",
        "df_P008=df_P008[['sales_ymd','customer_id','product_cd','amount']]\n",
        "df_P008[(df_P008['customer_id'] == 'CS018205000001') & (df_P008['product_cd'] != \"P071401019\")]\n",
        "\n",
        "#df_P008=df_P004.query('product_cd != \"P071401019\"')\n",
        "#df_P008"
      ],
      "execution_count": null,
      "outputs": [
        {
          "output_type": "execute_result",
          "data": {
            "text/html": [
              "<div>\n",
              "<style scoped>\n",
              "    .dataframe tbody tr th:only-of-type {\n",
              "        vertical-align: middle;\n",
              "    }\n",
              "\n",
              "    .dataframe tbody tr th {\n",
              "        vertical-align: top;\n",
              "    }\n",
              "\n",
              "    .dataframe thead th {\n",
              "        text-align: right;\n",
              "    }\n",
              "</style>\n",
              "<table border=\"1\" class=\"dataframe\">\n",
              "  <thead>\n",
              "    <tr style=\"text-align: right;\">\n",
              "      <th></th>\n",
              "      <th>sales_ymd</th>\n",
              "      <th>customer_id</th>\n",
              "      <th>product_cd</th>\n",
              "      <th>amount</th>\n",
              "    </tr>\n",
              "  </thead>\n",
              "  <tbody>\n",
              "    <tr>\n",
              "      <th>36</th>\n",
              "      <td>20180911</td>\n",
              "      <td>CS018205000001</td>\n",
              "      <td>P071401012</td>\n",
              "      <td>2200</td>\n",
              "    </tr>\n",
              "    <tr>\n",
              "      <th>9843</th>\n",
              "      <td>20180414</td>\n",
              "      <td>CS018205000001</td>\n",
              "      <td>P060104007</td>\n",
              "      <td>600</td>\n",
              "    </tr>\n",
              "    <tr>\n",
              "      <th>21110</th>\n",
              "      <td>20170614</td>\n",
              "      <td>CS018205000001</td>\n",
              "      <td>P050206001</td>\n",
              "      <td>990</td>\n",
              "    </tr>\n",
              "    <tr>\n",
              "      <th>27673</th>\n",
              "      <td>20170614</td>\n",
              "      <td>CS018205000001</td>\n",
              "      <td>P060702015</td>\n",
              "      <td>108</td>\n",
              "    </tr>\n",
              "    <tr>\n",
              "      <th>27840</th>\n",
              "      <td>20190216</td>\n",
              "      <td>CS018205000001</td>\n",
              "      <td>P071005024</td>\n",
              "      <td>102</td>\n",
              "    </tr>\n",
              "    <tr>\n",
              "      <th>28757</th>\n",
              "      <td>20180414</td>\n",
              "      <td>CS018205000001</td>\n",
              "      <td>P071101002</td>\n",
              "      <td>278</td>\n",
              "    </tr>\n",
              "    <tr>\n",
              "      <th>39256</th>\n",
              "      <td>20190226</td>\n",
              "      <td>CS018205000001</td>\n",
              "      <td>P070902035</td>\n",
              "      <td>168</td>\n",
              "    </tr>\n",
              "    <tr>\n",
              "      <th>58121</th>\n",
              "      <td>20190924</td>\n",
              "      <td>CS018205000001</td>\n",
              "      <td>P060805001</td>\n",
              "      <td>495</td>\n",
              "    </tr>\n",
              "    <tr>\n",
              "      <th>68117</th>\n",
              "      <td>20190226</td>\n",
              "      <td>CS018205000001</td>\n",
              "      <td>P071401020</td>\n",
              "      <td>2200</td>\n",
              "    </tr>\n",
              "    <tr>\n",
              "      <th>72254</th>\n",
              "      <td>20180911</td>\n",
              "      <td>CS018205000001</td>\n",
              "      <td>P071401005</td>\n",
              "      <td>1100</td>\n",
              "    </tr>\n",
              "    <tr>\n",
              "      <th>88508</th>\n",
              "      <td>20190216</td>\n",
              "      <td>CS018205000001</td>\n",
              "      <td>P040101002</td>\n",
              "      <td>218</td>\n",
              "    </tr>\n",
              "    <tr>\n",
              "      <th>91525</th>\n",
              "      <td>20190924</td>\n",
              "      <td>CS018205000001</td>\n",
              "      <td>P091503001</td>\n",
              "      <td>280</td>\n",
              "    </tr>\n",
              "  </tbody>\n",
              "</table>\n",
              "</div>"
            ],
            "text/plain": [
              "       sales_ymd     customer_id  product_cd  amount\n",
              "36      20180911  CS018205000001  P071401012    2200\n",
              "9843    20180414  CS018205000001  P060104007     600\n",
              "21110   20170614  CS018205000001  P050206001     990\n",
              "27673   20170614  CS018205000001  P060702015     108\n",
              "27840   20190216  CS018205000001  P071005024     102\n",
              "28757   20180414  CS018205000001  P071101002     278\n",
              "39256   20190226  CS018205000001  P070902035     168\n",
              "58121   20190924  CS018205000001  P060805001     495\n",
              "68117   20190226  CS018205000001  P071401020    2200\n",
              "72254   20180911  CS018205000001  P071401005    1100\n",
              "88508   20190216  CS018205000001  P040101002     218\n",
              "91525   20190924  CS018205000001  P091503001     280"
            ]
          },
          "metadata": {
            "tags": []
          },
          "execution_count": 9
        }
      ]
    },
    {
      "cell_type": "markdown",
      "metadata": {
        "id": "raZwJrBbhhx3"
      },
      "source": [
        "---\n",
        "> P-009: 以下の処理において、出力結果を変えずにORをANDに書き換えよ。\n",
        "\n",
        "`df_store.query('not(prefecture_cd == \"13\" | floor_area > 900)')`"
      ]
    },
    {
      "cell_type": "code",
      "metadata": {
        "trusted": false,
        "id": "Ik77huJ-hhx3",
        "colab": {
          "base_uri": "https://localhost:8080/",
          "height": 383
        },
        "outputId": "35f82d40-02b0-4dc3-f2d7-76b09fc1c38d"
      },
      "source": [
        "\n",
        "df_store.query('not(prefecture_cd == \"13\" | floor_area>900)')"
      ],
      "execution_count": null,
      "outputs": [
        {
          "output_type": "execute_result",
          "data": {
            "text/html": [
              "<div>\n",
              "<style scoped>\n",
              "    .dataframe tbody tr th:only-of-type {\n",
              "        vertical-align: middle;\n",
              "    }\n",
              "\n",
              "    .dataframe tbody tr th {\n",
              "        vertical-align: top;\n",
              "    }\n",
              "\n",
              "    .dataframe thead th {\n",
              "        text-align: right;\n",
              "    }\n",
              "</style>\n",
              "<table border=\"1\" class=\"dataframe\">\n",
              "  <thead>\n",
              "    <tr style=\"text-align: right;\">\n",
              "      <th></th>\n",
              "      <th>store_cd</th>\n",
              "      <th>store_name</th>\n",
              "      <th>prefecture_cd</th>\n",
              "      <th>prefecture</th>\n",
              "      <th>address</th>\n",
              "      <th>address_kana</th>\n",
              "      <th>tel_no</th>\n",
              "      <th>longitude</th>\n",
              "      <th>latitude</th>\n",
              "      <th>floor_area</th>\n",
              "    </tr>\n",
              "  </thead>\n",
              "  <tbody>\n",
              "    <tr>\n",
              "      <th>18</th>\n",
              "      <td>S14046</td>\n",
              "      <td>北山田店</td>\n",
              "      <td>14</td>\n",
              "      <td>神奈川県</td>\n",
              "      <td>神奈川県横浜市都筑区北山田一丁目</td>\n",
              "      <td>カナガワケンヨコハマシツヅキクキタヤマタイッチョウメ</td>\n",
              "      <td>045-123-4049</td>\n",
              "      <td>139.5916</td>\n",
              "      <td>35.56189</td>\n",
              "      <td>831.0</td>\n",
              "    </tr>\n",
              "    <tr>\n",
              "      <th>20</th>\n",
              "      <td>S14011</td>\n",
              "      <td>日吉本町店</td>\n",
              "      <td>14</td>\n",
              "      <td>神奈川県</td>\n",
              "      <td>神奈川県横浜市港北区日吉本町四丁目</td>\n",
              "      <td>カナガワケンヨコハマシコウホククヒヨシホンチョウヨンチョウメ</td>\n",
              "      <td>045-123-4033</td>\n",
              "      <td>139.6316</td>\n",
              "      <td>35.54655</td>\n",
              "      <td>890.0</td>\n",
              "    </tr>\n",
              "    <tr>\n",
              "      <th>38</th>\n",
              "      <td>S12013</td>\n",
              "      <td>習志野店</td>\n",
              "      <td>12</td>\n",
              "      <td>千葉県</td>\n",
              "      <td>千葉県習志野市芝園一丁目</td>\n",
              "      <td>チバケンナラシノシシバゾノイッチョウメ</td>\n",
              "      <td>047-123-4002</td>\n",
              "      <td>140.0220</td>\n",
              "      <td>35.66122</td>\n",
              "      <td>808.0</td>\n",
              "    </tr>\n",
              "  </tbody>\n",
              "</table>\n",
              "</div>"
            ],
            "text/plain": [
              "   store_cd store_name  prefecture_cd  ... longitude  latitude floor_area\n",
              "18   S14046       北山田店             14  ...  139.5916  35.56189      831.0\n",
              "20   S14011      日吉本町店             14  ...  139.6316  35.54655      890.0\n",
              "38   S12013       習志野店             12  ...  140.0220  35.66122      808.0\n",
              "\n",
              "[3 rows x 10 columns]"
            ]
          },
          "metadata": {
            "tags": []
          },
          "execution_count": 10
        }
      ]
    },
    {
      "cell_type": "code",
      "metadata": {
        "id": "BXFReSrRkImT",
        "colab": {
          "base_uri": "https://localhost:8080/",
          "height": 383
        },
        "outputId": "c9cb6d73-6717-4e6d-ad36-df527887b42c"
      },
      "source": [
        "df_P009=df_store.copy()\n",
        "df_P009\n",
        "df_P009[(df_P009['prefecture_cd'] != 13) & (df_P009['floor_area'] <= 900)]\n",
        "         "
      ],
      "execution_count": null,
      "outputs": [
        {
          "output_type": "execute_result",
          "data": {
            "text/html": [
              "<div>\n",
              "<style scoped>\n",
              "    .dataframe tbody tr th:only-of-type {\n",
              "        vertical-align: middle;\n",
              "    }\n",
              "\n",
              "    .dataframe tbody tr th {\n",
              "        vertical-align: top;\n",
              "    }\n",
              "\n",
              "    .dataframe thead th {\n",
              "        text-align: right;\n",
              "    }\n",
              "</style>\n",
              "<table border=\"1\" class=\"dataframe\">\n",
              "  <thead>\n",
              "    <tr style=\"text-align: right;\">\n",
              "      <th></th>\n",
              "      <th>store_cd</th>\n",
              "      <th>store_name</th>\n",
              "      <th>prefecture_cd</th>\n",
              "      <th>prefecture</th>\n",
              "      <th>address</th>\n",
              "      <th>address_kana</th>\n",
              "      <th>tel_no</th>\n",
              "      <th>longitude</th>\n",
              "      <th>latitude</th>\n",
              "      <th>floor_area</th>\n",
              "    </tr>\n",
              "  </thead>\n",
              "  <tbody>\n",
              "    <tr>\n",
              "      <th>18</th>\n",
              "      <td>S14046</td>\n",
              "      <td>北山田店</td>\n",
              "      <td>14</td>\n",
              "      <td>神奈川県</td>\n",
              "      <td>神奈川県横浜市都筑区北山田一丁目</td>\n",
              "      <td>カナガワケンヨコハマシツヅキクキタヤマタイッチョウメ</td>\n",
              "      <td>045-123-4049</td>\n",
              "      <td>139.5916</td>\n",
              "      <td>35.56189</td>\n",
              "      <td>831.0</td>\n",
              "    </tr>\n",
              "    <tr>\n",
              "      <th>20</th>\n",
              "      <td>S14011</td>\n",
              "      <td>日吉本町店</td>\n",
              "      <td>14</td>\n",
              "      <td>神奈川県</td>\n",
              "      <td>神奈川県横浜市港北区日吉本町四丁目</td>\n",
              "      <td>カナガワケンヨコハマシコウホククヒヨシホンチョウヨンチョウメ</td>\n",
              "      <td>045-123-4033</td>\n",
              "      <td>139.6316</td>\n",
              "      <td>35.54655</td>\n",
              "      <td>890.0</td>\n",
              "    </tr>\n",
              "    <tr>\n",
              "      <th>38</th>\n",
              "      <td>S12013</td>\n",
              "      <td>習志野店</td>\n",
              "      <td>12</td>\n",
              "      <td>千葉県</td>\n",
              "      <td>千葉県習志野市芝園一丁目</td>\n",
              "      <td>チバケンナラシノシシバゾノイッチョウメ</td>\n",
              "      <td>047-123-4002</td>\n",
              "      <td>140.0220</td>\n",
              "      <td>35.66122</td>\n",
              "      <td>808.0</td>\n",
              "    </tr>\n",
              "  </tbody>\n",
              "</table>\n",
              "</div>"
            ],
            "text/plain": [
              "   store_cd store_name  prefecture_cd  ... longitude  latitude floor_area\n",
              "18   S14046       北山田店             14  ...  139.5916  35.56189      831.0\n",
              "20   S14011      日吉本町店             14  ...  139.6316  35.54655      890.0\n",
              "38   S12013       習志野店             12  ...  140.0220  35.66122      808.0\n",
              "\n",
              "[3 rows x 10 columns]"
            ]
          },
          "metadata": {
            "tags": []
          },
          "execution_count": 11
        }
      ]
    },
    {
      "cell_type": "markdown",
      "metadata": {
        "id": "vyAFAs5Rhhx5"
      },
      "source": [
        "\n",
        "---\n",
        "> P-010: 店舗データフレーム（df_store）から、店舗コード（store_cd）が\"S14\"で始まるものだけ全項目抽出し、10件だけ表示せよ。"
      ]
    },
    {
      "cell_type": "code",
      "metadata": {
        "trusted": false,
        "id": "aaHaULLwhhx5",
        "colab": {
          "base_uri": "https://localhost:8080/",
          "height": 1000
        },
        "outputId": "e65c8d37-240c-49c0-9981-1f7639a73a65"
      },
      "source": [
        "df_P010=df_store.copy()\n",
        "df_P010[df_P010[\"store_cd\"].str.find(\"S14\") > -1].head(10)\n",
        "\n",
        "#df_P010=df_store[df_store['store_cd'].str.startswith(\"S14\")]\n",
        "#df_P010.head(10)\n",
        "\n",
        "#df_P010=df_store.query('store_cd.str.startswith(\"S14\")')できない"
      ],
      "execution_count": null,
      "outputs": [
        {
          "output_type": "execute_result",
          "data": {
            "text/html": [
              "<div>\n",
              "<style scoped>\n",
              "    .dataframe tbody tr th:only-of-type {\n",
              "        vertical-align: middle;\n",
              "    }\n",
              "\n",
              "    .dataframe tbody tr th {\n",
              "        vertical-align: top;\n",
              "    }\n",
              "\n",
              "    .dataframe thead th {\n",
              "        text-align: right;\n",
              "    }\n",
              "</style>\n",
              "<table border=\"1\" class=\"dataframe\">\n",
              "  <thead>\n",
              "    <tr style=\"text-align: right;\">\n",
              "      <th></th>\n",
              "      <th>store_cd</th>\n",
              "      <th>store_name</th>\n",
              "      <th>prefecture_cd</th>\n",
              "      <th>prefecture</th>\n",
              "      <th>address</th>\n",
              "      <th>address_kana</th>\n",
              "      <th>tel_no</th>\n",
              "      <th>longitude</th>\n",
              "      <th>latitude</th>\n",
              "      <th>floor_area</th>\n",
              "    </tr>\n",
              "  </thead>\n",
              "  <tbody>\n",
              "    <tr>\n",
              "      <th>2</th>\n",
              "      <td>S14010</td>\n",
              "      <td>菊名店</td>\n",
              "      <td>14</td>\n",
              "      <td>神奈川県</td>\n",
              "      <td>神奈川県横浜市港北区菊名一丁目</td>\n",
              "      <td>カナガワケンヨコハマシコウホククキクナイッチョウメ</td>\n",
              "      <td>045-123-4032</td>\n",
              "      <td>139.6326</td>\n",
              "      <td>35.50049</td>\n",
              "      <td>1732.0</td>\n",
              "    </tr>\n",
              "    <tr>\n",
              "      <th>3</th>\n",
              "      <td>S14033</td>\n",
              "      <td>阿久和店</td>\n",
              "      <td>14</td>\n",
              "      <td>神奈川県</td>\n",
              "      <td>神奈川県横浜市瀬谷区阿久和西一丁目</td>\n",
              "      <td>カナガワケンヨコハマシセヤクアクワニシイッチョウメ</td>\n",
              "      <td>045-123-4043</td>\n",
              "      <td>139.4961</td>\n",
              "      <td>35.45918</td>\n",
              "      <td>1495.0</td>\n",
              "    </tr>\n",
              "    <tr>\n",
              "      <th>4</th>\n",
              "      <td>S14036</td>\n",
              "      <td>相模原中央店</td>\n",
              "      <td>14</td>\n",
              "      <td>神奈川県</td>\n",
              "      <td>神奈川県相模原市中央二丁目</td>\n",
              "      <td>カナガワケンサガミハラシチュウオウニチョウメ</td>\n",
              "      <td>042-123-4045</td>\n",
              "      <td>139.3716</td>\n",
              "      <td>35.57327</td>\n",
              "      <td>1679.0</td>\n",
              "    </tr>\n",
              "    <tr>\n",
              "      <th>7</th>\n",
              "      <td>S14040</td>\n",
              "      <td>長津田店</td>\n",
              "      <td>14</td>\n",
              "      <td>神奈川県</td>\n",
              "      <td>神奈川県横浜市緑区長津田みなみ台五丁目</td>\n",
              "      <td>カナガワケンヨコハマシミドリクナガツタミナミダイゴチョウメ</td>\n",
              "      <td>045-123-4046</td>\n",
              "      <td>139.4994</td>\n",
              "      <td>35.52398</td>\n",
              "      <td>1548.0</td>\n",
              "    </tr>\n",
              "    <tr>\n",
              "      <th>9</th>\n",
              "      <td>S14050</td>\n",
              "      <td>阿久和西店</td>\n",
              "      <td>14</td>\n",
              "      <td>神奈川県</td>\n",
              "      <td>神奈川県横浜市瀬谷区阿久和西一丁目</td>\n",
              "      <td>カナガワケンヨコハマシセヤクアクワニシイッチョウメ</td>\n",
              "      <td>045-123-4053</td>\n",
              "      <td>139.4961</td>\n",
              "      <td>35.45918</td>\n",
              "      <td>1830.0</td>\n",
              "    </tr>\n",
              "    <tr>\n",
              "      <th>12</th>\n",
              "      <td>S14028</td>\n",
              "      <td>二ツ橋店</td>\n",
              "      <td>14</td>\n",
              "      <td>神奈川県</td>\n",
              "      <td>神奈川県横浜市瀬谷区二ツ橋町</td>\n",
              "      <td>カナガワケンヨコハマシセヤクフタツバシチョウ</td>\n",
              "      <td>045-123-4042</td>\n",
              "      <td>139.4963</td>\n",
              "      <td>35.46304</td>\n",
              "      <td>1574.0</td>\n",
              "    </tr>\n",
              "    <tr>\n",
              "      <th>16</th>\n",
              "      <td>S14012</td>\n",
              "      <td>本牧和田店</td>\n",
              "      <td>14</td>\n",
              "      <td>神奈川県</td>\n",
              "      <td>神奈川県横浜市中区本牧和田</td>\n",
              "      <td>カナガワケンヨコハマシナカクホンモクワダ</td>\n",
              "      <td>045-123-4034</td>\n",
              "      <td>139.6582</td>\n",
              "      <td>35.42156</td>\n",
              "      <td>1341.0</td>\n",
              "    </tr>\n",
              "    <tr>\n",
              "      <th>18</th>\n",
              "      <td>S14046</td>\n",
              "      <td>北山田店</td>\n",
              "      <td>14</td>\n",
              "      <td>神奈川県</td>\n",
              "      <td>神奈川県横浜市都筑区北山田一丁目</td>\n",
              "      <td>カナガワケンヨコハマシツヅキクキタヤマタイッチョウメ</td>\n",
              "      <td>045-123-4049</td>\n",
              "      <td>139.5916</td>\n",
              "      <td>35.56189</td>\n",
              "      <td>831.0</td>\n",
              "    </tr>\n",
              "    <tr>\n",
              "      <th>19</th>\n",
              "      <td>S14022</td>\n",
              "      <td>逗子店</td>\n",
              "      <td>14</td>\n",
              "      <td>神奈川県</td>\n",
              "      <td>神奈川県逗子市逗子一丁目</td>\n",
              "      <td>カナガワケンズシシズシイッチョウメ</td>\n",
              "      <td>046-123-4036</td>\n",
              "      <td>139.5789</td>\n",
              "      <td>35.29642</td>\n",
              "      <td>1838.0</td>\n",
              "    </tr>\n",
              "    <tr>\n",
              "      <th>20</th>\n",
              "      <td>S14011</td>\n",
              "      <td>日吉本町店</td>\n",
              "      <td>14</td>\n",
              "      <td>神奈川県</td>\n",
              "      <td>神奈川県横浜市港北区日吉本町四丁目</td>\n",
              "      <td>カナガワケンヨコハマシコウホククヒヨシホンチョウヨンチョウメ</td>\n",
              "      <td>045-123-4033</td>\n",
              "      <td>139.6316</td>\n",
              "      <td>35.54655</td>\n",
              "      <td>890.0</td>\n",
              "    </tr>\n",
              "  </tbody>\n",
              "</table>\n",
              "</div>"
            ],
            "text/plain": [
              "   store_cd store_name  prefecture_cd  ... longitude  latitude floor_area\n",
              "2    S14010        菊名店             14  ...  139.6326  35.50049     1732.0\n",
              "3    S14033       阿久和店             14  ...  139.4961  35.45918     1495.0\n",
              "4    S14036     相模原中央店             14  ...  139.3716  35.57327     1679.0\n",
              "7    S14040       長津田店             14  ...  139.4994  35.52398     1548.0\n",
              "9    S14050      阿久和西店             14  ...  139.4961  35.45918     1830.0\n",
              "12   S14028       二ツ橋店             14  ...  139.4963  35.46304     1574.0\n",
              "16   S14012      本牧和田店             14  ...  139.6582  35.42156     1341.0\n",
              "18   S14046       北山田店             14  ...  139.5916  35.56189      831.0\n",
              "19   S14022        逗子店             14  ...  139.5789  35.29642     1838.0\n",
              "20   S14011      日吉本町店             14  ...  139.6316  35.54655      890.0\n",
              "\n",
              "[10 rows x 10 columns]"
            ]
          },
          "metadata": {
            "tags": []
          },
          "execution_count": 12
        }
      ]
    },
    {
      "cell_type": "markdown",
      "metadata": {
        "id": "rZOTvgu0hhx7"
      },
      "source": [
        "---\n",
        "> P-011: 顧客データフレーム（df_customer）から顧客ID（customer_id）の末尾が1のものだけ全項目抽出し、10件だけ表示せよ。"
      ]
    },
    {
      "cell_type": "code",
      "metadata": {
        "trusted": false,
        "id": "tTJ7JCl_hhx7",
        "colab": {
          "base_uri": "https://localhost:8080/",
          "height": 991
        },
        "outputId": "57a5e953-4f69-4e7a-9dd2-dc7786038250"
      },
      "source": [
        "df_P011=df_customer[df_customer['customer_id'].str.endswith(\"1\")].head(10)\n",
        "df_P011"
      ],
      "execution_count": null,
      "outputs": [
        {
          "output_type": "execute_result",
          "data": {
            "text/html": [
              "<div>\n",
              "<style scoped>\n",
              "    .dataframe tbody tr th:only-of-type {\n",
              "        vertical-align: middle;\n",
              "    }\n",
              "\n",
              "    .dataframe tbody tr th {\n",
              "        vertical-align: top;\n",
              "    }\n",
              "\n",
              "    .dataframe thead th {\n",
              "        text-align: right;\n",
              "    }\n",
              "</style>\n",
              "<table border=\"1\" class=\"dataframe\">\n",
              "  <thead>\n",
              "    <tr style=\"text-align: right;\">\n",
              "      <th></th>\n",
              "      <th>customer_id</th>\n",
              "      <th>customer_name</th>\n",
              "      <th>gender_cd</th>\n",
              "      <th>gender</th>\n",
              "      <th>birth_day</th>\n",
              "      <th>age</th>\n",
              "      <th>postal_cd</th>\n",
              "      <th>address</th>\n",
              "      <th>application_store_cd</th>\n",
              "      <th>application_date</th>\n",
              "      <th>status_cd</th>\n",
              "    </tr>\n",
              "  </thead>\n",
              "  <tbody>\n",
              "    <tr>\n",
              "      <th>1</th>\n",
              "      <td>CS037613000071</td>\n",
              "      <td>六角 雅彦</td>\n",
              "      <td>9</td>\n",
              "      <td>不明</td>\n",
              "      <td>1952-04-01</td>\n",
              "      <td>66</td>\n",
              "      <td>136-0076</td>\n",
              "      <td>東京都江東区南砂**********</td>\n",
              "      <td>S13037</td>\n",
              "      <td>20150414</td>\n",
              "      <td>0-00000000-0</td>\n",
              "    </tr>\n",
              "    <tr>\n",
              "      <th>3</th>\n",
              "      <td>CS028811000001</td>\n",
              "      <td>堀井 かおり</td>\n",
              "      <td>1</td>\n",
              "      <td>女性</td>\n",
              "      <td>1933-03-27</td>\n",
              "      <td>86</td>\n",
              "      <td>245-0016</td>\n",
              "      <td>神奈川県横浜市泉区和泉町**********</td>\n",
              "      <td>S14028</td>\n",
              "      <td>20160115</td>\n",
              "      <td>0-00000000-0</td>\n",
              "    </tr>\n",
              "    <tr>\n",
              "      <th>14</th>\n",
              "      <td>CS040412000191</td>\n",
              "      <td>川井 郁恵</td>\n",
              "      <td>1</td>\n",
              "      <td>女性</td>\n",
              "      <td>1977-01-05</td>\n",
              "      <td>42</td>\n",
              "      <td>226-0021</td>\n",
              "      <td>神奈川県横浜市緑区北八朔町**********</td>\n",
              "      <td>S14040</td>\n",
              "      <td>20151101</td>\n",
              "      <td>1-20091025-4</td>\n",
              "    </tr>\n",
              "    <tr>\n",
              "      <th>31</th>\n",
              "      <td>CS028314000011</td>\n",
              "      <td>小菅 あおい</td>\n",
              "      <td>1</td>\n",
              "      <td>女性</td>\n",
              "      <td>1983-11-26</td>\n",
              "      <td>35</td>\n",
              "      <td>246-0038</td>\n",
              "      <td>神奈川県横浜市瀬谷区宮沢**********</td>\n",
              "      <td>S14028</td>\n",
              "      <td>20151123</td>\n",
              "      <td>1-20080426-5</td>\n",
              "    </tr>\n",
              "    <tr>\n",
              "      <th>56</th>\n",
              "      <td>CS039212000051</td>\n",
              "      <td>藤島 恵梨香</td>\n",
              "      <td>1</td>\n",
              "      <td>女性</td>\n",
              "      <td>1997-02-03</td>\n",
              "      <td>22</td>\n",
              "      <td>166-0001</td>\n",
              "      <td>東京都杉並区阿佐谷北**********</td>\n",
              "      <td>S13039</td>\n",
              "      <td>20171121</td>\n",
              "      <td>1-20100215-4</td>\n",
              "    </tr>\n",
              "    <tr>\n",
              "      <th>59</th>\n",
              "      <td>CS015412000111</td>\n",
              "      <td>松居 奈月</td>\n",
              "      <td>1</td>\n",
              "      <td>女性</td>\n",
              "      <td>1972-10-04</td>\n",
              "      <td>46</td>\n",
              "      <td>136-0071</td>\n",
              "      <td>東京都江東区亀戸**********</td>\n",
              "      <td>S13015</td>\n",
              "      <td>20150629</td>\n",
              "      <td>0-00000000-0</td>\n",
              "    </tr>\n",
              "    <tr>\n",
              "      <th>63</th>\n",
              "      <td>CS004702000041</td>\n",
              "      <td>野島 洋</td>\n",
              "      <td>0</td>\n",
              "      <td>男性</td>\n",
              "      <td>1943-08-24</td>\n",
              "      <td>75</td>\n",
              "      <td>176-0022</td>\n",
              "      <td>東京都練馬区向山**********</td>\n",
              "      <td>S13004</td>\n",
              "      <td>20170218</td>\n",
              "      <td>0-00000000-0</td>\n",
              "    </tr>\n",
              "    <tr>\n",
              "      <th>74</th>\n",
              "      <td>CS041515000001</td>\n",
              "      <td>栗田 千夏</td>\n",
              "      <td>1</td>\n",
              "      <td>女性</td>\n",
              "      <td>1967-01-02</td>\n",
              "      <td>52</td>\n",
              "      <td>206-0001</td>\n",
              "      <td>東京都多摩市和田**********</td>\n",
              "      <td>S13041</td>\n",
              "      <td>20160422</td>\n",
              "      <td>E-20100803-F</td>\n",
              "    </tr>\n",
              "    <tr>\n",
              "      <th>85</th>\n",
              "      <td>CS029313000221</td>\n",
              "      <td>北条 ひかり</td>\n",
              "      <td>1</td>\n",
              "      <td>女性</td>\n",
              "      <td>1987-06-19</td>\n",
              "      <td>31</td>\n",
              "      <td>279-0011</td>\n",
              "      <td>千葉県浦安市美浜**********</td>\n",
              "      <td>S12029</td>\n",
              "      <td>20180810</td>\n",
              "      <td>0-00000000-0</td>\n",
              "    </tr>\n",
              "    <tr>\n",
              "      <th>102</th>\n",
              "      <td>CS034312000071</td>\n",
              "      <td>望月 奈央</td>\n",
              "      <td>1</td>\n",
              "      <td>女性</td>\n",
              "      <td>1980-09-20</td>\n",
              "      <td>38</td>\n",
              "      <td>213-0026</td>\n",
              "      <td>神奈川県川崎市高津区久末**********</td>\n",
              "      <td>S14034</td>\n",
              "      <td>20160106</td>\n",
              "      <td>0-00000000-0</td>\n",
              "    </tr>\n",
              "  </tbody>\n",
              "</table>\n",
              "</div>"
            ],
            "text/plain": [
              "        customer_id customer_name  ...  application_date     status_cd\n",
              "1    CS037613000071         六角 雅彦  ...          20150414  0-00000000-0\n",
              "3    CS028811000001        堀井 かおり  ...          20160115  0-00000000-0\n",
              "14   CS040412000191         川井 郁恵  ...          20151101  1-20091025-4\n",
              "31   CS028314000011        小菅 あおい  ...          20151123  1-20080426-5\n",
              "56   CS039212000051        藤島 恵梨香  ...          20171121  1-20100215-4\n",
              "59   CS015412000111         松居 奈月  ...          20150629  0-00000000-0\n",
              "63   CS004702000041          野島 洋  ...          20170218  0-00000000-0\n",
              "74   CS041515000001         栗田 千夏  ...          20160422  E-20100803-F\n",
              "85   CS029313000221        北条 ひかり  ...          20180810  0-00000000-0\n",
              "102  CS034312000071         望月 奈央  ...          20160106  0-00000000-0\n",
              "\n",
              "[10 rows x 11 columns]"
            ]
          },
          "metadata": {
            "tags": []
          },
          "execution_count": 13
        }
      ]
    },
    {
      "cell_type": "markdown",
      "metadata": {
        "id": "rZR7bxyYhhx9"
      },
      "source": [
        "---\n",
        "> P-012: 店舗データフレーム（df_store）から横浜市の店舗だけ全項目表示せよ。"
      ]
    },
    {
      "cell_type": "code",
      "metadata": {
        "trusted": false,
        "id": "Yvqzxpskhhx9",
        "colab": {
          "base_uri": "https://localhost:8080/",
          "height": 1000
        },
        "outputId": "408bb106-a5ef-4274-9ac5-c1bcd498f462"
      },
      "source": [
        "df_P012=df_store.copy()\n",
        "df_P012[df_P012[\"address\"].str.find(\"横浜市\") > -1]\n",
        "\n",
        "#df_P012=df_store[df_store['address'].str.contains(\"横浜市\")]\n",
        "#df_P012"
      ],
      "execution_count": null,
      "outputs": [
        {
          "output_type": "execute_result",
          "data": {
            "text/html": [
              "<div>\n",
              "<style scoped>\n",
              "    .dataframe tbody tr th:only-of-type {\n",
              "        vertical-align: middle;\n",
              "    }\n",
              "\n",
              "    .dataframe tbody tr th {\n",
              "        vertical-align: top;\n",
              "    }\n",
              "\n",
              "    .dataframe thead th {\n",
              "        text-align: right;\n",
              "    }\n",
              "</style>\n",
              "<table border=\"1\" class=\"dataframe\">\n",
              "  <thead>\n",
              "    <tr style=\"text-align: right;\">\n",
              "      <th></th>\n",
              "      <th>store_cd</th>\n",
              "      <th>store_name</th>\n",
              "      <th>prefecture_cd</th>\n",
              "      <th>prefecture</th>\n",
              "      <th>address</th>\n",
              "      <th>address_kana</th>\n",
              "      <th>tel_no</th>\n",
              "      <th>longitude</th>\n",
              "      <th>latitude</th>\n",
              "      <th>floor_area</th>\n",
              "    </tr>\n",
              "  </thead>\n",
              "  <tbody>\n",
              "    <tr>\n",
              "      <th>2</th>\n",
              "      <td>S14010</td>\n",
              "      <td>菊名店</td>\n",
              "      <td>14</td>\n",
              "      <td>神奈川県</td>\n",
              "      <td>神奈川県横浜市港北区菊名一丁目</td>\n",
              "      <td>カナガワケンヨコハマシコウホククキクナイッチョウメ</td>\n",
              "      <td>045-123-4032</td>\n",
              "      <td>139.6326</td>\n",
              "      <td>35.50049</td>\n",
              "      <td>1732.0</td>\n",
              "    </tr>\n",
              "    <tr>\n",
              "      <th>3</th>\n",
              "      <td>S14033</td>\n",
              "      <td>阿久和店</td>\n",
              "      <td>14</td>\n",
              "      <td>神奈川県</td>\n",
              "      <td>神奈川県横浜市瀬谷区阿久和西一丁目</td>\n",
              "      <td>カナガワケンヨコハマシセヤクアクワニシイッチョウメ</td>\n",
              "      <td>045-123-4043</td>\n",
              "      <td>139.4961</td>\n",
              "      <td>35.45918</td>\n",
              "      <td>1495.0</td>\n",
              "    </tr>\n",
              "    <tr>\n",
              "      <th>7</th>\n",
              "      <td>S14040</td>\n",
              "      <td>長津田店</td>\n",
              "      <td>14</td>\n",
              "      <td>神奈川県</td>\n",
              "      <td>神奈川県横浜市緑区長津田みなみ台五丁目</td>\n",
              "      <td>カナガワケンヨコハマシミドリクナガツタミナミダイゴチョウメ</td>\n",
              "      <td>045-123-4046</td>\n",
              "      <td>139.4994</td>\n",
              "      <td>35.52398</td>\n",
              "      <td>1548.0</td>\n",
              "    </tr>\n",
              "    <tr>\n",
              "      <th>9</th>\n",
              "      <td>S14050</td>\n",
              "      <td>阿久和西店</td>\n",
              "      <td>14</td>\n",
              "      <td>神奈川県</td>\n",
              "      <td>神奈川県横浜市瀬谷区阿久和西一丁目</td>\n",
              "      <td>カナガワケンヨコハマシセヤクアクワニシイッチョウメ</td>\n",
              "      <td>045-123-4053</td>\n",
              "      <td>139.4961</td>\n",
              "      <td>35.45918</td>\n",
              "      <td>1830.0</td>\n",
              "    </tr>\n",
              "    <tr>\n",
              "      <th>12</th>\n",
              "      <td>S14028</td>\n",
              "      <td>二ツ橋店</td>\n",
              "      <td>14</td>\n",
              "      <td>神奈川県</td>\n",
              "      <td>神奈川県横浜市瀬谷区二ツ橋町</td>\n",
              "      <td>カナガワケンヨコハマシセヤクフタツバシチョウ</td>\n",
              "      <td>045-123-4042</td>\n",
              "      <td>139.4963</td>\n",
              "      <td>35.46304</td>\n",
              "      <td>1574.0</td>\n",
              "    </tr>\n",
              "    <tr>\n",
              "      <th>16</th>\n",
              "      <td>S14012</td>\n",
              "      <td>本牧和田店</td>\n",
              "      <td>14</td>\n",
              "      <td>神奈川県</td>\n",
              "      <td>神奈川県横浜市中区本牧和田</td>\n",
              "      <td>カナガワケンヨコハマシナカクホンモクワダ</td>\n",
              "      <td>045-123-4034</td>\n",
              "      <td>139.6582</td>\n",
              "      <td>35.42156</td>\n",
              "      <td>1341.0</td>\n",
              "    </tr>\n",
              "    <tr>\n",
              "      <th>18</th>\n",
              "      <td>S14046</td>\n",
              "      <td>北山田店</td>\n",
              "      <td>14</td>\n",
              "      <td>神奈川県</td>\n",
              "      <td>神奈川県横浜市都筑区北山田一丁目</td>\n",
              "      <td>カナガワケンヨコハマシツヅキクキタヤマタイッチョウメ</td>\n",
              "      <td>045-123-4049</td>\n",
              "      <td>139.5916</td>\n",
              "      <td>35.56189</td>\n",
              "      <td>831.0</td>\n",
              "    </tr>\n",
              "    <tr>\n",
              "      <th>20</th>\n",
              "      <td>S14011</td>\n",
              "      <td>日吉本町店</td>\n",
              "      <td>14</td>\n",
              "      <td>神奈川県</td>\n",
              "      <td>神奈川県横浜市港北区日吉本町四丁目</td>\n",
              "      <td>カナガワケンヨコハマシコウホククヒヨシホンチョウヨンチョウメ</td>\n",
              "      <td>045-123-4033</td>\n",
              "      <td>139.6316</td>\n",
              "      <td>35.54655</td>\n",
              "      <td>890.0</td>\n",
              "    </tr>\n",
              "    <tr>\n",
              "      <th>26</th>\n",
              "      <td>S14048</td>\n",
              "      <td>中川中央店</td>\n",
              "      <td>14</td>\n",
              "      <td>神奈川県</td>\n",
              "      <td>神奈川県横浜市都筑区中川中央二丁目</td>\n",
              "      <td>カナガワケンヨコハマシツヅキクナカガワチュウオウニチョウメ</td>\n",
              "      <td>045-123-4051</td>\n",
              "      <td>139.5758</td>\n",
              "      <td>35.54912</td>\n",
              "      <td>1657.0</td>\n",
              "    </tr>\n",
              "    <tr>\n",
              "      <th>40</th>\n",
              "      <td>S14042</td>\n",
              "      <td>新山下店</td>\n",
              "      <td>14</td>\n",
              "      <td>神奈川県</td>\n",
              "      <td>神奈川県横浜市中区新山下二丁目</td>\n",
              "      <td>カナガワケンヨコハマシナカクシンヤマシタニチョウメ</td>\n",
              "      <td>045-123-4047</td>\n",
              "      <td>139.6593</td>\n",
              "      <td>35.43894</td>\n",
              "      <td>1044.0</td>\n",
              "    </tr>\n",
              "    <tr>\n",
              "      <th>52</th>\n",
              "      <td>S14006</td>\n",
              "      <td>葛が谷店</td>\n",
              "      <td>14</td>\n",
              "      <td>神奈川県</td>\n",
              "      <td>神奈川県横浜市都筑区葛が谷</td>\n",
              "      <td>カナガワケンヨコハマシツヅキククズガヤ</td>\n",
              "      <td>045-123-4031</td>\n",
              "      <td>139.5633</td>\n",
              "      <td>35.53573</td>\n",
              "      <td>1886.0</td>\n",
              "    </tr>\n",
              "  </tbody>\n",
              "</table>\n",
              "</div>"
            ],
            "text/plain": [
              "   store_cd store_name  prefecture_cd  ... longitude  latitude floor_area\n",
              "2    S14010        菊名店             14  ...  139.6326  35.50049     1732.0\n",
              "3    S14033       阿久和店             14  ...  139.4961  35.45918     1495.0\n",
              "7    S14040       長津田店             14  ...  139.4994  35.52398     1548.0\n",
              "9    S14050      阿久和西店             14  ...  139.4961  35.45918     1830.0\n",
              "12   S14028       二ツ橋店             14  ...  139.4963  35.46304     1574.0\n",
              "16   S14012      本牧和田店             14  ...  139.6582  35.42156     1341.0\n",
              "18   S14046       北山田店             14  ...  139.5916  35.56189      831.0\n",
              "20   S14011      日吉本町店             14  ...  139.6316  35.54655      890.0\n",
              "26   S14048      中川中央店             14  ...  139.5758  35.54912     1657.0\n",
              "40   S14042       新山下店             14  ...  139.6593  35.43894     1044.0\n",
              "52   S14006       葛が谷店             14  ...  139.5633  35.53573     1886.0\n",
              "\n",
              "[11 rows x 10 columns]"
            ]
          },
          "metadata": {
            "tags": []
          },
          "execution_count": 14
        }
      ]
    },
    {
      "cell_type": "markdown",
      "metadata": {
        "id": "6J8QsPb9hhx_"
      },
      "source": [
        "---\n",
        "> P-013: 顧客データフレーム（df_customer）から、ステータスコード（status_cd）の先頭がアルファベットのA〜Fで始まるデータを全項目抽出し、10件だけ表示せよ。"
      ]
    },
    {
      "cell_type": "code",
      "metadata": {
        "trusted": false,
        "id": "ZBA2t0BThhx_",
        "colab": {
          "base_uri": "https://localhost:8080/",
          "height": 1000
        },
        "outputId": "d5ede903-aef1-4043-9acc-a618e0bbb269"
      },
      "source": [
        "df_P013=df_customer.copy()\n",
        "df_P013=df_P013[df_P013[\"status_cd\"].str.contains('^[A-F]+.*')]\n",
        "df_P013.head(10)\n",
        "\n",
        "#^（ハット)一番前\n",
        "#match一番初め^不要"
      ],
      "execution_count": null,
      "outputs": [
        {
          "output_type": "execute_result",
          "data": {
            "text/html": [
              "<div>\n",
              "<style scoped>\n",
              "    .dataframe tbody tr th:only-of-type {\n",
              "        vertical-align: middle;\n",
              "    }\n",
              "\n",
              "    .dataframe tbody tr th {\n",
              "        vertical-align: top;\n",
              "    }\n",
              "\n",
              "    .dataframe thead th {\n",
              "        text-align: right;\n",
              "    }\n",
              "</style>\n",
              "<table border=\"1\" class=\"dataframe\">\n",
              "  <thead>\n",
              "    <tr style=\"text-align: right;\">\n",
              "      <th></th>\n",
              "      <th>customer_id</th>\n",
              "      <th>customer_name</th>\n",
              "      <th>gender_cd</th>\n",
              "      <th>gender</th>\n",
              "      <th>birth_day</th>\n",
              "      <th>age</th>\n",
              "      <th>postal_cd</th>\n",
              "      <th>address</th>\n",
              "      <th>application_store_cd</th>\n",
              "      <th>application_date</th>\n",
              "      <th>status_cd</th>\n",
              "    </tr>\n",
              "  </thead>\n",
              "  <tbody>\n",
              "    <tr>\n",
              "      <th>2</th>\n",
              "      <td>CS031415000172</td>\n",
              "      <td>宇多田 貴美子</td>\n",
              "      <td>1</td>\n",
              "      <td>女性</td>\n",
              "      <td>1976-10-04</td>\n",
              "      <td>42</td>\n",
              "      <td>151-0053</td>\n",
              "      <td>東京都渋谷区代々木**********</td>\n",
              "      <td>S13031</td>\n",
              "      <td>20150529</td>\n",
              "      <td>D-20100325-C</td>\n",
              "    </tr>\n",
              "    <tr>\n",
              "      <th>6</th>\n",
              "      <td>CS015414000103</td>\n",
              "      <td>奥野 陽子</td>\n",
              "      <td>1</td>\n",
              "      <td>女性</td>\n",
              "      <td>1977-08-09</td>\n",
              "      <td>41</td>\n",
              "      <td>136-0073</td>\n",
              "      <td>東京都江東区北砂**********</td>\n",
              "      <td>S13015</td>\n",
              "      <td>20150722</td>\n",
              "      <td>B-20100609-B</td>\n",
              "    </tr>\n",
              "    <tr>\n",
              "      <th>12</th>\n",
              "      <td>CS011215000048</td>\n",
              "      <td>芦田 沙耶</td>\n",
              "      <td>1</td>\n",
              "      <td>女性</td>\n",
              "      <td>1992-02-01</td>\n",
              "      <td>27</td>\n",
              "      <td>223-0062</td>\n",
              "      <td>神奈川県横浜市港北区日吉本町**********</td>\n",
              "      <td>S14011</td>\n",
              "      <td>20150228</td>\n",
              "      <td>C-20100421-9</td>\n",
              "    </tr>\n",
              "    <tr>\n",
              "      <th>15</th>\n",
              "      <td>CS029415000023</td>\n",
              "      <td>梅田 里穂</td>\n",
              "      <td>1</td>\n",
              "      <td>女性</td>\n",
              "      <td>1976-01-17</td>\n",
              "      <td>43</td>\n",
              "      <td>279-0043</td>\n",
              "      <td>千葉県浦安市富士見**********</td>\n",
              "      <td>S12029</td>\n",
              "      <td>20150610</td>\n",
              "      <td>D-20100918-E</td>\n",
              "    </tr>\n",
              "    <tr>\n",
              "      <th>21</th>\n",
              "      <td>CS035415000029</td>\n",
              "      <td>寺沢 真希</td>\n",
              "      <td>9</td>\n",
              "      <td>不明</td>\n",
              "      <td>1977-09-27</td>\n",
              "      <td>41</td>\n",
              "      <td>158-0096</td>\n",
              "      <td>東京都世田谷区玉川台**********</td>\n",
              "      <td>S13035</td>\n",
              "      <td>20141220</td>\n",
              "      <td>F-20101029-F</td>\n",
              "    </tr>\n",
              "    <tr>\n",
              "      <th>32</th>\n",
              "      <td>CS031415000106</td>\n",
              "      <td>宇野 由美子</td>\n",
              "      <td>1</td>\n",
              "      <td>女性</td>\n",
              "      <td>1970-02-26</td>\n",
              "      <td>49</td>\n",
              "      <td>151-0053</td>\n",
              "      <td>東京都渋谷区代々木**********</td>\n",
              "      <td>S13031</td>\n",
              "      <td>20150201</td>\n",
              "      <td>F-20100511-E</td>\n",
              "    </tr>\n",
              "    <tr>\n",
              "      <th>33</th>\n",
              "      <td>CS029215000025</td>\n",
              "      <td>石倉 美帆</td>\n",
              "      <td>1</td>\n",
              "      <td>女性</td>\n",
              "      <td>1993-09-28</td>\n",
              "      <td>25</td>\n",
              "      <td>279-0022</td>\n",
              "      <td>千葉県浦安市今川**********</td>\n",
              "      <td>S12029</td>\n",
              "      <td>20150708</td>\n",
              "      <td>B-20100820-C</td>\n",
              "    </tr>\n",
              "    <tr>\n",
              "      <th>40</th>\n",
              "      <td>CS033605000005</td>\n",
              "      <td>猪股 雄太</td>\n",
              "      <td>0</td>\n",
              "      <td>男性</td>\n",
              "      <td>1955-12-05</td>\n",
              "      <td>63</td>\n",
              "      <td>246-0031</td>\n",
              "      <td>神奈川県横浜市瀬谷区瀬谷**********</td>\n",
              "      <td>S14033</td>\n",
              "      <td>20150425</td>\n",
              "      <td>F-20100917-E</td>\n",
              "    </tr>\n",
              "    <tr>\n",
              "      <th>44</th>\n",
              "      <td>CS033415000229</td>\n",
              "      <td>板垣 菜々美</td>\n",
              "      <td>1</td>\n",
              "      <td>女性</td>\n",
              "      <td>1977-11-07</td>\n",
              "      <td>41</td>\n",
              "      <td>246-0021</td>\n",
              "      <td>神奈川県横浜市瀬谷区二ツ橋町**********</td>\n",
              "      <td>S14033</td>\n",
              "      <td>20150712</td>\n",
              "      <td>F-20100326-E</td>\n",
              "    </tr>\n",
              "    <tr>\n",
              "      <th>53</th>\n",
              "      <td>CS008415000145</td>\n",
              "      <td>黒谷 麻緒</td>\n",
              "      <td>1</td>\n",
              "      <td>女性</td>\n",
              "      <td>1977-06-27</td>\n",
              "      <td>41</td>\n",
              "      <td>157-0067</td>\n",
              "      <td>東京都世田谷区喜多見**********</td>\n",
              "      <td>S13008</td>\n",
              "      <td>20150829</td>\n",
              "      <td>F-20100622-F</td>\n",
              "    </tr>\n",
              "  </tbody>\n",
              "</table>\n",
              "</div>"
            ],
            "text/plain": [
              "       customer_id customer_name  ...  application_date     status_cd\n",
              "2   CS031415000172       宇多田 貴美子  ...          20150529  D-20100325-C\n",
              "6   CS015414000103         奥野 陽子  ...          20150722  B-20100609-B\n",
              "12  CS011215000048         芦田 沙耶  ...          20150228  C-20100421-9\n",
              "15  CS029415000023         梅田 里穂  ...          20150610  D-20100918-E\n",
              "21  CS035415000029         寺沢 真希  ...          20141220  F-20101029-F\n",
              "32  CS031415000106        宇野 由美子  ...          20150201  F-20100511-E\n",
              "33  CS029215000025         石倉 美帆  ...          20150708  B-20100820-C\n",
              "40  CS033605000005         猪股 雄太  ...          20150425  F-20100917-E\n",
              "44  CS033415000229        板垣 菜々美  ...          20150712  F-20100326-E\n",
              "53  CS008415000145         黒谷 麻緒  ...          20150829  F-20100622-F\n",
              "\n",
              "[10 rows x 11 columns]"
            ]
          },
          "metadata": {
            "tags": []
          },
          "execution_count": 42
        }
      ]
    },
    {
      "cell_type": "markdown",
      "metadata": {
        "id": "4rPUMBu_hhyB"
      },
      "source": [
        "---\n",
        "> P-014: 顧客データフレーム（df_customer）から、ステータスコード（status_cd）の末尾が数字の1〜9で終わるデータを全項目抽出し、10件だけ表示せよ。"
      ]
    },
    {
      "cell_type": "code",
      "metadata": {
        "trusted": false,
        "id": "0U8WSbn1hhyB",
        "colab": {
          "base_uri": "https://localhost:8080/",
          "height": 1000
        },
        "outputId": "10ec5597-69e4-45cb-a446-d0b1b945611b"
      },
      "source": [
        "#df_P014=df_customer[df_customer[\"status_cd\"].str.match('.*[1-9]+$')].head(10)\n",
        "#df_P014\n",
        "\n",
        "df_P014=df_customer[df_customer[\"status_cd\"].str.endswith(('1','2','3','4','5','6','7','8','9'))]\n",
        "df_P014\n",
        "\n",
        "#endswithで1-9まとめてはできない？\n",
        "\n",
        "#こわぐちさん listに入れることで正規表現なしで書けるパターン\n",
        "##str_list = [str(n) for n in list(range(1,10))]\n",
        "#str_tuple = tuple(str_list)\n",
        "##str_tuple\n",
        "\n",
        "#df_customer[df_customer['status_cd'].str.endswith(str_tuple)]\n",
        "\n",
        "#しんせいたろうさん\n",
        "#df_customer[df_customer[\"status_cd\"].str.contains('[1-9]$')]\n"
      ],
      "execution_count": null,
      "outputs": [
        {
          "output_type": "execute_result",
          "data": {
            "text/html": [
              "<div>\n",
              "<style scoped>\n",
              "    .dataframe tbody tr th:only-of-type {\n",
              "        vertical-align: middle;\n",
              "    }\n",
              "\n",
              "    .dataframe tbody tr th {\n",
              "        vertical-align: top;\n",
              "    }\n",
              "\n",
              "    .dataframe thead th {\n",
              "        text-align: right;\n",
              "    }\n",
              "</style>\n",
              "<table border=\"1\" class=\"dataframe\">\n",
              "  <thead>\n",
              "    <tr style=\"text-align: right;\">\n",
              "      <th></th>\n",
              "      <th>customer_id</th>\n",
              "      <th>customer_name</th>\n",
              "      <th>gender_cd</th>\n",
              "      <th>gender</th>\n",
              "      <th>birth_day</th>\n",
              "      <th>age</th>\n",
              "      <th>postal_cd</th>\n",
              "      <th>address</th>\n",
              "      <th>application_store_cd</th>\n",
              "      <th>application_date</th>\n",
              "      <th>status_cd</th>\n",
              "    </tr>\n",
              "  </thead>\n",
              "  <tbody>\n",
              "    <tr>\n",
              "      <th>4</th>\n",
              "      <td>CS001215000145</td>\n",
              "      <td>田崎 美紀</td>\n",
              "      <td>1</td>\n",
              "      <td>女性</td>\n",
              "      <td>1995-03-29</td>\n",
              "      <td>24</td>\n",
              "      <td>144-0055</td>\n",
              "      <td>東京都大田区仲六郷**********</td>\n",
              "      <td>S13001</td>\n",
              "      <td>20170605</td>\n",
              "      <td>6-20090929-2</td>\n",
              "    </tr>\n",
              "    <tr>\n",
              "      <th>9</th>\n",
              "      <td>CS033513000180</td>\n",
              "      <td>安斎 遥</td>\n",
              "      <td>1</td>\n",
              "      <td>女性</td>\n",
              "      <td>1962-07-11</td>\n",
              "      <td>56</td>\n",
              "      <td>241-0823</td>\n",
              "      <td>神奈川県横浜市旭区善部町**********</td>\n",
              "      <td>S14033</td>\n",
              "      <td>20150728</td>\n",
              "      <td>6-20080506-5</td>\n",
              "    </tr>\n",
              "    <tr>\n",
              "      <th>12</th>\n",
              "      <td>CS011215000048</td>\n",
              "      <td>芦田 沙耶</td>\n",
              "      <td>1</td>\n",
              "      <td>女性</td>\n",
              "      <td>1992-02-01</td>\n",
              "      <td>27</td>\n",
              "      <td>223-0062</td>\n",
              "      <td>神奈川県横浜市港北区日吉本町**********</td>\n",
              "      <td>S14011</td>\n",
              "      <td>20150228</td>\n",
              "      <td>C-20100421-9</td>\n",
              "    </tr>\n",
              "    <tr>\n",
              "      <th>14</th>\n",
              "      <td>CS040412000191</td>\n",
              "      <td>川井 郁恵</td>\n",
              "      <td>1</td>\n",
              "      <td>女性</td>\n",
              "      <td>1977-01-05</td>\n",
              "      <td>42</td>\n",
              "      <td>226-0021</td>\n",
              "      <td>神奈川県横浜市緑区北八朔町**********</td>\n",
              "      <td>S14040</td>\n",
              "      <td>20151101</td>\n",
              "      <td>1-20091025-4</td>\n",
              "    </tr>\n",
              "    <tr>\n",
              "      <th>16</th>\n",
              "      <td>CS009315000023</td>\n",
              "      <td>皆川 文世</td>\n",
              "      <td>1</td>\n",
              "      <td>女性</td>\n",
              "      <td>1980-04-15</td>\n",
              "      <td>38</td>\n",
              "      <td>154-0012</td>\n",
              "      <td>東京都世田谷区駒沢**********</td>\n",
              "      <td>S13009</td>\n",
              "      <td>20150319</td>\n",
              "      <td>5-20080322-1</td>\n",
              "    </tr>\n",
              "    <tr>\n",
              "      <th>...</th>\n",
              "      <td>...</td>\n",
              "      <td>...</td>\n",
              "      <td>...</td>\n",
              "      <td>...</td>\n",
              "      <td>...</td>\n",
              "      <td>...</td>\n",
              "      <td>...</td>\n",
              "      <td>...</td>\n",
              "      <td>...</td>\n",
              "      <td>...</td>\n",
              "      <td>...</td>\n",
              "    </tr>\n",
              "    <tr>\n",
              "      <th>21943</th>\n",
              "      <td>CS002515000242</td>\n",
              "      <td>加瀬 はるみ</td>\n",
              "      <td>1</td>\n",
              "      <td>女性</td>\n",
              "      <td>1966-06-23</td>\n",
              "      <td>52</td>\n",
              "      <td>184-0015</td>\n",
              "      <td>東京都小金井市貫井北町**********</td>\n",
              "      <td>S13002</td>\n",
              "      <td>20170102</td>\n",
              "      <td>A-20100124-7</td>\n",
              "    </tr>\n",
              "    <tr>\n",
              "      <th>21946</th>\n",
              "      <td>CS034412000010</td>\n",
              "      <td>末永 まひる</td>\n",
              "      <td>1</td>\n",
              "      <td>女性</td>\n",
              "      <td>1971-07-23</td>\n",
              "      <td>47</td>\n",
              "      <td>213-0035</td>\n",
              "      <td>神奈川県川崎市高津区向ケ丘**********</td>\n",
              "      <td>S14034</td>\n",
              "      <td>20150327</td>\n",
              "      <td>3-20090322-5</td>\n",
              "    </tr>\n",
              "    <tr>\n",
              "      <th>21952</th>\n",
              "      <td>CS002513000310</td>\n",
              "      <td>柳田 美嘉</td>\n",
              "      <td>1</td>\n",
              "      <td>女性</td>\n",
              "      <td>1963-09-17</td>\n",
              "      <td>55</td>\n",
              "      <td>187-0022</td>\n",
              "      <td>東京都小平市上水本町**********</td>\n",
              "      <td>S13002</td>\n",
              "      <td>20160911</td>\n",
              "      <td>1-20100711-2</td>\n",
              "    </tr>\n",
              "    <tr>\n",
              "      <th>21955</th>\n",
              "      <td>CS001413000156</td>\n",
              "      <td>上原 恵望子</td>\n",
              "      <td>1</td>\n",
              "      <td>女性</td>\n",
              "      <td>1974-12-10</td>\n",
              "      <td>44</td>\n",
              "      <td>144-0056</td>\n",
              "      <td>東京都大田区西六郷**********</td>\n",
              "      <td>S13001</td>\n",
              "      <td>20150724</td>\n",
              "      <td>1-20080210-1</td>\n",
              "    </tr>\n",
              "    <tr>\n",
              "      <th>21956</th>\n",
              "      <td>CS040314000065</td>\n",
              "      <td>谷川 紗季</td>\n",
              "      <td>1</td>\n",
              "      <td>女性</td>\n",
              "      <td>1987-01-14</td>\n",
              "      <td>32</td>\n",
              "      <td>226-0027</td>\n",
              "      <td>神奈川県横浜市緑区長津田**********</td>\n",
              "      <td>S14040</td>\n",
              "      <td>20150703</td>\n",
              "      <td>1-20090421-4</td>\n",
              "    </tr>\n",
              "  </tbody>\n",
              "</table>\n",
              "<p>4970 rows × 11 columns</p>\n",
              "</div>"
            ],
            "text/plain": [
              "          customer_id customer_name  ...  application_date     status_cd\n",
              "4      CS001215000145         田崎 美紀  ...          20170605  6-20090929-2\n",
              "9      CS033513000180          安斎 遥  ...          20150728  6-20080506-5\n",
              "12     CS011215000048         芦田 沙耶  ...          20150228  C-20100421-9\n",
              "14     CS040412000191         川井 郁恵  ...          20151101  1-20091025-4\n",
              "16     CS009315000023         皆川 文世  ...          20150319  5-20080322-1\n",
              "...               ...           ...  ...               ...           ...\n",
              "21943  CS002515000242        加瀬 はるみ  ...          20170102  A-20100124-7\n",
              "21946  CS034412000010        末永 まひる  ...          20150327  3-20090322-5\n",
              "21952  CS002513000310         柳田 美嘉  ...          20160911  1-20100711-2\n",
              "21955  CS001413000156        上原 恵望子  ...          20150724  1-20080210-1\n",
              "21956  CS040314000065         谷川 紗季  ...          20150703  1-20090421-4\n",
              "\n",
              "[4970 rows x 11 columns]"
            ]
          },
          "metadata": {
            "tags": []
          },
          "execution_count": 43
        }
      ]
    },
    {
      "cell_type": "markdown",
      "metadata": {
        "id": "0Jx471rjhhyD"
      },
      "source": [
        "---\n",
        "> P-015: 顧客データフレーム（df_customer）から、ステータスコード（status_cd）の先頭がアルファベットのA〜Fで始まり、末尾が数字の1〜9で終わるデータを全項目抽出し、10件だけ表示せよ。"
      ]
    },
    {
      "cell_type": "code",
      "metadata": {
        "trusted": false,
        "id": "QuiyjScHhhyD",
        "colab": {
          "base_uri": "https://localhost:8080/",
          "height": 1000
        },
        "outputId": "4dedd117-ac06-45ce-9374-dae91a8ebbb9"
      },
      "source": [
        "df_P015=df_customer.copy()\n",
        "df_P015=df_customer[(df_customer[\"status_cd\"].str.match('[A-F]+.*'))&(df_customer[\"status_cd\"].str.match('.*[1-9]+$'))].head(10)\n",
        "df_P015"
      ],
      "execution_count": null,
      "outputs": [
        {
          "output_type": "execute_result",
          "data": {
            "text/html": [
              "<div>\n",
              "<style scoped>\n",
              "    .dataframe tbody tr th:only-of-type {\n",
              "        vertical-align: middle;\n",
              "    }\n",
              "\n",
              "    .dataframe tbody tr th {\n",
              "        vertical-align: top;\n",
              "    }\n",
              "\n",
              "    .dataframe thead th {\n",
              "        text-align: right;\n",
              "    }\n",
              "</style>\n",
              "<table border=\"1\" class=\"dataframe\">\n",
              "  <thead>\n",
              "    <tr style=\"text-align: right;\">\n",
              "      <th></th>\n",
              "      <th>customer_id</th>\n",
              "      <th>customer_name</th>\n",
              "      <th>gender_cd</th>\n",
              "      <th>gender</th>\n",
              "      <th>birth_day</th>\n",
              "      <th>age</th>\n",
              "      <th>postal_cd</th>\n",
              "      <th>address</th>\n",
              "      <th>application_store_cd</th>\n",
              "      <th>application_date</th>\n",
              "      <th>status_cd</th>\n",
              "    </tr>\n",
              "  </thead>\n",
              "  <tbody>\n",
              "    <tr>\n",
              "      <th>12</th>\n",
              "      <td>CS011215000048</td>\n",
              "      <td>芦田 沙耶</td>\n",
              "      <td>1</td>\n",
              "      <td>女性</td>\n",
              "      <td>1992-02-01</td>\n",
              "      <td>27</td>\n",
              "      <td>223-0062</td>\n",
              "      <td>神奈川県横浜市港北区日吉本町**********</td>\n",
              "      <td>S14011</td>\n",
              "      <td>20150228</td>\n",
              "      <td>C-20100421-9</td>\n",
              "    </tr>\n",
              "    <tr>\n",
              "      <th>68</th>\n",
              "      <td>CS022513000105</td>\n",
              "      <td>島村 貴美子</td>\n",
              "      <td>1</td>\n",
              "      <td>女性</td>\n",
              "      <td>1962-03-12</td>\n",
              "      <td>57</td>\n",
              "      <td>249-0002</td>\n",
              "      <td>神奈川県逗子市山の根**********</td>\n",
              "      <td>S14022</td>\n",
              "      <td>20150320</td>\n",
              "      <td>A-20091115-7</td>\n",
              "    </tr>\n",
              "    <tr>\n",
              "      <th>71</th>\n",
              "      <td>CS001515000096</td>\n",
              "      <td>水野 陽子</td>\n",
              "      <td>9</td>\n",
              "      <td>不明</td>\n",
              "      <td>1960-11-29</td>\n",
              "      <td>58</td>\n",
              "      <td>144-0053</td>\n",
              "      <td>東京都大田区蒲田本町**********</td>\n",
              "      <td>S13001</td>\n",
              "      <td>20150614</td>\n",
              "      <td>A-20100724-7</td>\n",
              "    </tr>\n",
              "    <tr>\n",
              "      <th>122</th>\n",
              "      <td>CS013615000053</td>\n",
              "      <td>西脇 季衣</td>\n",
              "      <td>1</td>\n",
              "      <td>女性</td>\n",
              "      <td>1953-10-18</td>\n",
              "      <td>65</td>\n",
              "      <td>261-0026</td>\n",
              "      <td>千葉県千葉市美浜区幕張西**********</td>\n",
              "      <td>S12013</td>\n",
              "      <td>20150128</td>\n",
              "      <td>B-20100329-6</td>\n",
              "    </tr>\n",
              "    <tr>\n",
              "      <th>144</th>\n",
              "      <td>CS020412000161</td>\n",
              "      <td>小宮 薫</td>\n",
              "      <td>1</td>\n",
              "      <td>女性</td>\n",
              "      <td>1974-05-21</td>\n",
              "      <td>44</td>\n",
              "      <td>174-0042</td>\n",
              "      <td>東京都板橋区東坂下**********</td>\n",
              "      <td>S13020</td>\n",
              "      <td>20150822</td>\n",
              "      <td>B-20081021-3</td>\n",
              "    </tr>\n",
              "    <tr>\n",
              "      <th>178</th>\n",
              "      <td>CS001215000097</td>\n",
              "      <td>竹中 あさみ</td>\n",
              "      <td>1</td>\n",
              "      <td>女性</td>\n",
              "      <td>1990-07-25</td>\n",
              "      <td>28</td>\n",
              "      <td>146-0095</td>\n",
              "      <td>東京都大田区多摩川**********</td>\n",
              "      <td>S13001</td>\n",
              "      <td>20170315</td>\n",
              "      <td>A-20100211-2</td>\n",
              "    </tr>\n",
              "    <tr>\n",
              "      <th>252</th>\n",
              "      <td>CS035212000007</td>\n",
              "      <td>内村 恵梨香</td>\n",
              "      <td>1</td>\n",
              "      <td>女性</td>\n",
              "      <td>1990-12-04</td>\n",
              "      <td>28</td>\n",
              "      <td>152-0023</td>\n",
              "      <td>東京都目黒区八雲**********</td>\n",
              "      <td>S13035</td>\n",
              "      <td>20151013</td>\n",
              "      <td>B-20101018-6</td>\n",
              "    </tr>\n",
              "    <tr>\n",
              "      <th>259</th>\n",
              "      <td>CS002515000386</td>\n",
              "      <td>野田 コウ</td>\n",
              "      <td>1</td>\n",
              "      <td>女性</td>\n",
              "      <td>1963-05-30</td>\n",
              "      <td>55</td>\n",
              "      <td>185-0013</td>\n",
              "      <td>東京都国分寺市西恋ケ窪**********</td>\n",
              "      <td>S13002</td>\n",
              "      <td>20160410</td>\n",
              "      <td>C-20100127-8</td>\n",
              "    </tr>\n",
              "    <tr>\n",
              "      <th>293</th>\n",
              "      <td>CS001615000372</td>\n",
              "      <td>稲垣 寿々花</td>\n",
              "      <td>1</td>\n",
              "      <td>女性</td>\n",
              "      <td>1956-10-29</td>\n",
              "      <td>62</td>\n",
              "      <td>144-0035</td>\n",
              "      <td>東京都大田区南蒲田**********</td>\n",
              "      <td>S13001</td>\n",
              "      <td>20170403</td>\n",
              "      <td>A-20100104-1</td>\n",
              "    </tr>\n",
              "    <tr>\n",
              "      <th>297</th>\n",
              "      <td>CS032512000121</td>\n",
              "      <td>松井 知世</td>\n",
              "      <td>1</td>\n",
              "      <td>女性</td>\n",
              "      <td>1962-09-04</td>\n",
              "      <td>56</td>\n",
              "      <td>210-0011</td>\n",
              "      <td>神奈川県川崎市川崎区富士見**********</td>\n",
              "      <td>S13032</td>\n",
              "      <td>20150727</td>\n",
              "      <td>A-20100103-5</td>\n",
              "    </tr>\n",
              "  </tbody>\n",
              "</table>\n",
              "</div>"
            ],
            "text/plain": [
              "        customer_id customer_name  ...  application_date     status_cd\n",
              "12   CS011215000048         芦田 沙耶  ...          20150228  C-20100421-9\n",
              "68   CS022513000105        島村 貴美子  ...          20150320  A-20091115-7\n",
              "71   CS001515000096         水野 陽子  ...          20150614  A-20100724-7\n",
              "122  CS013615000053         西脇 季衣  ...          20150128  B-20100329-6\n",
              "144  CS020412000161          小宮 薫  ...          20150822  B-20081021-3\n",
              "178  CS001215000097        竹中 あさみ  ...          20170315  A-20100211-2\n",
              "252  CS035212000007        内村 恵梨香  ...          20151013  B-20101018-6\n",
              "259  CS002515000386         野田 コウ  ...          20160410  C-20100127-8\n",
              "293  CS001615000372        稲垣 寿々花  ...          20170403  A-20100104-1\n",
              "297  CS032512000121         松井 知世  ...          20150727  A-20100103-5\n",
              "\n",
              "[10 rows x 11 columns]"
            ]
          },
          "metadata": {
            "tags": []
          },
          "execution_count": 29
        }
      ]
    },
    {
      "cell_type": "markdown",
      "metadata": {
        "id": "48UCinEUhhyF"
      },
      "source": [
        "---\n",
        "> P-016: 店舗データフレーム（df_store）から、電話番号（tel_no）が3桁-3桁-4桁のデータを全項目表示せよ。"
      ]
    },
    {
      "cell_type": "code",
      "metadata": {
        "trusted": false,
        "id": "SrA3BoD5hhyF",
        "colab": {
          "base_uri": "https://localhost:8080/",
          "height": 1000
        },
        "outputId": "dbb89875-a48f-41f8-f07b-5f41052bfe27"
      },
      "source": [
        "df_P016=df_store[df_store[\"tel_no\"].str.match(\"[0-9]{3}-[0-9]{3}-[0-9]{4}$\")]\n",
        "df_P016\n",
        "\n",
        "# $はここで終わり"
      ],
      "execution_count": null,
      "outputs": [
        {
          "output_type": "execute_result",
          "data": {
            "text/html": [
              "<div>\n",
              "<style scoped>\n",
              "    .dataframe tbody tr th:only-of-type {\n",
              "        vertical-align: middle;\n",
              "    }\n",
              "\n",
              "    .dataframe tbody tr th {\n",
              "        vertical-align: top;\n",
              "    }\n",
              "\n",
              "    .dataframe thead th {\n",
              "        text-align: right;\n",
              "    }\n",
              "</style>\n",
              "<table border=\"1\" class=\"dataframe\">\n",
              "  <thead>\n",
              "    <tr style=\"text-align: right;\">\n",
              "      <th></th>\n",
              "      <th>store_cd</th>\n",
              "      <th>store_name</th>\n",
              "      <th>prefecture_cd</th>\n",
              "      <th>prefecture</th>\n",
              "      <th>address</th>\n",
              "      <th>address_kana</th>\n",
              "      <th>tel_no</th>\n",
              "      <th>longitude</th>\n",
              "      <th>latitude</th>\n",
              "      <th>floor_area</th>\n",
              "    </tr>\n",
              "  </thead>\n",
              "  <tbody>\n",
              "    <tr>\n",
              "      <th>0</th>\n",
              "      <td>S12014</td>\n",
              "      <td>千草台店</td>\n",
              "      <td>12</td>\n",
              "      <td>千葉県</td>\n",
              "      <td>千葉県千葉市稲毛区千草台一丁目</td>\n",
              "      <td>チバケンチバシイナゲクチグサダイイッチョウメ</td>\n",
              "      <td>043-123-4003</td>\n",
              "      <td>140.1180</td>\n",
              "      <td>35.63559</td>\n",
              "      <td>1698.0</td>\n",
              "    </tr>\n",
              "    <tr>\n",
              "      <th>1</th>\n",
              "      <td>S13002</td>\n",
              "      <td>国分寺店</td>\n",
              "      <td>13</td>\n",
              "      <td>東京都</td>\n",
              "      <td>東京都国分寺市本多二丁目</td>\n",
              "      <td>トウキョウトコクブンジシホンダニチョウメ</td>\n",
              "      <td>042-123-4008</td>\n",
              "      <td>139.4802</td>\n",
              "      <td>35.70566</td>\n",
              "      <td>1735.0</td>\n",
              "    </tr>\n",
              "    <tr>\n",
              "      <th>2</th>\n",
              "      <td>S14010</td>\n",
              "      <td>菊名店</td>\n",
              "      <td>14</td>\n",
              "      <td>神奈川県</td>\n",
              "      <td>神奈川県横浜市港北区菊名一丁目</td>\n",
              "      <td>カナガワケンヨコハマシコウホククキクナイッチョウメ</td>\n",
              "      <td>045-123-4032</td>\n",
              "      <td>139.6326</td>\n",
              "      <td>35.50049</td>\n",
              "      <td>1732.0</td>\n",
              "    </tr>\n",
              "    <tr>\n",
              "      <th>3</th>\n",
              "      <td>S14033</td>\n",
              "      <td>阿久和店</td>\n",
              "      <td>14</td>\n",
              "      <td>神奈川県</td>\n",
              "      <td>神奈川県横浜市瀬谷区阿久和西一丁目</td>\n",
              "      <td>カナガワケンヨコハマシセヤクアクワニシイッチョウメ</td>\n",
              "      <td>045-123-4043</td>\n",
              "      <td>139.4961</td>\n",
              "      <td>35.45918</td>\n",
              "      <td>1495.0</td>\n",
              "    </tr>\n",
              "    <tr>\n",
              "      <th>4</th>\n",
              "      <td>S14036</td>\n",
              "      <td>相模原中央店</td>\n",
              "      <td>14</td>\n",
              "      <td>神奈川県</td>\n",
              "      <td>神奈川県相模原市中央二丁目</td>\n",
              "      <td>カナガワケンサガミハラシチュウオウニチョウメ</td>\n",
              "      <td>042-123-4045</td>\n",
              "      <td>139.3716</td>\n",
              "      <td>35.57327</td>\n",
              "      <td>1679.0</td>\n",
              "    </tr>\n",
              "    <tr>\n",
              "      <th>7</th>\n",
              "      <td>S14040</td>\n",
              "      <td>長津田店</td>\n",
              "      <td>14</td>\n",
              "      <td>神奈川県</td>\n",
              "      <td>神奈川県横浜市緑区長津田みなみ台五丁目</td>\n",
              "      <td>カナガワケンヨコハマシミドリクナガツタミナミダイゴチョウメ</td>\n",
              "      <td>045-123-4046</td>\n",
              "      <td>139.4994</td>\n",
              "      <td>35.52398</td>\n",
              "      <td>1548.0</td>\n",
              "    </tr>\n",
              "    <tr>\n",
              "      <th>9</th>\n",
              "      <td>S14050</td>\n",
              "      <td>阿久和西店</td>\n",
              "      <td>14</td>\n",
              "      <td>神奈川県</td>\n",
              "      <td>神奈川県横浜市瀬谷区阿久和西一丁目</td>\n",
              "      <td>カナガワケンヨコハマシセヤクアクワニシイッチョウメ</td>\n",
              "      <td>045-123-4053</td>\n",
              "      <td>139.4961</td>\n",
              "      <td>35.45918</td>\n",
              "      <td>1830.0</td>\n",
              "    </tr>\n",
              "    <tr>\n",
              "      <th>11</th>\n",
              "      <td>S13052</td>\n",
              "      <td>森野店</td>\n",
              "      <td>13</td>\n",
              "      <td>東京都</td>\n",
              "      <td>東京都町田市森野三丁目</td>\n",
              "      <td>トウキョウトマチダシモリノサンチョウメ</td>\n",
              "      <td>042-123-4030</td>\n",
              "      <td>139.4383</td>\n",
              "      <td>35.55293</td>\n",
              "      <td>1087.0</td>\n",
              "    </tr>\n",
              "    <tr>\n",
              "      <th>12</th>\n",
              "      <td>S14028</td>\n",
              "      <td>二ツ橋店</td>\n",
              "      <td>14</td>\n",
              "      <td>神奈川県</td>\n",
              "      <td>神奈川県横浜市瀬谷区二ツ橋町</td>\n",
              "      <td>カナガワケンヨコハマシセヤクフタツバシチョウ</td>\n",
              "      <td>045-123-4042</td>\n",
              "      <td>139.4963</td>\n",
              "      <td>35.46304</td>\n",
              "      <td>1574.0</td>\n",
              "    </tr>\n",
              "    <tr>\n",
              "      <th>16</th>\n",
              "      <td>S14012</td>\n",
              "      <td>本牧和田店</td>\n",
              "      <td>14</td>\n",
              "      <td>神奈川県</td>\n",
              "      <td>神奈川県横浜市中区本牧和田</td>\n",
              "      <td>カナガワケンヨコハマシナカクホンモクワダ</td>\n",
              "      <td>045-123-4034</td>\n",
              "      <td>139.6582</td>\n",
              "      <td>35.42156</td>\n",
              "      <td>1341.0</td>\n",
              "    </tr>\n",
              "    <tr>\n",
              "      <th>18</th>\n",
              "      <td>S14046</td>\n",
              "      <td>北山田店</td>\n",
              "      <td>14</td>\n",
              "      <td>神奈川県</td>\n",
              "      <td>神奈川県横浜市都筑区北山田一丁目</td>\n",
              "      <td>カナガワケンヨコハマシツヅキクキタヤマタイッチョウメ</td>\n",
              "      <td>045-123-4049</td>\n",
              "      <td>139.5916</td>\n",
              "      <td>35.56189</td>\n",
              "      <td>831.0</td>\n",
              "    </tr>\n",
              "    <tr>\n",
              "      <th>19</th>\n",
              "      <td>S14022</td>\n",
              "      <td>逗子店</td>\n",
              "      <td>14</td>\n",
              "      <td>神奈川県</td>\n",
              "      <td>神奈川県逗子市逗子一丁目</td>\n",
              "      <td>カナガワケンズシシズシイッチョウメ</td>\n",
              "      <td>046-123-4036</td>\n",
              "      <td>139.5789</td>\n",
              "      <td>35.29642</td>\n",
              "      <td>1838.0</td>\n",
              "    </tr>\n",
              "    <tr>\n",
              "      <th>20</th>\n",
              "      <td>S14011</td>\n",
              "      <td>日吉本町店</td>\n",
              "      <td>14</td>\n",
              "      <td>神奈川県</td>\n",
              "      <td>神奈川県横浜市港北区日吉本町四丁目</td>\n",
              "      <td>カナガワケンヨコハマシコウホククヒヨシホンチョウヨンチョウメ</td>\n",
              "      <td>045-123-4033</td>\n",
              "      <td>139.6316</td>\n",
              "      <td>35.54655</td>\n",
              "      <td>890.0</td>\n",
              "    </tr>\n",
              "    <tr>\n",
              "      <th>21</th>\n",
              "      <td>S13016</td>\n",
              "      <td>小金井店</td>\n",
              "      <td>13</td>\n",
              "      <td>東京都</td>\n",
              "      <td>東京都小金井市本町一丁目</td>\n",
              "      <td>トウキョウトコガネイシホンチョウイッチョウメ</td>\n",
              "      <td>042-123-4015</td>\n",
              "      <td>139.5094</td>\n",
              "      <td>35.70018</td>\n",
              "      <td>1399.0</td>\n",
              "    </tr>\n",
              "    <tr>\n",
              "      <th>22</th>\n",
              "      <td>S14034</td>\n",
              "      <td>川崎野川店</td>\n",
              "      <td>14</td>\n",
              "      <td>神奈川県</td>\n",
              "      <td>神奈川県川崎市宮前区野川</td>\n",
              "      <td>カナガワケンカワサキシミヤマエクノガワ</td>\n",
              "      <td>044-123-4044</td>\n",
              "      <td>139.5998</td>\n",
              "      <td>35.57693</td>\n",
              "      <td>1318.0</td>\n",
              "    </tr>\n",
              "    <tr>\n",
              "      <th>26</th>\n",
              "      <td>S14048</td>\n",
              "      <td>中川中央店</td>\n",
              "      <td>14</td>\n",
              "      <td>神奈川県</td>\n",
              "      <td>神奈川県横浜市都筑区中川中央二丁目</td>\n",
              "      <td>カナガワケンヨコハマシツヅキクナカガワチュウオウニチョウメ</td>\n",
              "      <td>045-123-4051</td>\n",
              "      <td>139.5758</td>\n",
              "      <td>35.54912</td>\n",
              "      <td>1657.0</td>\n",
              "    </tr>\n",
              "    <tr>\n",
              "      <th>27</th>\n",
              "      <td>S12007</td>\n",
              "      <td>佐倉店</td>\n",
              "      <td>12</td>\n",
              "      <td>千葉県</td>\n",
              "      <td>千葉県佐倉市上志津</td>\n",
              "      <td>チバケンサクラシカミシヅ</td>\n",
              "      <td>043-123-4001</td>\n",
              "      <td>140.1452</td>\n",
              "      <td>35.71872</td>\n",
              "      <td>1895.0</td>\n",
              "    </tr>\n",
              "    <tr>\n",
              "      <th>28</th>\n",
              "      <td>S14026</td>\n",
              "      <td>辻堂西海岸店</td>\n",
              "      <td>14</td>\n",
              "      <td>神奈川県</td>\n",
              "      <td>神奈川県藤沢市辻堂西海岸二丁目</td>\n",
              "      <td>カナガワケンフジサワシツジドウニシカイガンニチョウメ</td>\n",
              "      <td>046-123-4040</td>\n",
              "      <td>139.4466</td>\n",
              "      <td>35.32464</td>\n",
              "      <td>1732.0</td>\n",
              "    </tr>\n",
              "    <tr>\n",
              "      <th>29</th>\n",
              "      <td>S13041</td>\n",
              "      <td>八王子店</td>\n",
              "      <td>13</td>\n",
              "      <td>東京都</td>\n",
              "      <td>東京都八王子市大塚</td>\n",
              "      <td>トウキョウトハチオウジシオオツカ</td>\n",
              "      <td>042-123-4026</td>\n",
              "      <td>139.4235</td>\n",
              "      <td>35.63787</td>\n",
              "      <td>810.0</td>\n",
              "    </tr>\n",
              "    <tr>\n",
              "      <th>31</th>\n",
              "      <td>S14049</td>\n",
              "      <td>川崎大師店</td>\n",
              "      <td>14</td>\n",
              "      <td>神奈川県</td>\n",
              "      <td>神奈川県川崎市川崎区中瀬三丁目</td>\n",
              "      <td>カナガワケンカワサキシカワサキクナカゼサンチョウメ</td>\n",
              "      <td>044-123-4052</td>\n",
              "      <td>139.7327</td>\n",
              "      <td>35.53759</td>\n",
              "      <td>962.0</td>\n",
              "    </tr>\n",
              "    <tr>\n",
              "      <th>32</th>\n",
              "      <td>S14023</td>\n",
              "      <td>川崎店</td>\n",
              "      <td>14</td>\n",
              "      <td>神奈川県</td>\n",
              "      <td>神奈川県川崎市川崎区本町二丁目</td>\n",
              "      <td>カナガワケンカワサキシカワサキクホンチョウニチョウメ</td>\n",
              "      <td>044-123-4037</td>\n",
              "      <td>139.7028</td>\n",
              "      <td>35.53599</td>\n",
              "      <td>1804.0</td>\n",
              "    </tr>\n",
              "    <tr>\n",
              "      <th>33</th>\n",
              "      <td>S13018</td>\n",
              "      <td>清瀬店</td>\n",
              "      <td>13</td>\n",
              "      <td>東京都</td>\n",
              "      <td>東京都清瀬市松山一丁目</td>\n",
              "      <td>トウキョウトキヨセシマツヤマイッチョウメ</td>\n",
              "      <td>042-123-4017</td>\n",
              "      <td>139.5178</td>\n",
              "      <td>35.76885</td>\n",
              "      <td>1220.0</td>\n",
              "    </tr>\n",
              "    <tr>\n",
              "      <th>35</th>\n",
              "      <td>S14027</td>\n",
              "      <td>南藤沢店</td>\n",
              "      <td>14</td>\n",
              "      <td>神奈川県</td>\n",
              "      <td>神奈川県藤沢市南藤沢</td>\n",
              "      <td>カナガワケンフジサワシミナミフジサワ</td>\n",
              "      <td>046-123-4041</td>\n",
              "      <td>139.4896</td>\n",
              "      <td>35.33762</td>\n",
              "      <td>1521.0</td>\n",
              "    </tr>\n",
              "    <tr>\n",
              "      <th>36</th>\n",
              "      <td>S14021</td>\n",
              "      <td>伊勢原店</td>\n",
              "      <td>14</td>\n",
              "      <td>神奈川県</td>\n",
              "      <td>神奈川県伊勢原市伊勢原四丁目</td>\n",
              "      <td>カナガワケンイセハラシイセハラヨンチョウメ</td>\n",
              "      <td>046-123-4035</td>\n",
              "      <td>139.3129</td>\n",
              "      <td>35.40169</td>\n",
              "      <td>962.0</td>\n",
              "    </tr>\n",
              "    <tr>\n",
              "      <th>37</th>\n",
              "      <td>S14047</td>\n",
              "      <td>相模原店</td>\n",
              "      <td>14</td>\n",
              "      <td>神奈川県</td>\n",
              "      <td>神奈川県相模原市千代田六丁目</td>\n",
              "      <td>カナガワケンサガミハラシチヨダロクチョウメ</td>\n",
              "      <td>042-123-4050</td>\n",
              "      <td>139.3748</td>\n",
              "      <td>35.55959</td>\n",
              "      <td>1047.0</td>\n",
              "    </tr>\n",
              "    <tr>\n",
              "      <th>38</th>\n",
              "      <td>S12013</td>\n",
              "      <td>習志野店</td>\n",
              "      <td>12</td>\n",
              "      <td>千葉県</td>\n",
              "      <td>千葉県習志野市芝園一丁目</td>\n",
              "      <td>チバケンナラシノシシバゾノイッチョウメ</td>\n",
              "      <td>047-123-4002</td>\n",
              "      <td>140.0220</td>\n",
              "      <td>35.66122</td>\n",
              "      <td>808.0</td>\n",
              "    </tr>\n",
              "    <tr>\n",
              "      <th>40</th>\n",
              "      <td>S14042</td>\n",
              "      <td>新山下店</td>\n",
              "      <td>14</td>\n",
              "      <td>神奈川県</td>\n",
              "      <td>神奈川県横浜市中区新山下二丁目</td>\n",
              "      <td>カナガワケンヨコハマシナカクシンヤマシタニチョウメ</td>\n",
              "      <td>045-123-4047</td>\n",
              "      <td>139.6593</td>\n",
              "      <td>35.43894</td>\n",
              "      <td>1044.0</td>\n",
              "    </tr>\n",
              "    <tr>\n",
              "      <th>42</th>\n",
              "      <td>S12030</td>\n",
              "      <td>八幡店</td>\n",
              "      <td>12</td>\n",
              "      <td>千葉県</td>\n",
              "      <td>千葉県市川市八幡三丁目</td>\n",
              "      <td>チバケンイチカワシヤワタサンチョウメ</td>\n",
              "      <td>047-123-4005</td>\n",
              "      <td>139.9240</td>\n",
              "      <td>35.72318</td>\n",
              "      <td>1162.0</td>\n",
              "    </tr>\n",
              "    <tr>\n",
              "      <th>44</th>\n",
              "      <td>S14025</td>\n",
              "      <td>大和店</td>\n",
              "      <td>14</td>\n",
              "      <td>神奈川県</td>\n",
              "      <td>神奈川県大和市下和田</td>\n",
              "      <td>カナガワケンヤマトシシモワダ</td>\n",
              "      <td>046-123-4039</td>\n",
              "      <td>139.4680</td>\n",
              "      <td>35.43414</td>\n",
              "      <td>1011.0</td>\n",
              "    </tr>\n",
              "    <tr>\n",
              "      <th>45</th>\n",
              "      <td>S14045</td>\n",
              "      <td>厚木店</td>\n",
              "      <td>14</td>\n",
              "      <td>神奈川県</td>\n",
              "      <td>神奈川県厚木市中町二丁目</td>\n",
              "      <td>カナガワケンアツギシナカチョウニチョウメ</td>\n",
              "      <td>046-123-4048</td>\n",
              "      <td>139.3651</td>\n",
              "      <td>35.44182</td>\n",
              "      <td>980.0</td>\n",
              "    </tr>\n",
              "    <tr>\n",
              "      <th>47</th>\n",
              "      <td>S12029</td>\n",
              "      <td>東野店</td>\n",
              "      <td>12</td>\n",
              "      <td>千葉県</td>\n",
              "      <td>千葉県浦安市東野一丁目</td>\n",
              "      <td>チバケンウラヤスシヒガシノイッチョウメ</td>\n",
              "      <td>047-123-4004</td>\n",
              "      <td>139.8968</td>\n",
              "      <td>35.65086</td>\n",
              "      <td>1101.0</td>\n",
              "    </tr>\n",
              "    <tr>\n",
              "      <th>49</th>\n",
              "      <td>S12053</td>\n",
              "      <td>高洲店</td>\n",
              "      <td>12</td>\n",
              "      <td>千葉県</td>\n",
              "      <td>千葉県浦安市高洲五丁目</td>\n",
              "      <td>チバケンウラヤスシタカスゴチョウメ</td>\n",
              "      <td>047-123-4006</td>\n",
              "      <td>139.9176</td>\n",
              "      <td>35.63755</td>\n",
              "      <td>1555.0</td>\n",
              "    </tr>\n",
              "    <tr>\n",
              "      <th>51</th>\n",
              "      <td>S14024</td>\n",
              "      <td>三田店</td>\n",
              "      <td>14</td>\n",
              "      <td>神奈川県</td>\n",
              "      <td>神奈川県川崎市多摩区三田四丁目</td>\n",
              "      <td>カナガワケンカワサキシタマクミタヨンチョウメ</td>\n",
              "      <td>044-123-4038</td>\n",
              "      <td>139.5424</td>\n",
              "      <td>35.60770</td>\n",
              "      <td>972.0</td>\n",
              "    </tr>\n",
              "    <tr>\n",
              "      <th>52</th>\n",
              "      <td>S14006</td>\n",
              "      <td>葛が谷店</td>\n",
              "      <td>14</td>\n",
              "      <td>神奈川県</td>\n",
              "      <td>神奈川県横浜市都筑区葛が谷</td>\n",
              "      <td>カナガワケンヨコハマシツヅキククズガヤ</td>\n",
              "      <td>045-123-4031</td>\n",
              "      <td>139.5633</td>\n",
              "      <td>35.53573</td>\n",
              "      <td>1886.0</td>\n",
              "    </tr>\n",
              "  </tbody>\n",
              "</table>\n",
              "</div>"
            ],
            "text/plain": [
              "   store_cd store_name  prefecture_cd  ... longitude  latitude floor_area\n",
              "0    S12014       千草台店             12  ...  140.1180  35.63559     1698.0\n",
              "1    S13002       国分寺店             13  ...  139.4802  35.70566     1735.0\n",
              "2    S14010        菊名店             14  ...  139.6326  35.50049     1732.0\n",
              "3    S14033       阿久和店             14  ...  139.4961  35.45918     1495.0\n",
              "4    S14036     相模原中央店             14  ...  139.3716  35.57327     1679.0\n",
              "7    S14040       長津田店             14  ...  139.4994  35.52398     1548.0\n",
              "9    S14050      阿久和西店             14  ...  139.4961  35.45918     1830.0\n",
              "11   S13052        森野店             13  ...  139.4383  35.55293     1087.0\n",
              "12   S14028       二ツ橋店             14  ...  139.4963  35.46304     1574.0\n",
              "16   S14012      本牧和田店             14  ...  139.6582  35.42156     1341.0\n",
              "18   S14046       北山田店             14  ...  139.5916  35.56189      831.0\n",
              "19   S14022        逗子店             14  ...  139.5789  35.29642     1838.0\n",
              "20   S14011      日吉本町店             14  ...  139.6316  35.54655      890.0\n",
              "21   S13016       小金井店             13  ...  139.5094  35.70018     1399.0\n",
              "22   S14034      川崎野川店             14  ...  139.5998  35.57693     1318.0\n",
              "26   S14048      中川中央店             14  ...  139.5758  35.54912     1657.0\n",
              "27   S12007        佐倉店             12  ...  140.1452  35.71872     1895.0\n",
              "28   S14026     辻堂西海岸店             14  ...  139.4466  35.32464     1732.0\n",
              "29   S13041       八王子店             13  ...  139.4235  35.63787      810.0\n",
              "31   S14049      川崎大師店             14  ...  139.7327  35.53759      962.0\n",
              "32   S14023        川崎店             14  ...  139.7028  35.53599     1804.0\n",
              "33   S13018        清瀬店             13  ...  139.5178  35.76885     1220.0\n",
              "35   S14027       南藤沢店             14  ...  139.4896  35.33762     1521.0\n",
              "36   S14021       伊勢原店             14  ...  139.3129  35.40169      962.0\n",
              "37   S14047       相模原店             14  ...  139.3748  35.55959     1047.0\n",
              "38   S12013       習志野店             12  ...  140.0220  35.66122      808.0\n",
              "40   S14042       新山下店             14  ...  139.6593  35.43894     1044.0\n",
              "42   S12030        八幡店             12  ...  139.9240  35.72318     1162.0\n",
              "44   S14025        大和店             14  ...  139.4680  35.43414     1011.0\n",
              "45   S14045        厚木店             14  ...  139.3651  35.44182      980.0\n",
              "47   S12029        東野店             12  ...  139.8968  35.65086     1101.0\n",
              "49   S12053        高洲店             12  ...  139.9176  35.63755     1555.0\n",
              "51   S14024        三田店             14  ...  139.5424  35.60770      972.0\n",
              "52   S14006       葛が谷店             14  ...  139.5633  35.53573     1886.0\n",
              "\n",
              "[34 rows x 10 columns]"
            ]
          },
          "metadata": {
            "tags": []
          },
          "execution_count": 32
        }
      ]
    },
    {
      "cell_type": "code",
      "metadata": {
        "id": "TFXAtHjna2k3",
        "colab": {
          "base_uri": "https://localhost:8080/",
          "height": 34
        },
        "outputId": "de9848f2-1924-4184-b99e-a64d0611e362"
      },
      "source": [
        "len(df_P016)"
      ],
      "execution_count": null,
      "outputs": [
        {
          "output_type": "execute_result",
          "data": {
            "text/plain": [
              "34"
            ]
          },
          "metadata": {
            "tags": []
          },
          "execution_count": 34
        }
      ]
    },
    {
      "cell_type": "markdown",
      "metadata": {
        "id": "KnSy736bhhyH"
      },
      "source": [
        "---\n",
        "> P-17: 顧客データフレーム（df_customer）を生年月日（birth_day）で高齢順にソートし、先頭10件を全項目表示せよ。"
      ]
    },
    {
      "cell_type": "code",
      "metadata": {
        "trusted": false,
        "id": "5gjQipFAhhyH",
        "colab": {
          "base_uri": "https://localhost:8080/",
          "height": 940
        },
        "outputId": "0cf723b1-14ec-4265-aed2-0ac236ccf24d"
      },
      "source": [
        "df_P017=df_customer.sort_values(\"birth_day\").head(10)\n",
        "df_P017\n",
        "\n",
        "#本当はassending=True（小さい順・昇順）が必要？デフォルトにより省略可"
      ],
      "execution_count": null,
      "outputs": [
        {
          "output_type": "execute_result",
          "data": {
            "text/html": [
              "<div>\n",
              "<style scoped>\n",
              "    .dataframe tbody tr th:only-of-type {\n",
              "        vertical-align: middle;\n",
              "    }\n",
              "\n",
              "    .dataframe tbody tr th {\n",
              "        vertical-align: top;\n",
              "    }\n",
              "\n",
              "    .dataframe thead th {\n",
              "        text-align: right;\n",
              "    }\n",
              "</style>\n",
              "<table border=\"1\" class=\"dataframe\">\n",
              "  <thead>\n",
              "    <tr style=\"text-align: right;\">\n",
              "      <th></th>\n",
              "      <th>customer_id</th>\n",
              "      <th>customer_name</th>\n",
              "      <th>gender_cd</th>\n",
              "      <th>gender</th>\n",
              "      <th>birth_day</th>\n",
              "      <th>age</th>\n",
              "      <th>postal_cd</th>\n",
              "      <th>address</th>\n",
              "      <th>application_store_cd</th>\n",
              "      <th>application_date</th>\n",
              "      <th>status_cd</th>\n",
              "    </tr>\n",
              "  </thead>\n",
              "  <tbody>\n",
              "    <tr>\n",
              "      <th>18817</th>\n",
              "      <td>CS003813000014</td>\n",
              "      <td>村山 菜々美</td>\n",
              "      <td>1</td>\n",
              "      <td>女性</td>\n",
              "      <td>1928-11-26</td>\n",
              "      <td>90</td>\n",
              "      <td>182-0007</td>\n",
              "      <td>東京都調布市菊野台**********</td>\n",
              "      <td>S13003</td>\n",
              "      <td>20160214</td>\n",
              "      <td>0-00000000-0</td>\n",
              "    </tr>\n",
              "    <tr>\n",
              "      <th>12328</th>\n",
              "      <td>CS026813000004</td>\n",
              "      <td>吉村 朝陽</td>\n",
              "      <td>1</td>\n",
              "      <td>女性</td>\n",
              "      <td>1928-12-14</td>\n",
              "      <td>90</td>\n",
              "      <td>251-0043</td>\n",
              "      <td>神奈川県藤沢市辻堂元町**********</td>\n",
              "      <td>S14026</td>\n",
              "      <td>20150723</td>\n",
              "      <td>0-00000000-0</td>\n",
              "    </tr>\n",
              "    <tr>\n",
              "      <th>15682</th>\n",
              "      <td>CS018811000003</td>\n",
              "      <td>熊沢 美里</td>\n",
              "      <td>1</td>\n",
              "      <td>女性</td>\n",
              "      <td>1929-01-07</td>\n",
              "      <td>90</td>\n",
              "      <td>204-0004</td>\n",
              "      <td>東京都清瀬市野塩**********</td>\n",
              "      <td>S13018</td>\n",
              "      <td>20150403</td>\n",
              "      <td>0-00000000-0</td>\n",
              "    </tr>\n",
              "    <tr>\n",
              "      <th>15302</th>\n",
              "      <td>CS027803000004</td>\n",
              "      <td>内村 拓郎</td>\n",
              "      <td>0</td>\n",
              "      <td>男性</td>\n",
              "      <td>1929-01-12</td>\n",
              "      <td>90</td>\n",
              "      <td>251-0031</td>\n",
              "      <td>神奈川県藤沢市鵠沼藤が谷**********</td>\n",
              "      <td>S14027</td>\n",
              "      <td>20151227</td>\n",
              "      <td>0-00000000-0</td>\n",
              "    </tr>\n",
              "    <tr>\n",
              "      <th>1681</th>\n",
              "      <td>CS013801000003</td>\n",
              "      <td>天野 拓郎</td>\n",
              "      <td>0</td>\n",
              "      <td>男性</td>\n",
              "      <td>1929-01-15</td>\n",
              "      <td>90</td>\n",
              "      <td>274-0824</td>\n",
              "      <td>千葉県船橋市前原東**********</td>\n",
              "      <td>S12013</td>\n",
              "      <td>20160120</td>\n",
              "      <td>0-00000000-0</td>\n",
              "    </tr>\n",
              "    <tr>\n",
              "      <th>7511</th>\n",
              "      <td>CS001814000022</td>\n",
              "      <td>鶴田 里穂</td>\n",
              "      <td>1</td>\n",
              "      <td>女性</td>\n",
              "      <td>1929-01-28</td>\n",
              "      <td>90</td>\n",
              "      <td>144-0045</td>\n",
              "      <td>東京都大田区南六郷**********</td>\n",
              "      <td>S13001</td>\n",
              "      <td>20161012</td>\n",
              "      <td>A-20090415-7</td>\n",
              "    </tr>\n",
              "    <tr>\n",
              "      <th>2378</th>\n",
              "      <td>CS016815000002</td>\n",
              "      <td>山元 美紀</td>\n",
              "      <td>1</td>\n",
              "      <td>女性</td>\n",
              "      <td>1929-02-22</td>\n",
              "      <td>90</td>\n",
              "      <td>184-0005</td>\n",
              "      <td>東京都小金井市桜町**********</td>\n",
              "      <td>S13016</td>\n",
              "      <td>20150629</td>\n",
              "      <td>C-20090923-C</td>\n",
              "    </tr>\n",
              "    <tr>\n",
              "      <th>4680</th>\n",
              "      <td>CS009815000003</td>\n",
              "      <td>中田 里穂</td>\n",
              "      <td>1</td>\n",
              "      <td>女性</td>\n",
              "      <td>1929-04-08</td>\n",
              "      <td>89</td>\n",
              "      <td>154-0014</td>\n",
              "      <td>東京都世田谷区新町**********</td>\n",
              "      <td>S13009</td>\n",
              "      <td>20150421</td>\n",
              "      <td>D-20091021-E</td>\n",
              "    </tr>\n",
              "    <tr>\n",
              "      <th>16070</th>\n",
              "      <td>CS005813000015</td>\n",
              "      <td>金谷 恵梨香</td>\n",
              "      <td>1</td>\n",
              "      <td>女性</td>\n",
              "      <td>1929-04-09</td>\n",
              "      <td>89</td>\n",
              "      <td>165-0032</td>\n",
              "      <td>東京都中野区鷺宮**********</td>\n",
              "      <td>S13005</td>\n",
              "      <td>20150506</td>\n",
              "      <td>0-00000000-0</td>\n",
              "    </tr>\n",
              "    <tr>\n",
              "      <th>6305</th>\n",
              "      <td>CS012813000013</td>\n",
              "      <td>宇野 南朋</td>\n",
              "      <td>1</td>\n",
              "      <td>女性</td>\n",
              "      <td>1929-04-09</td>\n",
              "      <td>89</td>\n",
              "      <td>231-0806</td>\n",
              "      <td>神奈川県横浜市中区本牧町**********</td>\n",
              "      <td>S14012</td>\n",
              "      <td>20150712</td>\n",
              "      <td>0-00000000-0</td>\n",
              "    </tr>\n",
              "  </tbody>\n",
              "</table>\n",
              "</div>"
            ],
            "text/plain": [
              "          customer_id customer_name  ...  application_date     status_cd\n",
              "18817  CS003813000014        村山 菜々美  ...          20160214  0-00000000-0\n",
              "12328  CS026813000004         吉村 朝陽  ...          20150723  0-00000000-0\n",
              "15682  CS018811000003         熊沢 美里  ...          20150403  0-00000000-0\n",
              "15302  CS027803000004         内村 拓郎  ...          20151227  0-00000000-0\n",
              "1681   CS013801000003         天野 拓郎  ...          20160120  0-00000000-0\n",
              "7511   CS001814000022         鶴田 里穂  ...          20161012  A-20090415-7\n",
              "2378   CS016815000002         山元 美紀  ...          20150629  C-20090923-C\n",
              "4680   CS009815000003         中田 里穂  ...          20150421  D-20091021-E\n",
              "16070  CS005813000015        金谷 恵梨香  ...          20150506  0-00000000-0\n",
              "6305   CS012813000013         宇野 南朋  ...          20150712  0-00000000-0\n",
              "\n",
              "[10 rows x 11 columns]"
            ]
          },
          "metadata": {
            "tags": []
          },
          "execution_count": 36
        }
      ]
    },
    {
      "cell_type": "markdown",
      "metadata": {
        "id": "BDUAeRqshhyI"
      },
      "source": [
        "---\n",
        "> P-18: 顧客データフレーム（df_customer）を生年月日（birth_day）で若い順にソートし、先頭10件を全項目表示せよ。"
      ]
    },
    {
      "cell_type": "code",
      "metadata": {
        "trusted": false,
        "id": "AkM5jZ2xhhyJ",
        "colab": {
          "base_uri": "https://localhost:8080/",
          "height": 1000
        },
        "outputId": "3c9a77f8-cc4b-42ce-a8d5-52fe5bb06f55"
      },
      "source": [
        "df_P018=df_customer.sort_values(\"birth_day\",ascending=False).head(10)\n",
        "df_P018"
      ],
      "execution_count": null,
      "outputs": [
        {
          "output_type": "execute_result",
          "data": {
            "text/html": [
              "<div>\n",
              "<style scoped>\n",
              "    .dataframe tbody tr th:only-of-type {\n",
              "        vertical-align: middle;\n",
              "    }\n",
              "\n",
              "    .dataframe tbody tr th {\n",
              "        vertical-align: top;\n",
              "    }\n",
              "\n",
              "    .dataframe thead th {\n",
              "        text-align: right;\n",
              "    }\n",
              "</style>\n",
              "<table border=\"1\" class=\"dataframe\">\n",
              "  <thead>\n",
              "    <tr style=\"text-align: right;\">\n",
              "      <th></th>\n",
              "      <th>customer_id</th>\n",
              "      <th>customer_name</th>\n",
              "      <th>gender_cd</th>\n",
              "      <th>gender</th>\n",
              "      <th>birth_day</th>\n",
              "      <th>age</th>\n",
              "      <th>postal_cd</th>\n",
              "      <th>address</th>\n",
              "      <th>application_store_cd</th>\n",
              "      <th>application_date</th>\n",
              "      <th>status_cd</th>\n",
              "    </tr>\n",
              "  </thead>\n",
              "  <tbody>\n",
              "    <tr>\n",
              "      <th>15639</th>\n",
              "      <td>CS035114000004</td>\n",
              "      <td>大村 美里</td>\n",
              "      <td>1</td>\n",
              "      <td>女性</td>\n",
              "      <td>2007-11-25</td>\n",
              "      <td>11</td>\n",
              "      <td>156-0053</td>\n",
              "      <td>東京都世田谷区桜**********</td>\n",
              "      <td>S13035</td>\n",
              "      <td>20150619</td>\n",
              "      <td>6-20091205-6</td>\n",
              "    </tr>\n",
              "    <tr>\n",
              "      <th>7468</th>\n",
              "      <td>CS022103000002</td>\n",
              "      <td>福山 はじめ</td>\n",
              "      <td>9</td>\n",
              "      <td>不明</td>\n",
              "      <td>2007-10-02</td>\n",
              "      <td>11</td>\n",
              "      <td>249-0006</td>\n",
              "      <td>神奈川県逗子市逗子**********</td>\n",
              "      <td>S14022</td>\n",
              "      <td>20160909</td>\n",
              "      <td>0-00000000-0</td>\n",
              "    </tr>\n",
              "    <tr>\n",
              "      <th>10745</th>\n",
              "      <td>CS002113000009</td>\n",
              "      <td>柴田 真悠子</td>\n",
              "      <td>1</td>\n",
              "      <td>女性</td>\n",
              "      <td>2007-09-17</td>\n",
              "      <td>11</td>\n",
              "      <td>184-0014</td>\n",
              "      <td>東京都小金井市貫井南町**********</td>\n",
              "      <td>S13002</td>\n",
              "      <td>20160304</td>\n",
              "      <td>0-00000000-0</td>\n",
              "    </tr>\n",
              "    <tr>\n",
              "      <th>19811</th>\n",
              "      <td>CS004115000014</td>\n",
              "      <td>松井 京子</td>\n",
              "      <td>1</td>\n",
              "      <td>女性</td>\n",
              "      <td>2007-08-09</td>\n",
              "      <td>11</td>\n",
              "      <td>165-0031</td>\n",
              "      <td>東京都中野区上鷺宮**********</td>\n",
              "      <td>S13004</td>\n",
              "      <td>20161120</td>\n",
              "      <td>1-20081231-1</td>\n",
              "    </tr>\n",
              "    <tr>\n",
              "      <th>7039</th>\n",
              "      <td>CS002114000010</td>\n",
              "      <td>山内 遥</td>\n",
              "      <td>1</td>\n",
              "      <td>女性</td>\n",
              "      <td>2007-06-03</td>\n",
              "      <td>11</td>\n",
              "      <td>184-0015</td>\n",
              "      <td>東京都小金井市貫井北町**********</td>\n",
              "      <td>S13002</td>\n",
              "      <td>20160920</td>\n",
              "      <td>6-20100510-1</td>\n",
              "    </tr>\n",
              "    <tr>\n",
              "      <th>3670</th>\n",
              "      <td>CS025115000002</td>\n",
              "      <td>小柳 夏希</td>\n",
              "      <td>1</td>\n",
              "      <td>女性</td>\n",
              "      <td>2007-04-18</td>\n",
              "      <td>11</td>\n",
              "      <td>245-0018</td>\n",
              "      <td>神奈川県横浜市泉区上飯田町**********</td>\n",
              "      <td>S14025</td>\n",
              "      <td>20160116</td>\n",
              "      <td>D-20100913-D</td>\n",
              "    </tr>\n",
              "    <tr>\n",
              "      <th>12493</th>\n",
              "      <td>CS002113000025</td>\n",
              "      <td>広末 まなみ</td>\n",
              "      <td>1</td>\n",
              "      <td>女性</td>\n",
              "      <td>2007-03-30</td>\n",
              "      <td>12</td>\n",
              "      <td>184-0015</td>\n",
              "      <td>東京都小金井市貫井北町**********</td>\n",
              "      <td>S13002</td>\n",
              "      <td>20171030</td>\n",
              "      <td>0-00000000-0</td>\n",
              "    </tr>\n",
              "    <tr>\n",
              "      <th>15977</th>\n",
              "      <td>CS033112000003</td>\n",
              "      <td>長野 美紀</td>\n",
              "      <td>1</td>\n",
              "      <td>女性</td>\n",
              "      <td>2007-03-22</td>\n",
              "      <td>12</td>\n",
              "      <td>245-0051</td>\n",
              "      <td>神奈川県横浜市戸塚区名瀬町**********</td>\n",
              "      <td>S14033</td>\n",
              "      <td>20150606</td>\n",
              "      <td>0-00000000-0</td>\n",
              "    </tr>\n",
              "    <tr>\n",
              "      <th>5716</th>\n",
              "      <td>CS007115000006</td>\n",
              "      <td>福岡 瞬</td>\n",
              "      <td>1</td>\n",
              "      <td>女性</td>\n",
              "      <td>2007-03-10</td>\n",
              "      <td>12</td>\n",
              "      <td>285-0845</td>\n",
              "      <td>千葉県佐倉市西志津**********</td>\n",
              "      <td>S12007</td>\n",
              "      <td>20151118</td>\n",
              "      <td>F-20101016-F</td>\n",
              "    </tr>\n",
              "    <tr>\n",
              "      <th>15097</th>\n",
              "      <td>CS014113000008</td>\n",
              "      <td>矢口 莉緒</td>\n",
              "      <td>1</td>\n",
              "      <td>女性</td>\n",
              "      <td>2007-03-05</td>\n",
              "      <td>12</td>\n",
              "      <td>260-0041</td>\n",
              "      <td>千葉県千葉市中央区東千葉**********</td>\n",
              "      <td>S12014</td>\n",
              "      <td>20150622</td>\n",
              "      <td>3-20091108-6</td>\n",
              "    </tr>\n",
              "  </tbody>\n",
              "</table>\n",
              "</div>"
            ],
            "text/plain": [
              "          customer_id customer_name  ...  application_date     status_cd\n",
              "15639  CS035114000004         大村 美里  ...          20150619  6-20091205-6\n",
              "7468   CS022103000002        福山 はじめ  ...          20160909  0-00000000-0\n",
              "10745  CS002113000009        柴田 真悠子  ...          20160304  0-00000000-0\n",
              "19811  CS004115000014         松井 京子  ...          20161120  1-20081231-1\n",
              "7039   CS002114000010          山内 遥  ...          20160920  6-20100510-1\n",
              "3670   CS025115000002         小柳 夏希  ...          20160116  D-20100913-D\n",
              "12493  CS002113000025        広末 まなみ  ...          20171030  0-00000000-0\n",
              "15977  CS033112000003         長野 美紀  ...          20150606  0-00000000-0\n",
              "5716   CS007115000006          福岡 瞬  ...          20151118  F-20101016-F\n",
              "15097  CS014113000008         矢口 莉緒  ...          20150622  3-20091108-6\n",
              "\n",
              "[10 rows x 11 columns]"
            ]
          },
          "metadata": {
            "tags": []
          },
          "execution_count": 37
        }
      ]
    },
    {
      "cell_type": "markdown",
      "metadata": {
        "id": "jIbxf5DwhhyK"
      },
      "source": [
        "---\n",
        "> P-19: レシート明細データフレーム（df_receipt）に対し、1件あたりの売上金額（amount）が高い順にランクを付与し、先頭10件を抽出せよ。項目は顧客ID（customer_id）、売上金額（amount）、付与したランクを表示させること。なお、売上金額（amount）が等しい場合は同一順位を付与するものとする。"
      ]
    },
    {
      "cell_type": "code",
      "metadata": {
        "trusted": false,
        "id": "erXRPeQXhhyL",
        "colab": {
          "base_uri": "https://localhost:8080/",
          "height": 359
        },
        "outputId": "611fd6e9-e716-473d-d82f-d00ffcd52d2c"
      },
      "source": [
        "#しんせいたろうさん回答. \n",
        "# method='min'とすると最小値が順位となる。1位、2位タイ、2位タイ、4位\n",
        "df_P019 = df_receipt.copy()\n",
        "\n",
        "df_P019[\"rank_amount\"] = df_P019[\"amount\"].rank(method='min', ascending=False)\n",
        "df_P019.sort_values(by=\"rank_amount\")[[\"customer_id\", \"amount\",\"rank_amount\"]].head(10)\n",
        "\n",
        "#かめちゃんさん\n",
        "#df_P019 = df_receipt.copy()\n",
        "#df_P019[\"rank\"] = df_receipt[\"amount\"].rank(method=\"max\", ascending=False)\n",
        "#df_P019 = df_P019.sort_values(\"rank\")\n",
        "#df_P019.head(10)\n"
      ],
      "execution_count": null,
      "outputs": [
        {
          "output_type": "execute_result",
          "data": {
            "text/html": [
              "<div>\n",
              "<style scoped>\n",
              "    .dataframe tbody tr th:only-of-type {\n",
              "        vertical-align: middle;\n",
              "    }\n",
              "\n",
              "    .dataframe tbody tr th {\n",
              "        vertical-align: top;\n",
              "    }\n",
              "\n",
              "    .dataframe thead th {\n",
              "        text-align: right;\n",
              "    }\n",
              "</style>\n",
              "<table border=\"1\" class=\"dataframe\">\n",
              "  <thead>\n",
              "    <tr style=\"text-align: right;\">\n",
              "      <th></th>\n",
              "      <th>customer_id</th>\n",
              "      <th>amount</th>\n",
              "      <th>rank_amount</th>\n",
              "    </tr>\n",
              "  </thead>\n",
              "  <tbody>\n",
              "    <tr>\n",
              "      <th>1202</th>\n",
              "      <td>CS011415000006</td>\n",
              "      <td>10925</td>\n",
              "      <td>1.0</td>\n",
              "    </tr>\n",
              "    <tr>\n",
              "      <th>62317</th>\n",
              "      <td>ZZ000000000000</td>\n",
              "      <td>6800</td>\n",
              "      <td>2.0</td>\n",
              "    </tr>\n",
              "    <tr>\n",
              "      <th>54095</th>\n",
              "      <td>CS028605000002</td>\n",
              "      <td>5780</td>\n",
              "      <td>3.0</td>\n",
              "    </tr>\n",
              "    <tr>\n",
              "      <th>4632</th>\n",
              "      <td>CS015515000034</td>\n",
              "      <td>5480</td>\n",
              "      <td>4.0</td>\n",
              "    </tr>\n",
              "    <tr>\n",
              "      <th>72747</th>\n",
              "      <td>ZZ000000000000</td>\n",
              "      <td>5480</td>\n",
              "      <td>4.0</td>\n",
              "    </tr>\n",
              "    <tr>\n",
              "      <th>10320</th>\n",
              "      <td>ZZ000000000000</td>\n",
              "      <td>5480</td>\n",
              "      <td>4.0</td>\n",
              "    </tr>\n",
              "    <tr>\n",
              "      <th>97294</th>\n",
              "      <td>CS021515000089</td>\n",
              "      <td>5440</td>\n",
              "      <td>7.0</td>\n",
              "    </tr>\n",
              "    <tr>\n",
              "      <th>28304</th>\n",
              "      <td>ZZ000000000000</td>\n",
              "      <td>5440</td>\n",
              "      <td>7.0</td>\n",
              "    </tr>\n",
              "    <tr>\n",
              "      <th>92246</th>\n",
              "      <td>CS009415000038</td>\n",
              "      <td>5280</td>\n",
              "      <td>9.0</td>\n",
              "    </tr>\n",
              "    <tr>\n",
              "      <th>68553</th>\n",
              "      <td>CS040415000200</td>\n",
              "      <td>5280</td>\n",
              "      <td>9.0</td>\n",
              "    </tr>\n",
              "  </tbody>\n",
              "</table>\n",
              "</div>"
            ],
            "text/plain": [
              "          customer_id  amount  rank_amount\n",
              "1202   CS011415000006   10925          1.0\n",
              "62317  ZZ000000000000    6800          2.0\n",
              "54095  CS028605000002    5780          3.0\n",
              "4632   CS015515000034    5480          4.0\n",
              "72747  ZZ000000000000    5480          4.0\n",
              "10320  ZZ000000000000    5480          4.0\n",
              "97294  CS021515000089    5440          7.0\n",
              "28304  ZZ000000000000    5440          7.0\n",
              "92246  CS009415000038    5280          9.0\n",
              "68553  CS040415000200    5280          9.0"
            ]
          },
          "metadata": {
            "tags": []
          },
          "execution_count": 39
        }
      ]
    },
    {
      "cell_type": "markdown",
      "metadata": {
        "id": "mhp33yibhhyM"
      },
      "source": [
        "---\n",
        "> P-020: レシート明細データフレーム（df_receipt）に対し、1件あたりの売上金額（amount）が高い順にランクを付与し、先頭10件を抽出せよ。項目は顧客ID（customer_id）、売上金額（amount）、付与したランクを表示させること。なお、売上金額（amount）が等しい場合でも別順位を付与すること。"
      ]
    },
    {
      "cell_type": "code",
      "metadata": {
        "trusted": false,
        "id": "Ks8wJ4dghhyM",
        "colab": {
          "base_uri": "https://localhost:8080/",
          "height": 359
        },
        "outputId": "dc79efd5-11ba-40c6-bc29-9c61f8740312"
      },
      "source": [
        "df_P020 = df_receipt.copy()\n",
        "df_P020[\"rank_amount\"] = df_P020[\"amount\"].rank(method='first', ascending=False)\n",
        "df_P020.sort_values(by=\"rank_amount\")[[\"customer_id\", \"amount\",\"rank_amount\"]].head(10)\n",
        "\n",
        "#first：同一値は登場順に順位付け。数値のみに有効。\n",
        "#ascending=False:降順"
      ],
      "execution_count": null,
      "outputs": [
        {
          "output_type": "execute_result",
          "data": {
            "text/html": [
              "<div>\n",
              "<style scoped>\n",
              "    .dataframe tbody tr th:only-of-type {\n",
              "        vertical-align: middle;\n",
              "    }\n",
              "\n",
              "    .dataframe tbody tr th {\n",
              "        vertical-align: top;\n",
              "    }\n",
              "\n",
              "    .dataframe thead th {\n",
              "        text-align: right;\n",
              "    }\n",
              "</style>\n",
              "<table border=\"1\" class=\"dataframe\">\n",
              "  <thead>\n",
              "    <tr style=\"text-align: right;\">\n",
              "      <th></th>\n",
              "      <th>customer_id</th>\n",
              "      <th>amount</th>\n",
              "      <th>rank_amount</th>\n",
              "    </tr>\n",
              "  </thead>\n",
              "  <tbody>\n",
              "    <tr>\n",
              "      <th>1202</th>\n",
              "      <td>CS011415000006</td>\n",
              "      <td>10925</td>\n",
              "      <td>1.0</td>\n",
              "    </tr>\n",
              "    <tr>\n",
              "      <th>62317</th>\n",
              "      <td>ZZ000000000000</td>\n",
              "      <td>6800</td>\n",
              "      <td>2.0</td>\n",
              "    </tr>\n",
              "    <tr>\n",
              "      <th>54095</th>\n",
              "      <td>CS028605000002</td>\n",
              "      <td>5780</td>\n",
              "      <td>3.0</td>\n",
              "    </tr>\n",
              "    <tr>\n",
              "      <th>4632</th>\n",
              "      <td>CS015515000034</td>\n",
              "      <td>5480</td>\n",
              "      <td>4.0</td>\n",
              "    </tr>\n",
              "    <tr>\n",
              "      <th>10320</th>\n",
              "      <td>ZZ000000000000</td>\n",
              "      <td>5480</td>\n",
              "      <td>5.0</td>\n",
              "    </tr>\n",
              "    <tr>\n",
              "      <th>72747</th>\n",
              "      <td>ZZ000000000000</td>\n",
              "      <td>5480</td>\n",
              "      <td>6.0</td>\n",
              "    </tr>\n",
              "    <tr>\n",
              "      <th>28304</th>\n",
              "      <td>ZZ000000000000</td>\n",
              "      <td>5440</td>\n",
              "      <td>7.0</td>\n",
              "    </tr>\n",
              "    <tr>\n",
              "      <th>97294</th>\n",
              "      <td>CS021515000089</td>\n",
              "      <td>5440</td>\n",
              "      <td>8.0</td>\n",
              "    </tr>\n",
              "    <tr>\n",
              "      <th>596</th>\n",
              "      <td>CS015515000083</td>\n",
              "      <td>5280</td>\n",
              "      <td>9.0</td>\n",
              "    </tr>\n",
              "    <tr>\n",
              "      <th>11275</th>\n",
              "      <td>CS017414000114</td>\n",
              "      <td>5280</td>\n",
              "      <td>10.0</td>\n",
              "    </tr>\n",
              "  </tbody>\n",
              "</table>\n",
              "</div>"
            ],
            "text/plain": [
              "          customer_id  amount  rank_amount\n",
              "1202   CS011415000006   10925          1.0\n",
              "62317  ZZ000000000000    6800          2.0\n",
              "54095  CS028605000002    5780          3.0\n",
              "4632   CS015515000034    5480          4.0\n",
              "10320  ZZ000000000000    5480          5.0\n",
              "72747  ZZ000000000000    5480          6.0\n",
              "28304  ZZ000000000000    5440          7.0\n",
              "97294  CS021515000089    5440          8.0\n",
              "596    CS015515000083    5280          9.0\n",
              "11275  CS017414000114    5280         10.0"
            ]
          },
          "metadata": {
            "tags": []
          },
          "execution_count": 40
        }
      ]
    },
    {
      "cell_type": "markdown",
      "metadata": {
        "id": "1lRGtDSphhyQ"
      },
      "source": [
        "---\n",
        "> P-021: レシート明細データフレーム（df_receipt）に対し、件数をカウントせよ。"
      ]
    },
    {
      "cell_type": "code",
      "metadata": {
        "trusted": false,
        "id": "m-ihL_fVhhyQ",
        "colab": {
          "base_uri": "https://localhost:8080/",
          "height": 34
        },
        "outputId": "eda5e574-9059-431e-ef8c-408a2af76ab7"
      },
      "source": [
        "len(df_receipt)"
      ],
      "execution_count": null,
      "outputs": [
        {
          "output_type": "execute_result",
          "data": {
            "text/plain": [
              "104681"
            ]
          },
          "metadata": {
            "tags": []
          },
          "execution_count": 41
        }
      ]
    },
    {
      "cell_type": "markdown",
      "metadata": {
        "id": "MkjDW-oyhhyS"
      },
      "source": [
        "---\n",
        "> P-022: レシート明細データフレーム（df_receipt）の顧客ID（customer_id）に対し、ユニーク件数をカウントせよ。"
      ]
    },
    {
      "cell_type": "code",
      "metadata": {
        "trusted": false,
        "id": "0xSI9r8UhhyS",
        "colab": {
          "base_uri": "https://localhost:8080/",
          "height": 34
        },
        "outputId": "fde1a6e0-9d31-4057-b72a-47936663d614"
      },
      "source": [
        "#unique重複ないデータを取りたい時\n",
        "#len(df_receipt['customer_id'].unique())\n",
        "\n",
        "#customer_idをgroupbyしてからもOK\n",
        "#nunique\n",
        "\n",
        "df_receipt[\"customer_id\"].nunique()\n",
        "#nを取るとデータそのものを返す。”n”をつけると数になる"
      ],
      "execution_count": null,
      "outputs": [
        {
          "output_type": "execute_result",
          "data": {
            "text/plain": [
              "8307"
            ]
          },
          "metadata": {
            "tags": []
          },
          "execution_count": 45
        }
      ]
    },
    {
      "cell_type": "markdown",
      "metadata": {
        "id": "nhAK-Wf5hhyT"
      },
      "source": [
        "---\n",
        "> P-023: レシート明細データフレーム（df_receipt）に対し、店舗コード（store_cd）ごとに売上金額（amount）と売上数量（quantity）を合計せよ。"
      ]
    },
    {
      "cell_type": "code",
      "metadata": {
        "trusted": false,
        "id": "ZAkUf4-5hhyU"
      },
      "source": [
        "df_receipt.groupby(\"store_cd\")[[\"amount\"\"quantity\"]].sum()\n",
        "\n",
        "#df_receipt.groupby(\"store_cd\")だけでは同じstore_cdをグルーピングしただけで何も返してこない#そのあとの指示がいる\n",
        "#list(df_receipt.groupby(\"store_cd\"))\n",
        "#list(df_receipt.groupby(\"store_cd\"))[0]\n",
        "#list(df_receipt.groupby(\"store_cd\"))[0][0]\n",
        "#list(df_receipt.groupby(\"store_cd\"))[0][1]\n",
        "#list(df_receipt.groupby(\"store_cd\"))[0][1][[\"amount\"\"quantity\"]].sum()\n",
        "#mean()\n",
        "#first()\n",
        "#pandasはSQLをモデルにしてる\n",
        "#groupbyはリストでグルーピングするものを指定できる"
      ],
      "execution_count": null,
      "outputs": []
    },
    {
      "cell_type": "markdown",
      "metadata": {
        "id": "F4RjuZr_hhyV"
      },
      "source": [
        "---\n",
        "> P-024: レシート明細データフレーム（df_receipt）に対し、顧客ID（customer_id）ごとに最も新しい売上日（sales_ymd）を求め、10件表示せよ。"
      ]
    },
    {
      "cell_type": "code",
      "metadata": {
        "trusted": false,
        "id": "ir6Oke73hhyV",
        "colab": {
          "base_uri": "https://localhost:8080/",
          "height": 221
        },
        "outputId": "f55bf5d6-3cc4-4b8c-c09c-b2e4da48c32c"
      },
      "source": [
        "#int64=数字→datetimeにする\n",
        "df_P024=df_receipt.copy()\n",
        "df_P024[\"sales_ymd\"] =pd.to_datetime(df_P024[\"sales_ymd\"],format=\"%Y%m%d\")\n",
        "df_P024.groupby(\"customer_id\")[\"sales_ymd\"].max().head(10)\n",
        "\n",
        "\n"
      ],
      "execution_count": null,
      "outputs": [
        {
          "output_type": "execute_result",
          "data": {
            "text/plain": [
              "customer_id\n",
              "CS001113000004   2019-03-08\n",
              "CS001114000005   2019-07-31\n",
              "CS001115000010   2019-04-05\n",
              "CS001205000004   2019-06-25\n",
              "CS001205000006   2019-02-24\n",
              "CS001211000025   2019-03-22\n",
              "CS001212000027   2017-01-27\n",
              "CS001212000031   2018-09-06\n",
              "CS001212000046   2017-08-11\n",
              "CS001212000070   2019-10-18\n",
              "Name: sales_ymd, dtype: datetime64[ns]"
            ]
          },
          "metadata": {
            "tags": []
          },
          "execution_count": 47
        }
      ]
    },
    {
      "cell_type": "markdown",
      "metadata": {
        "id": "QZlvMM7AhhyX"
      },
      "source": [
        "---\n",
        "> P-025: レシート明細データフレーム（df_receipt）に対し、顧客ID（customer_id）ごとに最も古い売上日（sales_ymd）を求め、10件表示せよ。"
      ]
    },
    {
      "cell_type": "code",
      "metadata": {
        "trusted": false,
        "id": "MFnLotE_hhyX"
      },
      "source": [
        "#apply1つ１つのセルに対して実行する。\n",
        "#024のmaxをminに置き換える"
      ],
      "execution_count": null,
      "outputs": []
    },
    {
      "cell_type": "markdown",
      "metadata": {
        "id": "QLeGVwYWhhyZ"
      },
      "source": [
        "---\n",
        "> P-026: レシート明細データフレーム（df_receipt）に対し、顧客ID（customer_id）ごとに最も新しい売上日（sales_ymd）と古い売上日を求め、両者が異なるデータを10件表示せよ。"
      ]
    },
    {
      "cell_type": "code",
      "metadata": {
        "trusted": false,
        "id": "q68lbEewhhyZ",
        "colab": {
          "base_uri": "https://localhost:8080/",
          "height": 390
        },
        "outputId": "3ec6d1fb-8bfb-4b03-fec9-ab997ec72398"
      },
      "source": [
        "#max\n",
        "#min\n",
        "#max,minはシリーズ（s) dfではない\n",
        "#merge\n",
        "#rename\n",
        "#concatの方が使いやすい。同じインデックスを持ってるとくっつく。 #marge\n",
        "\n",
        "#s_P026=df_receipt.copy()\n",
        "#s_P026_max=s_P026.groupby('customer_id').sales_ymd.max()\n",
        "#s_P026_min=s_P026.groupby('customer_id').sales_ymd.min()\n",
        "#s_P026_max.name=\"sales_ymd_max\"\n",
        "#s_P026_min.name=\"sales_ymd_min\"\n",
        "#s_P026_max_min=pd.concat([s_P026_max!=s_P026_min],axis=1)\n",
        "#s_P026_max_min.head(10)\n",
        "#↑うまくできなかった。。\n",
        "\n",
        "#かめちゃんさん\n",
        "df_receiptP026 = df_receipt.groupby(\"customer_id\")[[\"sales_ymd\"]].max()\n",
        "df_receiptP026[\"sales_ymd_min\"] = df_receipt.groupby(\"customer_id\")[[\"sales_ymd\"]].min()\n",
        "df_receiptP026[df_receiptP026[\"sales_ymd\"] != df_receiptP026[\"sales_ymd_min\"]].head(10)"
      ],
      "execution_count": 9,
      "outputs": [
        {
          "output_type": "execute_result",
          "data": {
            "text/html": [
              "<div>\n",
              "<style scoped>\n",
              "    .dataframe tbody tr th:only-of-type {\n",
              "        vertical-align: middle;\n",
              "    }\n",
              "\n",
              "    .dataframe tbody tr th {\n",
              "        vertical-align: top;\n",
              "    }\n",
              "\n",
              "    .dataframe thead th {\n",
              "        text-align: right;\n",
              "    }\n",
              "</style>\n",
              "<table border=\"1\" class=\"dataframe\">\n",
              "  <thead>\n",
              "    <tr style=\"text-align: right;\">\n",
              "      <th></th>\n",
              "      <th>sales_ymd</th>\n",
              "      <th>sales_ymd_min</th>\n",
              "    </tr>\n",
              "    <tr>\n",
              "      <th>customer_id</th>\n",
              "      <th></th>\n",
              "      <th></th>\n",
              "    </tr>\n",
              "  </thead>\n",
              "  <tbody>\n",
              "    <tr>\n",
              "      <th>CS001114000005</th>\n",
              "      <td>20190731</td>\n",
              "      <td>20180503</td>\n",
              "    </tr>\n",
              "    <tr>\n",
              "      <th>CS001115000010</th>\n",
              "      <td>20190405</td>\n",
              "      <td>20171228</td>\n",
              "    </tr>\n",
              "    <tr>\n",
              "      <th>CS001205000004</th>\n",
              "      <td>20190625</td>\n",
              "      <td>20170914</td>\n",
              "    </tr>\n",
              "    <tr>\n",
              "      <th>CS001205000006</th>\n",
              "      <td>20190224</td>\n",
              "      <td>20180207</td>\n",
              "    </tr>\n",
              "    <tr>\n",
              "      <th>CS001214000009</th>\n",
              "      <td>20190902</td>\n",
              "      <td>20170306</td>\n",
              "    </tr>\n",
              "    <tr>\n",
              "      <th>CS001214000017</th>\n",
              "      <td>20191006</td>\n",
              "      <td>20180828</td>\n",
              "    </tr>\n",
              "    <tr>\n",
              "      <th>CS001214000048</th>\n",
              "      <td>20190929</td>\n",
              "      <td>20171109</td>\n",
              "    </tr>\n",
              "    <tr>\n",
              "      <th>CS001214000052</th>\n",
              "      <td>20190617</td>\n",
              "      <td>20180208</td>\n",
              "    </tr>\n",
              "    <tr>\n",
              "      <th>CS001215000005</th>\n",
              "      <td>20181021</td>\n",
              "      <td>20170206</td>\n",
              "    </tr>\n",
              "    <tr>\n",
              "      <th>CS001215000040</th>\n",
              "      <td>20171022</td>\n",
              "      <td>20170214</td>\n",
              "    </tr>\n",
              "  </tbody>\n",
              "</table>\n",
              "</div>"
            ],
            "text/plain": [
              "                sales_ymd  sales_ymd_min\n",
              "customer_id                             \n",
              "CS001114000005   20190731       20180503\n",
              "CS001115000010   20190405       20171228\n",
              "CS001205000004   20190625       20170914\n",
              "CS001205000006   20190224       20180207\n",
              "CS001214000009   20190902       20170306\n",
              "CS001214000017   20191006       20180828\n",
              "CS001214000048   20190929       20171109\n",
              "CS001214000052   20190617       20180208\n",
              "CS001215000005   20181021       20170206\n",
              "CS001215000040   20171022       20170214"
            ]
          },
          "metadata": {
            "tags": []
          },
          "execution_count": 9
        }
      ]
    },
    {
      "cell_type": "markdown",
      "metadata": {
        "id": "259M7d7Ohhyb"
      },
      "source": [
        "---\n",
        "> P-027: レシート明細データフレーム（df_receipt）に対し、店舗コード（store_cd）ごとに売上金額（amount）の平均を計算し、降順でTOP5を表示せよ。"
      ]
    },
    {
      "cell_type": "code",
      "metadata": {
        "trusted": false,
        "id": "i5ehOOaBhhyb",
        "colab": {
          "base_uri": "https://localhost:8080/",
          "height": 235
        },
        "outputId": "e11045a1-2cd2-45c1-88b7-2593b6f1752e"
      },
      "source": [
        "#df_P027=df_receipt.copy()\n",
        "#df_P027=df_receipt.groupby(\"store_cd\")[\"amount\"].mean().sort_values(ascending=False)\n",
        "#df_P027.head(5)\n",
        "#こわぐちさん\n",
        "\n",
        "df_receiptP027 = df_receipt.groupby(\"store_cd\")[[\"amount\"]].mean()\n",
        "df_receiptP027.sort_values(\"amount\", ascending=False).head()\n",
        "#カメちゃんさん"
      ],
      "execution_count": 10,
      "outputs": [
        {
          "output_type": "execute_result",
          "data": {
            "text/html": [
              "<div>\n",
              "<style scoped>\n",
              "    .dataframe tbody tr th:only-of-type {\n",
              "        vertical-align: middle;\n",
              "    }\n",
              "\n",
              "    .dataframe tbody tr th {\n",
              "        vertical-align: top;\n",
              "    }\n",
              "\n",
              "    .dataframe thead th {\n",
              "        text-align: right;\n",
              "    }\n",
              "</style>\n",
              "<table border=\"1\" class=\"dataframe\">\n",
              "  <thead>\n",
              "    <tr style=\"text-align: right;\">\n",
              "      <th></th>\n",
              "      <th>amount</th>\n",
              "    </tr>\n",
              "    <tr>\n",
              "      <th>store_cd</th>\n",
              "      <th></th>\n",
              "    </tr>\n",
              "  </thead>\n",
              "  <tbody>\n",
              "    <tr>\n",
              "      <th>S13052</th>\n",
              "      <td>402.867470</td>\n",
              "    </tr>\n",
              "    <tr>\n",
              "      <th>S13015</th>\n",
              "      <td>351.111960</td>\n",
              "    </tr>\n",
              "    <tr>\n",
              "      <th>S13003</th>\n",
              "      <td>350.915519</td>\n",
              "    </tr>\n",
              "    <tr>\n",
              "      <th>S14010</th>\n",
              "      <td>348.791262</td>\n",
              "    </tr>\n",
              "    <tr>\n",
              "      <th>S13001</th>\n",
              "      <td>348.470386</td>\n",
              "    </tr>\n",
              "  </tbody>\n",
              "</table>\n",
              "</div>"
            ],
            "text/plain": [
              "              amount\n",
              "store_cd            \n",
              "S13052    402.867470\n",
              "S13015    351.111960\n",
              "S13003    350.915519\n",
              "S14010    348.791262\n",
              "S13001    348.470386"
            ]
          },
          "metadata": {
            "tags": []
          },
          "execution_count": 10
        }
      ]
    },
    {
      "cell_type": "markdown",
      "metadata": {
        "id": "5oUtacPihhyc"
      },
      "source": [
        "---\n",
        "> P-028: レシート明細データフレーム（df_receipt）に対し、店舗コード（store_cd）ごとに売上金額（amount）の中央値を計算し、降順でTOP5を表示せよ。"
      ]
    },
    {
      "cell_type": "code",
      "metadata": {
        "trusted": false,
        "id": "-s9SplCEhhyd",
        "colab": {
          "base_uri": "https://localhost:8080/"
        },
        "outputId": "d0604d8f-252b-437d-a118-fbd56908b4c1"
      },
      "source": [
        "#こわぐちさん\n",
        "df_P028=df_receipt.copy()\n",
        "df_P028=df_receipt.groupby(\"store_cd\")[\"amount\"].median().sort_values(ascending=False)\n",
        "df_P028.head(5)\n",
        "\n",
        "#かめちゃんさん\n",
        "#df_receiptP028 = df_receipt.groupby(\"store_cd\")[[\"amount\"]].median()\n",
        "#df_receiptP028.sort_values(\"amount\", ascending=False).head()"
      ],
      "execution_count": 11,
      "outputs": [
        {
          "output_type": "execute_result",
          "data": {
            "text/plain": [
              "store_cd\n",
              "S13052    190\n",
              "S14010    188\n",
              "S14050    185\n",
              "S14040    180\n",
              "S13003    180\n",
              "Name: amount, dtype: int64"
            ]
          },
          "metadata": {
            "tags": []
          },
          "execution_count": 11
        }
      ]
    },
    {
      "cell_type": "markdown",
      "metadata": {
        "id": "4i4pM4Cmhhye"
      },
      "source": [
        "---\n",
        "> P-029: レシート明細データフレーム（df_receipt）に対し、店舗コード（store_cd）ごとに商品コード（product_cd）の最頻値を求めよ。"
      ]
    },
    {
      "cell_type": "code",
      "metadata": {
        "trusted": false,
        "id": "DsX1TXZIhhye",
        "colab": {
          "base_uri": "https://localhost:8080/"
        },
        "outputId": "a21e69ae-07a7-4802-87cf-5ec6b3fc6130"
      },
      "source": [
        "#mode\n",
        "#groupbyで使われているメソッドは決まっている\n",
        "#df_P029=df_receipt.copy()\n",
        "\n",
        "df_receiptP029 = df_receipt.groupby(\"store_cd\").product_cd.apply(lambda x: x.mode())\n",
        "df_receiptP029.head()\n",
        "#かめちゃんさん\n"
      ],
      "execution_count": 12,
      "outputs": [
        {
          "output_type": "execute_result",
          "data": {
            "text/plain": [
              "store_cd   \n",
              "S12007    0    P060303001\n",
              "S12013    0    P060303001\n",
              "S12014    0    P060303001\n",
              "S12029    0    P060303001\n",
              "S12030    0    P060303001\n",
              "Name: product_cd, dtype: object"
            ]
          },
          "metadata": {
            "tags": []
          },
          "execution_count": 12
        }
      ]
    },
    {
      "cell_type": "markdown",
      "metadata": {
        "id": "DKpNVF4Ahhyg"
      },
      "source": [
        "---\n",
        "> P-030: レシート明細データフレーム（df_receipt）に対し、店舗コード（store_cd）ごとに売上金額（amount）の標本分散を計算し、降順でTOP5を表示せよ。"
      ]
    },
    {
      "cell_type": "code",
      "metadata": {
        "trusted": false,
        "id": "YO_oM4BRhhyg",
        "colab": {
          "base_uri": "https://localhost:8080/",
          "height": 235
        },
        "outputId": "bd05e3d7-39dc-4513-9eff-b657f8cbb822"
      },
      "source": [
        "#分散　var\n",
        "df_receiptP030 = df_receipt.groupby(\"store_cd\")[[\"amount\"]].var()\n",
        "df_receiptP030.sort_values(\"amount\", ascending=False).head()\n",
        "\n",
        "#かめちゃんさん"
      ],
      "execution_count": 14,
      "outputs": [
        {
          "output_type": "execute_result",
          "data": {
            "text/html": [
              "<div>\n",
              "<style scoped>\n",
              "    .dataframe tbody tr th:only-of-type {\n",
              "        vertical-align: middle;\n",
              "    }\n",
              "\n",
              "    .dataframe tbody tr th {\n",
              "        vertical-align: top;\n",
              "    }\n",
              "\n",
              "    .dataframe thead th {\n",
              "        text-align: right;\n",
              "    }\n",
              "</style>\n",
              "<table border=\"1\" class=\"dataframe\">\n",
              "  <thead>\n",
              "    <tr style=\"text-align: right;\">\n",
              "      <th></th>\n",
              "      <th>amount</th>\n",
              "    </tr>\n",
              "    <tr>\n",
              "      <th>store_cd</th>\n",
              "      <th></th>\n",
              "    </tr>\n",
              "  </thead>\n",
              "  <tbody>\n",
              "    <tr>\n",
              "      <th>S13052</th>\n",
              "      <td>441863.252526</td>\n",
              "    </tr>\n",
              "    <tr>\n",
              "      <th>S14011</th>\n",
              "      <td>306442.242432</td>\n",
              "    </tr>\n",
              "    <tr>\n",
              "      <th>S14034</th>\n",
              "      <td>297068.392740</td>\n",
              "    </tr>\n",
              "    <tr>\n",
              "      <th>S13001</th>\n",
              "      <td>295558.842618</td>\n",
              "    </tr>\n",
              "    <tr>\n",
              "      <th>S13015</th>\n",
              "      <td>295427.197086</td>\n",
              "    </tr>\n",
              "  </tbody>\n",
              "</table>\n",
              "</div>"
            ],
            "text/plain": [
              "                 amount\n",
              "store_cd               \n",
              "S13052    441863.252526\n",
              "S14011    306442.242432\n",
              "S14034    297068.392740\n",
              "S13001    295558.842618\n",
              "S13015    295427.197086"
            ]
          },
          "metadata": {
            "tags": []
          },
          "execution_count": 14
        }
      ]
    },
    {
      "cell_type": "markdown",
      "metadata": {
        "id": "KQUwt_Zghhyi"
      },
      "source": [
        "---\n",
        "> P-031: レシート明細データフレーム（df_receipt）に対し、店舗コード（store_cd）ごとに売上金額（amount）の標本標準偏差を計算し、降順でTOP5を表示せよ。"
      ]
    },
    {
      "cell_type": "code",
      "metadata": {
        "trusted": false,
        "id": "7UwDIKcZhhyi",
        "colab": {
          "base_uri": "https://localhost:8080/",
          "height": 235
        },
        "outputId": "af4fe705-acc8-47a3-c85c-2f4aeb066d43"
      },
      "source": [
        "#標準偏差　np.std\n",
        "#groupby 同じ値を持つデータをまとめてそれぞれの塊に対して共通の操作を行いたいとき\n",
        "\n",
        "df_receiptP031 = df_receipt.groupby(\"store_cd\")[[\"amount\"]].std()\n",
        "df_receiptP031.sort_values(\"amount\", ascending=False).head()\n",
        "\n",
        "#カメちゃんさん"
      ],
      "execution_count": 15,
      "outputs": [
        {
          "output_type": "execute_result",
          "data": {
            "text/html": [
              "<div>\n",
              "<style scoped>\n",
              "    .dataframe tbody tr th:only-of-type {\n",
              "        vertical-align: middle;\n",
              "    }\n",
              "\n",
              "    .dataframe tbody tr th {\n",
              "        vertical-align: top;\n",
              "    }\n",
              "\n",
              "    .dataframe thead th {\n",
              "        text-align: right;\n",
              "    }\n",
              "</style>\n",
              "<table border=\"1\" class=\"dataframe\">\n",
              "  <thead>\n",
              "    <tr style=\"text-align: right;\">\n",
              "      <th></th>\n",
              "      <th>amount</th>\n",
              "    </tr>\n",
              "    <tr>\n",
              "      <th>store_cd</th>\n",
              "      <th></th>\n",
              "    </tr>\n",
              "  </thead>\n",
              "  <tbody>\n",
              "    <tr>\n",
              "      <th>S13052</th>\n",
              "      <td>664.727954</td>\n",
              "    </tr>\n",
              "    <tr>\n",
              "      <th>S14011</th>\n",
              "      <td>553.572256</td>\n",
              "    </tr>\n",
              "    <tr>\n",
              "      <th>S14034</th>\n",
              "      <td>545.039808</td>\n",
              "    </tr>\n",
              "    <tr>\n",
              "      <th>S13001</th>\n",
              "      <td>543.653237</td>\n",
              "    </tr>\n",
              "    <tr>\n",
              "      <th>S13015</th>\n",
              "      <td>543.532149</td>\n",
              "    </tr>\n",
              "  </tbody>\n",
              "</table>\n",
              "</div>"
            ],
            "text/plain": [
              "              amount\n",
              "store_cd            \n",
              "S13052    664.727954\n",
              "S14011    553.572256\n",
              "S14034    545.039808\n",
              "S13001    543.653237\n",
              "S13015    543.532149"
            ]
          },
          "metadata": {
            "tags": []
          },
          "execution_count": 15
        }
      ]
    },
    {
      "cell_type": "markdown",
      "metadata": {
        "id": "DpGB1z1Ehhyj"
      },
      "source": [
        "---\n",
        "> P-032: レシート明細データフレーム（df_receipt）の売上金額（amount）について、25％刻みでパーセンタイル値を求めよ。"
      ]
    },
    {
      "cell_type": "code",
      "metadata": {
        "trusted": false,
        "id": "JBG97d1yhhyk",
        "colab": {
          "base_uri": "https://localhost:8080/"
        },
        "outputId": "e88a94d1-1bfc-4930-e392-95bf16fa6dbe"
      },
      "source": [
        "#データを小さい順に並べた時、初めから数えて全体の100α%に位置する値を100αパーセンタイルという（0≦α≦1)。1/4分位数は25パーセンタイルと同じ。quantile()\n",
        "\n",
        "df_receiptP032 = df_receipt[\"amount\"].quantile([0, 0.25, 0.5, 0.75, 1.0])\n",
        "df_receiptP032\n",
        "\n",
        "#カメちゃんさん"
      ],
      "execution_count": 16,
      "outputs": [
        {
          "output_type": "execute_result",
          "data": {
            "text/plain": [
              "0.00       10.0\n",
              "0.25      102.0\n",
              "0.50      170.0\n",
              "0.75      288.0\n",
              "1.00    10925.0\n",
              "Name: amount, dtype: float64"
            ]
          },
          "metadata": {
            "tags": []
          },
          "execution_count": 16
        }
      ]
    },
    {
      "cell_type": "markdown",
      "metadata": {
        "id": "mYPLc_n4hhyl"
      },
      "source": [
        "---\n",
        "> P-033: レシート明細データフレーム（df_receipt）に対し、店舗コード（store_cd）ごとに売上金額（amount）の平均を計算し、330以上のものを抽出せよ。"
      ]
    },
    {
      "cell_type": "code",
      "metadata": {
        "trusted": false,
        "id": "mJsrgWhNhhym",
        "colab": {
          "base_uri": "https://localhost:8080/",
          "height": 483
        },
        "outputId": "e92df3c8-6d8d-4fb3-98ac-2455503d93c7"
      },
      "source": [
        "df_receiptP033=df_receipt.copy()\n",
        "df_receiptP033=df_receipt.groupby(\"store_cd\")[[\"amount\"]].mean()\n",
        "df_receiptP033[df_receiptP033[\"amount\"]>=330]"
      ],
      "execution_count": 17,
      "outputs": [
        {
          "output_type": "execute_result",
          "data": {
            "text/html": [
              "<div>\n",
              "<style scoped>\n",
              "    .dataframe tbody tr th:only-of-type {\n",
              "        vertical-align: middle;\n",
              "    }\n",
              "\n",
              "    .dataframe tbody tr th {\n",
              "        vertical-align: top;\n",
              "    }\n",
              "\n",
              "    .dataframe thead th {\n",
              "        text-align: right;\n",
              "    }\n",
              "</style>\n",
              "<table border=\"1\" class=\"dataframe\">\n",
              "  <thead>\n",
              "    <tr style=\"text-align: right;\">\n",
              "      <th></th>\n",
              "      <th>amount</th>\n",
              "    </tr>\n",
              "    <tr>\n",
              "      <th>store_cd</th>\n",
              "      <th></th>\n",
              "    </tr>\n",
              "  </thead>\n",
              "  <tbody>\n",
              "    <tr>\n",
              "      <th>S12013</th>\n",
              "      <td>330.194130</td>\n",
              "    </tr>\n",
              "    <tr>\n",
              "      <th>S13001</th>\n",
              "      <td>348.470386</td>\n",
              "    </tr>\n",
              "    <tr>\n",
              "      <th>S13003</th>\n",
              "      <td>350.915519</td>\n",
              "    </tr>\n",
              "    <tr>\n",
              "      <th>S13004</th>\n",
              "      <td>330.943949</td>\n",
              "    </tr>\n",
              "    <tr>\n",
              "      <th>S13015</th>\n",
              "      <td>351.111960</td>\n",
              "    </tr>\n",
              "    <tr>\n",
              "      <th>S13019</th>\n",
              "      <td>330.208616</td>\n",
              "    </tr>\n",
              "    <tr>\n",
              "      <th>S13020</th>\n",
              "      <td>337.879932</td>\n",
              "    </tr>\n",
              "    <tr>\n",
              "      <th>S13052</th>\n",
              "      <td>402.867470</td>\n",
              "    </tr>\n",
              "    <tr>\n",
              "      <th>S14010</th>\n",
              "      <td>348.791262</td>\n",
              "    </tr>\n",
              "    <tr>\n",
              "      <th>S14011</th>\n",
              "      <td>335.718333</td>\n",
              "    </tr>\n",
              "    <tr>\n",
              "      <th>S14026</th>\n",
              "      <td>332.340588</td>\n",
              "    </tr>\n",
              "    <tr>\n",
              "      <th>S14045</th>\n",
              "      <td>330.082073</td>\n",
              "    </tr>\n",
              "    <tr>\n",
              "      <th>S14047</th>\n",
              "      <td>330.077073</td>\n",
              "    </tr>\n",
              "  </tbody>\n",
              "</table>\n",
              "</div>"
            ],
            "text/plain": [
              "              amount\n",
              "store_cd            \n",
              "S12013    330.194130\n",
              "S13001    348.470386\n",
              "S13003    350.915519\n",
              "S13004    330.943949\n",
              "S13015    351.111960\n",
              "S13019    330.208616\n",
              "S13020    337.879932\n",
              "S13052    402.867470\n",
              "S14010    348.791262\n",
              "S14011    335.718333\n",
              "S14026    332.340588\n",
              "S14045    330.082073\n",
              "S14047    330.077073"
            ]
          },
          "metadata": {
            "tags": []
          },
          "execution_count": 17
        }
      ]
    },
    {
      "cell_type": "markdown",
      "metadata": {
        "id": "Wraz5peFhhyo"
      },
      "source": [
        "---\n",
        "> P-034: レシート明細データフレーム（df_receipt）に対し、顧客ID（customer_id）ごとに売上金額（amount）を合計して全顧客の平均を求めよ。ただし、顧客IDが\"Z\"から始まるのものは非会員を表すため、除外して計算すること。\n"
      ]
    },
    {
      "cell_type": "code",
      "metadata": {
        "trusted": false,
        "id": "hYgDnVGjhhyo",
        "colab": {
          "base_uri": "https://localhost:8080/",
          "height": 134
        },
        "outputId": "129f2385-8158-4508-dcd9-c552c314ef89"
      },
      "source": [
        "df_receiptP034=df_receipt.copy()\n",
        "df_receiptP034=df_receiptP034[~df_receiptP034[\"customer_id\"].str.match('[Z]+.*')\n",
        "df_receiptP034=df_receiptP034.reset_index()\n",
        "df_receiptP034=df_receiptP034.groupby(\"customer_id\")[[\"amount\"]].sum()\n",
        "df_receiptP034[\"amount\"].mean()\n",
        "\n",
        "#かめちゃんさん　３つに分けて実行\n",
        "df_receiptP034= df_receipt.groupby(\"customer_id\")[[\"amount\"]].sum()\n",
        "df_receiptP034.head()\n",
        "\n",
        "df_receiptP034 = df_receiptP034.reset_index()\n",
        "df_receiptP034 = df_receiptP034[~df_receiptP034[\"customer_id\"].str.startswith(\"Z\")]\n",
        "df_receiptP034.head()\n",
        "\n",
        "df_receiptP034[\"amount\"].mean()"
      ],
      "execution_count": 23,
      "outputs": [
        {
          "output_type": "error",
          "ename": "SyntaxError",
          "evalue": "ignored",
          "traceback": [
            "\u001b[0;36m  File \u001b[0;32m\"<ipython-input-23-5f984ee9e776>\"\u001b[0;36m, line \u001b[0;32m6\u001b[0m\n\u001b[0;31m    df_receiptP034[\"amount\"].mean()\u001b[0m\n\u001b[0m                 ^\u001b[0m\n\u001b[0;31mSyntaxError\u001b[0m\u001b[0;31m:\u001b[0m invalid syntax\n"
          ]
        }
      ]
    },
    {
      "cell_type": "markdown",
      "metadata": {
        "id": "h9E9b_yUhhyq"
      },
      "source": [
        "---\n",
        "> P-035: レシート明細データフレーム（df_receipt）に対し、顧客ID（customer_id）ごとに売上金額（amount）を合計して全顧客の平均を求め、平均以上に買い物をしている顧客を抽出せよ。ただし、顧客IDが\"Z\"から始まるのものは非会員を表すため、除外して計算すること。なお、データは10件だけ表示させれば良い。"
      ]
    },
    {
      "cell_type": "code",
      "metadata": {
        "trusted": false,
        "id": "7lYKkmsohhyq",
        "colab": {
          "base_uri": "https://localhost:8080/",
          "height": 204
        },
        "outputId": "cc3cc2e7-32c6-4472-e0b0-b5e28d1b1348"
      },
      "source": [
        "#かめちゃんさん　\n",
        "df_receiptP035= df_receipt.groupby(\"customer_id\")[[\"amount\"]].sum()\n",
        "df_receiptP035 = df_receiptP035.reset_index()\n",
        "df_receiptP035 = df_receiptP035[~df_receiptP035[\"customer_id\"].str.startswith(\"Z\")]\n",
        "df_receiptP035.head()"
      ],
      "execution_count": 24,
      "outputs": [
        {
          "output_type": "execute_result",
          "data": {
            "text/html": [
              "<div>\n",
              "<style scoped>\n",
              "    .dataframe tbody tr th:only-of-type {\n",
              "        vertical-align: middle;\n",
              "    }\n",
              "\n",
              "    .dataframe tbody tr th {\n",
              "        vertical-align: top;\n",
              "    }\n",
              "\n",
              "    .dataframe thead th {\n",
              "        text-align: right;\n",
              "    }\n",
              "</style>\n",
              "<table border=\"1\" class=\"dataframe\">\n",
              "  <thead>\n",
              "    <tr style=\"text-align: right;\">\n",
              "      <th></th>\n",
              "      <th>customer_id</th>\n",
              "      <th>amount</th>\n",
              "    </tr>\n",
              "  </thead>\n",
              "  <tbody>\n",
              "    <tr>\n",
              "      <th>0</th>\n",
              "      <td>CS001113000004</td>\n",
              "      <td>1298</td>\n",
              "    </tr>\n",
              "    <tr>\n",
              "      <th>1</th>\n",
              "      <td>CS001114000005</td>\n",
              "      <td>626</td>\n",
              "    </tr>\n",
              "    <tr>\n",
              "      <th>2</th>\n",
              "      <td>CS001115000010</td>\n",
              "      <td>3044</td>\n",
              "    </tr>\n",
              "    <tr>\n",
              "      <th>3</th>\n",
              "      <td>CS001205000004</td>\n",
              "      <td>1988</td>\n",
              "    </tr>\n",
              "    <tr>\n",
              "      <th>4</th>\n",
              "      <td>CS001205000006</td>\n",
              "      <td>3337</td>\n",
              "    </tr>\n",
              "  </tbody>\n",
              "</table>\n",
              "</div>"
            ],
            "text/plain": [
              "      customer_id  amount\n",
              "0  CS001113000004    1298\n",
              "1  CS001114000005     626\n",
              "2  CS001115000010    3044\n",
              "3  CS001205000004    1988\n",
              "4  CS001205000006    3337"
            ]
          },
          "metadata": {
            "tags": []
          },
          "execution_count": 24
        }
      ]
    },
    {
      "cell_type": "code",
      "metadata": {
        "colab": {
          "base_uri": "https://localhost:8080/"
        },
        "id": "hwZyWO2FCS9r",
        "outputId": "07f66228-f71c-4168-b850-e698f9d444c4"
      },
      "source": [
        "#かめちゃんさん　\n",
        "mean35 = df_receiptP035[\"amount\"].mean()\n",
        "mean35"
      ],
      "execution_count": 25,
      "outputs": [
        {
          "output_type": "execute_result",
          "data": {
            "text/plain": [
              "2547.742234529256"
            ]
          },
          "metadata": {
            "tags": []
          },
          "execution_count": 25
        }
      ]
    },
    {
      "cell_type": "code",
      "metadata": {
        "colab": {
          "base_uri": "https://localhost:8080/",
          "height": 359
        },
        "id": "N93mcY26CaCZ",
        "outputId": "949650d6-795a-42ef-c2ec-af481ed4a064"
      },
      "source": [
        "df_receiptP035[df_receiptP035[\"amount\"] > mean35].head(10)"
      ],
      "execution_count": 26,
      "outputs": [
        {
          "output_type": "execute_result",
          "data": {
            "text/html": [
              "<div>\n",
              "<style scoped>\n",
              "    .dataframe tbody tr th:only-of-type {\n",
              "        vertical-align: middle;\n",
              "    }\n",
              "\n",
              "    .dataframe tbody tr th {\n",
              "        vertical-align: top;\n",
              "    }\n",
              "\n",
              "    .dataframe thead th {\n",
              "        text-align: right;\n",
              "    }\n",
              "</style>\n",
              "<table border=\"1\" class=\"dataframe\">\n",
              "  <thead>\n",
              "    <tr style=\"text-align: right;\">\n",
              "      <th></th>\n",
              "      <th>customer_id</th>\n",
              "      <th>amount</th>\n",
              "    </tr>\n",
              "  </thead>\n",
              "  <tbody>\n",
              "    <tr>\n",
              "      <th>2</th>\n",
              "      <td>CS001115000010</td>\n",
              "      <td>3044</td>\n",
              "    </tr>\n",
              "    <tr>\n",
              "      <th>4</th>\n",
              "      <td>CS001205000006</td>\n",
              "      <td>3337</td>\n",
              "    </tr>\n",
              "    <tr>\n",
              "      <th>13</th>\n",
              "      <td>CS001214000009</td>\n",
              "      <td>4685</td>\n",
              "    </tr>\n",
              "    <tr>\n",
              "      <th>14</th>\n",
              "      <td>CS001214000017</td>\n",
              "      <td>4132</td>\n",
              "    </tr>\n",
              "    <tr>\n",
              "      <th>17</th>\n",
              "      <td>CS001214000052</td>\n",
              "      <td>5639</td>\n",
              "    </tr>\n",
              "    <tr>\n",
              "      <th>21</th>\n",
              "      <td>CS001215000040</td>\n",
              "      <td>3496</td>\n",
              "    </tr>\n",
              "    <tr>\n",
              "      <th>30</th>\n",
              "      <td>CS001304000006</td>\n",
              "      <td>3726</td>\n",
              "    </tr>\n",
              "    <tr>\n",
              "      <th>32</th>\n",
              "      <td>CS001305000005</td>\n",
              "      <td>3485</td>\n",
              "    </tr>\n",
              "    <tr>\n",
              "      <th>33</th>\n",
              "      <td>CS001305000011</td>\n",
              "      <td>4370</td>\n",
              "    </tr>\n",
              "    <tr>\n",
              "      <th>53</th>\n",
              "      <td>CS001315000180</td>\n",
              "      <td>3300</td>\n",
              "    </tr>\n",
              "  </tbody>\n",
              "</table>\n",
              "</div>"
            ],
            "text/plain": [
              "       customer_id  amount\n",
              "2   CS001115000010    3044\n",
              "4   CS001205000006    3337\n",
              "13  CS001214000009    4685\n",
              "14  CS001214000017    4132\n",
              "17  CS001214000052    5639\n",
              "21  CS001215000040    3496\n",
              "30  CS001304000006    3726\n",
              "32  CS001305000005    3485\n",
              "33  CS001305000011    4370\n",
              "53  CS001315000180    3300"
            ]
          },
          "metadata": {
            "tags": []
          },
          "execution_count": 26
        }
      ]
    },
    {
      "cell_type": "markdown",
      "metadata": {
        "id": "e4wFXsuLhhys"
      },
      "source": [
        "---\n",
        "> P-036: レシート明細データフレーム（df_receipt）と店舗データフレーム（df_store）を内部結合し、レシート明細データフレームの全項目と店舗データフレームの店舗名（store_name）を10件表示させよ。"
      ]
    },
    {
      "cell_type": "code",
      "metadata": {
        "trusted": false,
        "id": "n7p7o5sDhhys",
        "colab": {
          "base_uri": "https://localhost:8080/",
          "height": 204
        },
        "outputId": "0e678937-b79d-4d28-cb57-0dd34c46dc1d"
      },
      "source": [
        "df_receipt.head()"
      ],
      "execution_count": 27,
      "outputs": [
        {
          "output_type": "execute_result",
          "data": {
            "text/html": [
              "<div>\n",
              "<style scoped>\n",
              "    .dataframe tbody tr th:only-of-type {\n",
              "        vertical-align: middle;\n",
              "    }\n",
              "\n",
              "    .dataframe tbody tr th {\n",
              "        vertical-align: top;\n",
              "    }\n",
              "\n",
              "    .dataframe thead th {\n",
              "        text-align: right;\n",
              "    }\n",
              "</style>\n",
              "<table border=\"1\" class=\"dataframe\">\n",
              "  <thead>\n",
              "    <tr style=\"text-align: right;\">\n",
              "      <th></th>\n",
              "      <th>sales_ymd</th>\n",
              "      <th>sales_epoch</th>\n",
              "      <th>store_cd</th>\n",
              "      <th>receipt_no</th>\n",
              "      <th>receipt_sub_no</th>\n",
              "      <th>customer_id</th>\n",
              "      <th>product_cd</th>\n",
              "      <th>quantity</th>\n",
              "      <th>amount</th>\n",
              "    </tr>\n",
              "  </thead>\n",
              "  <tbody>\n",
              "    <tr>\n",
              "      <th>0</th>\n",
              "      <td>20181103</td>\n",
              "      <td>1541203200</td>\n",
              "      <td>S14006</td>\n",
              "      <td>112</td>\n",
              "      <td>1</td>\n",
              "      <td>CS006214000001</td>\n",
              "      <td>P070305012</td>\n",
              "      <td>1</td>\n",
              "      <td>158</td>\n",
              "    </tr>\n",
              "    <tr>\n",
              "      <th>1</th>\n",
              "      <td>20181118</td>\n",
              "      <td>1542499200</td>\n",
              "      <td>S13008</td>\n",
              "      <td>1132</td>\n",
              "      <td>2</td>\n",
              "      <td>CS008415000097</td>\n",
              "      <td>P070701017</td>\n",
              "      <td>1</td>\n",
              "      <td>81</td>\n",
              "    </tr>\n",
              "    <tr>\n",
              "      <th>2</th>\n",
              "      <td>20170712</td>\n",
              "      <td>1499817600</td>\n",
              "      <td>S14028</td>\n",
              "      <td>1102</td>\n",
              "      <td>1</td>\n",
              "      <td>CS028414000014</td>\n",
              "      <td>P060101005</td>\n",
              "      <td>1</td>\n",
              "      <td>170</td>\n",
              "    </tr>\n",
              "    <tr>\n",
              "      <th>3</th>\n",
              "      <td>20190205</td>\n",
              "      <td>1549324800</td>\n",
              "      <td>S14042</td>\n",
              "      <td>1132</td>\n",
              "      <td>1</td>\n",
              "      <td>ZZ000000000000</td>\n",
              "      <td>P050301001</td>\n",
              "      <td>1</td>\n",
              "      <td>25</td>\n",
              "    </tr>\n",
              "    <tr>\n",
              "      <th>4</th>\n",
              "      <td>20180821</td>\n",
              "      <td>1534809600</td>\n",
              "      <td>S14025</td>\n",
              "      <td>1102</td>\n",
              "      <td>2</td>\n",
              "      <td>CS025415000050</td>\n",
              "      <td>P060102007</td>\n",
              "      <td>1</td>\n",
              "      <td>90</td>\n",
              "    </tr>\n",
              "  </tbody>\n",
              "</table>\n",
              "</div>"
            ],
            "text/plain": [
              "   sales_ymd  sales_epoch store_cd  ...  product_cd  quantity amount\n",
              "0   20181103   1541203200   S14006  ...  P070305012         1    158\n",
              "1   20181118   1542499200   S13008  ...  P070701017         1     81\n",
              "2   20170712   1499817600   S14028  ...  P060101005         1    170\n",
              "3   20190205   1549324800   S14042  ...  P050301001         1     25\n",
              "4   20180821   1534809600   S14025  ...  P060102007         1     90\n",
              "\n",
              "[5 rows x 9 columns]"
            ]
          },
          "metadata": {
            "tags": []
          },
          "execution_count": 27
        }
      ]
    },
    {
      "cell_type": "code",
      "metadata": {
        "colab": {
          "base_uri": "https://localhost:8080/",
          "height": 374
        },
        "id": "V93hpr8UC8H5",
        "outputId": "8fc76073-1ed4-4d58-eb20-a9cc9430afcf"
      },
      "source": [
        "df_store.head()"
      ],
      "execution_count": 28,
      "outputs": [
        {
          "output_type": "execute_result",
          "data": {
            "text/html": [
              "<div>\n",
              "<style scoped>\n",
              "    .dataframe tbody tr th:only-of-type {\n",
              "        vertical-align: middle;\n",
              "    }\n",
              "\n",
              "    .dataframe tbody tr th {\n",
              "        vertical-align: top;\n",
              "    }\n",
              "\n",
              "    .dataframe thead th {\n",
              "        text-align: right;\n",
              "    }\n",
              "</style>\n",
              "<table border=\"1\" class=\"dataframe\">\n",
              "  <thead>\n",
              "    <tr style=\"text-align: right;\">\n",
              "      <th></th>\n",
              "      <th>store_cd</th>\n",
              "      <th>store_name</th>\n",
              "      <th>prefecture_cd</th>\n",
              "      <th>prefecture</th>\n",
              "      <th>address</th>\n",
              "      <th>address_kana</th>\n",
              "      <th>tel_no</th>\n",
              "      <th>longitude</th>\n",
              "      <th>latitude</th>\n",
              "      <th>floor_area</th>\n",
              "    </tr>\n",
              "  </thead>\n",
              "  <tbody>\n",
              "    <tr>\n",
              "      <th>0</th>\n",
              "      <td>S12014</td>\n",
              "      <td>千草台店</td>\n",
              "      <td>12</td>\n",
              "      <td>千葉県</td>\n",
              "      <td>千葉県千葉市稲毛区千草台一丁目</td>\n",
              "      <td>チバケンチバシイナゲクチグサダイイッチョウメ</td>\n",
              "      <td>043-123-4003</td>\n",
              "      <td>140.1180</td>\n",
              "      <td>35.63559</td>\n",
              "      <td>1698.0</td>\n",
              "    </tr>\n",
              "    <tr>\n",
              "      <th>1</th>\n",
              "      <td>S13002</td>\n",
              "      <td>国分寺店</td>\n",
              "      <td>13</td>\n",
              "      <td>東京都</td>\n",
              "      <td>東京都国分寺市本多二丁目</td>\n",
              "      <td>トウキョウトコクブンジシホンダニチョウメ</td>\n",
              "      <td>042-123-4008</td>\n",
              "      <td>139.4802</td>\n",
              "      <td>35.70566</td>\n",
              "      <td>1735.0</td>\n",
              "    </tr>\n",
              "    <tr>\n",
              "      <th>2</th>\n",
              "      <td>S14010</td>\n",
              "      <td>菊名店</td>\n",
              "      <td>14</td>\n",
              "      <td>神奈川県</td>\n",
              "      <td>神奈川県横浜市港北区菊名一丁目</td>\n",
              "      <td>カナガワケンヨコハマシコウホククキクナイッチョウメ</td>\n",
              "      <td>045-123-4032</td>\n",
              "      <td>139.6326</td>\n",
              "      <td>35.50049</td>\n",
              "      <td>1732.0</td>\n",
              "    </tr>\n",
              "    <tr>\n",
              "      <th>3</th>\n",
              "      <td>S14033</td>\n",
              "      <td>阿久和店</td>\n",
              "      <td>14</td>\n",
              "      <td>神奈川県</td>\n",
              "      <td>神奈川県横浜市瀬谷区阿久和西一丁目</td>\n",
              "      <td>カナガワケンヨコハマシセヤクアクワニシイッチョウメ</td>\n",
              "      <td>045-123-4043</td>\n",
              "      <td>139.4961</td>\n",
              "      <td>35.45918</td>\n",
              "      <td>1495.0</td>\n",
              "    </tr>\n",
              "    <tr>\n",
              "      <th>4</th>\n",
              "      <td>S14036</td>\n",
              "      <td>相模原中央店</td>\n",
              "      <td>14</td>\n",
              "      <td>神奈川県</td>\n",
              "      <td>神奈川県相模原市中央二丁目</td>\n",
              "      <td>カナガワケンサガミハラシチュウオウニチョウメ</td>\n",
              "      <td>042-123-4045</td>\n",
              "      <td>139.3716</td>\n",
              "      <td>35.57327</td>\n",
              "      <td>1679.0</td>\n",
              "    </tr>\n",
              "  </tbody>\n",
              "</table>\n",
              "</div>"
            ],
            "text/plain": [
              "  store_cd store_name  prefecture_cd  ... longitude  latitude floor_area\n",
              "0   S12014       千草台店             12  ...  140.1180  35.63559     1698.0\n",
              "1   S13002       国分寺店             13  ...  139.4802  35.70566     1735.0\n",
              "2   S14010        菊名店             14  ...  139.6326  35.50049     1732.0\n",
              "3   S14033       阿久和店             14  ...  139.4961  35.45918     1495.0\n",
              "4   S14036     相模原中央店             14  ...  139.3716  35.57327     1679.0\n",
              "\n",
              "[5 rows x 10 columns]"
            ]
          },
          "metadata": {
            "tags": []
          },
          "execution_count": 28
        }
      ]
    },
    {
      "cell_type": "code",
      "metadata": {
        "colab": {
          "base_uri": "https://localhost:8080/",
          "height": 1000
        },
        "id": "QEQXLyLfDEYz",
        "outputId": "3158df25-a9f4-4a89-c7c4-e6de35f89603"
      },
      "source": [
        "df_receiptP036=pd.merge(df_receipt,df_store,on=\"store_cd\")\n",
        "df_receiptP036.head(10)"
      ],
      "execution_count": 32,
      "outputs": [
        {
          "output_type": "execute_result",
          "data": {
            "text/html": [
              "<div>\n",
              "<style scoped>\n",
              "    .dataframe tbody tr th:only-of-type {\n",
              "        vertical-align: middle;\n",
              "    }\n",
              "\n",
              "    .dataframe tbody tr th {\n",
              "        vertical-align: top;\n",
              "    }\n",
              "\n",
              "    .dataframe thead th {\n",
              "        text-align: right;\n",
              "    }\n",
              "</style>\n",
              "<table border=\"1\" class=\"dataframe\">\n",
              "  <thead>\n",
              "    <tr style=\"text-align: right;\">\n",
              "      <th></th>\n",
              "      <th>sales_ymd</th>\n",
              "      <th>sales_epoch</th>\n",
              "      <th>store_cd</th>\n",
              "      <th>receipt_no</th>\n",
              "      <th>receipt_sub_no</th>\n",
              "      <th>customer_id</th>\n",
              "      <th>product_cd</th>\n",
              "      <th>quantity</th>\n",
              "      <th>amount</th>\n",
              "      <th>store_name</th>\n",
              "      <th>prefecture_cd</th>\n",
              "      <th>prefecture</th>\n",
              "      <th>address</th>\n",
              "      <th>address_kana</th>\n",
              "      <th>tel_no</th>\n",
              "      <th>longitude</th>\n",
              "      <th>latitude</th>\n",
              "      <th>floor_area</th>\n",
              "    </tr>\n",
              "  </thead>\n",
              "  <tbody>\n",
              "    <tr>\n",
              "      <th>0</th>\n",
              "      <td>20181103</td>\n",
              "      <td>1541203200</td>\n",
              "      <td>S14006</td>\n",
              "      <td>112</td>\n",
              "      <td>1</td>\n",
              "      <td>CS006214000001</td>\n",
              "      <td>P070305012</td>\n",
              "      <td>1</td>\n",
              "      <td>158</td>\n",
              "      <td>葛が谷店</td>\n",
              "      <td>14</td>\n",
              "      <td>神奈川県</td>\n",
              "      <td>神奈川県横浜市都筑区葛が谷</td>\n",
              "      <td>カナガワケンヨコハマシツヅキククズガヤ</td>\n",
              "      <td>045-123-4031</td>\n",
              "      <td>139.5633</td>\n",
              "      <td>35.53573</td>\n",
              "      <td>1886.0</td>\n",
              "    </tr>\n",
              "    <tr>\n",
              "      <th>1</th>\n",
              "      <td>20181116</td>\n",
              "      <td>1542326400</td>\n",
              "      <td>S14006</td>\n",
              "      <td>112</td>\n",
              "      <td>2</td>\n",
              "      <td>ZZ000000000000</td>\n",
              "      <td>P080401001</td>\n",
              "      <td>1</td>\n",
              "      <td>48</td>\n",
              "      <td>葛が谷店</td>\n",
              "      <td>14</td>\n",
              "      <td>神奈川県</td>\n",
              "      <td>神奈川県横浜市都筑区葛が谷</td>\n",
              "      <td>カナガワケンヨコハマシツヅキククズガヤ</td>\n",
              "      <td>045-123-4031</td>\n",
              "      <td>139.5633</td>\n",
              "      <td>35.53573</td>\n",
              "      <td>1886.0</td>\n",
              "    </tr>\n",
              "    <tr>\n",
              "      <th>2</th>\n",
              "      <td>20170118</td>\n",
              "      <td>1484697600</td>\n",
              "      <td>S14006</td>\n",
              "      <td>1162</td>\n",
              "      <td>1</td>\n",
              "      <td>CS006815000006</td>\n",
              "      <td>P050406035</td>\n",
              "      <td>1</td>\n",
              "      <td>220</td>\n",
              "      <td>葛が谷店</td>\n",
              "      <td>14</td>\n",
              "      <td>神奈川県</td>\n",
              "      <td>神奈川県横浜市都筑区葛が谷</td>\n",
              "      <td>カナガワケンヨコハマシツヅキククズガヤ</td>\n",
              "      <td>045-123-4031</td>\n",
              "      <td>139.5633</td>\n",
              "      <td>35.53573</td>\n",
              "      <td>1886.0</td>\n",
              "    </tr>\n",
              "    <tr>\n",
              "      <th>3</th>\n",
              "      <td>20190524</td>\n",
              "      <td>1558656000</td>\n",
              "      <td>S14006</td>\n",
              "      <td>1192</td>\n",
              "      <td>1</td>\n",
              "      <td>CS006514000034</td>\n",
              "      <td>P060104003</td>\n",
              "      <td>1</td>\n",
              "      <td>80</td>\n",
              "      <td>葛が谷店</td>\n",
              "      <td>14</td>\n",
              "      <td>神奈川県</td>\n",
              "      <td>神奈川県横浜市都筑区葛が谷</td>\n",
              "      <td>カナガワケンヨコハマシツヅキククズガヤ</td>\n",
              "      <td>045-123-4031</td>\n",
              "      <td>139.5633</td>\n",
              "      <td>35.53573</td>\n",
              "      <td>1886.0</td>\n",
              "    </tr>\n",
              "    <tr>\n",
              "      <th>4</th>\n",
              "      <td>20190419</td>\n",
              "      <td>1555632000</td>\n",
              "      <td>S14006</td>\n",
              "      <td>112</td>\n",
              "      <td>2</td>\n",
              "      <td>ZZ000000000000</td>\n",
              "      <td>P060501002</td>\n",
              "      <td>1</td>\n",
              "      <td>148</td>\n",
              "      <td>葛が谷店</td>\n",
              "      <td>14</td>\n",
              "      <td>神奈川県</td>\n",
              "      <td>神奈川県横浜市都筑区葛が谷</td>\n",
              "      <td>カナガワケンヨコハマシツヅキククズガヤ</td>\n",
              "      <td>045-123-4031</td>\n",
              "      <td>139.5633</td>\n",
              "      <td>35.53573</td>\n",
              "      <td>1886.0</td>\n",
              "    </tr>\n",
              "    <tr>\n",
              "      <th>5</th>\n",
              "      <td>20181119</td>\n",
              "      <td>1542585600</td>\n",
              "      <td>S14006</td>\n",
              "      <td>1152</td>\n",
              "      <td>2</td>\n",
              "      <td>ZZ000000000000</td>\n",
              "      <td>P050701001</td>\n",
              "      <td>1</td>\n",
              "      <td>88</td>\n",
              "      <td>葛が谷店</td>\n",
              "      <td>14</td>\n",
              "      <td>神奈川県</td>\n",
              "      <td>神奈川県横浜市都筑区葛が谷</td>\n",
              "      <td>カナガワケンヨコハマシツヅキククズガヤ</td>\n",
              "      <td>045-123-4031</td>\n",
              "      <td>139.5633</td>\n",
              "      <td>35.53573</td>\n",
              "      <td>1886.0</td>\n",
              "    </tr>\n",
              "    <tr>\n",
              "      <th>6</th>\n",
              "      <td>20171211</td>\n",
              "      <td>1512950400</td>\n",
              "      <td>S14006</td>\n",
              "      <td>1132</td>\n",
              "      <td>2</td>\n",
              "      <td>CS006515000175</td>\n",
              "      <td>P090903001</td>\n",
              "      <td>1</td>\n",
              "      <td>80</td>\n",
              "      <td>葛が谷店</td>\n",
              "      <td>14</td>\n",
              "      <td>神奈川県</td>\n",
              "      <td>神奈川県横浜市都筑区葛が谷</td>\n",
              "      <td>カナガワケンヨコハマシツヅキククズガヤ</td>\n",
              "      <td>045-123-4031</td>\n",
              "      <td>139.5633</td>\n",
              "      <td>35.53573</td>\n",
              "      <td>1886.0</td>\n",
              "    </tr>\n",
              "    <tr>\n",
              "      <th>7</th>\n",
              "      <td>20191021</td>\n",
              "      <td>1571616000</td>\n",
              "      <td>S14006</td>\n",
              "      <td>1112</td>\n",
              "      <td>2</td>\n",
              "      <td>CS006415000221</td>\n",
              "      <td>P040602001</td>\n",
              "      <td>1</td>\n",
              "      <td>405</td>\n",
              "      <td>葛が谷店</td>\n",
              "      <td>14</td>\n",
              "      <td>神奈川県</td>\n",
              "      <td>神奈川県横浜市都筑区葛が谷</td>\n",
              "      <td>カナガワケンヨコハマシツヅキククズガヤ</td>\n",
              "      <td>045-123-4031</td>\n",
              "      <td>139.5633</td>\n",
              "      <td>35.53573</td>\n",
              "      <td>1886.0</td>\n",
              "    </tr>\n",
              "    <tr>\n",
              "      <th>8</th>\n",
              "      <td>20170710</td>\n",
              "      <td>1499644800</td>\n",
              "      <td>S14006</td>\n",
              "      <td>1132</td>\n",
              "      <td>2</td>\n",
              "      <td>CS006411000036</td>\n",
              "      <td>P090301051</td>\n",
              "      <td>1</td>\n",
              "      <td>330</td>\n",
              "      <td>葛が谷店</td>\n",
              "      <td>14</td>\n",
              "      <td>神奈川県</td>\n",
              "      <td>神奈川県横浜市都筑区葛が谷</td>\n",
              "      <td>カナガワケンヨコハマシツヅキククズガヤ</td>\n",
              "      <td>045-123-4031</td>\n",
              "      <td>139.5633</td>\n",
              "      <td>35.53573</td>\n",
              "      <td>1886.0</td>\n",
              "    </tr>\n",
              "    <tr>\n",
              "      <th>9</th>\n",
              "      <td>20190805</td>\n",
              "      <td>1564963200</td>\n",
              "      <td>S14006</td>\n",
              "      <td>112</td>\n",
              "      <td>1</td>\n",
              "      <td>CS006211000012</td>\n",
              "      <td>P050104001</td>\n",
              "      <td>1</td>\n",
              "      <td>115</td>\n",
              "      <td>葛が谷店</td>\n",
              "      <td>14</td>\n",
              "      <td>神奈川県</td>\n",
              "      <td>神奈川県横浜市都筑区葛が谷</td>\n",
              "      <td>カナガワケンヨコハマシツヅキククズガヤ</td>\n",
              "      <td>045-123-4031</td>\n",
              "      <td>139.5633</td>\n",
              "      <td>35.53573</td>\n",
              "      <td>1886.0</td>\n",
              "    </tr>\n",
              "  </tbody>\n",
              "</table>\n",
              "</div>"
            ],
            "text/plain": [
              "   sales_ymd  sales_epoch store_cd  ...  longitude  latitude floor_area\n",
              "0   20181103   1541203200   S14006  ...   139.5633  35.53573     1886.0\n",
              "1   20181116   1542326400   S14006  ...   139.5633  35.53573     1886.0\n",
              "2   20170118   1484697600   S14006  ...   139.5633  35.53573     1886.0\n",
              "3   20190524   1558656000   S14006  ...   139.5633  35.53573     1886.0\n",
              "4   20190419   1555632000   S14006  ...   139.5633  35.53573     1886.0\n",
              "5   20181119   1542585600   S14006  ...   139.5633  35.53573     1886.0\n",
              "6   20171211   1512950400   S14006  ...   139.5633  35.53573     1886.0\n",
              "7   20191021   1571616000   S14006  ...   139.5633  35.53573     1886.0\n",
              "8   20170710   1499644800   S14006  ...   139.5633  35.53573     1886.0\n",
              "9   20190805   1564963200   S14006  ...   139.5633  35.53573     1886.0\n",
              "\n",
              "[10 rows x 18 columns]"
            ]
          },
          "metadata": {
            "tags": []
          },
          "execution_count": 32
        }
      ]
    },
    {
      "cell_type": "code",
      "metadata": {
        "colab": {
          "base_uri": "https://localhost:8080/"
        },
        "id": "O9UTfofvGFtg",
        "outputId": "1921ca7d-1b01-4ba7-90b8-f1eed19d54f4"
      },
      "source": [
        "#かめちゃんさん\n",
        "columns_list36 = list(df_receipt.columns.values) + [\"store_name\"]\n",
        "columns_list36"
      ],
      "execution_count": 33,
      "outputs": [
        {
          "output_type": "execute_result",
          "data": {
            "text/plain": [
              "['sales_ymd',\n",
              " 'sales_epoch',\n",
              " 'store_cd',\n",
              " 'receipt_no',\n",
              " 'receipt_sub_no',\n",
              " 'customer_id',\n",
              " 'product_cd',\n",
              " 'quantity',\n",
              " 'amount',\n",
              " 'store_name']"
            ]
          },
          "metadata": {
            "tags": []
          },
          "execution_count": 33
        }
      ]
    },
    {
      "cell_type": "code",
      "metadata": {
        "colab": {
          "base_uri": "https://localhost:8080/",
          "height": 379
        },
        "id": "3aOE61DjGX5-",
        "outputId": "16019912-aad7-49a4-84e5-61c1b6fe2305"
      },
      "source": [
        "df_receiptP036[columns_list36].head(10)\n",
        "\n",
        "#ししさん\n",
        "#pd.merge(df36_receipt,df36_store[[\"store_cd\",\"store_name\"]],on=\"store_cd\").head(10)"
      ],
      "execution_count": 35,
      "outputs": [
        {
          "output_type": "execute_result",
          "data": {
            "text/html": [
              "<div>\n",
              "<style scoped>\n",
              "    .dataframe tbody tr th:only-of-type {\n",
              "        vertical-align: middle;\n",
              "    }\n",
              "\n",
              "    .dataframe tbody tr th {\n",
              "        vertical-align: top;\n",
              "    }\n",
              "\n",
              "    .dataframe thead th {\n",
              "        text-align: right;\n",
              "    }\n",
              "</style>\n",
              "<table border=\"1\" class=\"dataframe\">\n",
              "  <thead>\n",
              "    <tr style=\"text-align: right;\">\n",
              "      <th></th>\n",
              "      <th>sales_ymd</th>\n",
              "      <th>sales_epoch</th>\n",
              "      <th>store_cd</th>\n",
              "      <th>receipt_no</th>\n",
              "      <th>receipt_sub_no</th>\n",
              "      <th>customer_id</th>\n",
              "      <th>product_cd</th>\n",
              "      <th>quantity</th>\n",
              "      <th>amount</th>\n",
              "      <th>store_name</th>\n",
              "    </tr>\n",
              "  </thead>\n",
              "  <tbody>\n",
              "    <tr>\n",
              "      <th>0</th>\n",
              "      <td>20181103</td>\n",
              "      <td>1541203200</td>\n",
              "      <td>S14006</td>\n",
              "      <td>112</td>\n",
              "      <td>1</td>\n",
              "      <td>CS006214000001</td>\n",
              "      <td>P070305012</td>\n",
              "      <td>1</td>\n",
              "      <td>158</td>\n",
              "      <td>葛が谷店</td>\n",
              "    </tr>\n",
              "    <tr>\n",
              "      <th>1</th>\n",
              "      <td>20181116</td>\n",
              "      <td>1542326400</td>\n",
              "      <td>S14006</td>\n",
              "      <td>112</td>\n",
              "      <td>2</td>\n",
              "      <td>ZZ000000000000</td>\n",
              "      <td>P080401001</td>\n",
              "      <td>1</td>\n",
              "      <td>48</td>\n",
              "      <td>葛が谷店</td>\n",
              "    </tr>\n",
              "    <tr>\n",
              "      <th>2</th>\n",
              "      <td>20170118</td>\n",
              "      <td>1484697600</td>\n",
              "      <td>S14006</td>\n",
              "      <td>1162</td>\n",
              "      <td>1</td>\n",
              "      <td>CS006815000006</td>\n",
              "      <td>P050406035</td>\n",
              "      <td>1</td>\n",
              "      <td>220</td>\n",
              "      <td>葛が谷店</td>\n",
              "    </tr>\n",
              "    <tr>\n",
              "      <th>3</th>\n",
              "      <td>20190524</td>\n",
              "      <td>1558656000</td>\n",
              "      <td>S14006</td>\n",
              "      <td>1192</td>\n",
              "      <td>1</td>\n",
              "      <td>CS006514000034</td>\n",
              "      <td>P060104003</td>\n",
              "      <td>1</td>\n",
              "      <td>80</td>\n",
              "      <td>葛が谷店</td>\n",
              "    </tr>\n",
              "    <tr>\n",
              "      <th>4</th>\n",
              "      <td>20190419</td>\n",
              "      <td>1555632000</td>\n",
              "      <td>S14006</td>\n",
              "      <td>112</td>\n",
              "      <td>2</td>\n",
              "      <td>ZZ000000000000</td>\n",
              "      <td>P060501002</td>\n",
              "      <td>1</td>\n",
              "      <td>148</td>\n",
              "      <td>葛が谷店</td>\n",
              "    </tr>\n",
              "    <tr>\n",
              "      <th>5</th>\n",
              "      <td>20181119</td>\n",
              "      <td>1542585600</td>\n",
              "      <td>S14006</td>\n",
              "      <td>1152</td>\n",
              "      <td>2</td>\n",
              "      <td>ZZ000000000000</td>\n",
              "      <td>P050701001</td>\n",
              "      <td>1</td>\n",
              "      <td>88</td>\n",
              "      <td>葛が谷店</td>\n",
              "    </tr>\n",
              "    <tr>\n",
              "      <th>6</th>\n",
              "      <td>20171211</td>\n",
              "      <td>1512950400</td>\n",
              "      <td>S14006</td>\n",
              "      <td>1132</td>\n",
              "      <td>2</td>\n",
              "      <td>CS006515000175</td>\n",
              "      <td>P090903001</td>\n",
              "      <td>1</td>\n",
              "      <td>80</td>\n",
              "      <td>葛が谷店</td>\n",
              "    </tr>\n",
              "    <tr>\n",
              "      <th>7</th>\n",
              "      <td>20191021</td>\n",
              "      <td>1571616000</td>\n",
              "      <td>S14006</td>\n",
              "      <td>1112</td>\n",
              "      <td>2</td>\n",
              "      <td>CS006415000221</td>\n",
              "      <td>P040602001</td>\n",
              "      <td>1</td>\n",
              "      <td>405</td>\n",
              "      <td>葛が谷店</td>\n",
              "    </tr>\n",
              "    <tr>\n",
              "      <th>8</th>\n",
              "      <td>20170710</td>\n",
              "      <td>1499644800</td>\n",
              "      <td>S14006</td>\n",
              "      <td>1132</td>\n",
              "      <td>2</td>\n",
              "      <td>CS006411000036</td>\n",
              "      <td>P090301051</td>\n",
              "      <td>1</td>\n",
              "      <td>330</td>\n",
              "      <td>葛が谷店</td>\n",
              "    </tr>\n",
              "    <tr>\n",
              "      <th>9</th>\n",
              "      <td>20190805</td>\n",
              "      <td>1564963200</td>\n",
              "      <td>S14006</td>\n",
              "      <td>112</td>\n",
              "      <td>1</td>\n",
              "      <td>CS006211000012</td>\n",
              "      <td>P050104001</td>\n",
              "      <td>1</td>\n",
              "      <td>115</td>\n",
              "      <td>葛が谷店</td>\n",
              "    </tr>\n",
              "  </tbody>\n",
              "</table>\n",
              "</div>"
            ],
            "text/plain": [
              "   sales_ymd  sales_epoch store_cd  ...  quantity  amount store_name\n",
              "0   20181103   1541203200   S14006  ...         1     158       葛が谷店\n",
              "1   20181116   1542326400   S14006  ...         1      48       葛が谷店\n",
              "2   20170118   1484697600   S14006  ...         1     220       葛が谷店\n",
              "3   20190524   1558656000   S14006  ...         1      80       葛が谷店\n",
              "4   20190419   1555632000   S14006  ...         1     148       葛が谷店\n",
              "5   20181119   1542585600   S14006  ...         1      88       葛が谷店\n",
              "6   20171211   1512950400   S14006  ...         1      80       葛が谷店\n",
              "7   20191021   1571616000   S14006  ...         1     405       葛が谷店\n",
              "8   20170710   1499644800   S14006  ...         1     330       葛が谷店\n",
              "9   20190805   1564963200   S14006  ...         1     115       葛が谷店\n",
              "\n",
              "[10 rows x 10 columns]"
            ]
          },
          "metadata": {
            "tags": []
          },
          "execution_count": 35
        }
      ]
    },
    {
      "cell_type": "markdown",
      "metadata": {
        "id": "8TdeNEn_hhyu"
      },
      "source": [
        "---\n",
        "> P-037: 商品データフレーム（df_product）とカテゴリデータフレーム（df_category）を内部結合し、商品データフレームの全項目とカテゴリデータフレームの小区分名（category_small_name）を10件表示させよ。"
      ]
    },
    {
      "cell_type": "code",
      "metadata": {
        "trusted": false,
        "id": "J20VBcmxhhyu",
        "colab": {
          "base_uri": "https://localhost:8080/",
          "height": 204
        },
        "outputId": "c6953506-8723-4b7a-fbc3-69899ef0d964"
      },
      "source": [
        "#ししさん\n",
        "df37_p=df_product.copy()\n",
        "df37_c=df_category.copy()\n",
        "df37_p.head()"
      ],
      "execution_count": 36,
      "outputs": [
        {
          "output_type": "execute_result",
          "data": {
            "text/html": [
              "<div>\n",
              "<style scoped>\n",
              "    .dataframe tbody tr th:only-of-type {\n",
              "        vertical-align: middle;\n",
              "    }\n",
              "\n",
              "    .dataframe tbody tr th {\n",
              "        vertical-align: top;\n",
              "    }\n",
              "\n",
              "    .dataframe thead th {\n",
              "        text-align: right;\n",
              "    }\n",
              "</style>\n",
              "<table border=\"1\" class=\"dataframe\">\n",
              "  <thead>\n",
              "    <tr style=\"text-align: right;\">\n",
              "      <th></th>\n",
              "      <th>product_cd</th>\n",
              "      <th>category_major_cd</th>\n",
              "      <th>category_medium_cd</th>\n",
              "      <th>category_small_cd</th>\n",
              "      <th>unit_price</th>\n",
              "      <th>unit_cost</th>\n",
              "    </tr>\n",
              "  </thead>\n",
              "  <tbody>\n",
              "    <tr>\n",
              "      <th>0</th>\n",
              "      <td>P040101001</td>\n",
              "      <td>4</td>\n",
              "      <td>401</td>\n",
              "      <td>40101</td>\n",
              "      <td>198.0</td>\n",
              "      <td>149.0</td>\n",
              "    </tr>\n",
              "    <tr>\n",
              "      <th>1</th>\n",
              "      <td>P040101002</td>\n",
              "      <td>4</td>\n",
              "      <td>401</td>\n",
              "      <td>40101</td>\n",
              "      <td>218.0</td>\n",
              "      <td>164.0</td>\n",
              "    </tr>\n",
              "    <tr>\n",
              "      <th>2</th>\n",
              "      <td>P040101003</td>\n",
              "      <td>4</td>\n",
              "      <td>401</td>\n",
              "      <td>40101</td>\n",
              "      <td>230.0</td>\n",
              "      <td>173.0</td>\n",
              "    </tr>\n",
              "    <tr>\n",
              "      <th>3</th>\n",
              "      <td>P040101004</td>\n",
              "      <td>4</td>\n",
              "      <td>401</td>\n",
              "      <td>40101</td>\n",
              "      <td>248.0</td>\n",
              "      <td>186.0</td>\n",
              "    </tr>\n",
              "    <tr>\n",
              "      <th>4</th>\n",
              "      <td>P040101005</td>\n",
              "      <td>4</td>\n",
              "      <td>401</td>\n",
              "      <td>40101</td>\n",
              "      <td>268.0</td>\n",
              "      <td>201.0</td>\n",
              "    </tr>\n",
              "  </tbody>\n",
              "</table>\n",
              "</div>"
            ],
            "text/plain": [
              "   product_cd  category_major_cd  ...  unit_price  unit_cost\n",
              "0  P040101001                  4  ...       198.0      149.0\n",
              "1  P040101002                  4  ...       218.0      164.0\n",
              "2  P040101003                  4  ...       230.0      173.0\n",
              "3  P040101004                  4  ...       248.0      186.0\n",
              "4  P040101005                  4  ...       268.0      201.0\n",
              "\n",
              "[5 rows x 6 columns]"
            ]
          },
          "metadata": {
            "tags": []
          },
          "execution_count": 36
        }
      ]
    },
    {
      "cell_type": "code",
      "metadata": {
        "colab": {
          "base_uri": "https://localhost:8080/",
          "height": 224
        },
        "id": "gZjBs3QeKhRU",
        "outputId": "044f3036-6edb-4bed-d71d-f30d1c0990da"
      },
      "source": [
        "df37_c.head()"
      ],
      "execution_count": 37,
      "outputs": [
        {
          "output_type": "execute_result",
          "data": {
            "text/html": [
              "<div>\n",
              "<style scoped>\n",
              "    .dataframe tbody tr th:only-of-type {\n",
              "        vertical-align: middle;\n",
              "    }\n",
              "\n",
              "    .dataframe tbody tr th {\n",
              "        vertical-align: top;\n",
              "    }\n",
              "\n",
              "    .dataframe thead th {\n",
              "        text-align: right;\n",
              "    }\n",
              "</style>\n",
              "<table border=\"1\" class=\"dataframe\">\n",
              "  <thead>\n",
              "    <tr style=\"text-align: right;\">\n",
              "      <th></th>\n",
              "      <th>category_major_cd</th>\n",
              "      <th>category_major_name</th>\n",
              "      <th>category_medium_cd</th>\n",
              "      <th>category_medium_name</th>\n",
              "      <th>category_small_cd</th>\n",
              "      <th>category_small_name</th>\n",
              "    </tr>\n",
              "  </thead>\n",
              "  <tbody>\n",
              "    <tr>\n",
              "      <th>0</th>\n",
              "      <td>4</td>\n",
              "      <td>惣菜</td>\n",
              "      <td>401</td>\n",
              "      <td>御飯類</td>\n",
              "      <td>40101</td>\n",
              "      <td>弁当類</td>\n",
              "    </tr>\n",
              "    <tr>\n",
              "      <th>1</th>\n",
              "      <td>4</td>\n",
              "      <td>惣菜</td>\n",
              "      <td>401</td>\n",
              "      <td>御飯類</td>\n",
              "      <td>40102</td>\n",
              "      <td>寿司類</td>\n",
              "    </tr>\n",
              "    <tr>\n",
              "      <th>2</th>\n",
              "      <td>4</td>\n",
              "      <td>惣菜</td>\n",
              "      <td>402</td>\n",
              "      <td>佃煮類</td>\n",
              "      <td>40201</td>\n",
              "      <td>魚介佃煮類</td>\n",
              "    </tr>\n",
              "    <tr>\n",
              "      <th>3</th>\n",
              "      <td>4</td>\n",
              "      <td>惣菜</td>\n",
              "      <td>402</td>\n",
              "      <td>佃煮類</td>\n",
              "      <td>40202</td>\n",
              "      <td>海草佃煮類</td>\n",
              "    </tr>\n",
              "    <tr>\n",
              "      <th>4</th>\n",
              "      <td>4</td>\n",
              "      <td>惣菜</td>\n",
              "      <td>402</td>\n",
              "      <td>佃煮類</td>\n",
              "      <td>40203</td>\n",
              "      <td>野菜佃煮類</td>\n",
              "    </tr>\n",
              "  </tbody>\n",
              "</table>\n",
              "</div>"
            ],
            "text/plain": [
              "   category_major_cd category_major_name  ...  category_small_cd category_small_name\n",
              "0                  4                  惣菜  ...              40101                 弁当類\n",
              "1                  4                  惣菜  ...              40102                 寿司類\n",
              "2                  4                  惣菜  ...              40201               魚介佃煮類\n",
              "3                  4                  惣菜  ...              40202               海草佃煮類\n",
              "4                  4                  惣菜  ...              40203               野菜佃煮類\n",
              "\n",
              "[5 rows x 6 columns]"
            ]
          },
          "metadata": {
            "tags": []
          },
          "execution_count": 37
        }
      ]
    },
    {
      "cell_type": "code",
      "metadata": {
        "colab": {
          "base_uri": "https://localhost:8080/",
          "height": 379
        },
        "id": "S8rHzixbKnB2",
        "outputId": "b90162ce-9f53-4f2f-b102-988fbd7fdb03"
      },
      "source": [
        "pd.merge(df37_p,df37_c[[\"category_small_cd\",\"category_small_name\"]],on=\"category_small_cd\").head(10)"
      ],
      "execution_count": 38,
      "outputs": [
        {
          "output_type": "execute_result",
          "data": {
            "text/html": [
              "<div>\n",
              "<style scoped>\n",
              "    .dataframe tbody tr th:only-of-type {\n",
              "        vertical-align: middle;\n",
              "    }\n",
              "\n",
              "    .dataframe tbody tr th {\n",
              "        vertical-align: top;\n",
              "    }\n",
              "\n",
              "    .dataframe thead th {\n",
              "        text-align: right;\n",
              "    }\n",
              "</style>\n",
              "<table border=\"1\" class=\"dataframe\">\n",
              "  <thead>\n",
              "    <tr style=\"text-align: right;\">\n",
              "      <th></th>\n",
              "      <th>product_cd</th>\n",
              "      <th>category_major_cd</th>\n",
              "      <th>category_medium_cd</th>\n",
              "      <th>category_small_cd</th>\n",
              "      <th>unit_price</th>\n",
              "      <th>unit_cost</th>\n",
              "      <th>category_small_name</th>\n",
              "    </tr>\n",
              "  </thead>\n",
              "  <tbody>\n",
              "    <tr>\n",
              "      <th>0</th>\n",
              "      <td>P040101001</td>\n",
              "      <td>4</td>\n",
              "      <td>401</td>\n",
              "      <td>40101</td>\n",
              "      <td>198.0</td>\n",
              "      <td>149.0</td>\n",
              "      <td>弁当類</td>\n",
              "    </tr>\n",
              "    <tr>\n",
              "      <th>1</th>\n",
              "      <td>P040101002</td>\n",
              "      <td>4</td>\n",
              "      <td>401</td>\n",
              "      <td>40101</td>\n",
              "      <td>218.0</td>\n",
              "      <td>164.0</td>\n",
              "      <td>弁当類</td>\n",
              "    </tr>\n",
              "    <tr>\n",
              "      <th>2</th>\n",
              "      <td>P040101003</td>\n",
              "      <td>4</td>\n",
              "      <td>401</td>\n",
              "      <td>40101</td>\n",
              "      <td>230.0</td>\n",
              "      <td>173.0</td>\n",
              "      <td>弁当類</td>\n",
              "    </tr>\n",
              "    <tr>\n",
              "      <th>3</th>\n",
              "      <td>P040101004</td>\n",
              "      <td>4</td>\n",
              "      <td>401</td>\n",
              "      <td>40101</td>\n",
              "      <td>248.0</td>\n",
              "      <td>186.0</td>\n",
              "      <td>弁当類</td>\n",
              "    </tr>\n",
              "    <tr>\n",
              "      <th>4</th>\n",
              "      <td>P040101005</td>\n",
              "      <td>4</td>\n",
              "      <td>401</td>\n",
              "      <td>40101</td>\n",
              "      <td>268.0</td>\n",
              "      <td>201.0</td>\n",
              "      <td>弁当類</td>\n",
              "    </tr>\n",
              "    <tr>\n",
              "      <th>5</th>\n",
              "      <td>P040101006</td>\n",
              "      <td>4</td>\n",
              "      <td>401</td>\n",
              "      <td>40101</td>\n",
              "      <td>298.0</td>\n",
              "      <td>224.0</td>\n",
              "      <td>弁当類</td>\n",
              "    </tr>\n",
              "    <tr>\n",
              "      <th>6</th>\n",
              "      <td>P040101007</td>\n",
              "      <td>4</td>\n",
              "      <td>401</td>\n",
              "      <td>40101</td>\n",
              "      <td>338.0</td>\n",
              "      <td>254.0</td>\n",
              "      <td>弁当類</td>\n",
              "    </tr>\n",
              "    <tr>\n",
              "      <th>7</th>\n",
              "      <td>P040101008</td>\n",
              "      <td>4</td>\n",
              "      <td>401</td>\n",
              "      <td>40101</td>\n",
              "      <td>420.0</td>\n",
              "      <td>315.0</td>\n",
              "      <td>弁当類</td>\n",
              "    </tr>\n",
              "    <tr>\n",
              "      <th>8</th>\n",
              "      <td>P040101009</td>\n",
              "      <td>4</td>\n",
              "      <td>401</td>\n",
              "      <td>40101</td>\n",
              "      <td>498.0</td>\n",
              "      <td>374.0</td>\n",
              "      <td>弁当類</td>\n",
              "    </tr>\n",
              "    <tr>\n",
              "      <th>9</th>\n",
              "      <td>P040101010</td>\n",
              "      <td>4</td>\n",
              "      <td>401</td>\n",
              "      <td>40101</td>\n",
              "      <td>580.0</td>\n",
              "      <td>435.0</td>\n",
              "      <td>弁当類</td>\n",
              "    </tr>\n",
              "  </tbody>\n",
              "</table>\n",
              "</div>"
            ],
            "text/plain": [
              "   product_cd  category_major_cd  ...  unit_cost  category_small_name\n",
              "0  P040101001                  4  ...      149.0                  弁当類\n",
              "1  P040101002                  4  ...      164.0                  弁当類\n",
              "2  P040101003                  4  ...      173.0                  弁当類\n",
              "3  P040101004                  4  ...      186.0                  弁当類\n",
              "4  P040101005                  4  ...      201.0                  弁当類\n",
              "5  P040101006                  4  ...      224.0                  弁当類\n",
              "6  P040101007                  4  ...      254.0                  弁当類\n",
              "7  P040101008                  4  ...      315.0                  弁当類\n",
              "8  P040101009                  4  ...      374.0                  弁当類\n",
              "9  P040101010                  4  ...      435.0                  弁当類\n",
              "\n",
              "[10 rows x 7 columns]"
            ]
          },
          "metadata": {
            "tags": []
          },
          "execution_count": 38
        }
      ]
    },
    {
      "cell_type": "code",
      "metadata": {
        "id": "TWYktTTvK0p1"
      },
      "source": [
        "#かめちゃんさん　５つに分けて実行\n",
        "\n",
        "df_product.columns\n",
        "\n",
        "df_category.columns\n",
        "\n",
        "df37 = pd.merge(df_product, df_category, on=[\"category_major_cd\", \"category_medium_cd\", \"category_small_cd\"])\n",
        "df37.head()\n",
        "\n",
        "columns_list37 = list(df_product.columns.values) + [\"category_small_name\"]\n",
        "columns_list37\n",
        "\n",
        "df37[columns_list37].head(10)"
      ],
      "execution_count": null,
      "outputs": []
    },
    {
      "cell_type": "markdown",
      "metadata": {
        "id": "iNO7ESvWhhyw"
      },
      "source": [
        "---\n",
        "> P-038: 顧客データフレーム（df_customer）とレシート明細データフレーム（df_receipt）から、各顧客ごとの売上金額合計を求めよ。ただし、買い物の実績がない顧客については売上金額を0として表示させること。また、顧客は性別コード（gender_cd）が女性（1）であるものを対象とし、非会員（顧客IDが'Z'から始まるもの）は除外すること。なお、結果は10件だけ表示させれば良い。"
      ]
    },
    {
      "cell_type": "code",
      "metadata": {
        "trusted": false,
        "id": "hmc6LUaEhhyw"
      },
      "source": [
        "#カメちゃんさん　５つに分けて実行\n",
        "\n",
        "df_customer.head()\n",
        "\n",
        "df_receipt[df_receipt[\"customer_id\"].str.startswith(\"Z\")].head()\n",
        "\n",
        "df_receipt.head()\n",
        "\n",
        "df38= pd.merge(df_receipt, df_customer, on=\"customer_id\", how='left')\n",
        "df38 = df38[(df38[\"gender_cd\"] == 1) & (~df38[\"customer_id\"].str.startswith(\"Z\"))]\n",
        "df38 = df38.fillna({\"amount\": 0})\n",
        "df38.head()\n",
        "\n",
        "df38_sum = df38.groupby(\"customer_id\")[[\"amount\"]].sum()\n",
        "df38_sum.head(10)\n"
      ],
      "execution_count": null,
      "outputs": []
    },
    {
      "cell_type": "markdown",
      "metadata": {
        "id": "O8FU3doGhhyy"
      },
      "source": [
        "---\n",
        "> P-039: レシート明細データフレーム（df_receipt）から売上日数の多い顧客の上位20件と、売上金額合計の多い顧客の上位20件を抽出し、完全外部結合せよ。ただし、非会員（顧客IDが'Z'から始まるもの）は除外すること。"
      ]
    },
    {
      "cell_type": "code",
      "metadata": {
        "trusted": false,
        "id": "Av7SadgPhhyy"
      },
      "source": [
        "#ししさん\n",
        "df39_r = df_receipt.copy()\n",
        "\n",
        "df39_day_cnt= df39_r[~df39_r[\"customer_id\"].str.startswith(\"Z\")].groupby(\"customer_id\")[\"sales_ymd\"].count().head(20)\n",
        "\n",
        "df39_sales_amount = df39_r[~df39_r[\"customer_id\"].str.startswith(\"Z\")].groupby(\"customer_id\")[\"amount\"].sum().head(20)\n",
        "\n",
        "pd.merge(df39_day_cnt,df39_sales_amount,how=\"outer\",on=\"customer_id\")\n",
        "\n",
        "#カメちゃんさん\n",
        "df39 = df_receipt[~df_receipt[\"customer_id\"].str.startswith(\"Z\")]\n",
        "\n",
        "df39_day = df39.groupby(\"customer_id\")[[\"sales_ymd\"]].count()\n",
        "df39_day = df39_day.sort_values(\"sales_ymd\", ascending=False).head(20)\n",
        "df39_day.head()\n",
        "\n",
        "df39_pay = df39.groupby(\"customer_id\")[[\"amount\"]].sum()\n",
        "df39_pay = df39_pay.sort_values(\"amount\", ascending=False).head(20)\n",
        "df39_pay.head()\n",
        "\n",
        "df39_merge = pd.merge(df39_day, df39_pay, on=\"customer_id\", how=\"outer\")\n",
        "df39_merge = df39_merge.fillna({\"amount\":0})\n",
        "df39_merge"
      ],
      "execution_count": null,
      "outputs": []
    },
    {
      "cell_type": "markdown",
      "metadata": {
        "id": "pcu3GCH9hhyz"
      },
      "source": [
        "---\n",
        "> P-040: 全ての店舗と全ての商品を組み合わせると何件のデータとなるか調査したい。店舗（df_store）と商品（df_product）を直積した件数を計算せよ。"
      ]
    },
    {
      "cell_type": "code",
      "metadata": {
        "trusted": false,
        "id": "d_jUSaS3hhyz",
        "colab": {
          "base_uri": "https://localhost:8080/"
        },
        "outputId": "2f57cabe-f83c-4eca-ac7b-a27b90dcc669"
      },
      "source": [
        "len(df_product) * len(df_store)"
      ],
      "execution_count": 39,
      "outputs": [
        {
          "output_type": "execute_result",
          "data": {
            "text/plain": [
              "531590"
            ]
          },
          "metadata": {
            "tags": []
          },
          "execution_count": 39
        }
      ]
    },
    {
      "cell_type": "markdown",
      "metadata": {
        "id": "qbPipL0Hhhy1"
      },
      "source": [
        "---\n",
        "> P-041: レシート明細データフレーム（df_receipt）の売上金額（amount）を日付（sales_ymd）ごとに集計し、前日からの売上金額増減を計算せよ。なお、計算結果は10件表示すればよい。"
      ]
    },
    {
      "cell_type": "code",
      "metadata": {
        "trusted": false,
        "id": "SvVN53Kehhy2"
      },
      "source": [
        "#カメちゃんさん\n",
        "df41 = df_receipt.groupby(\"sales_ymd\")[[\"amount\"]].sum()\n",
        "df41 = df41.sort_index()\n",
        "df41[\"yesterday\"] = df41[[\"amount\"]].shift(-1)\n",
        "df41[\"change_amount\"] = df41[\"yesterday\"] - df41[\"amount\"]\n",
        "df41.head(10)"
      ],
      "execution_count": null,
      "outputs": []
    },
    {
      "cell_type": "markdown",
      "metadata": {
        "id": "PNUVk5Dmhhy3"
      },
      "source": [
        "---\n",
        "> P-042: レシート明細データフレーム（df_receipt）の売上金額（amount）を日付（sales_ymd）ごとに集計し、各日付のデータに対し、１日前、２日前、３日前のデータを結合せよ。結果は10件表示すればよい。"
      ]
    },
    {
      "cell_type": "code",
      "metadata": {
        "trusted": false,
        "id": "LE_foOoUhhy4"
      },
      "source": [
        "#かめちゃんさん\n",
        "df42 = df_receipt.groupby(\"sales_ymd\")[[\"amount\"]].sum()\n",
        "df42 = df42.sort_index()\n",
        "df42[\"ago_1\"] = df42[[\"amount\"]].shift(-1)\n",
        "df42[\"ago_2\"] = df42[[\"amount\"]].shift(-2)\n",
        "df42[\"ago_3\"] = df42[[\"amount\"]].shift(-3)\n",
        "df42.head(10)"
      ],
      "execution_count": null,
      "outputs": []
    },
    {
      "cell_type": "markdown",
      "metadata": {
        "id": "uEnwKvWbhhy5"
      },
      "source": [
        "---\n",
        "> P-043： レシート明細データフレーム（df_receipt）と顧客データフレーム（df_customer）を結合し、性別（gender）と年代（ageから計算）ごとに売上金額（amount）を合計した売上サマリデータフレーム（df_sales_summary）を作成せよ。性別は0が男性、1が女性、9が不明を表すものとする。\n",
        ">\n",
        "> ただし、項目構成は年代、女性の売上金額、男性の売上金額、性別不明の売上金額の4項目とすること（縦に年代、横に性別のクロス集計）。また、年代は10歳ごとの階級とすること。"
      ]
    },
    {
      "cell_type": "code",
      "metadata": {
        "trusted": false,
        "id": "a2wSKTmIhhy6"
      },
      "source": [
        "#かめちゃんさん\n",
        "df43 = pd.merge(df_receipt, df_customer, on=\"customer_id\")\n",
        "df43.head()\n",
        "\n",
        "def get_generation(age):\n",
        "  return int(age // 10) * 10\n",
        "\n",
        "df43[\"generation\"] = df43[\"age\"].apply(get_generation)\n",
        "df_sales_summary = df43.groupby([\"gender\", \"generation\"])[[\"amount\"]].sum()\n",
        "df_sales_summary = df_sales_summary.reset_index()\n",
        "df_sales_summary.tail()\n",
        "\n",
        "df43_ans = pd.crosstab(df_sales_summary[\"generation\"], df_sales_summary[\"gender\"] ,df_sales_summary[\"amount\"], aggfunc=\"sum\")\n",
        "df43_ans\n",
        "\n",
        "#ゆかりおさん\n",
        "df_tmp = pd.merge(df_receipt, df_customer, how ='inner', on=\"customer_id\")\n",
        "df_tmp['era'] = df_tmp['age'].apply(lambda x: math.floor(x / 10) * 10)\n",
        "df_sales_summary = pd.pivot_table(df_tmp, index='era', columns='gender_cd', values='amount', aggfunc='sum').reset_index()\n",
        "df_sales_summary.columns = ['era', 'male', 'female', 'unknown']\n",
        "df_sales_summary"
      ],
      "execution_count": null,
      "outputs": []
    },
    {
      "cell_type": "markdown",
      "metadata": {
        "id": "PIC95tKMhhy8"
      },
      "source": [
        "---\n",
        "> P-044： 前設問で作成した売上サマリデータフレーム（df_sales_summary）は性別の売上を横持ちさせたものであった。このデータフレームから性別を縦持ちさせ、年代、性別コード、売上金額の3項目に変換せよ。ただし、性別コードは男性を'00'、女性を'01'、不明を'99'とする。"
      ]
    },
    {
      "cell_type": "code",
      "metadata": {
        "trusted": false,
        "id": "TMKQe8F5hhy8"
      },
      "source": [
        "#かめちゃんさん\n",
        "df44 = pd.merge(df_receipt, df_customer, on=\"customer_id\")\n",
        "df44[\"generation\"] = df44[\"age\"].apply(get_generation)\n",
        "#df44.head()\n",
        "df_sales_summary44 = df44.groupby([\"gender_cd\",\"gender\", \"generation\"])[[\"amount\"]].sum()\n",
        "df_sales_summary44 = df_sales_summary44.reset_index()\n",
        "df_sales_summary44.head()\n",
        "\n",
        "#df44_ans = pd.crosstab(df_sales_summary44[\"gender\"], [df_sales_summary44[\"gender_cd\"], df_sales_summary44[\"generation\"]] ,df_sales_summary44[\"amount\"], aggfunc=\"sum\")\n",
        "df44_ans = pd.crosstab(df_sales_summary44[\"gender\"], df_sales_summary44[\"generation\"] ,df_sales_summary44[\"amount\"], aggfunc=\"sum\")\n",
        "df44_ans"
      ],
      "execution_count": null,
      "outputs": []
    },
    {
      "cell_type": "markdown",
      "metadata": {
        "id": "L29i1r0Nhhy9"
      },
      "source": [
        "---\n",
        "> P-045: 顧客データフレーム（df_customer）の生年月日（birth_day）は日付型（Date）でデータを保有している。これをYYYYMMDD形式の文字列に変換し、顧客ID（customer_id）とともに抽出せよ。データは10件を抽出すれば良い。"
      ]
    },
    {
      "cell_type": "code",
      "metadata": {
        "trusted": false,
        "id": "t2t7rJCWhhy9"
      },
      "source": [
        "#かめちゃんさん\n",
        "df_customer.head()\n",
        "\n",
        "df45[\"birth_day\"].head()\n",
        "\n",
        "df45 = df_customer.copy()\n",
        "df45[\"birth_day\"] = pd.to_datetime(df45[\"birth_day\"], format=\"%Y-%m-%d\")\n",
        "df45[\"birth_day\"] = df45[\"birth_day\"].dt.\n",
        "df45.head()"
      ],
      "execution_count": null,
      "outputs": []
    },
    {
      "cell_type": "markdown",
      "metadata": {
        "id": "umDmd8kohhzA"
      },
      "source": [
        "---\n",
        "> P-046: 顧客データフレーム（df_customer）の申し込み日（application_date）はYYYYMMD形式の文字列型でデータを保有している。これを日付型（dateやdatetime）に変換し、顧客ID（customer_id）とともに抽出せよ。データは10件を抽出すれば良い。"
      ]
    },
    {
      "cell_type": "code",
      "metadata": {
        "trusted": false,
        "id": "pVAxV-TWhhzA"
      },
      "source": [
        ""
      ],
      "execution_count": null,
      "outputs": []
    },
    {
      "cell_type": "markdown",
      "metadata": {
        "id": "lbc058iGhhzC"
      },
      "source": [
        "---\n",
        "> P-047: レシート明細データフレーム（df_receipt）の売上日（sales_ymd）はYYYYMMDD形式の数値型でデータを保有している。これを日付型（dateやdatetime）に変換し、レシート番号(receipt_no)、レシートサブ番号（receipt_sub_no）とともに抽出せよ。データは10件を抽出すれば良い。"
      ]
    },
    {
      "cell_type": "code",
      "metadata": {
        "trusted": false,
        "id": "-StgxCNyhhzC"
      },
      "source": [
        ""
      ],
      "execution_count": null,
      "outputs": []
    },
    {
      "cell_type": "markdown",
      "metadata": {
        "id": "ohZn7QSihhzD"
      },
      "source": [
        "---\n",
        "> P-048: レシート明細データフレーム（df_receipt）の売上エポック秒（sales_epoch）は数値型のUNIX秒でデータを保有している。これを日付型（dateやdatetime）に変換し、レシート番号(receipt_no)、レシートサブ番号（receipt_sub_no）とともに抽出せよ。データは10件を抽出すれば良い。"
      ]
    },
    {
      "cell_type": "code",
      "metadata": {
        "trusted": false,
        "id": "Y-aq0twKhhzD"
      },
      "source": [
        ""
      ],
      "execution_count": null,
      "outputs": []
    },
    {
      "cell_type": "markdown",
      "metadata": {
        "id": "GfUYeJaFhhzE"
      },
      "source": [
        "---\n",
        "> P-049: レシート明細データフレーム（df_receipt）の売上エポック秒（sales_epoch）を日付型（timestamp型）に変換し、\"年\"だけ取り出してレシート番号(receipt_no)、レシートサブ番号（receipt_sub_no）とともに抽出せよ。データは10件を抽出すれば良い。"
      ]
    },
    {
      "cell_type": "code",
      "metadata": {
        "trusted": false,
        "id": "C72RHYAThhzE"
      },
      "source": [
        ""
      ],
      "execution_count": null,
      "outputs": []
    },
    {
      "cell_type": "markdown",
      "metadata": {
        "id": "wiogoJ-8hhzF"
      },
      "source": [
        "---\n",
        "> P-050: レシート明細データフレーム（df_receipt）の売上エポック秒（sales_epoch）を日付型（timestamp型）に変換し、\"月\"だけ取り出してレシート番号(receipt_no)、レシートサブ番号（receipt_sub_no）とともに抽出せよ。なお、\"月\"は0埋め2桁で取り出すこと。データは10件を抽出すれば良い。"
      ]
    },
    {
      "cell_type": "code",
      "metadata": {
        "trusted": false,
        "id": "Dx9OH1LNhhzG"
      },
      "source": [
        ""
      ],
      "execution_count": null,
      "outputs": []
    },
    {
      "cell_type": "markdown",
      "metadata": {
        "id": "8JT6_Cu-hhzH"
      },
      "source": [
        "---\n",
        "> P-051: レシート明細データフレーム（df_receipt）の売上エポック秒（sales_epoch）を日付型（timestamp型）に変換し、\"日\"だけ取り出してレシート番号(receipt_no)、レシートサブ番号（receipt_sub_no）とともに抽出せよ。なお、\"日\"は0埋め2桁で取り出すこと。データは10件を抽出すれば良い。"
      ]
    },
    {
      "cell_type": "code",
      "metadata": {
        "trusted": false,
        "id": "6A7WIWLhhhzH"
      },
      "source": [
        ""
      ],
      "execution_count": null,
      "outputs": []
    },
    {
      "cell_type": "markdown",
      "metadata": {
        "id": "OGXY-uRrhhzI"
      },
      "source": [
        "---\n",
        "> P-052: レシート明細データフレーム（df_receipt）の売上金額（amount）を顧客ID（customer_id）ごとに合計の上、売上金額合計に対して2000円以下を0、2000円超を1に2値化し、顧客ID、売上金額合計とともに10件表示せよ。ただし、顧客IDが\"Z\"から始まるのものは非会員を表すため、除外して計算すること。"
      ]
    },
    {
      "cell_type": "code",
      "metadata": {
        "trusted": false,
        "id": "rQvmUUolhhzJ"
      },
      "source": [
        ""
      ],
      "execution_count": null,
      "outputs": []
    },
    {
      "cell_type": "markdown",
      "metadata": {
        "id": "ZtGCQePGhhzK"
      },
      "source": [
        "---\n",
        "> P-053: 顧客データフレーム（df_customer）の郵便番号（postal_cd）に対し、東京（先頭3桁が100〜209のもの）を1、それ以外のものを0に２値化せよ。さらにレシート明細データフレーム（df_receipt）と結合し、全期間において買い物実績のある顧客数を、作成した2値ごとにカウントせよ。"
      ]
    },
    {
      "cell_type": "code",
      "metadata": {
        "trusted": false,
        "id": "8NZw1hv2hhzK"
      },
      "source": [
        ""
      ],
      "execution_count": null,
      "outputs": []
    },
    {
      "cell_type": "markdown",
      "metadata": {
        "id": "HHPGETlfhhzL"
      },
      "source": [
        "---\n",
        "> P-054: 顧客データデータフレーム（df_customer）の住所（address）は、埼玉県、千葉県、東京都、神奈川県のいずれかとなっている。都道府県毎にコード値を作成し、顧客ID、住所とともに抽出せよ。値は埼玉県を11、千葉県を12、東京都を13、神奈川県を14とすること。結果は10件表示させれば良い。"
      ]
    },
    {
      "cell_type": "code",
      "metadata": {
        "trusted": false,
        "id": "r4hjSRMohhzL"
      },
      "source": [
        ""
      ],
      "execution_count": null,
      "outputs": []
    },
    {
      "cell_type": "markdown",
      "metadata": {
        "id": "0Gr2RKrrhhzM"
      },
      "source": [
        "---\n",
        "> P-055: レシート明細データフレーム（df_receipt）の売上金額（amount）を顧客ID（customer_id）ごとに合計し、その合計金額の四分位点を求めよ。その上で、顧客ごとの売上金額合計に対して以下の基準でカテゴリ値を作成し、顧客ID、売上金額と合計ともに表示せよ。カテゴリ値は上から順に1〜4とする。結果は10件表示させれば良い。\n",
        ">\n",
        "> - 最小値以上第一四分位未満\n",
        "> - 第一四分位以上第二四分位未満\n",
        "> - 第二四分位以上第三四分位未満\n",
        "> - 第三四分位以上"
      ]
    },
    {
      "cell_type": "code",
      "metadata": {
        "trusted": false,
        "id": "g-o-bHSzhhzM"
      },
      "source": [
        ""
      ],
      "execution_count": null,
      "outputs": []
    },
    {
      "cell_type": "markdown",
      "metadata": {
        "id": "X3_-P1ahhhzN"
      },
      "source": [
        "---\n",
        "> P-056: 顧客データフレーム（df_customer）の年齢（age）をもとに10歳刻みで年代を算出し、顧客ID（customer_id）、生年月日（birth_day）とともに抽出せよ。ただし、60歳以上は全て60歳代とすること。年代を表すカテゴリ名は任意とする。先頭10件を表示させればよい。"
      ]
    },
    {
      "cell_type": "code",
      "metadata": {
        "trusted": false,
        "id": "p4xXkwzhhhzN"
      },
      "source": [
        ""
      ],
      "execution_count": null,
      "outputs": []
    },
    {
      "cell_type": "markdown",
      "metadata": {
        "id": "b_I_dEsdhhzP"
      },
      "source": [
        "---\n",
        "> P-057: 前問題の抽出結果と性別（gender）を組み合わせ、新たに性別×年代の組み合わせを表すカテゴリデータを作成せよ。組み合わせを表すカテゴリの値は任意とする。先頭10件を表示させればよい。"
      ]
    },
    {
      "cell_type": "code",
      "metadata": {
        "trusted": false,
        "id": "zz-TCEbChhzP"
      },
      "source": [
        ""
      ],
      "execution_count": null,
      "outputs": []
    },
    {
      "cell_type": "markdown",
      "metadata": {
        "id": "oJZe2WQ3hhzQ"
      },
      "source": [
        "---\n",
        "> P-058: 顧客データフレーム（df_customer）の性別コード（gender_cd）をダミー変数化し、顧客ID（customer_id）とともに抽出せよ。結果は10件表示させれば良い。"
      ]
    },
    {
      "cell_type": "code",
      "metadata": {
        "trusted": false,
        "id": "pm-akNNrhhzQ"
      },
      "source": [
        ""
      ],
      "execution_count": null,
      "outputs": []
    },
    {
      "cell_type": "markdown",
      "metadata": {
        "id": "_rIF1D4RhhzR"
      },
      "source": [
        "---\n",
        "> P-059: レシート明細データフレーム（df_receipt）の売上金額（amount）を顧客ID（customer_id）ごとに合計し、合計した売上金額を平均0、標準偏差1に標準化して顧客ID、売上金額合計とともに表示せよ。標準化に使用する標準偏差は、不偏標準偏差と標本標準偏差のどちらでも良いものとする。ただし、顧客IDが\"Z\"から始まるのものは非会員を表すため、除外して計算すること。結果は10件表示させれば良い。"
      ]
    },
    {
      "cell_type": "code",
      "metadata": {
        "trusted": false,
        "id": "hgU77tJWhhzR"
      },
      "source": [
        ""
      ],
      "execution_count": null,
      "outputs": []
    },
    {
      "cell_type": "markdown",
      "metadata": {
        "id": "--LbbUHGhhzT"
      },
      "source": [
        "---\n",
        "> P-060: レシート明細データフレーム（df_receipt）の売上金額（amount）を顧客ID（customer_id）ごとに合計し、合計した売上金額を最小値0、最大値1に正規化して顧客ID、売上金額合計とともに表示せよ。ただし、顧客IDが\"Z\"から始まるのものは非会員を表すため、除外して計算すること。結果は10件表示させれば良い。"
      ]
    },
    {
      "cell_type": "code",
      "metadata": {
        "trusted": false,
        "id": "RIfNz58jhhzT"
      },
      "source": [
        ""
      ],
      "execution_count": null,
      "outputs": []
    },
    {
      "cell_type": "markdown",
      "metadata": {
        "id": "9v_q6BLjhhzU"
      },
      "source": [
        "---\n",
        "> P-061: レシート明細データフレーム（df_receipt）の売上金額（amount）を顧客ID（customer_id）ごとに合計し、合計した売上金額を常用対数化（底=10）して顧客ID、売上金額合計とともに表示せよ。ただし、顧客IDが\"Z\"から始まるのものは非会員を表すため、除外して計算すること。結果は10件表示させれば良い。"
      ]
    },
    {
      "cell_type": "code",
      "metadata": {
        "trusted": false,
        "id": "d5_2HQ-2hhzU"
      },
      "source": [
        ""
      ],
      "execution_count": null,
      "outputs": []
    },
    {
      "cell_type": "markdown",
      "metadata": {
        "id": "uYepDUW5hhzV"
      },
      "source": [
        "---\n",
        "> P-062: レシート明細データフレーム（df_receipt）の売上金額（amount）を顧客ID（customer_id）ごとに合計し、合計した売上金額を自然対数化(底=e）して顧客ID、売上金額合計とともに表示せよ。ただし、顧客IDが\"Z\"から始まるのものは非会員を表すため、除外して計算すること。結果は10件表示させれば良い。"
      ]
    },
    {
      "cell_type": "code",
      "metadata": {
        "trusted": false,
        "id": "aqDDlXmEhhzV"
      },
      "source": [
        ""
      ],
      "execution_count": null,
      "outputs": []
    },
    {
      "cell_type": "markdown",
      "metadata": {
        "id": "JrQz7vUxhhzW"
      },
      "source": [
        "---\n",
        "> P-063: 商品データフレーム（df_product）の単価（unit_price）と原価（unit_cost）から、各商品の利益額を算出せよ。結果は10件表示させれば良い。"
      ]
    },
    {
      "cell_type": "code",
      "metadata": {
        "trusted": false,
        "id": "AEzRXedrhhzX"
      },
      "source": [
        ""
      ],
      "execution_count": null,
      "outputs": []
    },
    {
      "cell_type": "markdown",
      "metadata": {
        "id": "dA3_mEIghhzY"
      },
      "source": [
        "---\n",
        "> P-064: 商品データフレーム（df_product）の単価（unit_price）と原価（unit_cost）から、各商品の利益率の全体平均を算出せよ。\n",
        "ただし、単価と原価にはNULLが存在することに注意せよ。"
      ]
    },
    {
      "cell_type": "code",
      "metadata": {
        "trusted": false,
        "id": "tVmogEBBhhzY"
      },
      "source": [
        ""
      ],
      "execution_count": null,
      "outputs": []
    },
    {
      "cell_type": "markdown",
      "metadata": {
        "id": "jQowqYLWhhzZ"
      },
      "source": [
        "---\n",
        "> P-065: 商品データフレーム（df_product）の各商品について、利益率が30%となる新たな単価を求めよ。ただし、1円未満は切り捨てること。そして結果を10件表示させ、利益率がおよそ30％付近であることを確認せよ。ただし、単価（unit_price）と原価（unit_cost）にはNULLが存在することに注意せよ。"
      ]
    },
    {
      "cell_type": "code",
      "metadata": {
        "trusted": false,
        "id": "fSPVlHxthhzZ"
      },
      "source": [
        ""
      ],
      "execution_count": null,
      "outputs": []
    },
    {
      "cell_type": "markdown",
      "metadata": {
        "id": "Tj7mplJihhza"
      },
      "source": [
        "---\n",
        "> P-066: 商品データフレーム（df_product）の各商品について、利益率が30%となる新たな単価を求めよ。今回は、1円未満を四捨五入すること（0.5については偶数方向の丸めで良い）。そして結果を10件表示させ、利益率がおよそ30％付近であることを確認せよ。ただし、単価（unit_price）と原価（unit_cost）にはNULLが存在することに注意せよ。"
      ]
    },
    {
      "cell_type": "code",
      "metadata": {
        "trusted": false,
        "id": "gC81Fp6ehhza"
      },
      "source": [
        ""
      ],
      "execution_count": null,
      "outputs": []
    },
    {
      "cell_type": "markdown",
      "metadata": {
        "id": "xxce_R6bhhzb"
      },
      "source": [
        "---\n",
        "> P-067: 商品データフレーム（df_product）の各商品について、利益率が30%となる新たな単価を求めよ。今回は、1円未満を切り上げること。そして結果を10件表示させ、利益率がおよそ30％付近であることを確認せよ。ただし、単価（unit_price）と原価（unit_cost）にはNULLが存在することに注意せよ。"
      ]
    },
    {
      "cell_type": "code",
      "metadata": {
        "trusted": false,
        "id": "3rMUdEF6hhzb"
      },
      "source": [
        ""
      ],
      "execution_count": null,
      "outputs": []
    },
    {
      "cell_type": "markdown",
      "metadata": {
        "id": "CnpgvfPThhzd"
      },
      "source": [
        "---\n",
        "> P-068: 商品データフレーム（df_product）の各商品について、消費税率10%の税込み金額を求めよ。 1円未満の端数は切り捨てとし、結果は10件表示すれば良い。ただし、単価（unit_price）にはNULLが存在することに注意せよ。"
      ]
    },
    {
      "cell_type": "code",
      "metadata": {
        "trusted": false,
        "id": "pAlTEkKHhhzd"
      },
      "source": [
        ""
      ],
      "execution_count": null,
      "outputs": []
    },
    {
      "cell_type": "markdown",
      "metadata": {
        "id": "zEABVDKXhhze"
      },
      "source": [
        "---\n",
        "> P-069: レシート明細データフレーム（df_receipt）と商品データフレーム（df_product）を結合し、顧客毎に全商品の売上金額合計と、カテゴリ大区分（category_major_cd）が\"07\"（瓶詰缶詰）の売上金額合計を計算の上、両者の比率を求めよ。抽出対象はカテゴリ大区分\"07\"（瓶詰缶詰）の購入実績がある顧客のみとし、結果は10件表示させればよい。"
      ]
    },
    {
      "cell_type": "code",
      "metadata": {
        "trusted": false,
        "id": "FL33wGUMhhze"
      },
      "source": [
        ""
      ],
      "execution_count": null,
      "outputs": []
    },
    {
      "cell_type": "markdown",
      "metadata": {
        "id": "ZEAiLMTShhzf"
      },
      "source": [
        "---\n",
        "> P-070: レシート明細データフレーム（df_receipt）の売上日（sales_ymd）に対し、顧客データフレーム（df_customer）の会員申込日（application_date）からの経過日数を計算し、顧客ID（customer_id）、売上日、会員申込日とともに表示せよ。結果は10件表示させれば良い（なお、sales_ymdは数値、application_dateは文字列でデータを保持している点に注意）。"
      ]
    },
    {
      "cell_type": "code",
      "metadata": {
        "trusted": false,
        "id": "kvzQzXuShhzf"
      },
      "source": [
        ""
      ],
      "execution_count": null,
      "outputs": []
    },
    {
      "cell_type": "markdown",
      "metadata": {
        "id": "HsMXQZXshhzg"
      },
      "source": [
        "---\n",
        "> P-071: レシート明細データフレーム（df_receipt）の売上日（sales_ymd）に対し、顧客データフレーム（df_customer）の会員申込日（application_date）からの経過月数を計算し、顧客ID（customer_id）、売上日、会員申込日とともに表示せよ。結果は10件表示させれば良い（なお、sales_ymdは数値、application_dateは文字列でデータを保持している点に注意）。1ヶ月未満は切り捨てること。"
      ]
    },
    {
      "cell_type": "code",
      "metadata": {
        "trusted": false,
        "id": "go_c1NKxhhzh"
      },
      "source": [
        ""
      ],
      "execution_count": null,
      "outputs": []
    },
    {
      "cell_type": "markdown",
      "metadata": {
        "id": "uRcwkWA6hhzi"
      },
      "source": [
        "---\n",
        "> P-072: レシート明細データフレーム（df_receipt）の売上日（sales_ymd）に対し、顧客データフレーム（df_customer）の会員申込日（application_date）からの経過年数を計算し、顧客ID（customer_id）、売上日、会員申込日とともに表示せよ。結果は10件表示させれば良い。（なお、sales_ymdは数値、application_dateは文字列でデータを保持している点に注意）。1年未満は切り捨てること。"
      ]
    },
    {
      "cell_type": "code",
      "metadata": {
        "trusted": false,
        "id": "Z5-u-KYhhhzi"
      },
      "source": [
        ""
      ],
      "execution_count": null,
      "outputs": []
    },
    {
      "cell_type": "markdown",
      "metadata": {
        "id": "-PsOPZZBhhzj"
      },
      "source": [
        "---\n",
        "> P-073: レシート明細データフレーム（df_receipt）の売上日（sales_ymd）に対し、顧客データフレーム（df_customer）の会員申込日（application_date）からのエポック秒による経過時間を計算し、顧客ID（customer_id）、売上日、会員申込日とともに表示せよ。結果は10件表示させれば良い（なお、sales_ymdは数値、application_dateは文字列でデータを保持している点に注意）。なお、時間情報は保有していないため各日付は0時0分0秒を表すものとする。"
      ]
    },
    {
      "cell_type": "code",
      "metadata": {
        "trusted": false,
        "id": "vUrvuOBfhhzj"
      },
      "source": [
        ""
      ],
      "execution_count": null,
      "outputs": []
    },
    {
      "cell_type": "markdown",
      "metadata": {
        "id": "u_8UNALZhhzk"
      },
      "source": [
        "---\n",
        "> P-074: レシート明細データフレーム（df_receipt）の売上日（sales_ymd）に対し、当該週の月曜日からの経過日数を計算し、売上日、当該週の月曜日付とともに表示せよ。結果は10件表示させれば良い（なお、sales_ymdは数値でデータを保持している点に注意）。"
      ]
    },
    {
      "cell_type": "code",
      "metadata": {
        "trusted": false,
        "id": "mCtL5g4mhhzk"
      },
      "source": [
        ""
      ],
      "execution_count": null,
      "outputs": []
    },
    {
      "cell_type": "markdown",
      "metadata": {
        "id": "2Jxo_7quhhzl"
      },
      "source": [
        "---\n",
        "> P-075: 顧客データフレーム（df_customer）からランダムに1%のデータを抽出し、先頭から10件データを抽出せよ。"
      ]
    },
    {
      "cell_type": "code",
      "metadata": {
        "trusted": false,
        "id": "IlLf0t38hhzl"
      },
      "source": [
        ""
      ],
      "execution_count": null,
      "outputs": []
    },
    {
      "cell_type": "markdown",
      "metadata": {
        "id": "aln1Xt5ghhzm"
      },
      "source": [
        "---\n",
        "> P-076: 顧客データフレーム（df_customer）から性別（gender_cd）の割合に基づきランダムに10%のデータを層化抽出データし、性別ごとに件数を集計せよ。"
      ]
    },
    {
      "cell_type": "code",
      "metadata": {
        "trusted": false,
        "id": "RbrjkGllhhzm"
      },
      "source": [
        ""
      ],
      "execution_count": null,
      "outputs": []
    },
    {
      "cell_type": "markdown",
      "metadata": {
        "id": "VPRFv68Jhhzn"
      },
      "source": [
        "---\n",
        "> P-077: レシート明細データフレーム（df_receipt）の売上金額（amount）を顧客単位に合計し、合計した売上金額の外れ値を抽出せよ。ただし、顧客IDが\"Z\"から始まるのものは非会員を表すため、除外して計算すること。なお、ここでは外れ値を平均から3σ以上離れたものとする。結果は10件表示させれば良い。"
      ]
    },
    {
      "cell_type": "code",
      "metadata": {
        "trusted": false,
        "id": "7_EgePw6hhzn"
      },
      "source": [
        ""
      ],
      "execution_count": null,
      "outputs": []
    },
    {
      "cell_type": "markdown",
      "metadata": {
        "id": "BatcRBrehhzp"
      },
      "source": [
        "---\n",
        "> P-078: レシート明細データフレーム（df_receipt）の売上金額（amount）を顧客単位に合計し、合計した売上金額の外れ値を抽出せよ。ただし、顧客IDが\"Z\"から始まるのものは非会員を表すため、除外して計算すること。なお、ここでは外れ値を第一四分位と第三四分位の差であるIQRを用いて、「第一四分位数-1.5×IQR」よりも下回るもの、または「第三四分位数+1.5×IQR」を超えるものとする。結果は10件表示させれば良い。"
      ]
    },
    {
      "cell_type": "code",
      "metadata": {
        "trusted": false,
        "id": "4RvDfhvChhzp"
      },
      "source": [
        ""
      ],
      "execution_count": null,
      "outputs": []
    },
    {
      "cell_type": "markdown",
      "metadata": {
        "id": "boe923CMhhzq"
      },
      "source": [
        "---\n",
        "> P-079: 商品データフレーム（df_product）の各項目に対し、欠損数を確認せよ。"
      ]
    },
    {
      "cell_type": "code",
      "metadata": {
        "trusted": false,
        "id": "bxl__vC5hhzq"
      },
      "source": [
        ""
      ],
      "execution_count": null,
      "outputs": []
    },
    {
      "cell_type": "markdown",
      "metadata": {
        "id": "afprSqIvhhzs"
      },
      "source": [
        "---\n",
        "> P-080: 商品データフレーム（df_product）のいずれかの項目に欠損が発生しているレコードを全て削除した新たなdf_product_1を作成せよ。なお、削除前後の件数を表示させ、前設問で確認した件数だけ減少していることも確認すること。"
      ]
    },
    {
      "cell_type": "code",
      "metadata": {
        "trusted": false,
        "id": "q3_9sLdHhhzt"
      },
      "source": [
        ""
      ],
      "execution_count": null,
      "outputs": []
    },
    {
      "cell_type": "markdown",
      "metadata": {
        "id": "GtiO20ZKhhzu"
      },
      "source": [
        "---\n",
        "> P-081: 単価（unit_price）と原価（unit_cost）の欠損値について、それぞれの平均値で補完した新たなdf_product_2を作成せよ。なお、平均値について1円未満は四捨五入とし、0.5については偶数寄せでかまわない。補完実施後、各項目について欠損が生じていないことも確認すること。"
      ]
    },
    {
      "cell_type": "code",
      "metadata": {
        "trusted": false,
        "id": "puFf-7Ewhhzu"
      },
      "source": [
        ""
      ],
      "execution_count": null,
      "outputs": []
    },
    {
      "cell_type": "markdown",
      "metadata": {
        "id": "i7x6WAJ2hhzv"
      },
      "source": [
        "---\n",
        "> P-082: 単価（unit_price）と原価（unit_cost）の欠損値について、それぞれの中央値で補完した新たなdf_product_3を作成せよ。なお、中央値について1円未満は四捨五入とし、0.5については偶数寄せでかまわない。補完実施後、各項目について欠損が生じていないことも確認すること。"
      ]
    },
    {
      "cell_type": "code",
      "metadata": {
        "trusted": false,
        "id": "Meng_cTIhhzv"
      },
      "source": [
        ""
      ],
      "execution_count": null,
      "outputs": []
    },
    {
      "cell_type": "markdown",
      "metadata": {
        "id": "kXCIpqm4hhzw"
      },
      "source": [
        "---\n",
        "> P-083: 単価（unit_price）と原価（unit_cost）の欠損値について、各商品の小区分（category_small_cd）ごとに算出した中央値で補完した新たなdf_product_4を作成せよ。なお、中央値について1円未満は四捨五入とし、0.5については偶数寄せでかまわない。補完実施後、各項目について欠損が生じていないことも確認すること。"
      ]
    },
    {
      "cell_type": "code",
      "metadata": {
        "trusted": false,
        "id": "Qeq1bChyhhzw"
      },
      "source": [
        ""
      ],
      "execution_count": null,
      "outputs": []
    },
    {
      "cell_type": "markdown",
      "metadata": {
        "id": "kKqZ8U_ihhzx"
      },
      "source": [
        "---\n",
        "> P-084: 顧客データフレーム（df_customer）の全顧客に対し、全期間の売上金額に占める2019年売上金額の割合を計算せよ。ただし、販売実績のない場合は0として扱うこと。そして計算した割合が0超のものを抽出せよ。 結果は10件表示させれば良い。また、作成したデータにNAやNANが存在しないことを確認せよ。"
      ]
    },
    {
      "cell_type": "code",
      "metadata": {
        "trusted": false,
        "id": "Rtq3Y8Gxhhzx"
      },
      "source": [
        ""
      ],
      "execution_count": null,
      "outputs": []
    },
    {
      "cell_type": "markdown",
      "metadata": {
        "id": "UEPE0K-rhhzy"
      },
      "source": [
        "---\n",
        "> P-085: 顧客データフレーム（df_customer）の全顧客に対し、郵便番号（postal_cd）を用いて経度緯度変換用データフレーム（df_geocode）を紐付け、新たなdf_customer_1を作成せよ。ただし、複数紐づく場合は経度（longitude）、緯度（latitude）それぞれ平均を算出すること。\n"
      ]
    },
    {
      "cell_type": "code",
      "metadata": {
        "trusted": false,
        "id": "P_paWqODhhzy"
      },
      "source": [
        ""
      ],
      "execution_count": null,
      "outputs": []
    },
    {
      "cell_type": "markdown",
      "metadata": {
        "id": "dJ8IvUgNhhzz"
      },
      "source": [
        "---\n",
        "> P-086: 前設問で作成した緯度経度つき顧客データフレーム（df_customer_1）に対し、申込み店舗コード（application_store_cd）をキーに店舗データフレーム（df_store）と結合せよ。そして申込み店舗の緯度（latitude）・経度情報（longitude)と顧客の緯度・経度を用いて距離（km）を求め、顧客ID（customer_id）、顧客住所（address）、店舗住所（address）とともに表示せよ。計算式は簡易式で良いものとするが、その他精度の高い方式を利用したライブラリを利用してもかまわない。結果は10件表示すれば良い。"
      ]
    },
    {
      "cell_type": "markdown",
      "metadata": {
        "id": "kFydo3tChhzz"
      },
      "source": [
        "$$\n",
        "緯度（ラジアン）：\\phi \\\\\n",
        "経度（ラジアン）：\\lambda \\\\\n",
        "距離L = 6371 * arccos(sin \\phi_1 * sin \\phi_2\n",
        "+ cos \\phi_1 * cos \\phi_2 * cos(\\lambda_1 − \\lambda_2))\n",
        "$$"
      ]
    },
    {
      "cell_type": "code",
      "metadata": {
        "trusted": false,
        "id": "YOhgdXTphhz0"
      },
      "source": [
        ""
      ],
      "execution_count": null,
      "outputs": []
    },
    {
      "cell_type": "markdown",
      "metadata": {
        "id": "-7BBzLWphhz0"
      },
      "source": [
        "---\n",
        "> P-087:  顧客データフレーム（df_customer）では、異なる店舗での申込みなどにより同一顧客が複数登録されている。名前（customer_name）と郵便番号（postal_cd）が同じ顧客は同一顧客とみなし、1顧客1レコードとなるように名寄せした名寄顧客データフレーム（df_customer_u）を作成せよ。ただし、同一顧客に対しては売上金額合計が最も高いものを残すものとし、売上金額合計が同一もしくは売上実績の無い顧客については顧客ID（customer_id）の番号が小さいものを残すこととする。"
      ]
    },
    {
      "cell_type": "code",
      "metadata": {
        "trusted": false,
        "id": "hJhzgvxuhhz0"
      },
      "source": [
        ""
      ],
      "execution_count": null,
      "outputs": []
    },
    {
      "cell_type": "markdown",
      "metadata": {
        "id": "U4ojNt4shhz1"
      },
      "source": [
        "---\n",
        "> P-088: 前設問で作成したデータを元に、顧客データフレームに統合名寄IDを付与したデータフレーム（df_customer_n）を作成せよ。ただし、統合名寄IDは以下の仕様で付与するものとする。\n",
        ">\n",
        "> - 重複していない顧客：顧客ID（customer_id）を設定\n",
        "> - 重複している顧客：前設問で抽出したレコードの顧客IDを設定"
      ]
    },
    {
      "cell_type": "code",
      "metadata": {
        "trusted": false,
        "id": "G8xkmVEnhhz2"
      },
      "source": [
        ""
      ],
      "execution_count": null,
      "outputs": []
    },
    {
      "cell_type": "markdown",
      "metadata": {
        "id": "ijOu7Ekfhhz3"
      },
      "source": [
        "---\n",
        "> P-閑話: df_customer_1, df_customer_nは使わないので削除する。"
      ]
    },
    {
      "cell_type": "code",
      "metadata": {
        "trusted": false,
        "id": "0rMxTZIGhhz3"
      },
      "source": [
        ""
      ],
      "execution_count": null,
      "outputs": []
    },
    {
      "cell_type": "markdown",
      "metadata": {
        "id": "jGzIjQvfhhz4"
      },
      "source": [
        "---\n",
        "> P-089: 売上実績のある顧客に対し、予測モデル構築のため学習用データとテスト用データに分割したい。それぞれ8:2の割合でランダムにデータを分割せよ。"
      ]
    },
    {
      "cell_type": "code",
      "metadata": {
        "trusted": false,
        "id": "tQfblHJFhhz4"
      },
      "source": [
        ""
      ],
      "execution_count": null,
      "outputs": []
    },
    {
      "cell_type": "markdown",
      "metadata": {
        "id": "lnuxS-40hhz5"
      },
      "source": [
        "---\n",
        "> P-090: レシート明細データフレーム（df_receipt）は2017年1月1日〜2019年10月31日までのデータを有している。売上金額（amount）を月次で集計し、学習用に12ヶ月、テスト用に6ヶ月のモデル構築用データを3セット作成せよ。"
      ]
    },
    {
      "cell_type": "code",
      "metadata": {
        "trusted": false,
        "id": "54N1nBI3hhz5"
      },
      "source": [
        ""
      ],
      "execution_count": null,
      "outputs": []
    },
    {
      "cell_type": "markdown",
      "metadata": {
        "id": "NIl5LRhbhhz6"
      },
      "source": [
        "---\n",
        "> P-091: 顧客データフレーム（df_customer）の各顧客に対し、売上実績のある顧客数と売上実績のない顧客数が1:1となるようにアンダーサンプリングで抽出せよ。"
      ]
    },
    {
      "cell_type": "code",
      "metadata": {
        "trusted": false,
        "id": "Snlnbkm-hhz6"
      },
      "source": [
        ""
      ],
      "execution_count": null,
      "outputs": []
    },
    {
      "cell_type": "markdown",
      "metadata": {
        "id": "LAzWjKmHhhz9"
      },
      "source": [
        "---\n",
        "> P-092: 顧客データフレーム（df_customer）では、性別に関する情報が非正規化の状態で保持されている。これを第三正規化せよ。"
      ]
    },
    {
      "cell_type": "code",
      "metadata": {
        "trusted": false,
        "id": "BUEhEPR8hhz9"
      },
      "source": [
        ""
      ],
      "execution_count": null,
      "outputs": []
    },
    {
      "cell_type": "markdown",
      "metadata": {
        "id": "u8OEQQikhhz-"
      },
      "source": [
        "---\n",
        "> P-093: 商品データフレーム（df_product）では各カテゴリのコード値だけを保有し、カテゴリ名は保有していない。カテゴリデータフレーム（df_category）と組み合わせて非正規化し、カテゴリ名を保有した新たな商品データフレームを作成せよ。"
      ]
    },
    {
      "cell_type": "code",
      "metadata": {
        "trusted": false,
        "id": "mbOy7QIQhhz-"
      },
      "source": [
        ""
      ],
      "execution_count": null,
      "outputs": []
    },
    {
      "cell_type": "markdown",
      "metadata": {
        "id": "WBQfMWaThhz_"
      },
      "source": [
        "---\n",
        "> P-094: 先に作成したカテゴリ名付き商品データを以下の仕様でファイル出力せよ。なお、出力先のパスはdata配下とする。\n",
        ">\n",
        "> - ファイル形式はCSV（カンマ区切り）\n",
        "> - ヘッダ有り\n",
        "> - 文字コードはUTF-8"
      ]
    },
    {
      "cell_type": "code",
      "metadata": {
        "trusted": false,
        "id": "NdSruP0nhhz_"
      },
      "source": [
        ""
      ],
      "execution_count": null,
      "outputs": []
    },
    {
      "cell_type": "markdown",
      "metadata": {
        "id": "OwHfilB2hh0B"
      },
      "source": [
        "---\n",
        "> P-095: 先に作成したカテゴリ名付き商品データを以下の仕様でファイル出力せよ。なお、出力先のパスはdata配下とする。\n",
        ">\n",
        "> - ファイル形式はCSV（カンマ区切り）\n",
        "> - ヘッダ有り\n",
        "> - 文字コードはCP932"
      ]
    },
    {
      "cell_type": "code",
      "metadata": {
        "trusted": false,
        "id": "R_A_MhTYhh0C"
      },
      "source": [
        ""
      ],
      "execution_count": null,
      "outputs": []
    },
    {
      "cell_type": "markdown",
      "metadata": {
        "id": "ijN5gi_Nhh0C"
      },
      "source": [
        "---\n",
        "> P-096: 先に作成したカテゴリ名付き商品データを以下の仕様でファイル出力せよ。なお、出力先のパスはdata配下とする。\n",
        ">\n",
        "> - ファイル形式はCSV（カンマ区切り）\n",
        "> - ヘッダ無し\n",
        "> - 文字コードはUTF-8"
      ]
    },
    {
      "cell_type": "code",
      "metadata": {
        "trusted": false,
        "id": "HRMFIbjNhh0C"
      },
      "source": [
        ""
      ],
      "execution_count": null,
      "outputs": []
    },
    {
      "cell_type": "markdown",
      "metadata": {
        "id": "EGEj2Gfohh0D"
      },
      "source": [
        "---\n",
        "> P-097: 先に作成した以下形式のファイルを読み込み、データフレームを作成せよ。また、先頭10件を表示させ、正しくとりまれていることを確認せよ。\n",
        ">\n",
        "> - ファイル形式はCSV（カンマ区切り）\n",
        "> - ヘッダ有り\n",
        "> - 文字コードはUTF-8"
      ]
    },
    {
      "cell_type": "code",
      "metadata": {
        "trusted": false,
        "id": "elyUH6_2hh0D"
      },
      "source": [
        ""
      ],
      "execution_count": null,
      "outputs": []
    },
    {
      "cell_type": "markdown",
      "metadata": {
        "id": "v51_UZ-Ahh0E"
      },
      "source": [
        "---\n",
        "> P-098: 先に作成した以下形式のファイルを読み込み、データフレームを作成せよ。また、先頭10件を表示させ、正しくとりまれていることを確認せよ。\n",
        ">\n",
        "> - ファイル形式はCSV（カンマ区切り）\n",
        "> - ヘッダ無し\n",
        "> - 文字コードはUTF-8"
      ]
    },
    {
      "cell_type": "code",
      "metadata": {
        "trusted": false,
        "id": "4YBgcGjuhh0E"
      },
      "source": [
        ""
      ],
      "execution_count": null,
      "outputs": []
    },
    {
      "cell_type": "markdown",
      "metadata": {
        "id": "PgrSkEmuhh0F"
      },
      "source": [
        "---\n",
        "> P-099: 先に作成したカテゴリ名付き商品データを以下の仕様でファイル出力せよ。なお、出力先のパスはdata配下とする。\n",
        ">\n",
        "> - ファイル形式はTSV（タブ区切り）\n",
        "> - ヘッダ有り\n",
        "> - 文字コードはUTF-8"
      ]
    },
    {
      "cell_type": "code",
      "metadata": {
        "trusted": false,
        "id": "WrdmX0mihh0F"
      },
      "source": [
        ""
      ],
      "execution_count": null,
      "outputs": []
    },
    {
      "cell_type": "markdown",
      "metadata": {
        "id": "fRhhcyMuhh0G"
      },
      "source": [
        "---\n",
        "> P-100: 先に作成した以下形式のファイルを読み込み、データフレームを作成せよ。また、先頭10件を表示させ、正しくとりまれていることを確認せよ。\n",
        ">\n",
        "> - ファイル形式はTSV（タブ区切り）\n",
        "> - ヘッダ有り\n",
        "> - 文字コードはUTF-8"
      ]
    },
    {
      "cell_type": "code",
      "metadata": {
        "trusted": false,
        "id": "PrE1Dn_7hh0G"
      },
      "source": [
        ""
      ],
      "execution_count": null,
      "outputs": []
    },
    {
      "cell_type": "markdown",
      "metadata": {
        "id": "WGSLC2Szhh0H"
      },
      "source": [
        "# これで１００本終わりです。おつかれさまでした！"
      ]
    }
  ]
}